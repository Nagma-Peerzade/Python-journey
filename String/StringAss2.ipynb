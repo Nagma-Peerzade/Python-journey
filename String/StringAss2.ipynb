{
 "cells": [
  {
   "cell_type": "markdown",
   "id": "15b7d8d3",
   "metadata": {},
   "source": [
    "# # String Assignments 2"
   ]
  },
  {
   "cell_type": "code",
   "execution_count": 1,
   "id": "8cc19279",
   "metadata": {},
   "outputs": [
    {
     "name": "stdout",
     "output_type": "stream",
     "text": [
      "enter string:nagma\n",
      "not palindrome\n"
     ]
    }
   ],
   "source": [
    "#write a program to check wheter the given string is palindrome\n",
    "nm=input(\"enter string:\")\n",
    "if(nm==nm[::-1]):\n",
    "    print('palindrome')\n",
    "else:\n",
    "    print('not palindrome')"
   ]
  },
  {
   "cell_type": "code",
   "execution_count": 10,
   "id": "504c8753",
   "metadata": {},
   "outputs": [
    {
     "name": "stdout",
     "output_type": "stream",
     "text": [
      "enter string: nagma\n",
      "No of vowels: 2\n"
     ]
    }
   ],
   "source": [
    "#write a program to count number of vowels in given string\n",
    "nm=input('enter string: ')\n",
    "c=0\n",
    "for i in nm:\n",
    "    if i in 'aeiou':\n",
    "         c=c+1\n",
    "print(\"No of vowels:\",c)\n",
    "        "
   ]
  },
  {
   "cell_type": "code",
   "execution_count": 5,
   "id": "d6d9f00e",
   "metadata": {},
   "outputs": [
    {
     "name": "stdout",
     "output_type": "stream",
     "text": [
      "enter string:nagma\n",
      "enter a charcter:a\n",
      "ngm\n"
     ]
    }
   ],
   "source": [
    "#Write a program to remove all occurances of given char from string\n",
    "nm=input('enter string:')\n",
    "e=input('enter a charcter:')\n",
    "change=nm.replace(e,\"\")\n",
    "print(change)\n"
   ]
  },
  {
   "cell_type": "code",
   "execution_count": 8,
   "id": "2e0ab1a6",
   "metadata": {},
   "outputs": [
    {
     "name": "stdout",
     "output_type": "stream",
     "text": [
      "enter the string1:mary\n",
      "enter the string2:army\n",
      "Anagram\n"
     ]
    }
   ],
   "source": [
    "#Write a program to accept 2 strings and check Whether they are anagram or  not\n",
    "s1=input('enter the string1:')\n",
    "s2=input('enter the string2:')\n",
    "if(sorted(s1)==sorted(s2)):\n",
    "    print('Anagram')\n",
    "else:\n",
    "    print('not Anagram')"
   ]
  },
  {
   "cell_type": "code",
   "execution_count": 11,
   "id": "b5dabf29",
   "metadata": {},
   "outputs": [
    {
     "name": "stdout",
     "output_type": "stream",
     "text": [
      "nuf si nohtyP\n"
     ]
    }
   ],
   "source": [
    "#Write a program to reverse each word in a sentence 'Python is fun'\n",
    "s='Python is fun'\n",
    "s1=s.split(\" \")\n",
    "s2=\"\".join(reversed(s))\n",
    "print(s2)"
   ]
  },
  {
   "cell_type": "code",
   "execution_count": 13,
   "id": "c69674cb",
   "metadata": {},
   "outputs": [
    {
     "name": "stdout",
     "output_type": "stream",
     "text": [
      "enter string:nagma\n",
      "char frequency in 'nagma' is : {'n': 1, 'a': 2, 'g': 1, 'm': 1}\n"
     ]
    }
   ],
   "source": [
    "#write program to find frequency of each charcter in a string\n",
    "s=input('enter string:')\n",
    "freq={}\n",
    "for char in s:\n",
    "    if char in freq: \n",
    "        freq[char] += 1\n",
    "    else: \n",
    "        freq[char] = 1\n",
    "        \n",
    "print (\"char frequency in '{}' is : {}\".format(s, str(freq)))\n",
    "    "
   ]
  },
  {
   "cell_type": "code",
   "execution_count": 1,
   "id": "1ed61619",
   "metadata": {},
   "outputs": [
    {
     "name": "stdout",
     "output_type": "stream",
     "text": [
      "enter string:nagma\n"
     ]
    },
    {
     "data": {
      "text/plain": [
       "'n'"
      ]
     },
     "execution_count": 1,
     "metadata": {},
     "output_type": "execute_result"
    }
   ],
   "source": [
    "#write a program to extract first alphabet from given sentences to for a new word\n",
    "s=input('enter string:')\n",
    "s1=s[0:1]\n",
    "s1"
   ]
  },
  {
   "cell_type": "code",
   "execution_count": 19,
   "id": "cad18348",
   "metadata": {},
   "outputs": [
    {
     "name": "stdout",
     "output_type": "stream",
     "text": [
      "enter the rows:4\n",
      "* \n",
      "* * \n",
      "* * * \n",
      "* * * * \n"
     ]
    }
   ],
   "source": [
    "#star pattern program:\n",
    "row =int(input('enter the rows:'))\n",
    "for i in range(1,row+1):\n",
    "    print('* '*i)"
   ]
  },
  {
   "cell_type": "code",
   "execution_count": 6,
   "id": "41e4e3c5",
   "metadata": {},
   "outputs": [
    {
     "name": "stdout",
     "output_type": "stream",
     "text": [
      "enter the rows:5\n",
      "A B C D E \n",
      "A B C D \n",
      "A B C \n",
      "A B \n",
      "A \n"
     ]
    }
   ],
   "source": [
    "'''\n",
    "A B C D E\n",
    "A B C D\n",
    "A B C\n",
    "A B\n",
    "A\n",
    "'''\n",
    "row=int(input('enter the rows:'))\n",
    "for i in range(row,0,-1):\n",
    "    for j in range(65,65+i):\n",
    "        print(chr(j),end=\" \")\n",
    "    print()\n",
    "    "
   ]
  },
  {
   "cell_type": "code",
   "execution_count": 12,
   "id": "b89c2fa9",
   "metadata": {},
   "outputs": [
    {
     "name": "stdout",
     "output_type": "stream",
     "text": [
      "hello,how are you\n",
      " ifmmp-ipx!bsf!zpv\n"
     ]
    }
   ],
   "source": [
    "#write a program to replace every character by it  next subsequent character\n",
    "s='hello,how are you'\n",
    "s1=' '\n",
    "for i in range(0,len(s)):\n",
    "    s1+=chr(ord(s[i])+1)\n",
    "print(s)\n",
    "print(s1)\n",
    "\n"
   ]
  },
  {
   "cell_type": "code",
   "execution_count": 4,
   "id": "8e01f06c",
   "metadata": {},
   "outputs": [
    {
     "name": "stdout",
     "output_type": "stream",
     "text": [
      "enter string:nagma\n",
      "Occurance of string: 5\n"
     ]
    }
   ],
   "source": [
    "#write a python program to the number of character(character frequency) in a string\n",
    "s=input('enter string:')\n",
    "s1=len(s)\n",
    "print('Occurance of string:',s1)\n"
   ]
  },
  {
   "cell_type": "code",
   "execution_count": 6,
   "id": "cb2baef2",
   "metadata": {},
   "outputs": [
    {
     "name": "stdout",
     "output_type": "stream",
     "text": [
      "enter string:nagma\n",
      "Original: nagma\n",
      "Modified:  nga\n"
     ]
    }
   ],
   "source": [
    "#write a python program to remove the characters which have odd index index values of a given string\n",
    "s=input('enter string:')\n",
    "res=' '\n",
    "for i in range(len(s)):\n",
    "    if i % 2 == 0:\n",
    "        res +=  s[i]\n",
    "        \n",
    "print('Original:',s)\n",
    "print('Modified:',res)\n"
   ]
  },
  {
   "cell_type": "code",
   "execution_count": 7,
   "id": "2ff96676",
   "metadata": {},
   "outputs": [
    {
     "name": "stdout",
     "output_type": "stream",
     "text": [
      "enter string:hello, how are you\n",
      "enter the word:are\n",
      "The count is: 1\n"
     ]
    }
   ],
   "source": [
    "#write a program to count the occurance of each word in a given sentences\n",
    "s =input('enter string:')\n",
    "s1=input('enter the word:')\n",
    "count = s.count(s1)\n",
    "print(\"The count is:\", count)"
   ]
  },
  {
   "cell_type": "code",
   "execution_count": 9,
   "id": "3405d7c9",
   "metadata": {},
   "outputs": [
    {
     "name": "stdout",
     "output_type": "stream",
     "text": [
      "enter string:Hello, How are you\n",
      "swapcase: hELLO, hOW ARE YOU\n"
     ]
    }
   ],
   "source": [
    "#write a python programto swapcase or toggle case of a given  string\n",
    "s=input('enter string:')\n",
    "s1=s.swapcase()\n",
    "print('swapcase:',s1)"
   ]
  }
 ],
 "metadata": {
  "kernelspec": {
   "display_name": "Python 3 (ipykernel)",
   "language": "python",
   "name": "python3"
  },
  "language_info": {
   "codemirror_mode": {
    "name": "ipython",
    "version": 3
   },
   "file_extension": ".py",
   "mimetype": "text/x-python",
   "name": "python",
   "nbconvert_exporter": "python",
   "pygments_lexer": "ipython3",
   "version": "3.9.7"
  }
 },
 "nbformat": 4,
 "nbformat_minor": 5
}
