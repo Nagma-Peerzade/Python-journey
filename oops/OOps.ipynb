{
 "cells": [
  {
   "cell_type": "code",
   "execution_count": 1,
   "id": "b7cbe92c",
   "metadata": {},
   "outputs": [],
   "source": [
    "#instance,static,local\n",
    "#class-blueprint for creating object"
   ]
  },
  {
   "cell_type": "code",
   "execution_count": 5,
   "id": "03dff5ce",
   "metadata": {},
   "outputs": [],
   "source": [
    "class Student:#self refers to current instance of class\n",
    "    def display(self):\n",
    "        print('Hello',id(self))"
   ]
  },
  {
   "cell_type": "code",
   "execution_count": 6,
   "id": "8d7bfe39",
   "metadata": {},
   "outputs": [
    {
     "name": "stdout",
     "output_type": "stream",
     "text": [
      "Hello 2035629721776\n",
      "id 2035629721776\n"
     ]
    }
   ],
   "source": [
    "s1=Student()\n",
    "s1.display()\n",
    "print('id',id(s1))"
   ]
  },
  {
   "cell_type": "code",
   "execution_count": 22,
   "id": "9214b0df",
   "metadata": {},
   "outputs": [],
   "source": [
    "#self holds id of function\n",
    "#method __init__() \n",
    "class Student:\n",
    "    def __init__(self,sid,sname):\n",
    "        print ('in init')\n",
    "        self.sid=sid\n",
    "        self.sname=sname\n",
    "        #instance method\n",
    "    def display(self):\n",
    "        print('hello,',self.sname)\n",
    "    def grade(self,percent):\n",
    "        self.percent=percent\n",
    "        if self.percent>50:\n",
    "            print('pass')\n",
    "        else:\n",
    "            print('fail')"
   ]
  },
  {
   "cell_type": "code",
   "execution_count": 23,
   "id": "02f8e7dc",
   "metadata": {},
   "outputs": [
    {
     "name": "stdout",
     "output_type": "stream",
     "text": [
      "in init\n",
      "hello, nagma\n",
      "pass\n"
     ]
    }
   ],
   "source": [
    "s2=Student(1,'nagma')\n",
    "s2.display()\n",
    "s2.grade(60)"
   ]
  },
  {
   "cell_type": "markdown",
   "id": "53ef95f9",
   "metadata": {},
   "source": [
    "#instance-created inside class but ouside constructor .when ever object is created memory are allocated\n",
    "#static- created only once and used commonly by all\n",
    "#local-it is declared inside the function"
   ]
  },
  {
   "cell_type": "code",
   "execution_count": 16,
   "id": "418e9bb9",
   "metadata": {},
   "outputs": [
    {
     "data": {
      "text/plain": [
       "{'sid': 1, 'sname': 'nagma'}"
      ]
     },
     "execution_count": 16,
     "metadata": {},
     "output_type": "execute_result"
    }
   ],
   "source": [
    "s2.__dict__\n"
   ]
  },
  {
   "cell_type": "code",
   "execution_count": 24,
   "id": "183f3f6a",
   "metadata": {},
   "outputs": [],
   "source": [
    "#2 types of method\n",
    "#instance\n",
    "#class\n",
    "#static"
   ]
  },
  {
   "cell_type": "code",
   "execution_count": 6,
   "id": "e622bc8b",
   "metadata": {},
   "outputs": [],
   "source": [
    "class Vehicle:\n",
    "    def accept(self,r,c,make):#instance variable(self.x)\n",
    "        self.regNo=r\n",
    "        self.color=c\n",
    "        self.make=make\n",
    "        print('values Accepted.')\n",
    "    \n",
    "    def display(self,a):#local variable\n",
    "        print('vehicle regno:',self.regno)\n",
    "        print('vehicle color:',self.color)\n",
    "        print('vehicle make:',self.make)\n",
    "        \n",
    "    def __str__(self):\n",
    "        return str(self.__dict__)"
   ]
  },
  {
   "cell_type": "code",
   "execution_count": 7,
   "id": "e9b73a5a",
   "metadata": {},
   "outputs": [
    {
     "name": "stdout",
     "output_type": "stream",
     "text": [
      "values Accepted.\n",
      "{'regNo': 2345, 'color': 'black', 'make': 'honda'}\n"
     ]
    },
    {
     "ename": "TypeError",
     "evalue": "display() missing 1 required positional argument: 'a'",
     "output_type": "error",
     "traceback": [
      "\u001b[1;31m---------------------------------------------------------------------------\u001b[0m",
      "\u001b[1;31mTypeError\u001b[0m                                 Traceback (most recent call last)",
      "Input \u001b[1;32mIn [7]\u001b[0m, in \u001b[0;36m<module>\u001b[1;34m\u001b[0m\n\u001b[0;32m      2\u001b[0m v\u001b[38;5;241m.\u001b[39maccept(\u001b[38;5;241m2345\u001b[39m,\u001b[38;5;124m'\u001b[39m\u001b[38;5;124mblack\u001b[39m\u001b[38;5;124m'\u001b[39m,\u001b[38;5;124m'\u001b[39m\u001b[38;5;124mhonda\u001b[39m\u001b[38;5;124m'\u001b[39m)\n\u001b[0;32m      3\u001b[0m \u001b[38;5;28mprint\u001b[39m(v)\n\u001b[1;32m----> 4\u001b[0m \u001b[43mv\u001b[49m\u001b[38;5;241;43m.\u001b[39;49m\u001b[43mdisplay\u001b[49m\u001b[43m(\u001b[49m\u001b[43m)\u001b[49m\n",
      "\u001b[1;31mTypeError\u001b[0m: display() missing 1 required positional argument: 'a'"
     ]
    }
   ],
   "source": [
    "v=Vehicle()\n",
    "v.accept(2345,'black','honda')\n",
    "print(v)\n",
    "v.display()\n"
   ]
  },
  {
   "cell_type": "code",
   "execution_count": 60,
   "id": "cc43002f",
   "metadata": {},
   "outputs": [],
   "source": [
    "#constructor:__init__\n",
    "class Vehicle:\n",
    "    def ___init__(self):\n",
    "        self.regNo=1234\n",
    "        self.color='black'\n",
    "        self.make='jupyter'\n",
    "        print('object initialized')\n",
    "        \n",
    "    def accept(self,r,c,make):#instance variable(self.x)\n",
    "        self.regNo=r\n",
    "        self.color=c\n",
    "        self.make=make\n",
    "        print('values Accepted.')\n",
    "    \n",
    "    def display(self,a):#local variable\n",
    "        print('Vehicle is ',a)\n",
    "        \n",
    "    def __str__(self):\n",
    "        return str(self.__dict__)"
   ]
  },
  {
   "cell_type": "code",
   "execution_count": 61,
   "id": "ccb43da9",
   "metadata": {},
   "outputs": [
    {
     "name": "stdout",
     "output_type": "stream",
     "text": [
      "{}\n",
      "values Accepted.\n",
      "{'regNo': 1234, 'color': 'black', 'make': 'jupyter'}\n",
      "Vehicle is  bus\n"
     ]
    }
   ],
   "source": [
    "v=Vehicle()\n",
    "print(v)\n",
    "v.accept(1234,'black','jupyter')\n",
    "print(v)\n",
    "v.display('bus')"
   ]
  },
  {
   "cell_type": "code",
   "execution_count": 8,
   "id": "53f640a0",
   "metadata": {},
   "outputs": [],
   "source": [
    "class Vehicles:\n",
    "    def ___init__(self,*args):\n",
    "                if(len(args)==0):\n",
    "                    self.regNo=1234\n",
    "                    self.color='black'\n",
    "                    self.make='jupyter'\n",
    "                    print('object initialized')\n",
    "                elif(len(args)==3):\n",
    "                    self.regNo=args[0]\n",
    "                    self.color=args[1]\n",
    "                    self.make=args[2]\n",
    "                    print('object initialized') \n",
    "    def display(self,a):#local variable\n",
    "        \n",
    "        print('Vehicle is ',a)\n",
    "        \n",
    "    def __str__(self):\n",
    "        return str(self.__dict__)"
   ]
  },
  {
   "cell_type": "code",
   "execution_count": 112,
   "id": "6946150e",
   "metadata": {},
   "outputs": [],
   "source": [
    "\n",
    "class Account:\n",
    "    def __init__(self,aname,acno,balance):\n",
    "        self.name=aname\n",
    "        self.Acno=acno\n",
    "        self.Balance=balance\n",
    "        print('details of Account holder!!')\n",
    "    def display(self,a):\n",
    "        self.interset=a\n",
    "    def __str__(self):\n",
    "        return str(self.__dict__)\n",
    "    @classmethod\n",
    "    def changeInterest(p,interest):\n",
    "        p.irate=interest\n",
    "        print('interset rate is:',Account.irate)"
   ]
  },
  {
   "cell_type": "code",
   "execution_count": 115,
   "id": "2b7a7a9f",
   "metadata": {},
   "outputs": [
    {
     "name": "stdout",
     "output_type": "stream",
     "text": [
      "details of Account holder!!\n",
      "{'name': 'nagma', 'Acno': 12345556, 'Balance': 50000}\n",
      "interset rate is: 12\n"
     ]
    }
   ],
   "source": [
    "a=Account('nagma',12345556,50000)\n",
    "print(a)\n",
    "Account.changeInterest(12)"
   ]
  },
  {
   "cell_type": "code",
   "execution_count": 122,
   "id": "f087fb25",
   "metadata": {},
   "outputs": [],
   "source": [
    "from functools import reduce\n",
    "class Numbers:\n",
    "    #def operator(self,a=0,b=7,c=34,d=12):\n",
    "    def operator(self,*a):\n",
    "        print('Addition is:',reduce(lambda x,y:x+y,a))"
   ]
  },
  {
   "cell_type": "code",
   "execution_count": 123,
   "id": "c0ea916a",
   "metadata": {},
   "outputs": [
    {
     "name": "stdout",
     "output_type": "stream",
     "text": [
      "Addition is: 11\n",
      "Addition is: 3\n"
     ]
    }
   ],
   "source": [
    "n=Numbers()\n",
    "n.operator(3,4,4)\n",
    "n.operator(3)"
   ]
  },
  {
   "cell_type": "code",
   "execution_count": 125,
   "id": "d5aa4025",
   "metadata": {},
   "outputs": [
    {
     "name": "stdout",
     "output_type": "stream",
     "text": [
      "Collecting multipledispatch\n",
      "  Downloading multipledispatch-0.6.0-py3-none-any.whl (11 kB)\n",
      "Requirement already satisfied: six in d:\\new folder\\python\\envs\\envr1\\lib\\site-packages (from multipledispatch) (1.16.0)\n",
      "Installing collected packages: multipledispatch\n",
      "Successfully installed multipledispatch-0.6.0\n",
      "Note: you may need to restart the kernel to use updated packages.\n"
     ]
    }
   ],
   "source": [
    "pip install multipledispatch"
   ]
  },
  {
   "cell_type": "code",
   "execution_count": 5,
   "id": "7ce22ab9",
   "metadata": {},
   "outputs": [],
   "source": [
    "from multipledispatch import dispatch \n",
    "class Numbers:\n",
    "    @dispatch(int,int)\n",
    "    def operate(self,a,b):\n",
    "        print('Addition of 2 is :',a+b)\n",
    "    @dispatch(int,int,int)\n",
    "    def operate(self,a,b,c):\n",
    "        print('Addition of 3 is:',a+b+c)"
   ]
  },
  {
   "cell_type": "code",
   "execution_count": 6,
   "id": "4c051c3b",
   "metadata": {},
   "outputs": [
    {
     "name": "stdout",
     "output_type": "stream",
     "text": [
      "Addition of 2 is : 7\n",
      "Addition of 3 is: 12\n"
     ]
    }
   ],
   "source": [
    "n=Numbers()\n",
    "n.operate(3,4)\n",
    "n.operate(3,4,5)"
   ]
  },
  {
   "cell_type": "code",
   "execution_count": 31,
   "id": "2e0c3cec",
   "metadata": {},
   "outputs": [],
   "source": [
    "#inheritence\n",
    "#1.single inheritence\n",
    "class Vehicle:\n",
    "    def __init__(self):\n",
    "        self.regno=123\n",
    "        self.color='black'\n",
    "        self.make='honda'\n",
    "        print('In constructor of vehicle')\n",
    "    def showdisplay(self):\n",
    "        Vehicle.dealer=\"True Value\"\n",
    "        print('Vehicle reg no is:',self.regno)\n",
    "        print('Vehicle maker is:',self.make)\n",
    "        print('Vehicle color is:',self.color)    \n",
    "    def __str__(self):\n",
    "        return str(self.__dict__)    "
   ]
  },
  {
   "cell_type": "code",
   "execution_count": 27,
   "id": "eab35df4",
   "metadata": {},
   "outputs": [],
   "source": [
    "class TwoWheeler(Vehicle):\n",
    "    def __init__(self):\n",
    "        self.average=45\n",
    "        super().__init__()#invoke parent class \n",
    "        print('In constructor of TwoWheeler')\n",
    "    def __str__(self):\n",
    "        return str(self.__dict__)\n",
    "    def display(self):\n",
    "        print('Average of 2 wheeler is ',self.average)\n",
    "    "
   ]
  },
  {
   "cell_type": "code",
   "execution_count": 29,
   "id": "43db3123",
   "metadata": {},
   "outputs": [
    {
     "name": "stdout",
     "output_type": "stream",
     "text": [
      "In constructor of vehicle\n",
      "In constructor of TwoWheeler\n",
      "Average of 2 wheeler is  45\n",
      "Vehicle reg no is: 123\n",
      "Vehicle maker is: honda\n",
      "Vehicle color is: black\n",
      "{'average': 45, 'regno': 123, 'color': 'black', 'make': 'honda'}\n"
     ]
    }
   ],
   "source": [
    "t=TwoWheeler()\n",
    "t.display()\n",
    "t.showdisplay()\n",
    "print(t)"
   ]
  },
  {
   "cell_type": "code",
   "execution_count": 33,
   "id": "ad98bab4",
   "metadata": {},
   "outputs": [],
   "source": [
    "#duck typing-recognizes by behaviour\n",
    "class Television:\n",
    "    def switchOn(self):\n",
    "        print('television is switched on')\n",
    "    def increasevol(Self):\n",
    "        print('increasing volume of tv')\n",
    "class MusicSystem:\n",
    "    def switchOn(self):\n",
    "        print('MusicSystem is switched on')\n",
    "    def increasevol(Self):\n",
    "        print('increasing volume of MusicSystem')\n",
    "class ElectronicDevice:\n",
    "    def usedevice(self,homeappliance):\n",
    "        homeappliance.switchOn()\n",
    "        homeappliance.increasevol()\n",
    "        "
   ]
  },
  {
   "cell_type": "code",
   "execution_count": 38,
   "id": "59d4b6a4",
   "metadata": {},
   "outputs": [
    {
     "name": "stdout",
     "output_type": "stream",
     "text": [
      "television is switched on\n",
      "increasing volume of tv\n",
      "MusicSystem is switched on\n",
      "increasing volume of MusicSystem\n"
     ]
    }
   ],
   "source": [
    "tv=Television()\n",
    "m=MusicSystem()\n",
    "ed=ElectronicDevice()\n",
    "ed.usedevice(tv)\n",
    "ed.usedevice(m)"
   ]
  },
  {
   "cell_type": "code",
   "execution_count": 39,
   "id": "5073ce1c",
   "metadata": {},
   "outputs": [],
   "source": [
    "#Monkey Patching\n",
    "class Mywork:\n",
    "    def perform(self):\n",
    "        print('It performing some task as per protocol steps')"
   ]
  },
  {
   "cell_type": "code",
   "execution_count": 42,
   "id": "cf91dbf8",
   "metadata": {},
   "outputs": [
    {
     "name": "stdout",
     "output_type": "stream",
     "text": [
      "It performing some task as per protocol steps\n",
      "<class 'method'>\n"
     ]
    }
   ],
   "source": [
    "m=Mywork()\n",
    "m.perform()\n",
    "print(type(m.perform))"
   ]
  },
  {
   "cell_type": "code",
   "execution_count": 46,
   "id": "f53ce586",
   "metadata": {},
   "outputs": [],
   "source": [
    "def doTask():\n",
    "    print('I am performing in funny way...')"
   ]
  },
  {
   "cell_type": "code",
   "execution_count": 44,
   "id": "ab1118b6",
   "metadata": {},
   "outputs": [
    {
     "name": "stdout",
     "output_type": "stream",
     "text": [
      "<class 'function'>\n"
     ]
    }
   ],
   "source": [
    "print(type(doTask))"
   ]
  },
  {
   "cell_type": "code",
   "execution_count": 47,
   "id": "b3f22b8a",
   "metadata": {},
   "outputs": [
    {
     "name": "stdout",
     "output_type": "stream",
     "text": [
      "I am performing in funny way...\n"
     ]
    }
   ],
   "source": [
    "doTask()"
   ]
  },
  {
   "cell_type": "code",
   "execution_count": 49,
   "id": "efea5f79",
   "metadata": {},
   "outputs": [
    {
     "name": "stdout",
     "output_type": "stream",
     "text": [
      "I am performing in funny way...\n"
     ]
    }
   ],
   "source": [
    "Mywork.perform=doTask\n",
    "Mywork.perform()"
   ]
  },
  {
   "cell_type": "code",
   "execution_count": null,
   "id": "8cd998df",
   "metadata": {},
   "outputs": [],
   "source": [
    "#module"
   ]
  },
  {
   "cell_type": "code",
   "execution_count": null,
   "id": "2cd668b2",
   "metadata": {},
   "outputs": [],
   "source": []
  },
  {
   "cell_type": "code",
   "execution_count": null,
   "id": "2d7cc203",
   "metadata": {},
   "outputs": [],
   "source": []
  },
  {
   "cell_type": "code",
   "execution_count": null,
   "id": "a3a43c99",
   "metadata": {},
   "outputs": [],
   "source": []
  },
  {
   "cell_type": "code",
   "execution_count": null,
   "id": "ad019b63",
   "metadata": {},
   "outputs": [],
   "source": []
  },
  {
   "cell_type": "code",
   "execution_count": null,
   "id": "ded5be7a",
   "metadata": {},
   "outputs": [],
   "source": []
  },
  {
   "cell_type": "code",
   "execution_count": null,
   "id": "275194f1",
   "metadata": {},
   "outputs": [],
   "source": []
  },
  {
   "cell_type": "code",
   "execution_count": null,
   "id": "f5c9b18c",
   "metadata": {},
   "outputs": [],
   "source": []
  },
  {
   "cell_type": "code",
   "execution_count": null,
   "id": "67bee016",
   "metadata": {},
   "outputs": [],
   "source": []
  },
  {
   "cell_type": "code",
   "execution_count": null,
   "id": "c5a3fa6d",
   "metadata": {},
   "outputs": [],
   "source": []
  },
  {
   "cell_type": "code",
   "execution_count": null,
   "id": "fe5c8b97",
   "metadata": {},
   "outputs": [],
   "source": []
  },
  {
   "cell_type": "code",
   "execution_count": null,
   "id": "28aa5768",
   "metadata": {},
   "outputs": [],
   "source": []
  },
  {
   "cell_type": "code",
   "execution_count": null,
   "id": "f4308887",
   "metadata": {},
   "outputs": [],
   "source": []
  },
  {
   "cell_type": "code",
   "execution_count": null,
   "id": "ee9c84e7",
   "metadata": {},
   "outputs": [],
   "source": []
  },
  {
   "cell_type": "code",
   "execution_count": null,
   "id": "29123159",
   "metadata": {},
   "outputs": [],
   "source": []
  },
  {
   "cell_type": "code",
   "execution_count": null,
   "id": "13ea36de",
   "metadata": {},
   "outputs": [],
   "source": []
  }
 ],
 "metadata": {
  "kernelspec": {
   "display_name": "Python 3 (ipykernel)",
   "language": "python",
   "name": "python3"
  },
  "language_info": {
   "codemirror_mode": {
    "name": "ipython",
    "version": 3
   },
   "file_extension": ".py",
   "mimetype": "text/x-python",
   "name": "python",
   "nbconvert_exporter": "python",
   "pygments_lexer": "ipython3",
   "version": "3.9.7"
  }
 },
 "nbformat": 4,
 "nbformat_minor": 5
}
