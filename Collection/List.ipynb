{
 "cells": [
  {
   "cell_type": "markdown",
   "id": "5d56707d",
   "metadata": {},
   "source": [
    "# #Collection- list,tuple,dict"
   ]
  },
  {
   "cell_type": "markdown",
   "id": "0abc7027",
   "metadata": {},
   "source": [
    "'''\n",
    "list is mutable,growable and insertion order is preserved\n",
    "in list we can have any type of objects.'''\n"
   ]
  },
  {
   "cell_type": "code",
   "execution_count": 1,
   "id": "0c07bb2d",
   "metadata": {},
   "outputs": [
    {
     "name": "stdout",
     "output_type": "stream",
     "text": [
      "<class 'list'>\n"
     ]
    }
   ],
   "source": [
    "lst=[]\n",
    "print (type(lst))"
   ]
  },
  {
   "cell_type": "code",
   "execution_count": 2,
   "id": "98a6455d",
   "metadata": {},
   "outputs": [
    {
     "data": {
      "text/plain": [
       "[1, 2, 'nagma', [1, 3, 5], 'A', (4, 5)]"
      ]
     },
     "execution_count": 2,
     "metadata": {},
     "output_type": "execute_result"
    }
   ],
   "source": [
    "lst=[1,2,'nagma',[1,3,5],'A',(4,5)]\n",
    "lst"
   ]
  },
  {
   "cell_type": "markdown",
   "id": "b445fb62",
   "metadata": {},
   "source": [
    "''' two ways to create\n",
    "1. by square bracket\n",
    "2. by using function\n",
    "'''"
   ]
  },
  {
   "cell_type": "code",
   "execution_count": 3,
   "id": "fb200e7a",
   "metadata": {},
   "outputs": [
    {
     "data": {
      "text/plain": [
       "[]"
      ]
     },
     "execution_count": 3,
     "metadata": {},
     "output_type": "execute_result"
    }
   ],
   "source": [
    "#1.by square bracket\n",
    "lst=[]\n",
    "lst"
   ]
  },
  {
   "cell_type": "code",
   "execution_count": 8,
   "id": "cefcd33a",
   "metadata": {},
   "outputs": [
    {
     "data": {
      "text/plain": [
       "['n', 'a', 'g', 'm', 'a']"
      ]
     },
     "execution_count": 8,
     "metadata": {},
     "output_type": "execute_result"
    }
   ],
   "source": [
    "#2.by using function\n",
    "s='nagma'\n",
    "s1=list(s)\n",
    "s1"
   ]
  },
  {
   "cell_type": "code",
   "execution_count": 10,
   "id": "d4948ad5",
   "metadata": {},
   "outputs": [],
   "source": [
    "l1=[12,'heelo',56.6,True]"
   ]
  },
  {
   "cell_type": "code",
   "execution_count": 11,
   "id": "6b0524ee",
   "metadata": {},
   "outputs": [
    {
     "data": {
      "text/plain": [
       "[12, 'heelo', 56.6, True]"
      ]
     },
     "execution_count": 11,
     "metadata": {},
     "output_type": "execute_result"
    }
   ],
   "source": [
    "l1"
   ]
  },
  {
   "cell_type": "code",
   "execution_count": 12,
   "id": "591a1296",
   "metadata": {},
   "outputs": [],
   "source": [
    "l2=list()\n"
   ]
  },
  {
   "cell_type": "code",
   "execution_count": 13,
   "id": "984778f8",
   "metadata": {},
   "outputs": [
    {
     "data": {
      "text/plain": [
       "[]"
      ]
     },
     "execution_count": 13,
     "metadata": {},
     "output_type": "execute_result"
    }
   ],
   "source": [
    "l2"
   ]
  },
  {
   "cell_type": "code",
   "execution_count": 14,
   "id": "c1a4565a",
   "metadata": {},
   "outputs": [],
   "source": [
    "data='Good Evening'\n",
    "l3=list(data)"
   ]
  },
  {
   "cell_type": "code",
   "execution_count": 15,
   "id": "5e8b6268",
   "metadata": {},
   "outputs": [
    {
     "data": {
      "text/plain": [
       "['G', 'o', 'o', 'd', ' ', 'E', 'v', 'e', 'n', 'i', 'n', 'g']"
      ]
     },
     "execution_count": 15,
     "metadata": {},
     "output_type": "execute_result"
    }
   ],
   "source": [
    "l3"
   ]
  },
  {
   "cell_type": "code",
   "execution_count": 16,
   "id": "50c5e62f",
   "metadata": {},
   "outputs": [],
   "source": [
    "l4=list([1,2,3])"
   ]
  },
  {
   "cell_type": "code",
   "execution_count": 17,
   "id": "98fef270",
   "metadata": {},
   "outputs": [
    {
     "data": {
      "text/plain": [
       "[1, 2, 3]"
      ]
     },
     "execution_count": 17,
     "metadata": {},
     "output_type": "execute_result"
    }
   ],
   "source": [
    "l4"
   ]
  },
  {
   "cell_type": "code",
   "execution_count": 18,
   "id": "90f7ca19",
   "metadata": {},
   "outputs": [
    {
     "data": {
      "text/plain": [
       "3"
      ]
     },
     "execution_count": 18,
     "metadata": {},
     "output_type": "execute_result"
    }
   ],
   "source": [
    "len(l4)"
   ]
  },
  {
   "cell_type": "code",
   "execution_count": 19,
   "id": "c16989fe",
   "metadata": {},
   "outputs": [
    {
     "data": {
      "text/plain": [
       "5"
      ]
     },
     "execution_count": 19,
     "metadata": {},
     "output_type": "execute_result"
    }
   ],
   "source": [
    "lst=[25,67,'k',True,[1,2,3]]\n",
    "len(lst)"
   ]
  },
  {
   "cell_type": "code",
   "execution_count": 20,
   "id": "aabe4c6a",
   "metadata": {},
   "outputs": [
    {
     "data": {
      "text/plain": [
       "'k'"
      ]
     },
     "execution_count": 20,
     "metadata": {},
     "output_type": "execute_result"
    }
   ],
   "source": [
    "lst[2]"
   ]
  },
  {
   "cell_type": "code",
   "execution_count": 22,
   "id": "f7f61f39",
   "metadata": {},
   "outputs": [
    {
     "data": {
      "text/plain": [
       "2"
      ]
     },
     "execution_count": 22,
     "metadata": {},
     "output_type": "execute_result"
    }
   ],
   "source": [
    "lst[4][1]"
   ]
  },
  {
   "cell_type": "code",
   "execution_count": 28,
   "id": "aa237694",
   "metadata": {},
   "outputs": [
    {
     "name": "stdout",
     "output_type": "stream",
     "text": [
      "6\n",
      "6\n"
     ]
    }
   ],
   "source": [
    "l6=[1,2,3]\n",
    "sum=0\n",
    "#logic 1\n",
    "for i in l6:\n",
    "    sum+=i\n",
    "print(sum)\n",
    "#logic 2\n",
    "sum=0\n",
    "for i in range(0,len(l6)):\n",
    "    sum+=(l6[i])\n",
    "print(sum)\n"
   ]
  },
  {
   "cell_type": "code",
   "execution_count": 39,
   "id": "7a3fff77",
   "metadata": {},
   "outputs": [
    {
     "name": "stdout",
     "output_type": "stream",
     "text": [
      "sum of even: 30\n"
     ]
    }
   ],
   "source": [
    "sum=0\n",
    "for i in  ln:\n",
    "    if(i%2==0):\n",
    "        sum+=i\n",
    "print('sum of even:',sum)\n",
    "    "
   ]
  },
  {
   "cell_type": "code",
   "execution_count": 36,
   "id": "d35e9e0b",
   "metadata": {},
   "outputs": [
    {
     "name": "stdout",
     "output_type": "stream",
     "text": [
      "[1, 2, 3, 4, 5, 6, 7, 8, 9, 10]\n"
     ]
    }
   ],
   "source": [
    "ln=[]\n",
    "for i in range(1,10+1):\n",
    "    ln.append(i)\n",
    "print(ln)\n"
   ]
  },
  {
   "cell_type": "code",
   "execution_count": 41,
   "id": "8ab0b1d1",
   "metadata": {},
   "outputs": [
    {
     "data": {
      "text/plain": [
       "[25, 67, 'k', True, [1, 2, 3]]"
      ]
     },
     "execution_count": 41,
     "metadata": {},
     "output_type": "execute_result"
    }
   ],
   "source": [
    "#show sum of  nested list elements from given list\n",
    "lst"
   ]
  },
  {
   "cell_type": "code",
   "execution_count": 55,
   "id": "aef81bf1",
   "metadata": {
    "scrolled": true
   },
   "outputs": [
    {
     "name": "stdout",
     "output_type": "stream",
     "text": [
      "[1, 2, 3]\n",
      "sum of list element: 6\n"
     ]
    }
   ],
   "source": [
    "sum=0\n",
    "for i in lst:\n",
    "    if(isinstance(i,list)):\n",
    "        print(i)\n",
    "        for j in i:\n",
    "            sum+=j\n",
    "        print('sum of list element:',sum)\n",
    "    else:\n",
    "        pass"
   ]
  },
  {
   "cell_type": "code",
   "execution_count": 104,
   "id": "190001f5",
   "metadata": {},
   "outputs": [
    {
     "name": "stdout",
     "output_type": "stream",
     "text": [
      "[1, 2, 3]\n",
      "sum of list element: 6\n",
      "[4, 5, 6]\n",
      "sum of list element: 21\n"
     ]
    }
   ],
   "source": [
    "l1=[\"hii\",2,4,[1,2,3],[4,5,6]]\n",
    "sum=0\n",
    "for i in l1:\n",
    "    if(isinstance(i,list)):\n",
    "        print(i)\n",
    "        for j in i:\n",
    "            sum+=j\n",
    "        print('sum of list element:',sum)\n",
    "    else:\n",
    "        pass"
   ]
  },
  {
   "cell_type": "code",
   "execution_count": null,
   "id": "63307c15",
   "metadata": {},
   "outputs": [],
   "source": [
    "#show sum of all int values in list\n",
    "#show sum of all elements at even/odd position from given list provided elements are int type\n",
    "['l',2,3,5,9,[3,True,'Hello'],'34',23]->25(output)\n",
    "#show sum of all even elements from given list"
   ]
  },
  {
   "cell_type": "code",
   "execution_count": 58,
   "id": "c75bb7e5",
   "metadata": {},
   "outputs": [
    {
     "data": {
      "text/plain": [
       "['k', 67]"
      ]
     },
     "execution_count": 58,
     "metadata": {},
     "output_type": "execute_result"
    }
   ],
   "source": [
    "lst[-3:-5:-1]"
   ]
  },
  {
   "cell_type": "code",
   "execution_count": 65,
   "id": "6ff93543",
   "metadata": {},
   "outputs": [
    {
     "data": {
      "text/plain": [
       "[67, 'k']"
      ]
     },
     "execution_count": 65,
     "metadata": {},
     "output_type": "execute_result"
    }
   ],
   "source": [
    "lst[-4:-2]"
   ]
  },
  {
   "cell_type": "code",
   "execution_count": 66,
   "id": "5a239b45",
   "metadata": {},
   "outputs": [
    {
     "data": {
      "text/plain": [
       "[[1, 2, 3], True, 'k', 67, 25]"
      ]
     },
     "execution_count": 66,
     "metadata": {},
     "output_type": "execute_result"
    }
   ],
   "source": [
    "lst[::-1]"
   ]
  },
  {
   "cell_type": "code",
   "execution_count": 67,
   "id": "abaf64c5",
   "metadata": {},
   "outputs": [
    {
     "data": {
      "text/plain": [
       "True"
      ]
     },
     "execution_count": 67,
     "metadata": {},
     "output_type": "execute_result"
    }
   ],
   "source": [
    "67 in lst"
   ]
  },
  {
   "cell_type": "code",
   "execution_count": 69,
   "id": "e94dc7a9",
   "metadata": {},
   "outputs": [
    {
     "data": {
      "text/plain": [
       "0"
      ]
     },
     "execution_count": 69,
     "metadata": {},
     "output_type": "execute_result"
    }
   ],
   "source": [
    "lst.count(6)"
   ]
  },
  {
   "cell_type": "code",
   "execution_count": 76,
   "id": "0ab80bbf",
   "metadata": {},
   "outputs": [
    {
     "data": {
      "text/plain": [
       "1"
      ]
     },
     "execution_count": 76,
     "metadata": {},
     "output_type": "execute_result"
    }
   ],
   "source": [
    "lst[len(lst)-1].count(1)"
   ]
  },
  {
   "cell_type": "code",
   "execution_count": 77,
   "id": "10d2b2ca",
   "metadata": {},
   "outputs": [],
   "source": [
    "del(lst[2])"
   ]
  },
  {
   "cell_type": "code",
   "execution_count": 78,
   "id": "62dd7800",
   "metadata": {},
   "outputs": [
    {
     "data": {
      "text/plain": [
       "[25, 67, True, [1, 2, 3]]"
      ]
     },
     "execution_count": 78,
     "metadata": {},
     "output_type": "execute_result"
    }
   ],
   "source": [
    "lst"
   ]
  },
  {
   "cell_type": "code",
   "execution_count": 80,
   "id": "dbbec436",
   "metadata": {},
   "outputs": [],
   "source": [
    "lst.append(34)"
   ]
  },
  {
   "cell_type": "code",
   "execution_count": 82,
   "id": "986be789",
   "metadata": {},
   "outputs": [
    {
     "data": {
      "text/plain": [
       "[25, 67, True, [1, 2, 3], 34]"
      ]
     },
     "execution_count": 82,
     "metadata": {},
     "output_type": "execute_result"
    }
   ],
   "source": [
    "lst"
   ]
  },
  {
   "cell_type": "code",
   "execution_count": 84,
   "id": "358217e5",
   "metadata": {},
   "outputs": [],
   "source": [
    "lst.remove(34)"
   ]
  },
  {
   "cell_type": "code",
   "execution_count": 85,
   "id": "acd03396",
   "metadata": {},
   "outputs": [
    {
     "data": {
      "text/plain": [
       "[25, 67, True, [1, 2, 3]]"
      ]
     },
     "execution_count": 85,
     "metadata": {},
     "output_type": "execute_result"
    }
   ],
   "source": [
    "lst"
   ]
  },
  {
   "cell_type": "code",
   "execution_count": 86,
   "id": "04ff24a6",
   "metadata": {},
   "outputs": [
    {
     "data": {
      "text/plain": [
       "[1, 2, 3]"
      ]
     },
     "execution_count": 86,
     "metadata": {},
     "output_type": "execute_result"
    }
   ],
   "source": [
    "lst.pop()"
   ]
  },
  {
   "cell_type": "code",
   "execution_count": 87,
   "id": "ad25adee",
   "metadata": {},
   "outputs": [
    {
     "data": {
      "text/plain": [
       "[25, 67, True]"
      ]
     },
     "execution_count": 87,
     "metadata": {},
     "output_type": "execute_result"
    }
   ],
   "source": [
    "lst"
   ]
  },
  {
   "cell_type": "code",
   "execution_count": 88,
   "id": "a0bde7b1",
   "metadata": {},
   "outputs": [
    {
     "data": {
      "text/plain": [
       "True"
      ]
     },
     "execution_count": 88,
     "metadata": {},
     "output_type": "execute_result"
    }
   ],
   "source": [
    "lst.pop(2)"
   ]
  },
  {
   "cell_type": "code",
   "execution_count": 89,
   "id": "3a51c18c",
   "metadata": {},
   "outputs": [
    {
     "data": {
      "text/plain": [
       "[25, 67]"
      ]
     },
     "execution_count": 89,
     "metadata": {},
     "output_type": "execute_result"
    }
   ],
   "source": [
    "lst"
   ]
  },
  {
   "cell_type": "code",
   "execution_count": 92,
   "id": "b466866a",
   "metadata": {},
   "outputs": [],
   "source": [
    "67 in lst and lst.remove(67)"
   ]
  },
  {
   "cell_type": "code",
   "execution_count": 93,
   "id": "682bcccc",
   "metadata": {},
   "outputs": [
    {
     "data": {
      "text/plain": [
       "[25]"
      ]
     },
     "execution_count": 93,
     "metadata": {},
     "output_type": "execute_result"
    }
   ],
   "source": [
    "lst"
   ]
  },
  {
   "cell_type": "code",
   "execution_count": 94,
   "id": "5b1c63d6",
   "metadata": {},
   "outputs": [],
   "source": [
    "l2=[2,'t',90,7,[1,2,3],True]"
   ]
  },
  {
   "cell_type": "code",
   "execution_count": 95,
   "id": "58f165ac",
   "metadata": {},
   "outputs": [],
   "source": [
    "lst.extend(l2)"
   ]
  },
  {
   "cell_type": "code",
   "execution_count": 96,
   "id": "2c566731",
   "metadata": {},
   "outputs": [
    {
     "data": {
      "text/plain": [
       "[25, 2, 't', 90, 7, [1, 2, 3], True]"
      ]
     },
     "execution_count": 96,
     "metadata": {},
     "output_type": "execute_result"
    }
   ],
   "source": [
    "lst"
   ]
  },
  {
   "cell_type": "code",
   "execution_count": 3,
   "id": "f9ae67fd",
   "metadata": {},
   "outputs": [
    {
     "data": {
      "text/plain": [
       "456"
      ]
     },
     "execution_count": 3,
     "metadata": {},
     "output_type": "execute_result"
    }
   ],
   "source": [
    "ls=[1,2,3,4,5,6,23,456]\n",
    "max(ls)"
   ]
  },
  {
   "cell_type": "code",
   "execution_count": 100,
   "id": "216e164d",
   "metadata": {},
   "outputs": [
    {
     "data": {
      "text/plain": [
       "1"
      ]
     },
     "execution_count": 100,
     "metadata": {},
     "output_type": "execute_result"
    }
   ],
   "source": [
    "min(ls)"
   ]
  },
  {
   "cell_type": "code",
   "execution_count": 103,
   "id": "0ed98720",
   "metadata": {},
   "outputs": [
    {
     "ename": "AttributeError",
     "evalue": "'list' object has no attribute 'sum'",
     "output_type": "error",
     "traceback": [
      "\u001b[1;31m---------------------------------------------------------------------------\u001b[0m",
      "\u001b[1;31mAttributeError\u001b[0m                            Traceback (most recent call last)",
      "Input \u001b[1;32mIn [103]\u001b[0m, in \u001b[0;36m<module>\u001b[1;34m\u001b[0m\n\u001b[1;32m----> 1\u001b[0m \u001b[43mls\u001b[49m\u001b[38;5;241;43m.\u001b[39;49m\u001b[43msum\u001b[49m(ls)\n",
      "\u001b[1;31mAttributeError\u001b[0m: 'list' object has no attribute 'sum'"
     ]
    }
   ],
   "source": [
    "sum"
   ]
  },
  {
   "cell_type": "code",
   "execution_count": 108,
   "id": "da4cea2c",
   "metadata": {},
   "outputs": [
    {
     "data": {
      "text/plain": [
       "[1, 2, 3, 4, 5, 6, 23, 456]"
      ]
     },
     "execution_count": 108,
     "metadata": {},
     "output_type": "execute_result"
    }
   ],
   "source": [
    "ls.sort()\n",
    "ls"
   ]
  },
  {
   "cell_type": "code",
   "execution_count": 4,
   "id": "50e43a73",
   "metadata": {},
   "outputs": [
    {
     "data": {
      "text/plain": [
       "[456, 23, 6, 5, 4, 3, 2, 1]"
      ]
     },
     "execution_count": 4,
     "metadata": {},
     "output_type": "execute_result"
    }
   ],
   "source": [
    "ls.sort(reverse=True)\n",
    "ls"
   ]
  },
  {
   "cell_type": "code",
   "execution_count": 116,
   "id": "846ed6d7",
   "metadata": {},
   "outputs": [
    {
     "data": {
      "text/plain": [
       "[456, 23, 6, 5, 4, 3, 2, 1]"
      ]
     },
     "execution_count": 116,
     "metadata": {},
     "output_type": "execute_result"
    }
   ],
   "source": [
    "ls\n",
    "sorted(ls,reverse=True)"
   ]
  },
  {
   "cell_type": "code",
   "execution_count": 8,
   "id": "ff05a25f",
   "metadata": {},
   "outputs": [],
   "source": [
    "def mysort(s):\n",
    "    return len(s)"
   ]
  },
  {
   "cell_type": "code",
   "execution_count": 121,
   "id": "68d527ae",
   "metadata": {},
   "outputs": [
    {
     "ename": "TypeError",
     "evalue": "object of type 'int' has no len()",
     "output_type": "error",
     "traceback": [
      "\u001b[1;31m---------------------------------------------------------------------------\u001b[0m",
      "\u001b[1;31mTypeError\u001b[0m                                 Traceback (most recent call last)",
      "Input \u001b[1;32mIn [121]\u001b[0m, in \u001b[0;36m<module>\u001b[1;34m\u001b[0m\n\u001b[1;32m----> 1\u001b[0m \u001b[43mls\u001b[49m\u001b[38;5;241;43m.\u001b[39;49m\u001b[43msort\u001b[49m\u001b[43m(\u001b[49m\u001b[43mkey\u001b[49m\u001b[38;5;241;43m=\u001b[39;49m\u001b[43mmysort\u001b[49m\u001b[43m,\u001b[49m\u001b[43mreverse\u001b[49m\u001b[38;5;241;43m=\u001b[39;49m\u001b[38;5;28;43;01mTrue\u001b[39;49;00m\u001b[43m)\u001b[49m\n",
      "Input \u001b[1;32mIn [117]\u001b[0m, in \u001b[0;36mmysort\u001b[1;34m(s)\u001b[0m\n\u001b[0;32m      1\u001b[0m \u001b[38;5;28;01mdef\u001b[39;00m \u001b[38;5;21mmysort\u001b[39m(s):\n\u001b[1;32m----> 2\u001b[0m     \u001b[38;5;28;01mreturn\u001b[39;00m \u001b[38;5;28;43mlen\u001b[39;49m\u001b[43m(\u001b[49m\u001b[43ms\u001b[49m\u001b[43m)\u001b[49m\n",
      "\u001b[1;31mTypeError\u001b[0m: object of type 'int' has no len()"
     ]
    }
   ],
   "source": [
    "ls.sort(key=mysort,reverse=True)"
   ]
  },
  {
   "cell_type": "code",
   "execution_count": 5,
   "id": "6c995939",
   "metadata": {},
   "outputs": [],
   "source": [
    "ls=['goa','mumbai','pune','Bgm']"
   ]
  },
  {
   "cell_type": "code",
   "execution_count": 6,
   "id": "6d37c26e",
   "metadata": {},
   "outputs": [
    {
     "data": {
      "text/plain": [
       "['goa', 'mumbai', 'pune', 'Bgm']"
      ]
     },
     "execution_count": 6,
     "metadata": {},
     "output_type": "execute_result"
    }
   ],
   "source": [
    "ls"
   ]
  },
  {
   "cell_type": "code",
   "execution_count": 9,
   "id": "4caf18e0",
   "metadata": {},
   "outputs": [
    {
     "data": {
      "text/plain": [
       "['mumbai', 'pune', 'goa', 'Bgm']"
      ]
     },
     "execution_count": 9,
     "metadata": {},
     "output_type": "execute_result"
    }
   ],
   "source": [
    "ls.sort(key=mysort,reverse=True)\n",
    "ls"
   ]
  },
  {
   "cell_type": "code",
   "execution_count": 125,
   "id": "7bdda890",
   "metadata": {},
   "outputs": [
    {
     "data": {
      "text/plain": [
       "['mumbai', 'pune', 'goa', 'Bgm', 'mumbai', 'pune', 'goa', 'Bgm']"
      ]
     },
     "execution_count": 125,
     "metadata": {},
     "output_type": "execute_result"
    }
   ],
   "source": [
    "ls*2#replicator operator"
   ]
  },
  {
   "cell_type": "code",
   "execution_count": 129,
   "id": "63829694",
   "metadata": {},
   "outputs": [
    {
     "name": "stdout",
     "output_type": "stream",
     "text": [
      "1887697314944\n",
      "1887725998272\n"
     ]
    }
   ],
   "source": [
    "l11=[4,9,6]\n",
    "l12=[4,8,0]\n",
    "print(id(l11))\n",
    "print(id(l12))"
   ]
  },
  {
   "cell_type": "code",
   "execution_count": 131,
   "id": "76463b81",
   "metadata": {},
   "outputs": [
    {
     "data": {
      "text/plain": [
       "False"
      ]
     },
     "execution_count": 131,
     "metadata": {},
     "output_type": "execute_result"
    }
   ],
   "source": [
    "l11 is l12"
   ]
  },
  {
   "cell_type": "code",
   "execution_count": 132,
   "id": "8eec13e5",
   "metadata": {},
   "outputs": [
    {
     "data": {
      "text/plain": [
       "True"
      ]
     },
     "execution_count": 132,
     "metadata": {},
     "output_type": "execute_result"
    }
   ],
   "source": [
    "l11 ==l12"
   ]
  },
  {
   "cell_type": "code",
   "execution_count": 134,
   "id": "626a3aa7",
   "metadata": {},
   "outputs": [
    {
     "data": {
      "text/plain": [
       "False"
      ]
     },
     "execution_count": 134,
     "metadata": {},
     "output_type": "execute_result"
    }
   ],
   "source": [
    "l11>\n",
    "l12"
   ]
  },
  {
   "cell_type": "code",
   "execution_count": 10,
   "id": "2bf74b8d",
   "metadata": {},
   "outputs": [
    {
     "data": {
      "text/plain": [
       "['mumbai', 'pune', 'goa', 'Bgm', 'goa']"
      ]
     },
     "execution_count": 10,
     "metadata": {},
     "output_type": "execute_result"
    }
   ],
   "source": [
    "ls.append('goa')\n",
    "ls"
   ]
  },
  {
   "cell_type": "code",
   "execution_count": 43,
   "id": "06f8dd4b",
   "metadata": {},
   "outputs": [
    {
     "name": "stdout",
     "output_type": "stream",
     "text": [
      "1 mumbai\n",
      "2 pune\n",
      "1 bgm\n",
      "1 goa\n"
     ]
    }
   ],
   "source": [
    "ls=['mumbai','pune','bgm','pune','goa']\n",
    "l=list()\n",
    "for i in ls:\n",
    "    if(i in l):\n",
    "        continue\n",
    "    else:\n",
    "        print (ls.count(i),i)\n",
    "        l.append(i)        "
   ]
  },
  {
   "cell_type": "code",
   "execution_count": 58,
   "id": "bcc07eb5",
   "metadata": {},
   "outputs": [
    {
     "name": "stdout",
     "output_type": "stream",
     "text": [
      "9\n"
     ]
    }
   ],
   "source": [
    "#show sum of all int values in list\n",
    "l1=[1,'2','k',4,[1,2,3],4]\n",
    "sum=0\n",
    "for i in l1:\n",
    "    if isinstance(i , int):\n",
    "        sum+=i\n",
    "print(sum)"
   ]
  },
  {
   "cell_type": "code",
   "execution_count": 81,
   "id": "0831767b",
   "metadata": {},
   "outputs": [
    {
     "name": "stdout",
     "output_type": "stream",
     "text": [
      "6\n"
     ]
    }
   ],
   "source": [
    "##show sum of all elements at even position from given list provided elements are int type\n",
    "l1=[1,'2','k',4,[1,2,3],4]\n",
    "sum=0\n",
    "for i in range(1,len(l1)):\n",
    "    if(i%2==0):\n",
    "        sum+=i\n",
    "print(sum)"
   ]
  },
  {
   "cell_type": "code",
   "execution_count": 64,
   "id": "47a9dea7",
   "metadata": {},
   "outputs": [
    {
     "name": "stdout",
     "output_type": "stream",
     "text": [
      "4\n"
     ]
    }
   ],
   "source": [
    "#show sum of all elements at odd position from given list provided elements are int type\n",
    "lst=[1,2,3,4]\n",
    "s=0\n",
    "for i in range(0,len(lst)):\n",
    "    if(lst[i]%2!=0):\n",
    "        s+=lst[i]\n",
    "print(s)"
   ]
  },
  {
   "cell_type": "code",
   "execution_count": null,
   "id": "8ff638d1",
   "metadata": {},
   "outputs": [],
   "source": []
  }
 ],
 "metadata": {
  "kernelspec": {
   "display_name": "Python 3 (ipykernel)",
   "language": "python",
   "name": "python3"
  },
  "language_info": {
   "codemirror_mode": {
    "name": "ipython",
    "version": 3
   },
   "file_extension": ".py",
   "mimetype": "text/x-python",
   "name": "python",
   "nbconvert_exporter": "python",
   "pygments_lexer": "ipython3",
   "version": "3.9.7"
  }
 },
 "nbformat": 4,
 "nbformat_minor": 5
}
