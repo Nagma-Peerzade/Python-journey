{
 "cells": [
  {
   "cell_type": "markdown",
   "id": "1c535483",
   "metadata": {},
   "source": [
    "# #Tuple"
   ]
  },
  {
   "cell_type": "code",
   "execution_count": 1,
   "id": "3617c178",
   "metadata": {},
   "outputs": [],
   "source": [
    "#Tuple is immutable \n",
    "#creation of object-()\n",
    "t1=1,2,3#packing-packed in one object"
   ]
  },
  {
   "cell_type": "code",
   "execution_count": 2,
   "id": "6feb9e60",
   "metadata": {},
   "outputs": [
    {
     "data": {
      "text/plain": [
       "(1, 2, 3)"
      ]
     },
     "execution_count": 2,
     "metadata": {},
     "output_type": "execute_result"
    }
   ],
   "source": [
    "t1"
   ]
  },
  {
   "cell_type": "code",
   "execution_count": 3,
   "id": "d9c03648",
   "metadata": {},
   "outputs": [
    {
     "data": {
      "text/plain": [
       "tuple"
      ]
     },
     "execution_count": 3,
     "metadata": {},
     "output_type": "execute_result"
    }
   ],
   "source": [
    "type(t1)"
   ]
  },
  {
   "cell_type": "code",
   "execution_count": 4,
   "id": "9e22d3da",
   "metadata": {},
   "outputs": [
    {
     "name": "stdout",
     "output_type": "stream",
     "text": [
      "<class 'tuple'>\n"
     ]
    }
   ],
   "source": [
    "t2=()#\n",
    "print(type(t2))"
   ]
  },
  {
   "cell_type": "code",
   "execution_count": 5,
   "id": "27f33888",
   "metadata": {},
   "outputs": [
    {
     "name": "stdout",
     "output_type": "stream",
     "text": [
      "<class 'tuple'>\n"
     ]
    }
   ],
   "source": [
    "t3=(4,5,6)\n",
    "print(type(t3))"
   ]
  },
  {
   "cell_type": "code",
   "execution_count": 8,
   "id": "8660e0f6",
   "metadata": {},
   "outputs": [
    {
     "name": "stdout",
     "output_type": "stream",
     "text": [
      "(7,)\n",
      "<class 'tuple'>\n"
     ]
    }
   ],
   "source": [
    "t4=(7,)\n",
    "print(t4)\n",
    "print(type(t4))"
   ]
  },
  {
   "cell_type": "code",
   "execution_count": 10,
   "id": "b566c40a",
   "metadata": {},
   "outputs": [],
   "source": [
    "x,y,z=t3#unpacking-receiving it in to individual object"
   ]
  },
  {
   "cell_type": "code",
   "execution_count": 11,
   "id": "8c0902f0",
   "metadata": {},
   "outputs": [
    {
     "name": "stdout",
     "output_type": "stream",
     "text": [
      "4 5 6\n"
     ]
    }
   ],
   "source": [
    "print(x,y,z)"
   ]
  },
  {
   "cell_type": "code",
   "execution_count": 12,
   "id": "b57ca0c1",
   "metadata": {},
   "outputs": [],
   "source": [
    "a=90\n",
    "b=10\n",
    "a,b=b,a"
   ]
  },
  {
   "cell_type": "code",
   "execution_count": 13,
   "id": "d9f1b38a",
   "metadata": {},
   "outputs": [
    {
     "name": "stdout",
     "output_type": "stream",
     "text": [
      "10 90\n"
     ]
    }
   ],
   "source": [
    "print(a,b)"
   ]
  },
  {
   "cell_type": "code",
   "execution_count": 14,
   "id": "d0003821",
   "metadata": {},
   "outputs": [],
   "source": [
    "s='hello'"
   ]
  },
  {
   "cell_type": "code",
   "execution_count": 15,
   "id": "c0311d4e",
   "metadata": {},
   "outputs": [
    {
     "data": {
      "text/plain": [
       "('hello',)"
      ]
     },
     "execution_count": 15,
     "metadata": {},
     "output_type": "execute_result"
    }
   ],
   "source": [
    "t5=(s,)\n",
    "t5"
   ]
  },
  {
   "cell_type": "code",
   "execution_count": 16,
   "id": "5b3a04fb",
   "metadata": {},
   "outputs": [],
   "source": [
    "#constructor-one argument alloowed\n",
    "t6=tuple(s)"
   ]
  },
  {
   "cell_type": "code",
   "execution_count": 17,
   "id": "3fb35155",
   "metadata": {},
   "outputs": [
    {
     "data": {
      "text/plain": [
       "('h', 'e', 'l', 'l', 'o')"
      ]
     },
     "execution_count": 17,
     "metadata": {},
     "output_type": "execute_result"
    }
   ],
   "source": [
    "t6"
   ]
  },
  {
   "cell_type": "code",
   "execution_count": 20,
   "id": "a18e45c6",
   "metadata": {},
   "outputs": [],
   "source": [
    "t6=tuple([1,2,3,4])"
   ]
  },
  {
   "cell_type": "code",
   "execution_count": 21,
   "id": "8f80af21",
   "metadata": {},
   "outputs": [
    {
     "data": {
      "text/plain": [
       "(1, 2, 3, 4)"
      ]
     },
     "execution_count": 21,
     "metadata": {},
     "output_type": "execute_result"
    }
   ],
   "source": [
    "t6"
   ]
  },
  {
   "cell_type": "code",
   "execution_count": 22,
   "id": "247ea891",
   "metadata": {},
   "outputs": [
    {
     "data": {
      "text/plain": [
       "4"
      ]
     },
     "execution_count": 22,
     "metadata": {},
     "output_type": "execute_result"
    }
   ],
   "source": [
    "t6[3]#indexing"
   ]
  },
  {
   "cell_type": "code",
   "execution_count": 23,
   "id": "0db36f68",
   "metadata": {},
   "outputs": [
    {
     "data": {
      "text/plain": [
       "2"
      ]
     },
     "execution_count": 23,
     "metadata": {},
     "output_type": "execute_result"
    }
   ],
   "source": [
    "t6[-3]"
   ]
  },
  {
   "cell_type": "code",
   "execution_count": 24,
   "id": "cda83ae0",
   "metadata": {},
   "outputs": [
    {
     "data": {
      "text/plain": [
       "False"
      ]
     },
     "execution_count": 24,
     "metadata": {},
     "output_type": "execute_result"
    }
   ],
   "source": [
    "6 in t6#membership operator"
   ]
  },
  {
   "cell_type": "code",
   "execution_count": 25,
   "id": "8cf7c766",
   "metadata": {},
   "outputs": [
    {
     "name": "stdout",
     "output_type": "stream",
     "text": [
      "['hello', 'hi', (5, 6, 7), 5, 'how', 8, 9]\n",
      "('hello', 'hi', (5, 6, 7), 5, 'how', 8, 9)\n"
     ]
    }
   ],
   "source": [
    "#nested tuple\n",
    "t7=['hello','hi',(5,6,7),5,'how',8,9]\n",
    "print (t7)\n",
    "t8=tuple(t7)\n",
    "print(t8)"
   ]
  },
  {
   "cell_type": "code",
   "execution_count": 27,
   "id": "90260beb",
   "metadata": {},
   "outputs": [
    {
     "name": "stdout",
     "output_type": "stream",
     "text": [
      "40\n"
     ]
    }
   ],
   "source": [
    "sum=0\n",
    "for i in t8:\n",
    "    if(isinstance(i,int)or isinstance(i,float)):\n",
    "        sum+=i\n",
    "    elif(isinstance(i,tuple)):\n",
    "        for j in i: \n",
    "            sum+=j\n",
    "print(sum)"
   ]
  },
  {
   "cell_type": "code",
   "execution_count": 28,
   "id": "722ee166",
   "metadata": {},
   "outputs": [],
   "source": [
    "def operate(x,y):\n",
    "    return x+y,x-y,x*y,x//y"
   ]
  },
  {
   "cell_type": "code",
   "execution_count": 29,
   "id": "76ae54c4",
   "metadata": {},
   "outputs": [
    {
     "data": {
      "text/plain": [
       "(19, 13, 48, 5)"
      ]
     },
     "execution_count": 29,
     "metadata": {},
     "output_type": "execute_result"
    }
   ],
   "source": [
    "t9=operate(16,3)\n",
    "t9"
   ]
  },
  {
   "cell_type": "code",
   "execution_count": 30,
   "id": "71ce6f4c",
   "metadata": {},
   "outputs": [
    {
     "data": {
      "text/plain": [
       "(4, 5, 6)"
      ]
     },
     "execution_count": 30,
     "metadata": {},
     "output_type": "execute_result"
    }
   ],
   "source": [
    "=t9t2+t3#concat"
   ]
  },
  {
   "cell_type": "code",
   "execution_count": 31,
   "id": "84e7c474",
   "metadata": {},
   "outputs": [
    {
     "data": {
      "text/plain": [
       "()"
      ]
     },
     "execution_count": 31,
     "metadata": {},
     "output_type": "execute_result"
    }
   ],
   "source": [
    "t2"
   ]
  },
  {
   "cell_type": "code",
   "execution_count": 32,
   "id": "b4404744",
   "metadata": {},
   "outputs": [
    {
     "data": {
      "text/plain": [
       "(4, 5, 6)"
      ]
     },
     "execution_count": 32,
     "metadata": {},
     "output_type": "execute_result"
    }
   ],
   "source": [
    "t3"
   ]
  },
  {
   "cell_type": "code",
   "execution_count": 33,
   "id": "f6d1b292",
   "metadata": {},
   "outputs": [
    {
     "data": {
      "text/plain": [
       "(7,)"
      ]
     },
     "execution_count": 33,
     "metadata": {},
     "output_type": "execute_result"
    }
   ],
   "source": [
    "t4"
   ]
  },
  {
   "cell_type": "code",
   "execution_count": 34,
   "id": "4ab9998b",
   "metadata": {},
   "outputs": [
    {
     "data": {
      "text/plain": [
       "(4, 5, 6, 19, 13, 48, 5)"
      ]
     },
     "execution_count": 34,
     "metadata": {},
     "output_type": "execute_result"
    }
   ],
   "source": [
    "t3+t9"
   ]
  },
  {
   "cell_type": "code",
   "execution_count": 35,
   "id": "25f23fd2",
   "metadata": {},
   "outputs": [
    {
     "data": {
      "text/plain": [
       "(19, 13, 48, 5)"
      ]
     },
     "execution_count": 35,
     "metadata": {},
     "output_type": "execute_result"
    }
   ],
   "source": [
    "t9"
   ]
  },
  {
   "cell_type": "code",
   "execution_count": 36,
   "id": "12782409",
   "metadata": {},
   "outputs": [
    {
     "data": {
      "text/plain": [
       "(19, 13, 48, 5, 19, 13, 48, 5)"
      ]
     },
     "execution_count": 36,
     "metadata": {},
     "output_type": "execute_result"
    }
   ],
   "source": [
    "t9*2#replicator operator"
   ]
  },
  {
   "cell_type": "code",
   "execution_count": 37,
   "id": "cf1edad5",
   "metadata": {},
   "outputs": [
    {
     "data": {
      "text/plain": [
       "48"
      ]
     },
     "execution_count": 37,
     "metadata": {},
     "output_type": "execute_result"
    }
   ],
   "source": [
    "max(t9)"
   ]
  },
  {
   "cell_type": "code",
   "execution_count": 38,
   "id": "a62a496f",
   "metadata": {},
   "outputs": [
    {
     "data": {
      "text/plain": [
       "5"
      ]
     },
     "execution_count": 38,
     "metadata": {},
     "output_type": "execute_result"
    }
   ],
   "source": [
    "min(t9)"
   ]
  },
  {
   "cell_type": "code",
   "execution_count": 40,
   "id": "11074b26",
   "metadata": {},
   "outputs": [
    {
     "data": {
      "text/plain": [
       "('hello',)"
      ]
     },
     "execution_count": 40,
     "metadata": {},
     "output_type": "execute_result"
    }
   ],
   "source": [
    "t5"
   ]
  },
  {
   "cell_type": "code",
   "execution_count": 41,
   "id": "397c9c8c",
   "metadata": {},
   "outputs": [
    {
     "data": {
      "text/plain": [
       "(7,)"
      ]
     },
     "execution_count": 41,
     "metadata": {},
     "output_type": "execute_result"
    }
   ],
   "source": [
    "t4"
   ]
  },
  {
   "cell_type": "code",
   "execution_count": 42,
   "id": "357f7b64",
   "metadata": {},
   "outputs": [
    {
     "data": {
      "text/plain": [
       "False"
      ]
     },
     "execution_count": 42,
     "metadata": {},
     "output_type": "execute_result"
    }
   ],
   "source": [
    "t5==t4"
   ]
  },
  {
   "cell_type": "code",
   "execution_count": 43,
   "id": "dd2f41c5",
   "metadata": {},
   "outputs": [
    {
     "data": {
      "text/plain": [
       "False"
      ]
     },
     "execution_count": 43,
     "metadata": {},
     "output_type": "execute_result"
    }
   ],
   "source": [
    "t5 is t4"
   ]
  },
  {
   "cell_type": "code",
   "execution_count": 44,
   "id": "1ad4a5b5",
   "metadata": {},
   "outputs": [
    {
     "ename": "TypeError",
     "evalue": "'>' not supported between instances of 'int' and 'str'",
     "output_type": "error",
     "traceback": [
      "\u001b[1;31m---------------------------------------------------------------------------\u001b[0m",
      "\u001b[1;31mTypeError\u001b[0m                                 Traceback (most recent call last)",
      "Input \u001b[1;32mIn [44]\u001b[0m, in \u001b[0;36m<module>\u001b[1;34m\u001b[0m\n\u001b[1;32m----> 1\u001b[0m \u001b[43mt4\u001b[49m\u001b[38;5;241;43m>\u001b[39;49m\u001b[43mt5\u001b[49m\n",
      "\u001b[1;31mTypeError\u001b[0m: '>' not supported between instances of 'int' and 'str'"
     ]
    }
   ],
   "source": [
    "t4>t5"
   ]
  },
  {
   "cell_type": "code",
   "execution_count": 45,
   "id": "eca80a90",
   "metadata": {},
   "outputs": [
    {
     "data": {
      "text/plain": [
       "[5, 13, 19, 48]"
      ]
     },
     "execution_count": 45,
     "metadata": {},
     "output_type": "execute_result"
    }
   ],
   "source": [
    "#built in function\n",
    "sorted(t9)"
   ]
  },
  {
   "cell_type": "code",
   "execution_count": 46,
   "id": "a6c4da8d",
   "metadata": {},
   "outputs": [
    {
     "data": {
      "text/plain": [
       "[48, 19, 13, 5]"
      ]
     },
     "execution_count": 46,
     "metadata": {},
     "output_type": "execute_result"
    }
   ],
   "source": [
    "sorted(t9,reverse=True)"
   ]
  },
  {
   "cell_type": "code",
   "execution_count": 48,
   "id": "d5d733ed",
   "metadata": {},
   "outputs": [
    {
     "name": "stdout",
     "output_type": "stream",
     "text": [
      "(19, 13, 48, 5)\n"
     ]
    },
    {
     "data": {
      "text/plain": [
       "3"
      ]
     },
     "execution_count": 48,
     "metadata": {},
     "output_type": "execute_result"
    }
   ],
   "source": [
    "print(t9)\n",
    "t9.index(5)"
   ]
  },
  {
   "cell_type": "code",
   "execution_count": 49,
   "id": "a93e713b",
   "metadata": {},
   "outputs": [],
   "source": [
    "t10=(65,2,7,7,2,9,65)"
   ]
  },
  {
   "cell_type": "code",
   "execution_count": 50,
   "id": "4b1866c4",
   "metadata": {},
   "outputs": [],
   "source": [
    "t11=sorted(t10)"
   ]
  },
  {
   "cell_type": "code",
   "execution_count": 51,
   "id": "30c591b7",
   "metadata": {},
   "outputs": [
    {
     "name": "stdout",
     "output_type": "stream",
     "text": [
      "t10: (65, 2, 7, 7, 2, 9, 65)\n",
      "t11: [2, 2, 7, 7, 9, 65, 65]\n"
     ]
    }
   ],
   "source": [
    "print('t10:',t10)\n",
    "print('t11:',t11)"
   ]
  },
  {
   "cell_type": "code",
   "execution_count": 52,
   "id": "2ba25081",
   "metadata": {},
   "outputs": [
    {
     "data": {
      "text/plain": [
       "2"
      ]
     },
     "execution_count": 52,
     "metadata": {},
     "output_type": "execute_result"
    }
   ],
   "source": [
    "t11.index(7)"
   ]
  },
  {
   "cell_type": "code",
   "execution_count": 62,
   "id": "92d811a5",
   "metadata": {},
   "outputs": [
    {
     "data": {
      "text/plain": [
       "3"
      ]
     },
     "execution_count": 62,
     "metadata": {},
     "output_type": "execute_result"
    }
   ],
   "source": [
    "t10.index(7,3)"
   ]
  },
  {
   "cell_type": "code",
   "execution_count": 37,
   "id": "be73d26d",
   "metadata": {},
   "outputs": [
    {
     "name": "stdout",
     "output_type": "stream",
     "text": [
      "(3, 4, 5, 6, 7, 'hi', 'how', 'are', 'you', 'nagma')\n"
     ]
    }
   ],
   "source": [
    "t13=[3,4,5,6,7]\n",
    "t14=['hi','how','are','you','nagma']\n",
    "l3=[]\n",
    "\n",
    "l1=tuple(l3)\n",
    "print(l1)"
   ]
  },
  {
   "cell_type": "code",
   "execution_count": 44,
   "id": "33c6b064",
   "metadata": {},
   "outputs": [
    {
     "name": "stdout",
     "output_type": "stream",
     "text": [
      "(3, 'hi', 4, 'how', 5, 'are', 6, 'you', 7, 'nagma')\n"
     ]
    }
   ],
   "source": [
    "#alternate element from two list into new list \n",
    "t13=[3,4,5,6,7]\n",
    "t14=['hi','how','are','you','nagma']\n",
    "l3 = []\n",
    "i = 0\n",
    "while i <= len(t13)-1:\n",
    "    l3.append(t13[i])\n",
    "    l3.append(t14[i])\n",
    "    i += 1\n",
    "l4=tuple(l3)\n",
    "print(l4)"
   ]
  }
 ],
 "metadata": {
  "kernelspec": {
   "display_name": "Python 3 (ipykernel)",
   "language": "python",
   "name": "python3"
  },
  "language_info": {
   "codemirror_mode": {
    "name": "ipython",
    "version": 3
   },
   "file_extension": ".py",
   "mimetype": "text/x-python",
   "name": "python",
   "nbconvert_exporter": "python",
   "pygments_lexer": "ipython3",
   "version": "3.9.7"
  }
 },
 "nbformat": 4,
 "nbformat_minor": 5
}
