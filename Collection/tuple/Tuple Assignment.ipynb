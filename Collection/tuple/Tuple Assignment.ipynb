{
 "cells": [
  {
   "cell_type": "markdown",
   "id": "404bd507",
   "metadata": {},
   "source": [
    "# #Tuple Assignment"
   ]
  },
  {
   "cell_type": "code",
   "execution_count": 10,
   "id": "e32c23c7",
   "metadata": {},
   "outputs": [
    {
     "name": "stdout",
     "output_type": "stream",
     "text": [
      "element 1  is repeated  4 times\n"
     ]
    }
   ],
   "source": [
    "#write a python program to find the repeated items of a tuple\n",
    "t=(1,3,4,32,1,1,1) \n",
    "cnt=0\n",
    "for i in t:\n",
    "    if t.count(i) > 1:\n",
    "        cnt+=1\n",
    "print('element' ,i,' is repeated ',cnt,'times')"
   ]
  },
  {
   "cell_type": "code",
   "execution_count": 21,
   "id": "13c2f44d",
   "metadata": {},
   "outputs": [
    {
     "name": "stdout",
     "output_type": "stream",
     "text": [
      "enter the element to check:4\n",
      "False\n"
     ]
    }
   ],
   "source": [
    "#write a program to check whether an element exist within tuple\n",
    "t1=(1,2,3,17,22,65)\n",
    "c=int(input('enter the element to check:'))\n",
    "for i in t1:\n",
    "    if c in t1:\n",
    "        res=True\n",
    "    else:\n",
    "        res=False\n",
    "print(res)    "
   ]
  },
  {
   "cell_type": "code",
   "execution_count": 18,
   "id": "4737d9ac",
   "metadata": {},
   "outputs": [
    {
     "name": "stdout",
     "output_type": "stream",
     "text": [
      "(1, 3, 'j', 'hello', '90', [1, 2, 3])\n"
     ]
    }
   ],
   "source": [
    "#write a program to convert list to tuple\n",
    "lst=[1,3,'j','hello','90',[1,2,3]]\n",
    "l3=tuple(lst)\n",
    "print(l3)"
   ]
  },
  {
   "cell_type": "code",
   "execution_count": 26,
   "id": "fa0d5f4f",
   "metadata": {},
   "outputs": [
    {
     "name": "stdout",
     "output_type": "stream",
     "text": [
      "og: [(4, 5), (2, 3), (6, 7), (2, 8)]\n",
      "cg: [(2, 3), (4, 5), (2, 8), (6, 7)]\n"
     ]
    }
   ],
   "source": [
    "#write a program to sort based on sum of input\n",
    "t2=[(4,5),(2,3),(6,7),(2,8)]\n",
    "print('og:',t2)\n",
    "l=len(t2)\n",
    "for i in range (l):\n",
    "    for j in range(l-i-1):\n",
    "        if (t2[j][0]+t2[j][1]) > (t2[j+1][0]+t2[j+1][1]):\n",
    "            t2[j],t2[j+1] = t2[j+1],t2[j]\n",
    "print('cg:',t2)\n",
    "  \n",
    "    "
   ]
  },
  {
   "cell_type": "code",
   "execution_count": 30,
   "id": "b9478b92",
   "metadata": {},
   "outputs": [
    {
     "name": "stdout",
     "output_type": "stream",
     "text": [
      "(9, 78, 4, 2, 12, 45, 23)\n"
     ]
    }
   ],
   "source": [
    "#write a python program to reverse a tuple\n",
    "t3=(23,45,12,2,4,78,9)\n",
    "t4=t3[::-1]\n",
    "print(t4)"
   ]
  },
  {
   "cell_type": "code",
   "execution_count": 34,
   "id": "f941d23e",
   "metadata": {},
   "outputs": [
    {
     "name": "stdout",
     "output_type": "stream",
     "text": [
      "1st way: (23, 45, 12, 2, 4, 78, 9)\n",
      "2nd way (23, 45, 12, 2, 4, 78, 9)\n"
     ]
    }
   ],
   "source": [
    "#write a code to copy contents of  one tuple to other in all possible ways\n",
    "t3=(23,45,12,2,4,78,9)\n",
    "l4=tuple(t3)\n",
    "print('1st way:',l4)\n",
    "l5=t3[:]\n",
    "print('2nd way',l5)"
   ]
  },
  {
   "cell_type": "code",
   "execution_count": 26,
   "id": "84725606",
   "metadata": {},
   "outputs": [
    {
     "name": "stdout",
     "output_type": "stream",
     "text": [
      "(1, 2, 3, 5, 6, 7, 8, 9)\n"
     ]
    }
   ],
   "source": [
    "#if tuple1=(1,2,3,4,5,6,7,8,9) move contents to tuple except 4\n",
    "tuple1=(1,2,3,4,5,6,7,8,9)\n",
    "t2=()\n",
    "t=list(tuple1)\n",
    "t.remove(4)\n",
    "t2=tuple(t)\n",
    "print(t2)"
   ]
  },
  {
   "cell_type": "code",
   "execution_count": 51,
   "id": "201916d9",
   "metadata": {},
   "outputs": [
    {
     "name": "stdout",
     "output_type": "stream",
     "text": [
      "[4, 5, 6, 7, 100]\n",
      "[6, 8, 9]\n",
      "([4, 5, 6, 7, 100], [6, 8, 9])\n"
     ]
    }
   ],
   "source": [
    "#Tuple contains two list list1 and list2 \n",
    "#list1=[4,5,6,7] list2=[6,7,8,9]\n",
    "#write a code to append 100 in list1 of tuple and remove 7 from list2 of tuple\n",
    "list1=[4,5,6,7] \n",
    "list2=[6,7,8,9]\n",
    "l3=[]\n",
    "list1.append(100)\n",
    "print(list1)\n",
    "list2.remove(7)\n",
    "print(list2)\n",
    "l3.append(list1)\n",
    "l3.append(list2)\n",
    "t2=tuple(l3)\n",
    "print(t2)"
   ]
  }
 ],
 "metadata": {
  "kernelspec": {
   "display_name": "Python 3 (ipykernel)",
   "language": "python",
   "name": "python3"
  },
  "language_info": {
   "codemirror_mode": {
    "name": "ipython",
    "version": 3
   },
   "file_extension": ".py",
   "mimetype": "text/x-python",
   "name": "python",
   "nbconvert_exporter": "python",
   "pygments_lexer": "ipython3",
   "version": "3.9.7"
  }
 },
 "nbformat": 4,
 "nbformat_minor": 5
}
