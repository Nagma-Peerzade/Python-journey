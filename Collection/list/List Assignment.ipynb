{
 "cells": [
  {
   "cell_type": "markdown",
   "id": "d63c44cf",
   "metadata": {},
   "source": [
    "# List Assignments-1"
   ]
  },
  {
   "cell_type": "code",
   "execution_count": 4,
   "id": "73b635c1",
   "metadata": {},
   "outputs": [
    {
     "name": "stdout",
     "output_type": "stream",
     "text": [
      "[2, 3, 5]\n"
     ]
    }
   ],
   "source": [
    "#wap to remove to find duplicate elements in list\n",
    "list=[1,2,3,1,5]\n",
    "l1=[]\n",
    "for i in list:\n",
    "    if i not in l1:\n",
    "        l1.append(i)\n",
    "    else:\n",
    "        l1.remove(i)\n",
    "print(l1)"
   ]
  },
  {
   "cell_type": "code",
   "execution_count": 3,
   "id": "8d1eb6b6",
   "metadata": {},
   "outputs": [
    {
     "name": "stdout",
     "output_type": "stream",
     "text": [
      "[1, 2, 3, 5, 6, 7, 9]\n"
     ]
    }
   ],
   "source": [
    "#write to sort  the given list\n",
    "lst=[7,5,6,9,1,2,3]\n",
    "l1=sorted(lst)\n",
    "print(l1)"
   ]
  },
  {
   "cell_type": "code",
   "execution_count": 2,
   "id": "1124ce75",
   "metadata": {},
   "outputs": [
    {
     "name": "stdout",
     "output_type": "stream",
     "text": [
      "l2: [1, 2, 6, 8, 7, 5, 4, 33, 22, 90, 67]\n",
      "l3: [67]\n"
     ]
    }
   ],
   "source": [
    "#wap to create a list such that new list contains alternate even and odd from given list\n",
    "l1=[1,2,6,8,7,5,4,33,22,90,67]\n",
    "l2=[]\n",
    "l3=[]\n",
    "j=0\n",
    "for i in range (0,len(l1)+1,2):\n",
    "    l2.append(l1[i])\n",
    "for i in range (1,len(l1),2):\n",
    "    l3.append(l1[i])\n",
    "l2.clear()\n",
    "l3.clear()\n",
    "for j in l1:\n",
    "    l2.append(j)\n",
    "else:\n",
    "    l3.append(j)\n",
    "print('l2:',l2)\n",
    "print('l3:',l3)"
   ]
  },
  {
   "cell_type": "code",
   "execution_count": 13,
   "id": "e5b944ce",
   "metadata": {},
   "outputs": [
    {
     "name": "stdout",
     "output_type": "stream",
     "text": [
      "1001\n"
     ]
    }
   ],
   "source": [
    "#Write a Python program to get the largest number from a list.\n",
    "list=[201,1001,547,985]\n",
    "l1=max(list)\n",
    "print(l1)"
   ]
  },
  {
   "cell_type": "code",
   "execution_count": 6,
   "id": "55c5aa06",
   "metadata": {},
   "outputs": [],
   "source": [
    "# write a python program to find list of words that are longer than given word\n",
    "def long(words,e):\n",
    "    word=[]\n",
    "    for i in words:\n",
    "        if len(i)>len(e):\n",
    "            word.append(i)\n",
    "    return word    "
   ]
  },
  {
   "cell_type": "code",
   "execution_count": 28,
   "id": "38efcc9c",
   "metadata": {},
   "outputs": [],
   "source": [
    "lst=['hello','world','is','a','are']"
   ]
  },
  {
   "cell_type": "code",
   "execution_count": 30,
   "id": "9e62dcdb",
   "metadata": {},
   "outputs": [
    {
     "data": {
      "text/plain": [
       "['hello', 'world', 'is', 'a', 'are']"
      ]
     },
     "execution_count": 30,
     "metadata": {},
     "output_type": "execute_result"
    }
   ],
   "source": [
    "lst"
   ]
  },
  {
   "cell_type": "code",
   "execution_count": 43,
   "id": "67ad08ab",
   "metadata": {},
   "outputs": [
    {
     "name": "stdout",
     "output_type": "stream",
     "text": [
      "enter the word: my\n",
      "['hello', 'world', 'are']\n"
     ]
    }
   ],
   "source": [
    "n=input('enter the word: ')\n",
    "print(long(lst,n))"
   ]
  },
  {
   "cell_type": "code",
   "execution_count": 57,
   "id": "a592fd29",
   "metadata": {},
   "outputs": [],
   "source": [
    "# write a python function that takes two list and return true if they have atleast one common member\n",
    "def cm(ls1,ls2):\n",
    "    for i in ls1:\n",
    "        if i in ls2:\n",
    "            return True\n",
    "    else :\n",
    "            return False"
   ]
  },
  {
   "cell_type": "code",
   "execution_count": 66,
   "id": "cd704e90",
   "metadata": {},
   "outputs": [],
   "source": [
    "lst1=[1,2,45,7,9]"
   ]
  },
  {
   "cell_type": "code",
   "execution_count": 67,
   "id": "b595c635",
   "metadata": {},
   "outputs": [],
   "source": [
    "lst2=[5,8,9,6,67]"
   ]
  },
  {
   "cell_type": "code",
   "execution_count": 68,
   "id": "5e5a1375",
   "metadata": {},
   "outputs": [
    {
     "name": "stdout",
     "output_type": "stream",
     "text": [
      "True\n"
     ]
    }
   ],
   "source": [
    "print(cm(lst1,lst2))"
   ]
  },
  {
   "cell_type": "code",
   "execution_count": 70,
   "id": "c0a4dd64",
   "metadata": {},
   "outputs": [
    {
     "data": {
      "text/plain": [
       "['green', 'white', 'black']"
      ]
     },
     "execution_count": 70,
     "metadata": {},
     "output_type": "execute_result"
    }
   ],
   "source": [
    "#Sample list:['red','green','white','black','pink','yellow']\n",
    "lst=['red','green','white','black','pink','yellow']\n",
    "lst[1:4]\n"
   ]
  },
  {
   "cell_type": "code",
   "execution_count": 14,
   "id": "c88a0845",
   "metadata": {},
   "outputs": [
    {
     "name": "stdout",
     "output_type": "stream",
     "text": [
      "list before removal of even numbers: [2, 1, 4, 5, 6, 7, 11]\n",
      "list after removal of even numbers: [1, 5, 7, 11]\n"
     ]
    }
   ],
   "source": [
    "#Write a Python program to print the numbers of a specified list after removing even numbers from it.\n",
    "\n",
    "list=[2,1,4,5,6,7,11]\n",
    "print(\"list before removal of even numbers:\",list)\n",
    "for i in list:\n",
    "    if(i%2==0):\n",
    "        list.remove(i)\n",
    "print(\"list after removal of even numbers:\",list)"
   ]
  }
 ],
 "metadata": {
  "kernelspec": {
   "display_name": "Python 3 (ipykernel)",
   "language": "python",
   "name": "python3"
  },
  "language_info": {
   "codemirror_mode": {
    "name": "ipython",
    "version": 3
   },
   "file_extension": ".py",
   "mimetype": "text/x-python",
   "name": "python",
   "nbconvert_exporter": "python",
   "pygments_lexer": "ipython3",
   "version": "3.9.7"
  }
 },
 "nbformat": 4,
 "nbformat_minor": 5
}
