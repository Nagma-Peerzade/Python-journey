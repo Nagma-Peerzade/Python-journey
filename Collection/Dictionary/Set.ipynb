{
 "cells": [
  {
   "cell_type": "code",
   "execution_count": 1,
   "id": "cccbc2c2",
   "metadata": {},
   "outputs": [],
   "source": [
    "s1={34,'heelo',34,45,(43,2,5)}"
   ]
  },
  {
   "cell_type": "code",
   "execution_count": 2,
   "id": "05a18f2a",
   "metadata": {},
   "outputs": [
    {
     "data": {
      "text/plain": [
       "{(43, 2, 5), 34, 45, 'heelo'}"
      ]
     },
     "execution_count": 2,
     "metadata": {},
     "output_type": "execute_result"
    }
   ],
   "source": [
    "s1"
   ]
  },
  {
   "cell_type": "code",
   "execution_count": 3,
   "id": "9bd6c230",
   "metadata": {},
   "outputs": [
    {
     "data": {
      "text/plain": [
       "{34, 'A', 'B', 'C', 'heelo'}"
      ]
     },
     "execution_count": 3,
     "metadata": {},
     "output_type": "execute_result"
    }
   ],
   "source": [
    "#indexing and slicing not allowed in set\n",
    "st2={'A','B','C',34,'heelo'}\n",
    "st2"
   ]
  },
  {
   "cell_type": "code",
   "execution_count": 5,
   "id": "ae4bd20c",
   "metadata": {},
   "outputs": [
    {
     "data": {
      "text/plain": [
       "{(43, 2, 5), 34, 45, 'A', 'B', 'C', 'heelo'}"
      ]
     },
     "execution_count": 5,
     "metadata": {},
     "output_type": "execute_result"
    }
   ],
   "source": [
    "s1.union(st2)#join sets with unique element"
   ]
  },
  {
   "cell_type": "code",
   "execution_count": 8,
   "id": "ae7778e0",
   "metadata": {},
   "outputs": [],
   "source": [
    "st2.add('D')\n",
    "st2.add('A')#add a element if it is not present"
   ]
  },
  {
   "cell_type": "code",
   "execution_count": 7,
   "id": "b1609ed6",
   "metadata": {},
   "outputs": [
    {
     "data": {
      "text/plain": [
       "{34, 'A', 'B', 'C', 'D', 'heelo'}"
      ]
     },
     "execution_count": 7,
     "metadata": {},
     "output_type": "execute_result"
    }
   ],
   "source": [
    "st2"
   ]
  },
  {
   "cell_type": "code",
   "execution_count": 10,
   "id": "0cd69286",
   "metadata": {},
   "outputs": [],
   "source": [
    "s3={5,6,7}\n",
    "s4={6,7,8}\n",
    "s3.update(s4)"
   ]
  },
  {
   "cell_type": "code",
   "execution_count": 11,
   "id": "3023c7cd",
   "metadata": {},
   "outputs": [
    {
     "data": {
      "text/plain": [
       "{5, 6, 7, 8}"
      ]
     },
     "execution_count": 11,
     "metadata": {},
     "output_type": "execute_result"
    }
   ],
   "source": [
    "s3"
   ]
  },
  {
   "cell_type": "code",
   "execution_count": 16,
   "id": "2fda576d",
   "metadata": {},
   "outputs": [],
   "source": [
    "s4=s3.intersection(s4)"
   ]
  },
  {
   "cell_type": "code",
   "execution_count": 14,
   "id": "15c9d30c",
   "metadata": {},
   "outputs": [
    {
     "data": {
      "text/plain": [
       "{6, 7, 8}"
      ]
     },
     "execution_count": 14,
     "metadata": {},
     "output_type": "execute_result"
    }
   ],
   "source": [
    "s4"
   ]
  },
  {
   "cell_type": "code",
   "execution_count": 17,
   "id": "9631ff00",
   "metadata": {},
   "outputs": [
    {
     "data": {
      "text/plain": [
       "True"
      ]
     },
     "execution_count": 17,
     "metadata": {},
     "output_type": "execute_result"
    }
   ],
   "source": [
    "s4.issubset(s3)"
   ]
  },
  {
   "cell_type": "code",
   "execution_count": 18,
   "id": "2ad07fec",
   "metadata": {},
   "outputs": [
    {
     "data": {
      "text/plain": [
       "True"
      ]
     },
     "execution_count": 18,
     "metadata": {},
     "output_type": "execute_result"
    }
   ],
   "source": [
    "s3.issuperset(s4)"
   ]
  },
  {
   "cell_type": "code",
   "execution_count": 20,
   "id": "4983d964",
   "metadata": {},
   "outputs": [
    {
     "data": {
      "text/plain": [
       "True"
      ]
     },
     "execution_count": 20,
     "metadata": {},
     "output_type": "execute_result"
    }
   ],
   "source": [
    "#disjoin \n",
    "s5={4,8,9}\n",
    "s6={1,2,3}\n",
    "s5.isdisjoint(s6)"
   ]
  },
  {
   "cell_type": "code",
   "execution_count": 21,
   "id": "f831ffa2",
   "metadata": {},
   "outputs": [
    {
     "ename": "KeyError",
     "evalue": "100",
     "output_type": "error",
     "traceback": [
      "\u001b[1;31m---------------------------------------------------------------------------\u001b[0m",
      "\u001b[1;31mKeyError\u001b[0m                                  Traceback (most recent call last)",
      "Input \u001b[1;32mIn [21]\u001b[0m, in \u001b[0;36m<module>\u001b[1;34m\u001b[0m\n\u001b[1;32m----> 1\u001b[0m \u001b[43ms6\u001b[49m\u001b[38;5;241;43m.\u001b[39;49m\u001b[43mremove\u001b[49m\u001b[43m(\u001b[49m\u001b[38;5;241;43m100\u001b[39;49m\u001b[43m)\u001b[49m\n",
      "\u001b[1;31mKeyError\u001b[0m: 100"
     ]
    }
   ],
   "source": [
    "s6.remove(100)"
   ]
  },
  {
   "cell_type": "code",
   "execution_count": 22,
   "id": "c8ffc8aa",
   "metadata": {},
   "outputs": [],
   "source": [
    "s6.remove(1)"
   ]
  },
  {
   "cell_type": "code",
   "execution_count": 23,
   "id": "c536d9a0",
   "metadata": {},
   "outputs": [
    {
     "data": {
      "text/plain": [
       "{2, 3}"
      ]
     },
     "execution_count": 23,
     "metadata": {},
     "output_type": "execute_result"
    }
   ],
   "source": [
    "s6"
   ]
  },
  {
   "cell_type": "code",
   "execution_count": 24,
   "id": "0815cf6b",
   "metadata": {},
   "outputs": [],
   "source": [
    "s6.clear()"
   ]
  },
  {
   "cell_type": "code",
   "execution_count": 25,
   "id": "ed4e5cab",
   "metadata": {},
   "outputs": [
    {
     "data": {
      "text/plain": [
       "set()"
      ]
     },
     "execution_count": 25,
     "metadata": {},
     "output_type": "execute_result"
    }
   ],
   "source": [
    "s6"
   ]
  },
  {
   "cell_type": "code",
   "execution_count": 26,
   "id": "a63b7642",
   "metadata": {},
   "outputs": [
    {
     "data": {
      "text/plain": [
       "False"
      ]
     },
     "execution_count": 26,
     "metadata": {},
     "output_type": "execute_result"
    }
   ],
   "source": [
    "s4==s5"
   ]
  },
  {
   "cell_type": "code",
   "execution_count": 27,
   "id": "41cb3c90",
   "metadata": {},
   "outputs": [],
   "source": [
    "s6={4,9,8}"
   ]
  },
  {
   "cell_type": "code",
   "execution_count": 28,
   "id": "8438ee41",
   "metadata": {},
   "outputs": [
    {
     "data": {
      "text/plain": [
       "{4, 8, 9}"
      ]
     },
     "execution_count": 28,
     "metadata": {},
     "output_type": "execute_result"
    }
   ],
   "source": [
    "s6\n"
   ]
  },
  {
   "cell_type": "code",
   "execution_count": 30,
   "id": "8eeb89e4",
   "metadata": {},
   "outputs": [
    {
     "data": {
      "text/plain": [
       "True"
      ]
     },
     "execution_count": 30,
     "metadata": {},
     "output_type": "execute_result"
    }
   ],
   "source": [
    "s6==s5"
   ]
  },
  {
   "cell_type": "code",
   "execution_count": 31,
   "id": "8be44728",
   "metadata": {},
   "outputs": [
    {
     "data": {
      "text/plain": [
       "4"
      ]
     },
     "execution_count": 31,
     "metadata": {},
     "output_type": "execute_result"
    }
   ],
   "source": [
    "min(s6)"
   ]
  },
  {
   "cell_type": "code",
   "execution_count": 32,
   "id": "b0452250",
   "metadata": {},
   "outputs": [
    {
     "data": {
      "text/plain": [
       "9"
      ]
     },
     "execution_count": 32,
     "metadata": {},
     "output_type": "execute_result"
    }
   ],
   "source": [
    "max(s6)"
   ]
  },
  {
   "cell_type": "code",
   "execution_count": 33,
   "id": "12457e51",
   "metadata": {},
   "outputs": [
    {
     "data": {
      "text/plain": [
       "3"
      ]
     },
     "execution_count": 33,
     "metadata": {},
     "output_type": "execute_result"
    }
   ],
   "source": [
    "len(s6)"
   ]
  },
  {
   "cell_type": "code",
   "execution_count": 34,
   "id": "1d4ad9a7",
   "metadata": {},
   "outputs": [
    {
     "data": {
      "text/plain": [
       "21"
      ]
     },
     "execution_count": 34,
     "metadata": {},
     "output_type": "execute_result"
    }
   ],
   "source": [
    "sum(s6)"
   ]
  },
  {
   "cell_type": "code",
   "execution_count": 35,
   "id": "10213e90",
   "metadata": {},
   "outputs": [],
   "source": [
    "#forzen set is immutable object  we can do any changes in it once created!how to create forzen set\n",
    "#use built in function frozenSet()\n",
    "fs=frozenset()"
   ]
  },
  {
   "cell_type": "code",
   "execution_count": 36,
   "id": "2a51d108",
   "metadata": {},
   "outputs": [
    {
     "data": {
      "text/plain": [
       "frozenset"
      ]
     },
     "execution_count": 36,
     "metadata": {},
     "output_type": "execute_result"
    }
   ],
   "source": [
    "type(fs)"
   ]
  },
  {
   "cell_type": "code",
   "execution_count": 37,
   "id": "f5940e31",
   "metadata": {},
   "outputs": [
    {
     "data": {
      "text/plain": [
       "frozenset()"
      ]
     },
     "execution_count": 37,
     "metadata": {},
     "output_type": "execute_result"
    }
   ],
   "source": [
    "fs# it is empty set now"
   ]
  },
  {
   "cell_type": "code",
   "execution_count": 38,
   "id": "0400e122",
   "metadata": {},
   "outputs": [],
   "source": [
    "#but if we pass any object in frozenset() method that objects will be \n",
    "#be fixed in it means \n",
    "namelist=[\"nagma\",\"vaishnavi\",\"nazar\",\"shrawari\"]\n",
    "fs1=frozenset(namelist)"
   ]
  },
  {
   "cell_type": "code",
   "execution_count": 39,
   "id": "a9d51a16",
   "metadata": {},
   "outputs": [
    {
     "data": {
      "text/plain": [
       "frozenset({'nagma', 'nazar', 'shrawari', 'vaishnavi'})"
      ]
     },
     "execution_count": 39,
     "metadata": {},
     "output_type": "execute_result"
    }
   ],
   "source": [
    "fs1"
   ]
  },
  {
   "cell_type": "code",
   "execution_count": 40,
   "id": "2c971a9f",
   "metadata": {},
   "outputs": [],
   "source": [
    "color=['trupti','poornima','prajkta','shreya','nagma']\n",
    "fs2=frozenset(color)\n"
   ]
  },
  {
   "cell_type": "code",
   "execution_count": 41,
   "id": "3cb4df58",
   "metadata": {},
   "outputs": [
    {
     "data": {
      "text/plain": [
       "frozenset({'nagma', 'poornima', 'prajkta', 'shreya', 'trupti'})"
      ]
     },
     "execution_count": 41,
     "metadata": {},
     "output_type": "execute_result"
    }
   ],
   "source": [
    "fs2"
   ]
  },
  {
   "cell_type": "code",
   "execution_count": 42,
   "id": "3429f613",
   "metadata": {},
   "outputs": [
    {
     "data": {
      "text/plain": [
       "frozenset({'nagma',\n",
       "           'nazar',\n",
       "           'poornima',\n",
       "           'prajkta',\n",
       "           'shrawari',\n",
       "           'shreya',\n",
       "           'trupti',\n",
       "           'vaishnavi'})"
      ]
     },
     "execution_count": 42,
     "metadata": {},
     "output_type": "execute_result"
    }
   ],
   "source": [
    "fs1.union(fs2)"
   ]
  },
  {
   "cell_type": "code",
   "execution_count": 43,
   "id": "e8b3fa87",
   "metadata": {},
   "outputs": [
    {
     "data": {
      "text/plain": [
       "frozenset({'nagma'})"
      ]
     },
     "execution_count": 43,
     "metadata": {},
     "output_type": "execute_result"
    }
   ],
   "source": [
    "fs1.intersection(fs2)"
   ]
  },
  {
   "cell_type": "code",
   "execution_count": 44,
   "id": "337f64b5",
   "metadata": {},
   "outputs": [
    {
     "data": {
      "text/plain": [
       "False"
      ]
     },
     "execution_count": 44,
     "metadata": {},
     "output_type": "execute_result"
    }
   ],
   "source": [
    "fs1.isdisjoint(fs2)"
   ]
  },
  {
   "cell_type": "code",
   "execution_count": 45,
   "id": "08d04a29",
   "metadata": {},
   "outputs": [
    {
     "data": {
      "text/plain": [
       "False"
      ]
     },
     "execution_count": 45,
     "metadata": {},
     "output_type": "execute_result"
    }
   ],
   "source": [
    "fs1.issubset(fs2)"
   ]
  },
  {
   "cell_type": "code",
   "execution_count": 46,
   "id": "8cf07b3e",
   "metadata": {},
   "outputs": [
    {
     "data": {
      "text/plain": [
       "False"
      ]
     },
     "execution_count": 46,
     "metadata": {},
     "output_type": "execute_result"
    }
   ],
   "source": [
    "fs1.issuperset(fs2)"
   ]
  },
  {
   "cell_type": "code",
   "execution_count": 53,
   "id": "7cfe6fe8",
   "metadata": {},
   "outputs": [
    {
     "ename": "TypeError",
     "evalue": "'int' object is not iterable",
     "output_type": "error",
     "traceback": [
      "\u001b[1;31m---------------------------------------------------------------------------\u001b[0m",
      "\u001b[1;31mTypeError\u001b[0m                                 Traceback (most recent call last)",
      "Input \u001b[1;32mIn [53]\u001b[0m, in \u001b[0;36m<module>\u001b[1;34m\u001b[0m\n\u001b[1;32m----> 1\u001b[0m fs11\u001b[38;5;241m=\u001b[39m\u001b[38;5;28;43mfrozenset\u001b[39;49m\u001b[43m(\u001b[49m\u001b[38;5;241;43m3\u001b[39;49m\u001b[43m)\u001b[49m\n",
      "\u001b[1;31mTypeError\u001b[0m: 'int' object is not iterable"
     ]
    }
   ],
   "source": [
    "fs11=frozenset(3)"
   ]
  },
  {
   "cell_type": "code",
   "execution_count": null,
   "id": "8a88ff12",
   "metadata": {},
   "outputs": [],
   "source": []
  }
 ],
 "metadata": {
  "kernelspec": {
   "display_name": "Python 3 (ipykernel)",
   "language": "python",
   "name": "python3"
  },
  "language_info": {
   "codemirror_mode": {
    "name": "ipython",
    "version": 3
   },
   "file_extension": ".py",
   "mimetype": "text/x-python",
   "name": "python",
   "nbconvert_exporter": "python",
   "pygments_lexer": "ipython3",
   "version": "3.9.7"
  }
 },
 "nbformat": 4,
 "nbformat_minor": 5
}
