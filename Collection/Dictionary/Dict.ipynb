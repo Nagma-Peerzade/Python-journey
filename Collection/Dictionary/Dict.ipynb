{
 "cells": [
  {
   "cell_type": "code",
   "execution_count": 1,
   "id": "cbd0698c",
   "metadata": {},
   "outputs": [],
   "source": [
    "#dict\n",
    "d1={}"
   ]
  },
  {
   "cell_type": "code",
   "execution_count": 2,
   "id": "1a7c4c1d",
   "metadata": {},
   "outputs": [
    {
     "name": "stdout",
     "output_type": "stream",
     "text": [
      "{}\n",
      "<class 'dict'>\n"
     ]
    }
   ],
   "source": [
    "print(d1)\n",
    "print(type(d1))"
   ]
  },
  {
   "cell_type": "code",
   "execution_count": 36,
   "id": "62fb4634",
   "metadata": {},
   "outputs": [
    {
     "data": {
      "text/plain": [
       "{'div': 60, 'divb': 70, 'divc': 80}"
      ]
     },
     "execution_count": 36,
     "metadata": {},
     "output_type": "execute_result"
    }
   ],
   "source": [
    "d2={'div':60,'divb':70,'divc':80}\n",
    "d2"
   ]
  },
  {
   "cell_type": "code",
   "execution_count": 5,
   "id": "2a55b842",
   "metadata": {},
   "outputs": [],
   "source": [
    "d2['DivD']=60"
   ]
  },
  {
   "cell_type": "code",
   "execution_count": 6,
   "id": "dd497aad",
   "metadata": {},
   "outputs": [
    {
     "data": {
      "text/plain": [
       "{'div': 60, 'divb': 70, 'divc': 80, 'DivD': 60}"
      ]
     },
     "execution_count": 6,
     "metadata": {},
     "output_type": "execute_result"
    }
   ],
   "source": [
    "d2"
   ]
  },
  {
   "cell_type": "code",
   "execution_count": 7,
   "id": "b0dfc99b",
   "metadata": {},
   "outputs": [
    {
     "data": {
      "text/plain": [
       "80"
      ]
     },
     "execution_count": 7,
     "metadata": {},
     "output_type": "execute_result"
    }
   ],
   "source": [
    "#mutable\n",
    "d2['divc']"
   ]
  },
  {
   "cell_type": "code",
   "execution_count": 8,
   "id": "99512b2f",
   "metadata": {},
   "outputs": [
    {
     "data": {
      "text/plain": [
       "True"
      ]
     },
     "execution_count": 8,
     "metadata": {},
     "output_type": "execute_result"
    }
   ],
   "source": [
    "#membership operator\n",
    "'divb' in d2"
   ]
  },
  {
   "cell_type": "code",
   "execution_count": 9,
   "id": "4e4c7dc2",
   "metadata": {},
   "outputs": [
    {
     "ename": "KeyError",
     "evalue": "'dive'",
     "output_type": "error",
     "traceback": [
      "\u001b[1;31m---------------------------------------------------------------------------\u001b[0m",
      "\u001b[1;31mKeyError\u001b[0m                                  Traceback (most recent call last)",
      "Input \u001b[1;32mIn [9]\u001b[0m, in \u001b[0;36m<module>\u001b[1;34m\u001b[0m\n\u001b[1;32m----> 1\u001b[0m \u001b[43md2\u001b[49m\u001b[43m[\u001b[49m\u001b[38;5;124;43m'\u001b[39;49m\u001b[38;5;124;43mdive\u001b[39;49m\u001b[38;5;124;43m'\u001b[39;49m\u001b[43m]\u001b[49m\n",
      "\u001b[1;31mKeyError\u001b[0m: 'dive'"
     ]
    }
   ],
   "source": [
    "d2['dive']"
   ]
  },
  {
   "cell_type": "code",
   "execution_count": 10,
   "id": "7e6064a6",
   "metadata": {},
   "outputs": [
    {
     "data": {
      "text/plain": [
       "False"
      ]
     },
     "execution_count": 10,
     "metadata": {},
     "output_type": "execute_result"
    }
   ],
   "source": [
    "'dive' in d2 and d2['dive']"
   ]
  },
  {
   "cell_type": "code",
   "execution_count": 13,
   "id": "11d809a0",
   "metadata": {},
   "outputs": [
    {
     "data": {
      "text/plain": [
       "0"
      ]
     },
     "execution_count": 13,
     "metadata": {},
     "output_type": "execute_result"
    }
   ],
   "source": [
    "#methods\n",
    "d2.get('dive',0)"
   ]
  },
  {
   "cell_type": "code",
   "execution_count": 14,
   "id": "2bf48919",
   "metadata": {},
   "outputs": [
    {
     "data": {
      "text/plain": [
       "{'shirts': 5, 'kurti': 20, 'hills': 4}"
      ]
     },
     "execution_count": 14,
     "metadata": {},
     "output_type": "execute_result"
    }
   ],
   "source": [
    "shoppinglist=[('shirts',5),('kurti',20),('hills',4)]\n",
    "sdict=dict(shoppinglist)\n",
    "sdict"
   ]
  },
  {
   "cell_type": "code",
   "execution_count": 17,
   "id": "eb5c730d",
   "metadata": {},
   "outputs": [
    {
     "name": "stdout",
     "output_type": "stream",
     "text": [
      "<class 'dict_keys'>\n"
     ]
    }
   ],
   "source": [
    "items=sdict.keys()\n",
    "print(type(items))"
   ]
  },
  {
   "cell_type": "code",
   "execution_count": 19,
   "id": "e91a9d2e",
   "metadata": {},
   "outputs": [
    {
     "name": "stdout",
     "output_type": "stream",
     "text": [
      "<class 'dict_values'>\n",
      "dict_values([5, 20, 4])\n"
     ]
    }
   ],
   "source": [
    "it=sdict.values()\n",
    "print(type(it))\n",
    "print(it)"
   ]
  },
  {
   "cell_type": "code",
   "execution_count": 20,
   "id": "b6aeeb7b",
   "metadata": {},
   "outputs": [],
   "source": [
    "l=sdict.items()"
   ]
  },
  {
   "cell_type": "code",
   "execution_count": 21,
   "id": "31eb62ce",
   "metadata": {},
   "outputs": [
    {
     "data": {
      "text/plain": [
       "dict_items([('shirts', 5), ('kurti', 20), ('hills', 4)])"
      ]
     },
     "execution_count": 21,
     "metadata": {},
     "output_type": "execute_result"
    }
   ],
   "source": [
    "l"
   ]
  },
  {
   "cell_type": "code",
   "execution_count": 23,
   "id": "f1d0f19a",
   "metadata": {},
   "outputs": [
    {
     "data": {
      "text/plain": [
       "4"
      ]
     },
     "execution_count": 23,
     "metadata": {},
     "output_type": "execute_result"
    }
   ],
   "source": [
    "sdict.pop('hills')"
   ]
  },
  {
   "cell_type": "code",
   "execution_count": 24,
   "id": "64a46e5f",
   "metadata": {},
   "outputs": [
    {
     "data": {
      "text/plain": [
       "{'shirts': 5, 'kurti': 20}"
      ]
     },
     "execution_count": 24,
     "metadata": {},
     "output_type": "execute_result"
    }
   ],
   "source": [
    "sdict"
   ]
  },
  {
   "cell_type": "code",
   "execution_count": 29,
   "id": "73f1abf5",
   "metadata": {},
   "outputs": [
    {
     "ename": "KeyError",
     "evalue": "'popitem(): dictionary is empty'",
     "output_type": "error",
     "traceback": [
      "\u001b[1;31m---------------------------------------------------------------------------\u001b[0m",
      "\u001b[1;31mKeyError\u001b[0m                                  Traceback (most recent call last)",
      "Input \u001b[1;32mIn [29]\u001b[0m, in \u001b[0;36m<module>\u001b[1;34m\u001b[0m\n\u001b[1;32m----> 1\u001b[0m t\u001b[38;5;241m=\u001b[39m\u001b[43msdict\u001b[49m\u001b[38;5;241;43m.\u001b[39;49m\u001b[43mpopitem\u001b[49m\u001b[43m(\u001b[49m\u001b[43m)\u001b[49m\n\u001b[0;32m      2\u001b[0m t\n",
      "\u001b[1;31mKeyError\u001b[0m: 'popitem(): dictionary is empty'"
     ]
    }
   ],
   "source": [
    "t=sdict.popitem()\n",
    "t\n"
   ]
  },
  {
   "cell_type": "code",
   "execution_count": 32,
   "id": "9c2a4e5b",
   "metadata": {},
   "outputs": [],
   "source": [
    "del(sdict)"
   ]
  },
  {
   "cell_type": "code",
   "execution_count": 34,
   "id": "540feefb",
   "metadata": {},
   "outputs": [
    {
     "ename": "NameError",
     "evalue": "name 'd2' is not defined",
     "output_type": "error",
     "traceback": [
      "\u001b[1;31m---------------------------------------------------------------------------\u001b[0m",
      "\u001b[1;31mNameError\u001b[0m                                 Traceback (most recent call last)",
      "Input \u001b[1;32mIn [34]\u001b[0m, in \u001b[0;36m<module>\u001b[1;34m\u001b[0m\n\u001b[1;32m----> 1\u001b[0m \u001b[38;5;28mprint\u001b[39m(\u001b[43md2\u001b[49m)\n",
      "\u001b[1;31mNameError\u001b[0m: name 'd2' is not defined"
     ]
    }
   ],
   "source": [
    "print(d2)"
   ]
  },
  {
   "cell_type": "code",
   "execution_count": 37,
   "id": "cd8c13c9",
   "metadata": {},
   "outputs": [
    {
     "data": {
      "text/plain": [
       "{'div': 60, 'divb': 70, 'divc': 80}"
      ]
     },
     "execution_count": 37,
     "metadata": {},
     "output_type": "execute_result"
    }
   ],
   "source": [
    "d2"
   ]
  },
  {
   "cell_type": "code",
   "execution_count": 40,
   "id": "abd7983b",
   "metadata": {},
   "outputs": [
    {
     "name": "stdout",
     "output_type": "stream",
     "text": [
      "div = 60\n",
      "divb = 70\n",
      "divc = 80\n",
      "_______________\n",
      "div = 60\n",
      "divb = 70\n",
      "divc = 80\n"
     ]
    }
   ],
   "source": [
    "for k in d2:\n",
    "    print(k,\"=\",d2[k])\n",
    "print('_______________')\n",
    "for k in d2.keys():\n",
    "    print(k,\"=\",d2[k])"
   ]
  },
  {
   "cell_type": "code",
   "execution_count": 39,
   "id": "822368df",
   "metadata": {},
   "outputs": [
    {
     "name": "stdout",
     "output_type": "stream",
     "text": [
      "div = 60\n",
      "divb = 70\n",
      "divc = 80\n"
     ]
    }
   ],
   "source": [
    "for k,v in d2.items():\n",
    "    print(k,\"=\",v)"
   ]
  },
  {
   "cell_type": "code",
   "execution_count": 1,
   "id": "d02c6e30",
   "metadata": {},
   "outputs": [
    {
     "data": {
      "text/plain": [
       "{'divA': 20, 'divB': 30}"
      ]
     },
     "execution_count": 1,
     "metadata": {},
     "output_type": "execute_result"
    }
   ],
   "source": [
    "#merge\n",
    "d3={'divA':20,'divB':30}\n",
    "d3\n"
   ]
  },
  {
   "cell_type": "code",
   "execution_count": 3,
   "id": "3fd3dd66",
   "metadata": {},
   "outputs": [],
   "source": [
    "d2={'divC':50,'divA':90}"
   ]
  },
  {
   "cell_type": "code",
   "execution_count": 5,
   "id": "056610c3",
   "metadata": {},
   "outputs": [
    {
     "data": {
      "text/plain": [
       "{'divC': 50, 'divA': 90}"
      ]
     },
     "execution_count": 5,
     "metadata": {},
     "output_type": "execute_result"
    }
   ],
   "source": [
    "d2"
   ]
  },
  {
   "cell_type": "code",
   "execution_count": 8,
   "id": "64fa4b34",
   "metadata": {},
   "outputs": [],
   "source": [
    "d3.update(d2)#merging"
   ]
  },
  {
   "cell_type": "code",
   "execution_count": 7,
   "id": "64bee95f",
   "metadata": {},
   "outputs": [
    {
     "data": {
      "text/plain": [
       "{'divA': 90, 'divB': 30, 'divC': 50}"
      ]
     },
     "execution_count": 7,
     "metadata": {},
     "output_type": "execute_result"
    }
   ],
   "source": [
    "d3"
   ]
  },
  {
   "cell_type": "code",
   "execution_count": 9,
   "id": "0d895b23",
   "metadata": {},
   "outputs": [
    {
     "data": {
      "text/plain": [
       "3"
      ]
     },
     "execution_count": 9,
     "metadata": {},
     "output_type": "execute_result"
    }
   ],
   "source": [
    "len(d3)"
   ]
  },
  {
   "cell_type": "code",
   "execution_count": 10,
   "id": "d8db5ad1",
   "metadata": {},
   "outputs": [],
   "source": [
    "d3['stdD']=90"
   ]
  },
  {
   "cell_type": "code",
   "execution_count": 11,
   "id": "593ee976",
   "metadata": {},
   "outputs": [],
   "source": [
    "d3['classC']=78"
   ]
  },
  {
   "cell_type": "code",
   "execution_count": 12,
   "id": "e81962ef",
   "metadata": {},
   "outputs": [
    {
     "data": {
      "text/plain": [
       "{'divA': 90, 'divB': 30, 'divC': 50, 'stdD': 90, 'classC': 78}"
      ]
     },
     "execution_count": 12,
     "metadata": {},
     "output_type": "execute_result"
    }
   ],
   "source": [
    "d3"
   ]
  },
  {
   "cell_type": "code",
   "execution_count": 14,
   "id": "2d2a8066",
   "metadata": {},
   "outputs": [
    {
     "data": {
      "text/plain": [
       "'stdD'"
      ]
     },
     "execution_count": 14,
     "metadata": {},
     "output_type": "execute_result"
    }
   ],
   "source": [
    "max(d3)#maxof key"
   ]
  },
  {
   "cell_type": "code",
   "execution_count": 15,
   "id": "e9adc956",
   "metadata": {},
   "outputs": [
    {
     "data": {
      "text/plain": [
       "'divA'"
      ]
     },
     "execution_count": 15,
     "metadata": {},
     "output_type": "execute_result"
    }
   ],
   "source": [
    "#max of values(key)\n",
    "max(d3,key=d3.get)"
   ]
  },
  {
   "cell_type": "code",
   "execution_count": 22,
   "id": "84da9a49",
   "metadata": {},
   "outputs": [],
   "source": [
    "def getMaxValue(k):\n",
    "        return k[1]"
   ]
  },
  {
   "cell_type": "code",
   "execution_count": 20,
   "id": "9c7e3c8f",
   "metadata": {},
   "outputs": [
    {
     "data": {
      "text/plain": [
       "'stdD'"
      ]
     },
     "execution_count": 20,
     "metadata": {},
     "output_type": "execute_result"
    }
   ],
   "source": [
    "max(d3,key=lambda k:k[1])"
   ]
  },
  {
   "cell_type": "code",
   "execution_count": 25,
   "id": "5a081ca8",
   "metadata": {
    "scrolled": true
   },
   "outputs": [
    {
     "ename": "NameError",
     "evalue": "name 'self' is not defined",
     "output_type": "error",
     "traceback": [
      "\u001b[1;31m---------------------------------------------------------------------------\u001b[0m",
      "\u001b[1;31mNameError\u001b[0m                                 Traceback (most recent call last)",
      "Input \u001b[1;32mIn [25]\u001b[0m, in \u001b[0;36m<module>\u001b[1;34m\u001b[0m\n\u001b[1;32m----> 1\u001b[0m \u001b[38;5;28mmax\u001b[39m(d3,key\u001b[38;5;241m=\u001b[39mgetMaxValue(\u001b[38;5;28;43mself\u001b[39;49m))\n",
      "\u001b[1;31mNameError\u001b[0m: name 'self' is not defined"
     ]
    }
   ],
   "source": [
    "max(d3,key=getMaxValue(self))"
   ]
  },
  {
   "cell_type": "code",
   "execution_count": 27,
   "id": "85b99db6",
   "metadata": {},
   "outputs": [
    {
     "data": {
      "text/plain": [
       "{'divC': 50, 'divA': 90}"
      ]
     },
     "execution_count": 27,
     "metadata": {},
     "output_type": "execute_result"
    }
   ],
   "source": [
    "#clone-new copy\n",
    "d4=d2\n",
    "d4"
   ]
  },
  {
   "cell_type": "code",
   "execution_count": 28,
   "id": "638032d3",
   "metadata": {},
   "outputs": [
    {
     "data": {
      "text/plain": [
       "90"
      ]
     },
     "execution_count": 28,
     "metadata": {},
     "output_type": "execute_result"
    }
   ],
   "source": [
    "d2.pop('divA')"
   ]
  },
  {
   "cell_type": "code",
   "execution_count": 29,
   "id": "765b61f6",
   "metadata": {},
   "outputs": [
    {
     "data": {
      "text/plain": [
       "{'divC': 50}"
      ]
     },
     "execution_count": 29,
     "metadata": {},
     "output_type": "execute_result"
    }
   ],
   "source": [
    "d4"
   ]
  },
  {
   "cell_type": "code",
   "execution_count": 30,
   "id": "93289dc5",
   "metadata": {},
   "outputs": [],
   "source": [
    "dcp=d2.copy()"
   ]
  },
  {
   "cell_type": "code",
   "execution_count": 31,
   "id": "21e84537",
   "metadata": {},
   "outputs": [
    {
     "data": {
      "text/plain": [
       "{'divC': 50}"
      ]
     },
     "execution_count": 31,
     "metadata": {},
     "output_type": "execute_result"
    }
   ],
   "source": [
    "dcp"
   ]
  },
  {
   "cell_type": "code",
   "execution_count": 32,
   "id": "aa37d79a",
   "metadata": {},
   "outputs": [
    {
     "data": {
      "text/plain": [
       "2351695760256"
      ]
     },
     "execution_count": 32,
     "metadata": {},
     "output_type": "execute_result"
    }
   ],
   "source": [
    "id(dcp)"
   ]
  },
  {
   "cell_type": "code",
   "execution_count": 33,
   "id": "f0ea19d5",
   "metadata": {},
   "outputs": [
    {
     "data": {
      "text/plain": [
       "2351666911744"
      ]
     },
     "execution_count": 33,
     "metadata": {},
     "output_type": "execute_result"
    }
   ],
   "source": [
    "id(d2)"
   ]
  },
  {
   "cell_type": "code",
   "execution_count": 34,
   "id": "cf5bc3f3",
   "metadata": {},
   "outputs": [
    {
     "data": {
      "text/plain": [
       "2351666911744"
      ]
     },
     "execution_count": 34,
     "metadata": {},
     "output_type": "execute_result"
    }
   ],
   "source": [
    "id(d4)"
   ]
  },
  {
   "cell_type": "code",
   "execution_count": 35,
   "id": "93912ce4",
   "metadata": {},
   "outputs": [
    {
     "name": "stdout",
     "output_type": "stream",
     "text": [
      "{'pune': 2, 'mumbai': 1, 'nasik': 1}\n"
     ]
    }
   ],
   "source": [
    "cities=['pune','pune','mumbai','nasik']\n",
    "city={}\n",
    "for i in cities:\n",
    "    if(i in city):\n",
    "        city[i]+=1\n",
    "    else:\n",
    "        city[i]=1\n",
    "print (city)"
   ]
  },
  {
   "cell_type": "code",
   "execution_count": 37,
   "id": "723a93ec",
   "metadata": {},
   "outputs": [
    {
     "name": "stdout",
     "output_type": "stream",
     "text": [
      "{'pune': 2, 'mumbai': 1, 'nasik': 1}\n"
     ]
    }
   ],
   "source": [
    "#logic 2\n",
    "empty={}\n",
    "for key in cities:\n",
    "    if key not in empty:\n",
    "         empty[key]=cities.count(key)\n",
    "print(empty)\n",
    "    \n",
    "    "
   ]
  },
  {
   "cell_type": "code",
   "execution_count": 41,
   "id": "3518565e",
   "metadata": {},
   "outputs": [
    {
     "name": "stdout",
     "output_type": "stream",
     "text": [
      "['mumbai', 'nasik', 'pune']\n"
     ]
    }
   ],
   "source": [
    "s=sorted(empty)\n",
    "print(s)"
   ]
  },
  {
   "cell_type": "code",
   "execution_count": 42,
   "id": "db644173",
   "metadata": {},
   "outputs": [
    {
     "data": {
      "text/plain": [
       "{'pune': 2, 'mumbai': 1, 'nasik': 1}"
      ]
     },
     "execution_count": 42,
     "metadata": {},
     "output_type": "execute_result"
    }
   ],
   "source": [
    "empty"
   ]
  },
  {
   "cell_type": "code",
   "execution_count": 51,
   "id": "f22b8609",
   "metadata": {},
   "outputs": [
    {
     "data": {
      "text/plain": [
       "[('mumbai', 1), ('nasik', 1), ('pune', 2)]"
      ]
     },
     "execution_count": 51,
     "metadata": {},
     "output_type": "execute_result"
    }
   ],
   "source": [
    "#sorting\n",
    "sorted(empty.items())"
   ]
  },
  {
   "cell_type": "code",
   "execution_count": 50,
   "id": "a726281e",
   "metadata": {
    "scrolled": true
   },
   "outputs": [
    {
     "data": {
      "text/plain": [
       "['pune', 'mumbai', 'nasik']"
      ]
     },
     "execution_count": 50,
     "metadata": {},
     "output_type": "execute_result"
    }
   ],
   "source": [
    "sorted(empty,key=empty.get,reverse=True)"
   ]
  },
  {
   "cell_type": "code",
   "execution_count": 66,
   "id": "b25df79e",
   "metadata": {},
   "outputs": [
    {
     "data": {
      "text/plain": [
       "{'A': 30, 'B': 60}"
      ]
     },
     "execution_count": 66,
     "metadata": {},
     "output_type": "execute_result"
    }
   ],
   "source": [
    "d1:{'A':30,'B':60}\n",
    "d1\n"
   ]
  },
  {
   "cell_type": "code",
   "execution_count": 67,
   "id": "9bfaf4cb",
   "metadata": {},
   "outputs": [
    {
     "data": {
      "text/plain": [
       "{'C': 89, 'D': 70}"
      ]
     },
     "execution_count": 67,
     "metadata": {},
     "output_type": "execute_result"
    }
   ],
   "source": [
    "d2:{'C':89,'D':70}\n",
    "d2"
   ]
  },
  {
   "cell_type": "code",
   "execution_count": 54,
   "id": "b672c409",
   "metadata": {},
   "outputs": [
    {
     "data": {
      "text/plain": [
       "{'G': 67, 'H': 80}"
      ]
     },
     "execution_count": 54,
     "metadata": {},
     "output_type": "execute_result"
    }
   ],
   "source": [
    "d3:{'G':67,'H':80}\n",
    "d3"
   ]
  },
  {
   "cell_type": "code",
   "execution_count": 68,
   "id": "b36ede33",
   "metadata": {},
   "outputs": [
    {
     "name": "stdout",
     "output_type": "stream",
     "text": [
      "dict_keys(['first', 'second', 'third'])\n",
      "dict_values([{'A': 30, 'B': 60}, {'C': 89, 'D': 70}, {'G': 67, 'H': 80}])\n"
     ]
    }
   ],
   "source": [
    "d4:{'first':d1,'second':d2,'third':d3}\n",
    "d4\n",
    "print(d4.keys())\n",
    "print(d4.values())"
   ]
  },
  {
   "cell_type": "code",
   "execution_count": null,
   "id": "70b8a6e7",
   "metadata": {},
   "outputs": [],
   "source": []
  },
  {
   "cell_type": "code",
   "execution_count": 70,
   "id": "cb0d92ee",
   "metadata": {},
   "outputs": [
    {
     "data": {
      "text/plain": [
       "{'d1': {'A': 30, 'B': 60}, 'd2': {'C': 89, 'D': 70}, 'd3': {'G': 67, 'H': 80}}"
      ]
     },
     "execution_count": 70,
     "metadata": {},
     "output_type": "execute_result"
    }
   ],
   "source": [
    "maind={'d1':{'A':30,'B':60},\n",
    "        'd2':{'C':89,'D':70},\n",
    "        'd3':{'G':67,'H':80}\n",
    "      }\n",
    "maind"
   ]
  },
  {
   "cell_type": "code",
   "execution_count": 76,
   "id": "50a2adf5",
   "metadata": {},
   "outputs": [
    {
     "name": "stdout",
     "output_type": "stream",
     "text": [
      "d1  has value\n",
      "A = 30\n",
      "B = 60\n",
      "d2  has value\n",
      "C = 89\n",
      "D = 70\n",
      "d3  has value\n",
      "G = 67\n",
      "H = 80\n"
     ]
    }
   ],
   "source": [
    "for k,vdic in maind.items():\n",
    "    print(k,' has value')\n",
    "    for k1,v1 in vdic.items():\n",
    "        print(k1,'=',vdic[k1])"
   ]
  },
  {
   "cell_type": "code",
   "execution_count": 69,
   "id": "51b80036",
   "metadata": {},
   "outputs": [
    {
     "ename": "ValueError",
     "evalue": "too many values to unpack (expected 2)",
     "output_type": "error",
     "traceback": [
      "\u001b[1;31m---------------------------------------------------------------------------\u001b[0m",
      "\u001b[1;31mValueError\u001b[0m                                Traceback (most recent call last)",
      "Input \u001b[1;32mIn [69]\u001b[0m, in \u001b[0;36m<module>\u001b[1;34m\u001b[0m\n\u001b[1;32m----> 1\u001b[0m \u001b[38;5;28;01mfor\u001b[39;00m k,v \u001b[38;5;129;01min\u001b[39;00m d4:\n\u001b[0;32m      2\u001b[0m     \u001b[38;5;28mprint\u001b[39m(\u001b[38;5;124m'\u001b[39m\u001b[38;5;124mFrom\u001b[39m\u001b[38;5;124m'\u001b[39m,k,)\n\u001b[0;32m      3\u001b[0m     \u001b[38;5;28mprint\u001b[39m(\u001b[38;5;124m'\u001b[39m\u001b[38;5;124mvalues:\u001b[39m\u001b[38;5;124m'\u001b[39m,d4[k])\n",
      "\u001b[1;31mValueError\u001b[0m: too many values to unpack (expected 2)"
     ]
    }
   ],
   "source": [
    "for k,v in d4:\n",
    "    print('From',k,)\n",
    "    print('values:',d4[k])\n",
    "    print('values: ',v)\n",
    "    print('___________________')\n",
    "    \n",
    "    \n",
    "    "
   ]
  },
  {
   "cell_type": "code",
   "execution_count": null,
   "id": "716cc492",
   "metadata": {},
   "outputs": [],
   "source": []
  },
  {
   "cell_type": "code",
   "execution_count": null,
   "id": "d5a54aca",
   "metadata": {},
   "outputs": [],
   "source": []
  }
 ],
 "metadata": {
  "kernelspec": {
   "display_name": "Python 3 (ipykernel)",
   "language": "python",
   "name": "python3"
  },
  "language_info": {
   "codemirror_mode": {
    "name": "ipython",
    "version": 3
   },
   "file_extension": ".py",
   "mimetype": "text/x-python",
   "name": "python",
   "nbconvert_exporter": "python",
   "pygments_lexer": "ipython3",
   "version": "3.9.7"
  }
 },
 "nbformat": 4,
 "nbformat_minor": 5
}
