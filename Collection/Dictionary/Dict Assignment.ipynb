{
 "cells": [
  {
   "cell_type": "code",
   "execution_count": 6,
   "id": "971691f4",
   "metadata": {},
   "outputs": [
    {
     "name": "stdout",
     "output_type": "stream",
     "text": [
      "{'a': 100, 'b': 200, 'd': 400, 'c': 300}\n"
     ]
    }
   ],
   "source": [
    "#write a python program to combine two dictionary adding values for common keys \n",
    "d1={'a':100,'b':200,'c':300}\n",
    "d2={'a':300,'b':200,'d':400}\n",
    "for key in d2:\n",
    "    if key in d1:\n",
    "        d2[key] = d2[key] + d1[key]\n",
    "    else:\n",
    "        pass\n",
    "res=d2|d1\n",
    "print(res)"
   ]
  },
  {
   "cell_type": "code",
   "execution_count": 23,
   "id": "8135e0d6",
   "metadata": {},
   "outputs": [
    {
     "name": "stdout",
     "output_type": "stream",
     "text": [
      "{'V': 'S009', 'VI': 'S005', 'VII': 'S005', 'VIII': 'S007'}\n",
      "dict_values(['S009', 'S005', 'S005', 'S007'])\n"
     ]
    }
   ],
   "source": [
    "#write a python program to print all unique elements values in a dictionary\n",
    "lst=[{'V': 'S001'}, {'V': 'S002'}, {'VI': 'S001'}, {'VI': 'S005'}, {'VII': 'S005'}, {'V': 'S009'},\n",
    "{'VIII': 'S007'}]\n",
    "o=[]\n",
    "for i in lst:\n",
    "    if i not in o:\n",
    "        o.append(i)\n",
    "d1={}\n",
    "for i in o:\n",
    "    d1.update(i)\n",
    "print(d1)\n",
    "print(d1.values())"
   ]
  },
  {
   "cell_type": "code",
   "execution_count": 28,
   "id": "4e7b7417",
   "metadata": {},
   "outputs": [
    {
     "name": "stdout",
     "output_type": "stream",
     "text": [
      "{'w': 1, '3': 1, 'r': 2, 'e': 2, 's': 2, 'o': 1, 'u': 1}\n"
     ]
    }
   ],
   "source": [
    "'''\n",
    "Write a Python program to create a dictionary from a string.\n",
    " Track the count of the letters from the string.\n",
    "Sample string : 'w3resource'\n",
    "Expected output: {'3': 1, 's': 1, 'r': 2, 'u': 1, 'w': 1, 'c': 1, 'e': 2, 'o': 1}\n",
    "'''\n",
    "st = 'w3resourse'\n",
    "d= {} \n",
    "for ch in st:\n",
    "    if ch in d: \n",
    "        d[ch] += 1\n",
    "    else:\n",
    "        d[ch] = 1 \n",
    "print(d)"
   ]
  },
  {
   "cell_type": "code",
   "execution_count": 29,
   "id": "597881ad",
   "metadata": {},
   "outputs": [
    {
     "name": "stdout",
     "output_type": "stream",
     "text": [
      "Math\n"
     ]
    }
   ],
   "source": [
    "'''4.  Merge following two Python dictionaries into one.\n",
    "Get the key corresponding to the minimum value from the following dictionary\n",
    "sampleDict = {  'Physics': 82,  'Math': 65,  'history': 75}\n",
    "Expected output:  Math'''\n",
    "sampleDict = {  'Physics': 82,  'Math': 65,  'history': 75}\n",
    "print(min(sampleDict,key=sampleDict.get))"
   ]
  },
  {
   "cell_type": "code",
   "execution_count": 7,
   "id": "84e04aff",
   "metadata": {},
   "outputs": [
    {
     "name": "stdout",
     "output_type": "stream",
     "text": [
      "{'python': 100, 'java': 200, 'for': 325}\n"
     ]
    }
   ],
   "source": [
    "\n",
    "'''Combine two dictionary adding values for common keys\n",
    "Input: dict1 = {'a': 12, 'for': 25, 'c': 9}\n",
    "dict2 = {'python': 100, 'java': 200, 'for': 300}\n",
    "Output: {'for': 325, 'python': 100, 'java': 200}\n",
    "'''\n",
    "dict1 = {'a': 12, 'for': 25, 'c': 9}\n",
    "dict2 = {'python': 100, 'java': 200, 'for': 300}\n",
    "for key in dict2:\n",
    "    if key in dict1:\n",
    "        dict2[key] = dict2[key] + dict1[key]\n",
    "    else:\n",
    "        pass\n",
    "res=dict2\n",
    "print(res)"
   ]
  },
  {
   "cell_type": "code",
   "execution_count": 20,
   "id": "07d73c6c",
   "metadata": {},
   "outputs": [],
   "source": [
    "from operator import itemgetter\n"
   ]
  },
  {
   "cell_type": "code",
   "execution_count": 40,
   "id": "37379a59",
   "metadata": {},
   "outputs": [
    {
     "name": "stdout",
     "output_type": "stream",
     "text": [
      "result {'Apple': 35, 'Mango': 13, 'Cherry': 5}\n"
     ]
    }
   ],
   "source": [
    "'''\n",
    "dict1={101:{“Apple” :10, “Mango” :5 },\n",
    "            102 :{“Apple” :15, “Mango” :8, “Cherry” :5 },\n",
    "            103: {“Apple” :10} }\n",
    "Output\n",
    "Dict2= {“ Apple” :35, “Mango” :13, “Cherry” :5 }\n",
    "'''\n",
    "\n",
    "dict1={101:{'Apple' :10, 'Mango' :5 },\n",
    "            102 :{'Apple' :15, 'Mango' :8, 'Cherry' :5 },\n",
    "            103: {'Apple' :10} }\n",
    "result = {}\n",
    "for k in dict1:\n",
    "    for k1 in dict1[k].keys():\n",
    "        if k1 in result:\n",
    "            result[k1]+=dict1[k][k1]\n",
    "        else:\n",
    "            result[k1]=dict1[k][k1]\n",
    "print('result',result)\n",
    "       "
   ]
  },
  {
   "cell_type": "code",
   "execution_count": null,
   "id": "2fdc5f7e",
   "metadata": {},
   "outputs": [],
   "source": []
  }
 ],
 "metadata": {
  "kernelspec": {
   "display_name": "Python 3 (ipykernel)",
   "language": "python",
   "name": "python3"
  },
  "language_info": {
   "codemirror_mode": {
    "name": "ipython",
    "version": 3
   },
   "file_extension": ".py",
   "mimetype": "text/x-python",
   "name": "python",
   "nbconvert_exporter": "python",
   "pygments_lexer": "ipython3",
   "version": "3.9.7"
  }
 },
 "nbformat": 4,
 "nbformat_minor": 5
}
