{
 "cells": [
  {
   "cell_type": "code",
   "execution_count": 2,
   "id": "0739e6ce",
   "metadata": {},
   "outputs": [],
   "source": [
    "import findspark\n",
    "findspark.init()"
   ]
  },
  {
   "cell_type": "code",
   "execution_count": 3,
   "id": "3a9cf1e7",
   "metadata": {},
   "outputs": [],
   "source": [
    "import pyspark\n",
    "from pyspark.sql import SparkSession"
   ]
  },
  {
   "cell_type": "code",
   "execution_count": 5,
   "id": "d481b918",
   "metadata": {},
   "outputs": [],
   "source": [
    "spark=SparkSession.builder.appName('ItemsApp').getOrCreate()"
   ]
  },
  {
   "cell_type": "code",
   "execution_count": 125,
   "id": "5321a9b5",
   "metadata": {},
   "outputs": [],
   "source": [
    "df=spark.read.csv('d:\\\\item_details.csv',header=True,inferSchema=True)"
   ]
  },
  {
   "cell_type": "code",
   "execution_count": 6,
   "id": "b4991770",
   "metadata": {},
   "outputs": [
    {
     "data": {
      "text/html": [
       "\n",
       "            <div>\n",
       "                <p><b>SparkSession - in-memory</b></p>\n",
       "                \n",
       "        <div>\n",
       "            <p><b>SparkContext</b></p>\n",
       "\n",
       "            <p><a href=\"http://LAPTOP-403SC8Q4:4040\">Spark UI</a></p>\n",
       "\n",
       "            <dl>\n",
       "              <dt>Version</dt>\n",
       "                <dd><code>v3.2.1</code></dd>\n",
       "              <dt>Master</dt>\n",
       "                <dd><code>local[*]</code></dd>\n",
       "              <dt>AppName</dt>\n",
       "                <dd><code>ItemsApp</code></dd>\n",
       "            </dl>\n",
       "        </div>\n",
       "        \n",
       "            </div>\n",
       "        "
      ],
      "text/plain": [
       "<pyspark.sql.session.SparkSession at 0x1d9d19e4d60>"
      ]
     },
     "execution_count": 6,
     "metadata": {},
     "output_type": "execute_result"
    }
   ],
   "source": [
    "spark"
   ]
  },
  {
   "cell_type": "code",
   "execution_count": 7,
   "id": "0b0e7717",
   "metadata": {},
   "outputs": [
    {
     "data": {
      "text/plain": [
       "DataFrame[itemid: string, itemname : string, itemcost: string, supplier: string, grade: string, qty: string]"
      ]
     },
     "execution_count": 7,
     "metadata": {},
     "output_type": "execute_result"
    }
   ],
   "source": [
    "df"
   ]
  },
  {
   "cell_type": "code",
   "execution_count": 56,
   "id": "7ad5247b",
   "metadata": {},
   "outputs": [
    {
     "name": "stdout",
     "output_type": "stream",
     "text": [
      "+------+---------+--------+--------+-----+----+\n",
      "|itemid|itemname |itemcost|supplier|grade| qty|\n",
      "+------+---------+--------+--------+-----+----+\n",
      "|     8|    chalk|   65.76|       X|    A|   2|\n",
      "|    12|   Pencil|    null|       Y|    B|   3|\n",
      "|    13|      Pen|    43.0|       X|    A|   5|\n",
      "|    15|   Duster|    54.0|       Y|    C|   1|\n",
      "|    23|    Scale|    10.0|    null|    A|   2|\n",
      "|    34|     null|    null|    null| null|null|\n",
      "+------+---------+--------+--------+-----+----+\n",
      "\n"
     ]
    }
   ],
   "source": [
    "df.show()"
   ]
  },
  {
   "cell_type": "code",
   "execution_count": 9,
   "id": "94120d03",
   "metadata": {},
   "outputs": [],
   "source": [
    "d1=spark.read.option('header','true').csv('d:\\\\item_details.csv')"
   ]
  },
  {
   "cell_type": "code",
   "execution_count": 11,
   "id": "5a22689d",
   "metadata": {},
   "outputs": [
    {
     "name": "stdout",
     "output_type": "stream",
     "text": [
      "+------+---------+--------+--------+-----+----+\n",
      "|itemid|itemname |itemcost|supplier|grade| qty|\n",
      "+------+---------+--------+--------+-----+----+\n",
      "|     8|    chalk|   65.76|       X|    A|   2|\n",
      "|    12|   Pencil|    null|       Y|    B|   3|\n",
      "|    13|      Pen|      43|       X|    A|   5|\n",
      "|    15|   Duster|      54|       Y|    C|   1|\n",
      "|    23|    Scale|      10|    null|    A|   2|\n",
      "|    34|     null|      60|    null| null|null|\n",
      "+------+---------+--------+--------+-----+----+\n",
      "\n"
     ]
    }
   ],
   "source": [
    "d1.show()"
   ]
  },
  {
   "cell_type": "code",
   "execution_count": 12,
   "id": "7eea718d",
   "metadata": {},
   "outputs": [
    {
     "data": {
      "text/plain": [
       "['itemid', 'itemname ', 'itemcost', 'supplier', 'grade', 'qty']"
      ]
     },
     "execution_count": 12,
     "metadata": {},
     "output_type": "execute_result"
    }
   ],
   "source": [
    "d1.columns"
   ]
  },
  {
   "cell_type": "code",
   "execution_count": 15,
   "id": "ed145c3c",
   "metadata": {},
   "outputs": [
    {
     "data": {
      "text/plain": [
       "[Row(itemid='8', itemname ='chalk', itemcost='65.76', supplier='X', grade='A', qty='2'),\n",
       " Row(itemid='12', itemname ='Pencil', itemcost=None, supplier='Y', grade='B', qty='3')]"
      ]
     },
     "execution_count": 15,
     "metadata": {},
     "output_type": "execute_result"
    }
   ],
   "source": [
    "d1.head(2)"
   ]
  },
  {
   "cell_type": "code",
   "execution_count": 17,
   "id": "136e448f",
   "metadata": {},
   "outputs": [
    {
     "name": "stdout",
     "output_type": "stream",
     "text": [
      "+------+\n",
      "|itemid|\n",
      "+------+\n",
      "|     8|\n",
      "|    12|\n",
      "|    13|\n",
      "|    15|\n",
      "|    23|\n",
      "|    34|\n",
      "+------+\n",
      "\n"
     ]
    }
   ],
   "source": [
    "df.select('itemid').show()"
   ]
  },
  {
   "cell_type": "code",
   "execution_count": 20,
   "id": "574eceea",
   "metadata": {},
   "outputs": [
    {
     "name": "stdout",
     "output_type": "stream",
     "text": [
      "+------+--------+----+\n",
      "|itemid|itemcost| qty|\n",
      "+------+--------+----+\n",
      "|     8|   65.76|   2|\n",
      "|    12|    null|   3|\n",
      "|    13|      43|   5|\n",
      "|    15|      54|   1|\n",
      "|    23|      10|   2|\n",
      "|    34|      60|null|\n",
      "+------+--------+----+\n",
      "\n"
     ]
    }
   ],
   "source": [
    "df.select('itemid','itemcost','qty').show()"
   ]
  },
  {
   "cell_type": "code",
   "execution_count": 29,
   "id": "d70fc367",
   "metadata": {},
   "outputs": [
    {
     "data": {
      "text/plain": [
       "[('itemid', 'int'),\n",
       " ('itemname ', 'string'),\n",
       " ('itemcost', 'double'),\n",
       " ('supplier', 'string'),\n",
       " ('grade', 'string'),\n",
       " ('qty', 'int')]"
      ]
     },
     "execution_count": 29,
     "metadata": {},
     "output_type": "execute_result"
    }
   ],
   "source": [
    "df.dtypes"
   ]
  },
  {
   "cell_type": "code",
   "execution_count": 24,
   "id": "80d4be91",
   "metadata": {},
   "outputs": [
    {
     "data": {
      "text/plain": [
       "DataFrame[itemid: string, itemname : string, itemcost: string, supplier: string, grade: string, qty: string]"
      ]
     },
     "execution_count": 24,
     "metadata": {},
     "output_type": "execute_result"
    }
   ],
   "source": [
    "df"
   ]
  },
  {
   "cell_type": "code",
   "execution_count": 30,
   "id": "6a31f5ba",
   "metadata": {},
   "outputs": [
    {
     "name": "stdout",
     "output_type": "stream",
     "text": [
      "root\n",
      " |-- itemid: integer (nullable = true)\n",
      " |-- itemname : string (nullable = true)\n",
      " |-- itemcost: double (nullable = true)\n",
      " |-- supplier: string (nullable = true)\n",
      " |-- grade: string (nullable = true)\n",
      " |-- qty: integer (nullable = true)\n",
      "\n"
     ]
    }
   ],
   "source": [
    "df.printSchema()"
   ]
  },
  {
   "cell_type": "code",
   "execution_count": 57,
   "id": "8868ffeb",
   "metadata": {},
   "outputs": [],
   "source": [
    "#creating a new column\n",
    "d2=df.withColumn('Bill',df['itemcost']*df['qty'])"
   ]
  },
  {
   "cell_type": "code",
   "execution_count": 32,
   "id": "b045fd34",
   "metadata": {},
   "outputs": [
    {
     "name": "stdout",
     "output_type": "stream",
     "text": [
      "+------+---------+--------+--------+-----+----+------+\n",
      "|itemid|itemname |itemcost|supplier|grade| qty|  Bill|\n",
      "+------+---------+--------+--------+-----+----+------+\n",
      "|     8|    chalk|   65.76|       X|    A|   2|131.52|\n",
      "|    12|   Pencil|    null|       Y|    B|   3|  null|\n",
      "|    13|      Pen|    43.0|       X|    A|   5| 215.0|\n",
      "|    15|   Duster|    54.0|       Y|    C|   1|  54.0|\n",
      "|    23|    Scale|    10.0|    null|    A|   2|  20.0|\n",
      "|    34|     null|    60.0|    null| null|null|  null|\n",
      "+------+---------+--------+--------+-----+----+------+\n",
      "\n"
     ]
    }
   ],
   "source": [
    "d2.show()"
   ]
  },
  {
   "cell_type": "code",
   "execution_count": 58,
   "id": "a4bb2878",
   "metadata": {},
   "outputs": [
    {
     "name": "stdout",
     "output_type": "stream",
     "text": [
      "+------+---------+--------+--------+-----+--------+\n",
      "|itemid|itemname |itemcost|supplier|grade|Quantity|\n",
      "+------+---------+--------+--------+-----+--------+\n",
      "|     8|    chalk|   65.76|       X|    A|       2|\n",
      "|    12|   Pencil|    null|       Y|    B|       3|\n",
      "|    13|      Pen|    43.0|       X|    A|       5|\n",
      "|    15|   Duster|    54.0|       Y|    C|       1|\n",
      "|    23|    Scale|    10.0|    null|    A|       2|\n",
      "|    34|     null|    null|    null| null|    null|\n",
      "+------+---------+--------+--------+-----+--------+\n",
      "\n"
     ]
    }
   ],
   "source": [
    "#rename column name\n",
    "df.withColumnRenamed('qty','Quantity').show()"
   ]
  },
  {
   "cell_type": "code",
   "execution_count": 59,
   "id": "b8abc9d8",
   "metadata": {},
   "outputs": [
    {
     "data": {
      "text/plain": [
       "6"
      ]
     },
     "execution_count": 59,
     "metadata": {},
     "output_type": "execute_result"
    }
   ],
   "source": [
    "d2.count()"
   ]
  },
  {
   "cell_type": "code",
   "execution_count": 60,
   "id": "77933fc4",
   "metadata": {},
   "outputs": [
    {
     "name": "stdout",
     "output_type": "stream",
     "text": [
      "+------+---------+--------+--------+-----+----+\n",
      "|itemid|itemname |itemcost|supplier|grade| qty|\n",
      "+------+---------+--------+--------+-----+----+\n",
      "|     8|    chalk|   65.76|       X|    A|   2|\n",
      "|    12|   Pencil|    null|       Y|    B|   3|\n",
      "|    13|      Pen|    43.0|       X|    A|   5|\n",
      "|    15|   Duster|    54.0|       Y|    C|   1|\n",
      "|    23|    Scale|    10.0|    null|    A|   2|\n",
      "|    34|     null|    null|    null| null|null|\n",
      "+------+---------+--------+--------+-----+----+\n",
      "\n"
     ]
    }
   ],
   "source": [
    "#column drop\n",
    "d2.drop('Bill').show()"
   ]
  },
  {
   "cell_type": "code",
   "execution_count": 42,
   "id": "22385dd1",
   "metadata": {},
   "outputs": [
    {
     "name": "stdout",
     "output_type": "stream",
     "text": [
      "+------+---------+--------+--------+-----+---+------+\n",
      "|itemid|itemname |itemcost|supplier|grade|qty|  Bill|\n",
      "+------+---------+--------+--------+-----+---+------+\n",
      "|     8|    chalk|   65.76|       X|    A|  2|131.52|\n",
      "|    13|      Pen|    43.0|       X|    A|  5| 215.0|\n",
      "|    15|   Duster|    54.0|       Y|    C|  1|  54.0|\n",
      "+------+---------+--------+--------+-----+---+------+\n",
      "\n"
     ]
    }
   ],
   "source": [
    "d2.na.drop(how='any').show()"
   ]
  },
  {
   "cell_type": "code",
   "execution_count": 44,
   "id": "f6b88b5c",
   "metadata": {},
   "outputs": [
    {
     "name": "stdout",
     "output_type": "stream",
     "text": [
      "+------+---------+--------+--------+-----+----+\n",
      "|itemid|itemname |itemcost|supplier|grade| qty|\n",
      "+------+---------+--------+--------+-----+----+\n",
      "|     8|    chalk|   65.76|       X|    A|   2|\n",
      "|    12|   Pencil|    null|       Y|    B|   3|\n",
      "|    13|      Pen|    43.0|       X|    A|   5|\n",
      "|    15|   Duster|    54.0|       Y|    C|   1|\n",
      "|    23|    Scale|    10.0|    null|    A|   2|\n",
      "|    34|     null|    60.0|    null| null|null|\n",
      "+------+---------+--------+--------+-----+----+\n",
      "\n"
     ]
    }
   ],
   "source": [
    "df.show()"
   ]
  },
  {
   "cell_type": "code",
   "execution_count": 53,
   "id": "92ce6077",
   "metadata": {},
   "outputs": [],
   "source": [
    "d4=df.na.fill(99999)"
   ]
  },
  {
   "cell_type": "code",
   "execution_count": 54,
   "id": "df9f6457",
   "metadata": {},
   "outputs": [
    {
     "name": "stdout",
     "output_type": "stream",
     "text": [
      "+------+---------+--------+--------+-----+-----+\n",
      "|itemid|itemname |itemcost|supplier|grade|  qty|\n",
      "+------+---------+--------+--------+-----+-----+\n",
      "|     8|    chalk|   65.76|       X|    A|    2|\n",
      "|    12|   Pencil| 99999.0|       Y|    B|    3|\n",
      "|    13|      Pen|    43.0|       X|    A|    5|\n",
      "|    15|   Duster|    54.0|       Y|    C|    1|\n",
      "|    23|    Scale|    10.0|    null|    A|    2|\n",
      "|    34|     null|    60.0|    null| null|99999|\n",
      "+------+---------+--------+--------+-----+-----+\n",
      "\n"
     ]
    }
   ],
   "source": [
    "d4.show()"
   ]
  },
  {
   "cell_type": "code",
   "execution_count": 61,
   "id": "8e42f77b",
   "metadata": {},
   "outputs": [
    {
     "name": "stdout",
     "output_type": "stream",
     "text": [
      "+------+---------+--------+--------+-----+----+\n",
      "|itemid|itemname |itemcost|supplier|grade| qty|\n",
      "+------+---------+--------+--------+-----+----+\n",
      "|     8|    chalk|   65.76|       X|    A|   2|\n",
      "|    12|   Pencil|    null|       Y|    B|   3|\n",
      "|    13|      Pen|    43.0|       X|    A|   5|\n",
      "|    15|   Duster|    54.0|       Y|    C|   1|\n",
      "|    23|    Scale|    10.0|    null|    A|   2|\n",
      "|    34|     null|    null|    null| null|null|\n",
      "+------+---------+--------+--------+-----+----+\n",
      "\n"
     ]
    }
   ],
   "source": [
    "df.show()"
   ]
  },
  {
   "cell_type": "code",
   "execution_count": 63,
   "id": "fc826587",
   "metadata": {},
   "outputs": [
    {
     "name": "stdout",
     "output_type": "stream",
     "text": [
      "+------+---------+--------+--------+-----+----+------+\n",
      "|itemid|itemname |itemcost|supplier|grade| qty|  Bill|\n",
      "+------+---------+--------+--------+-----+----+------+\n",
      "|     8|    chalk|   65.76|       X|    A|   2|131.52|\n",
      "|    12|   Pencil|    null|       Y|    B|   3|  null|\n",
      "|    13|      Pen|    43.0|       X|    A|   5| 215.0|\n",
      "|    15|   Duster|    54.0|       Y|    C|   1|  54.0|\n",
      "|    23|    Scale|    10.0|    null|    A|   2|  20.0|\n",
      "|    34|     null|    null|    null| null|null|  null|\n",
      "+------+---------+--------+--------+-----+----+------+\n",
      "\n"
     ]
    }
   ],
   "source": [
    "d2.show()"
   ]
  },
  {
   "cell_type": "code",
   "execution_count": 69,
   "id": "1c701a4b",
   "metadata": {
    "scrolled": true
   },
   "outputs": [
    {
     "name": "stdout",
     "output_type": "stream",
     "text": [
      "+------+---------+--------+--------+-----+---+------+\n",
      "|itemid|itemname |itemcost|supplier|grade|qty|  Bill|\n",
      "+------+---------+--------+--------+-----+---+------+\n",
      "|     8|    chalk|   65.76|       X|    A|  2|131.52|\n",
      "|    12|   Pencil|    null|       Y|    B|  3|  null|\n",
      "|    13|      Pen|    43.0|       X|    A|  5| 215.0|\n",
      "|    15|   Duster|    54.0|       Y|    C|  1|  54.0|\n",
      "|    23|    Scale|    10.0|    null|    A|  2|  20.0|\n",
      "+------+---------+--------+--------+-----+---+------+\n",
      "\n"
     ]
    }
   ],
   "source": [
    "d2.na.drop(how='any',thresh=2).show()"
   ]
  },
  {
   "cell_type": "code",
   "execution_count": 70,
   "id": "826d483b",
   "metadata": {},
   "outputs": [
    {
     "name": "stdout",
     "output_type": "stream",
     "text": [
      "+------+---------+--------+--------+-----+----+------+\n",
      "|itemid|itemname |itemcost|supplier|grade| qty|  Bill|\n",
      "+------+---------+--------+--------+-----+----+------+\n",
      "|     8|    chalk|   65.76|       X|    A|   2|131.52|\n",
      "|    12|   Pencil|    null|       Y|    B|   3|  null|\n",
      "|    13|      Pen|    43.0|       X|    A|   5| 215.0|\n",
      "|    15|   Duster|    54.0|       Y|    C|   1|  54.0|\n",
      "|    23|    Scale|    10.0|    null|    A|   2|  20.0|\n",
      "|    34|     null|    null|    null| null|null|  null|\n",
      "+------+---------+--------+--------+-----+----+------+\n",
      "\n"
     ]
    }
   ],
   "source": [
    "d2.na.drop(subset=['itemid']).show()"
   ]
  },
  {
   "cell_type": "code",
   "execution_count": 71,
   "id": "4c5834e7",
   "metadata": {},
   "outputs": [
    {
     "name": "stdout",
     "output_type": "stream",
     "text": [
      "+------+---------+--------+--------+-----+---+------+\n",
      "|itemid|itemname |itemcost|supplier|grade|qty|  Bill|\n",
      "+------+---------+--------+--------+-----+---+------+\n",
      "|     8|    chalk|   65.76|       X|    A|  2|131.52|\n",
      "|    12|   Pencil|    null|       Y|    B|  3|  null|\n",
      "|    13|      Pen|    43.0|       X|    A|  5| 215.0|\n",
      "|    15|   Duster|    54.0|       Y|    C|  1|  54.0|\n",
      "+------+---------+--------+--------+-----+---+------+\n",
      "\n"
     ]
    }
   ],
   "source": [
    "d2.na.drop(subset=['supplier']).show()"
   ]
  },
  {
   "cell_type": "code",
   "execution_count": 72,
   "id": "915d242c",
   "metadata": {},
   "outputs": [
    {
     "name": "stdout",
     "output_type": "stream",
     "text": [
      "+------+---------+--------+--------+-----+----+------+\n",
      "|itemid|itemname |itemcost|supplier|grade| qty|  Bill|\n",
      "+------+---------+--------+--------+-----+----+------+\n",
      "|     8|    chalk|   65.76|       X|    A|   2|131.52|\n",
      "|    12|   Pencil|     0.0|       Y|    B|   3|  null|\n",
      "|    13|      Pen|    43.0|       X|    A|   5| 215.0|\n",
      "|    15|   Duster|    54.0|       Y|    C|   1|  54.0|\n",
      "|    23|    Scale|    10.0|    null|    A|   2|  20.0|\n",
      "|    34|     null|     0.0|    null| null|null|  null|\n",
      "+------+---------+--------+--------+-----+----+------+\n",
      "\n"
     ]
    }
   ],
   "source": [
    "d2.na.fill(0,['itemcost']).show()"
   ]
  },
  {
   "cell_type": "code",
   "execution_count": 75,
   "id": "ec7b23f7",
   "metadata": {},
   "outputs": [
    {
     "name": "stdout",
     "output_type": "stream",
     "text": [
      "+------+---------+--------+--------+-----+---+------+\n",
      "|itemid|itemname |itemcost|supplier|grade|qty|  Bill|\n",
      "+------+---------+--------+--------+-----+---+------+\n",
      "|     8|    chalk|   65.76|       X|    A|  2|131.52|\n",
      "|    12|   Pencil|     0.0|       Y|    B|  3|   0.0|\n",
      "|    13|      Pen|    43.0|       X|    A|  5| 215.0|\n",
      "|    15|   Duster|    54.0|       Y|    C|  1|  54.0|\n",
      "|    23|    Scale|    10.0|    null|    A|  2|  20.0|\n",
      "|    34|     null|     0.0|    null| null|  0|   0.0|\n",
      "+------+---------+--------+--------+-----+---+------+\n",
      "\n"
     ]
    }
   ],
   "source": [
    "d2.na.fill(0,['itemcost','qty','Bill','supplier']).show()"
   ]
  },
  {
   "cell_type": "code",
   "execution_count": 76,
   "id": "1bed6f25",
   "metadata": {},
   "outputs": [],
   "source": [
    "d=spark.read.csv('d:\\\\employees.csv',header=True,inferSchema=True)"
   ]
  },
  {
   "cell_type": "code",
   "execution_count": 78,
   "id": "c2085289",
   "metadata": {},
   "outputs": [
    {
     "name": "stdout",
     "output_type": "stream",
     "text": [
      "+----------+------+----------+---------------+------+-------+-----------------+--------------------+\n",
      "|First Name|Gender|Start Date|Last Login Time|Salary|Bonus %|Senior Management|                Team|\n",
      "+----------+------+----------+---------------+------+-------+-----------------+--------------------+\n",
      "|   Douglas|  Male|08-06-1993|       12:42 PM| 97308|  6.945|             true|           Marketing|\n",
      "|    Thomas|  Male| 3/31/1996|        6:53 AM| 61933|   4.17|             true|                null|\n",
      "|     Maria|Female| 4/23/1993|       11:17 AM|  null| 11.858|            false|             Finance|\n",
      "|     Jerry|  Male|03-04-2005|        1:00 PM|138705|   null|             true|             Finance|\n",
      "|     Larry|  Male| 1/24/1998|        4:47 PM|  null|  1.389|             true|     Client Services|\n",
      "|    Dennis|  Male| 4/18/1987|        1:35 AM|115163| 10.125|            false|               Legal|\n",
      "|      Ruby|Female|      null|           null| 65476| 10.012|             true|             Product|\n",
      "|      null|Female| 7/20/2015|       10:43 AM|  null|   null|             null|             Finance|\n",
      "|    Angela|Female|      null|        6:29 AM| 95570|   null|             true|         Engineering|\n",
      "|   Frances|Female|      null|        6:51 AM|139852|  7.524|             true|Business Development|\n",
      "|    Louise|Female|08-12-1980|        9:01 AM| 63241| 15.132|             true|                null|\n",
      "|     Julie|Female|10/26/1997|        3:19 PM|102508| 12.637|             true|               Legal|\n",
      "|   Brandon|  Male|12-01-1980|        1:08 AM|112807| 17.492|             true|     Human Resources|\n",
      "|      Gary|  Male| 1/27/2008|       11:40 PM|109831|  5.831|            false|               Sales|\n",
      "|  Kimberly|Female| 1/14/1999|        7:13 AM| 41426| 14.543|             true|             Finance|\n",
      "|   Lillian|Female|06-05-2016|        6:09 AM| 59414|  1.256|            false|             Product|\n",
      "|    Jeremy|  Male| 9/21/2010|        5:56 AM| 90370|  7.369|            false|     Human Resources|\n",
      "|     Shawn|  Male|12-07-1986|        7:45 PM|111737|  6.414|            false|             Product|\n",
      "|     Diana|Female|10/23/1981|       10:27 AM|132940| 19.082|            false|     Client Services|\n",
      "|     Donna|Female| 7/22/2010|        3:48 AM| 81014|  1.894|            false|             Product|\n",
      "+----------+------+----------+---------------+------+-------+-----------------+--------------------+\n",
      "only showing top 20 rows\n",
      "\n"
     ]
    }
   ],
   "source": [
    "d.show()"
   ]
  },
  {
   "cell_type": "code",
   "execution_count": 79,
   "id": "443dca12",
   "metadata": {},
   "outputs": [
    {
     "data": {
      "text/plain": [
       "['First Name',\n",
       " 'Gender',\n",
       " 'Start Date',\n",
       " 'Last Login Time',\n",
       " 'Salary',\n",
       " 'Bonus %',\n",
       " 'Senior Management',\n",
       " 'Team']"
      ]
     },
     "execution_count": 79,
     "metadata": {},
     "output_type": "execute_result"
    }
   ],
   "source": [
    "d.columns"
   ]
  },
  {
   "cell_type": "code",
   "execution_count": 81,
   "id": "aeaa3c21",
   "metadata": {},
   "outputs": [
    {
     "data": {
      "text/plain": [
       "[('First Name', 'string'),\n",
       " ('Gender', 'string'),\n",
       " ('Start Date', 'string'),\n",
       " ('Last Login Time', 'string'),\n",
       " ('Salary', 'int'),\n",
       " ('Bonus %', 'double'),\n",
       " ('Senior Management', 'boolean'),\n",
       " ('Team', 'string')]"
      ]
     },
     "execution_count": 81,
     "metadata": {},
     "output_type": "execute_result"
    }
   ],
   "source": [
    "d.dtypes"
   ]
  },
  {
   "cell_type": "code",
   "execution_count": 82,
   "id": "cc244c09",
   "metadata": {},
   "outputs": [
    {
     "name": "stdout",
     "output_type": "stream",
     "text": [
      "root\n",
      " |-- First Name: string (nullable = true)\n",
      " |-- Gender: string (nullable = true)\n",
      " |-- Start Date: string (nullable = true)\n",
      " |-- Last Login Time: string (nullable = true)\n",
      " |-- Salary: integer (nullable = true)\n",
      " |-- Bonus %: double (nullable = true)\n",
      " |-- Senior Management: boolean (nullable = true)\n",
      " |-- Team: string (nullable = true)\n",
      "\n"
     ]
    }
   ],
   "source": [
    "d.printSchema()"
   ]
  },
  {
   "cell_type": "code",
   "execution_count": 83,
   "id": "70e102b5",
   "metadata": {},
   "outputs": [],
   "source": [
    "ds=d.withColumnRenamed( 'Bonus %','Bonus')"
   ]
  },
  {
   "cell_type": "code",
   "execution_count": 84,
   "id": "375ec387",
   "metadata": {},
   "outputs": [
    {
     "name": "stdout",
     "output_type": "stream",
     "text": [
      "+----------+------+----------+---------------+------+------+-----------------+--------------------+\n",
      "|First Name|Gender|Start Date|Last Login Time|Salary| Bonus|Senior Management|                Team|\n",
      "+----------+------+----------+---------------+------+------+-----------------+--------------------+\n",
      "|   Douglas|  Male|08-06-1993|       12:42 PM| 97308| 6.945|             true|           Marketing|\n",
      "|    Thomas|  Male| 3/31/1996|        6:53 AM| 61933|  4.17|             true|                null|\n",
      "|     Maria|Female| 4/23/1993|       11:17 AM|  null|11.858|            false|             Finance|\n",
      "|     Jerry|  Male|03-04-2005|        1:00 PM|138705|  null|             true|             Finance|\n",
      "|     Larry|  Male| 1/24/1998|        4:47 PM|  null| 1.389|             true|     Client Services|\n",
      "|    Dennis|  Male| 4/18/1987|        1:35 AM|115163|10.125|            false|               Legal|\n",
      "|      Ruby|Female|      null|           null| 65476|10.012|             true|             Product|\n",
      "|      null|Female| 7/20/2015|       10:43 AM|  null|  null|             null|             Finance|\n",
      "|    Angela|Female|      null|        6:29 AM| 95570|  null|             true|         Engineering|\n",
      "|   Frances|Female|      null|        6:51 AM|139852| 7.524|             true|Business Development|\n",
      "|    Louise|Female|08-12-1980|        9:01 AM| 63241|15.132|             true|                null|\n",
      "|     Julie|Female|10/26/1997|        3:19 PM|102508|12.637|             true|               Legal|\n",
      "|   Brandon|  Male|12-01-1980|        1:08 AM|112807|17.492|             true|     Human Resources|\n",
      "|      Gary|  Male| 1/27/2008|       11:40 PM|109831| 5.831|            false|               Sales|\n",
      "|  Kimberly|Female| 1/14/1999|        7:13 AM| 41426|14.543|             true|             Finance|\n",
      "|   Lillian|Female|06-05-2016|        6:09 AM| 59414| 1.256|            false|             Product|\n",
      "|    Jeremy|  Male| 9/21/2010|        5:56 AM| 90370| 7.369|            false|     Human Resources|\n",
      "|     Shawn|  Male|12-07-1986|        7:45 PM|111737| 6.414|            false|             Product|\n",
      "|     Diana|Female|10/23/1981|       10:27 AM|132940|19.082|            false|     Client Services|\n",
      "|     Donna|Female| 7/22/2010|        3:48 AM| 81014| 1.894|            false|             Product|\n",
      "+----------+------+----------+---------------+------+------+-----------------+--------------------+\n",
      "only showing top 20 rows\n",
      "\n"
     ]
    }
   ],
   "source": [
    "ds.show()"
   ]
  },
  {
   "cell_type": "code",
   "execution_count": 85,
   "id": "502bbb96",
   "metadata": {},
   "outputs": [
    {
     "name": "stdout",
     "output_type": "stream",
     "text": [
      "+----------+------+----------+------+------+-----------------+--------------------+\n",
      "|First Name|Gender|Start Date|Salary| Bonus|Senior Management|                Team|\n",
      "+----------+------+----------+------+------+-----------------+--------------------+\n",
      "|   Douglas|  Male|08-06-1993| 97308| 6.945|             true|           Marketing|\n",
      "|    Thomas|  Male| 3/31/1996| 61933|  4.17|             true|                null|\n",
      "|     Maria|Female| 4/23/1993|  null|11.858|            false|             Finance|\n",
      "|     Jerry|  Male|03-04-2005|138705|  null|             true|             Finance|\n",
      "|     Larry|  Male| 1/24/1998|  null| 1.389|             true|     Client Services|\n",
      "|    Dennis|  Male| 4/18/1987|115163|10.125|            false|               Legal|\n",
      "|      Ruby|Female|      null| 65476|10.012|             true|             Product|\n",
      "|      null|Female| 7/20/2015|  null|  null|             null|             Finance|\n",
      "|    Angela|Female|      null| 95570|  null|             true|         Engineering|\n",
      "|   Frances|Female|      null|139852| 7.524|             true|Business Development|\n",
      "|    Louise|Female|08-12-1980| 63241|15.132|             true|                null|\n",
      "|     Julie|Female|10/26/1997|102508|12.637|             true|               Legal|\n",
      "|   Brandon|  Male|12-01-1980|112807|17.492|             true|     Human Resources|\n",
      "|      Gary|  Male| 1/27/2008|109831| 5.831|            false|               Sales|\n",
      "|  Kimberly|Female| 1/14/1999| 41426|14.543|             true|             Finance|\n",
      "|   Lillian|Female|06-05-2016| 59414| 1.256|            false|             Product|\n",
      "|    Jeremy|  Male| 9/21/2010| 90370| 7.369|            false|     Human Resources|\n",
      "|     Shawn|  Male|12-07-1986|111737| 6.414|            false|             Product|\n",
      "|     Diana|Female|10/23/1981|132940|19.082|            false|     Client Services|\n",
      "|     Donna|Female| 7/22/2010| 81014| 1.894|            false|             Product|\n",
      "+----------+------+----------+------+------+-----------------+--------------------+\n",
      "only showing top 20 rows\n",
      "\n"
     ]
    }
   ],
   "source": [
    "ds.drop('Last Login Time').show()"
   ]
  },
  {
   "cell_type": "code",
   "execution_count": 86,
   "id": "d82ee2a6",
   "metadata": {},
   "outputs": [
    {
     "name": "stdout",
     "output_type": "stream",
     "text": [
      "+----------+------+----------+---------------+------+------+-----------------+--------------------+\n",
      "|First Name|Gender|Start Date|Last Login Time|Salary| Bonus|Senior Management|                Team|\n",
      "+----------+------+----------+---------------+------+------+-----------------+--------------------+\n",
      "|   Douglas|  Male|08-06-1993|       12:42 PM| 97308| 6.945|             true|           Marketing|\n",
      "|    Dennis|  Male| 4/18/1987|        1:35 AM|115163|10.125|            false|               Legal|\n",
      "|     Julie|Female|10/26/1997|        3:19 PM|102508|12.637|             true|               Legal|\n",
      "|   Brandon|  Male|12-01-1980|        1:08 AM|112807|17.492|             true|     Human Resources|\n",
      "|      Gary|  Male| 1/27/2008|       11:40 PM|109831| 5.831|            false|               Sales|\n",
      "|  Kimberly|Female| 1/14/1999|        7:13 AM| 41426|14.543|             true|             Finance|\n",
      "|   Lillian|Female|06-05-2016|        6:09 AM| 59414| 1.256|            false|             Product|\n",
      "|    Jeremy|  Male| 9/21/2010|        5:56 AM| 90370| 7.369|            false|     Human Resources|\n",
      "|     Shawn|  Male|12-07-1986|        7:45 PM|111737| 6.414|            false|             Product|\n",
      "|     Diana|Female|10/23/1981|       10:27 AM|132940|19.082|            false|     Client Services|\n",
      "|     Donna|Female| 7/22/2010|        3:48 AM| 81014| 1.894|            false|             Product|\n",
      "|   Matthew|  Male|09-05-1995|        2:12 AM|100612|13.645|            false|           Marketing|\n",
      "|      John|  Male|07-01-1992|       10:08 PM| 97950|13.873|            false|     Client Services|\n",
      "|     Craig|  Male| 2/27/2000|        7:45 AM| 37598| 7.757|             true|           Marketing|\n",
      "|     Terry|  Male|11/27/1981|        6:30 PM|124008|13.464|             true|     Client Services|\n",
      "|  Benjamin|  Male| 1/26/2005|       10:06 PM| 79529| 7.008|             true|               Legal|\n",
      "| Christina|Female|08-06-2002|        1:19 PM|118780| 9.096|             true|         Engineering|\n",
      "|      Jean|Female|12/18/1993|        9:07 AM|119082| 16.18|            false|Business Development|\n",
      "|     Jerry|  Male|01-10-2004|       12:56 PM| 95734|19.096|            false|     Client Services|\n",
      "|   Theresa|Female|10-10-2006|        1:12 AM| 85182|16.675|            false|               Sales|\n",
      "+----------+------+----------+---------------+------+------+-----------------+--------------------+\n",
      "only showing top 20 rows\n",
      "\n"
     ]
    }
   ],
   "source": [
    "ds.na.drop(how='any').show()"
   ]
  },
  {
   "cell_type": "code",
   "execution_count": 87,
   "id": "eb284139",
   "metadata": {},
   "outputs": [
    {
     "name": "stdout",
     "output_type": "stream",
     "text": [
      "+----------+------+----------+---------------+------+------+-----------------+--------------------+\n",
      "|First Name|Gender|Start Date|Last Login Time|Salary| Bonus|Senior Management|                Team|\n",
      "+----------+------+----------+---------------+------+------+-----------------+--------------------+\n",
      "|   Douglas|  Male|08-06-1993|       12:42 PM| 97308| 6.945|             true|           Marketing|\n",
      "|    Thomas|  Male| 3/31/1996|        6:53 AM| 61933|  4.17|             true|                null|\n",
      "|     Maria|Female| 4/23/1993|       11:17 AM|  null|11.858|            false|             Finance|\n",
      "|     Jerry|  Male|03-04-2005|        1:00 PM|138705|  null|             true|             Finance|\n",
      "|     Larry|  Male| 1/24/1998|        4:47 PM|  null| 1.389|             true|     Client Services|\n",
      "|    Dennis|  Male| 4/18/1987|        1:35 AM|115163|10.125|            false|               Legal|\n",
      "|      Ruby|Female|      null|           null| 65476|10.012|             true|             Product|\n",
      "|      null|Female| 7/20/2015|       10:43 AM|  null|  null|             null|             Finance|\n",
      "|    Angela|Female|      null|        6:29 AM| 95570|  null|             true|         Engineering|\n",
      "|   Frances|Female|      null|        6:51 AM|139852| 7.524|             true|Business Development|\n",
      "|    Louise|Female|08-12-1980|        9:01 AM| 63241|15.132|             true|                null|\n",
      "|     Julie|Female|10/26/1997|        3:19 PM|102508|12.637|             true|               Legal|\n",
      "|   Brandon|  Male|12-01-1980|        1:08 AM|112807|17.492|             true|     Human Resources|\n",
      "|      Gary|  Male| 1/27/2008|       11:40 PM|109831| 5.831|            false|               Sales|\n",
      "|  Kimberly|Female| 1/14/1999|        7:13 AM| 41426|14.543|             true|             Finance|\n",
      "|   Lillian|Female|06-05-2016|        6:09 AM| 59414| 1.256|            false|             Product|\n",
      "|    Jeremy|  Male| 9/21/2010|        5:56 AM| 90370| 7.369|            false|     Human Resources|\n",
      "|     Shawn|  Male|12-07-1986|        7:45 PM|111737| 6.414|            false|             Product|\n",
      "|     Diana|Female|10/23/1981|       10:27 AM|132940|19.082|            false|     Client Services|\n",
      "|     Donna|Female| 7/22/2010|        3:48 AM| 81014| 1.894|            false|             Product|\n",
      "+----------+------+----------+---------------+------+------+-----------------+--------------------+\n",
      "only showing top 20 rows\n",
      "\n"
     ]
    }
   ],
   "source": [
    "ds.na.drop(how='any',thresh=3).show()"
   ]
  },
  {
   "cell_type": "code",
   "execution_count": 89,
   "id": "fab1c530",
   "metadata": {},
   "outputs": [
    {
     "name": "stdout",
     "output_type": "stream",
     "text": [
      "+----------+------+----------+---------------+------+------+-----------------+--------------------+\n",
      "|First Name|Gender|Start Date|Last Login Time|Salary| Bonus|Senior Management|                Team|\n",
      "+----------+------+----------+---------------+------+------+-----------------+--------------------+\n",
      "|   Douglas|  Male|08-06-1993|       12:42 PM| 97308| 6.945|             true|           Marketing|\n",
      "|    Thomas|  Male| 3/31/1996|        6:53 AM| 61933|  4.17|             true|                null|\n",
      "|     Maria|Female| 4/23/1993|       11:17 AM|  null|11.858|            false|             Finance|\n",
      "|     Jerry|  Male|03-04-2005|        1:00 PM|138705|  null|             true|             Finance|\n",
      "|     Larry|  Male| 1/24/1998|        4:47 PM|  null| 1.389|             true|     Client Services|\n",
      "|    Dennis|  Male| 4/18/1987|        1:35 AM|115163|10.125|            false|               Legal|\n",
      "|      Ruby|Female|      null|           null| 65476|10.012|             true|             Product|\n",
      "|      null|Female| 7/20/2015|       10:43 AM|  null|  null|             null|             Finance|\n",
      "|    Angela|Female|      null|        6:29 AM| 95570|  null|             true|         Engineering|\n",
      "|   Frances|Female|      null|        6:51 AM|139852| 7.524|             true|Business Development|\n",
      "|    Louise|Female|08-12-1980|        9:01 AM| 63241|15.132|             true|                null|\n",
      "|     Julie|Female|10/26/1997|        3:19 PM|102508|12.637|             true|               Legal|\n",
      "|   Brandon|  Male|12-01-1980|        1:08 AM|112807|17.492|             true|     Human Resources|\n",
      "|      Gary|  Male| 1/27/2008|       11:40 PM|109831| 5.831|            false|               Sales|\n",
      "|  Kimberly|Female| 1/14/1999|        7:13 AM| 41426|14.543|             true|             Finance|\n",
      "|   Lillian|Female|06-05-2016|        6:09 AM| 59414| 1.256|            false|             Product|\n",
      "|    Jeremy|  Male| 9/21/2010|        5:56 AM| 90370| 7.369|            false|     Human Resources|\n",
      "|     Shawn|  Male|12-07-1986|        7:45 PM|111737| 6.414|            false|             Product|\n",
      "|     Diana|Female|10/23/1981|       10:27 AM|132940|19.082|            false|     Client Services|\n",
      "|     Donna|Female| 7/22/2010|        3:48 AM| 81014| 1.894|            false|             Product|\n",
      "+----------+------+----------+---------------+------+------+-----------------+--------------------+\n",
      "only showing top 20 rows\n",
      "\n"
     ]
    }
   ],
   "source": [
    "ds.na.drop(subset=['Gender']).show()"
   ]
  },
  {
   "cell_type": "code",
   "execution_count": 91,
   "id": "5ab4b9c4",
   "metadata": {},
   "outputs": [
    {
     "name": "stdout",
     "output_type": "stream",
     "text": [
      "+----------+------+----------+---------------+------+------+-----------------+--------------------+\n",
      "|First Name|Gender|Start Date|Last Login Time|Salary| Bonus|Senior Management|                Team|\n",
      "+----------+------+----------+---------------+------+------+-----------------+--------------------+\n",
      "|   Douglas|  Male|08-06-1993|       12:42 PM| 97308| 6.945|             true|           Marketing|\n",
      "|    Thomas|  Male| 3/31/1996|        6:53 AM| 61933|  4.17|             true|             unknown|\n",
      "|     Maria|Female| 4/23/1993|       11:17 AM|  null|11.858|            false|             Finance|\n",
      "|     Jerry|  Male|03-04-2005|        1:00 PM|138705|  null|             true|             Finance|\n",
      "|     Larry|  Male| 1/24/1998|        4:47 PM|  null| 1.389|             true|     Client Services|\n",
      "|    Dennis|  Male| 4/18/1987|        1:35 AM|115163|10.125|            false|               Legal|\n",
      "|      Ruby|Female|   unknown|        unknown| 65476|10.012|             true|             Product|\n",
      "|   unknown|Female| 7/20/2015|       10:43 AM|  null|  null|             null|             Finance|\n",
      "|    Angela|Female|   unknown|        6:29 AM| 95570|  null|             true|         Engineering|\n",
      "|   Frances|Female|   unknown|        6:51 AM|139852| 7.524|             true|Business Development|\n",
      "|    Louise|Female|08-12-1980|        9:01 AM| 63241|15.132|             true|             unknown|\n",
      "|     Julie|Female|10/26/1997|        3:19 PM|102508|12.637|             true|               Legal|\n",
      "|   Brandon|  Male|12-01-1980|        1:08 AM|112807|17.492|             true|     Human Resources|\n",
      "|      Gary|  Male| 1/27/2008|       11:40 PM|109831| 5.831|            false|               Sales|\n",
      "|  Kimberly|Female| 1/14/1999|        7:13 AM| 41426|14.543|             true|             Finance|\n",
      "|   Lillian|Female|06-05-2016|        6:09 AM| 59414| 1.256|            false|             Product|\n",
      "|    Jeremy|  Male| 9/21/2010|        5:56 AM| 90370| 7.369|            false|     Human Resources|\n",
      "|     Shawn|  Male|12-07-1986|        7:45 PM|111737| 6.414|            false|             Product|\n",
      "|     Diana|Female|10/23/1981|       10:27 AM|132940|19.082|            false|     Client Services|\n",
      "|     Donna|Female| 7/22/2010|        3:48 AM| 81014| 1.894|            false|             Product|\n",
      "+----------+------+----------+---------------+------+------+-----------------+--------------------+\n",
      "only showing top 20 rows\n",
      "\n"
     ]
    }
   ],
   "source": [
    "ds.na.fill('unknown').show()"
   ]
  },
  {
   "cell_type": "code",
   "execution_count": 92,
   "id": "702d3054",
   "metadata": {},
   "outputs": [
    {
     "name": "stdout",
     "output_type": "stream",
     "text": [
      "+----------+------+----------+---------------+------+------+-----------------+--------------------+\n",
      "|First Name|Gender|Start Date|Last Login Time|Salary| Bonus|Senior Management|                Team|\n",
      "+----------+------+----------+---------------+------+------+-----------------+--------------------+\n",
      "|   Douglas|  Male|08-06-1993|       12:42 PM| 97308| 6.945|             true|           Marketing|\n",
      "|    Thomas|  Male| 3/31/1996|        6:53 AM| 61933|  4.17|             true|                null|\n",
      "|     Maria|Female| 4/23/1993|       11:17 AM|     0|11.858|            false|             Finance|\n",
      "|     Jerry|  Male|03-04-2005|        1:00 PM|138705|   0.0|             true|             Finance|\n",
      "|     Larry|  Male| 1/24/1998|        4:47 PM|     0| 1.389|             true|     Client Services|\n",
      "|    Dennis|  Male| 4/18/1987|        1:35 AM|115163|10.125|            false|               Legal|\n",
      "|      Ruby|Female|      null|           null| 65476|10.012|             true|             Product|\n",
      "|      null|Female| 7/20/2015|       10:43 AM|     0|   0.0|             null|             Finance|\n",
      "|    Angela|Female|      null|        6:29 AM| 95570|   0.0|             true|         Engineering|\n",
      "|   Frances|Female|      null|        6:51 AM|139852| 7.524|             true|Business Development|\n",
      "|    Louise|Female|08-12-1980|        9:01 AM| 63241|15.132|             true|                null|\n",
      "|     Julie|Female|10/26/1997|        3:19 PM|102508|12.637|             true|               Legal|\n",
      "|   Brandon|  Male|12-01-1980|        1:08 AM|112807|17.492|             true|     Human Resources|\n",
      "|      Gary|  Male| 1/27/2008|       11:40 PM|109831| 5.831|            false|               Sales|\n",
      "|  Kimberly|Female| 1/14/1999|        7:13 AM| 41426|14.543|             true|             Finance|\n",
      "|   Lillian|Female|06-05-2016|        6:09 AM| 59414| 1.256|            false|             Product|\n",
      "|    Jeremy|  Male| 9/21/2010|        5:56 AM| 90370| 7.369|            false|     Human Resources|\n",
      "|     Shawn|  Male|12-07-1986|        7:45 PM|111737| 6.414|            false|             Product|\n",
      "|     Diana|Female|10/23/1981|       10:27 AM|132940|19.082|            false|     Client Services|\n",
      "|     Donna|Female| 7/22/2010|        3:48 AM| 81014| 1.894|            false|             Product|\n",
      "+----------+------+----------+---------------+------+------+-----------------+--------------------+\n",
      "only showing top 20 rows\n",
      "\n"
     ]
    }
   ],
   "source": [
    "ds.na.fill(0,['Bonus','Salary']).show()"
   ]
  },
  {
   "cell_type": "code",
   "execution_count": 94,
   "id": "bd115665",
   "metadata": {},
   "outputs": [
    {
     "name": "stdout",
     "output_type": "stream",
     "text": [
      "+----------+------+----------+---------------+------+------+-----------------+--------------------+\n",
      "|First Name|Gender|Start Date|Last Login Time|Salary| Bonus|Senior Management|                Team|\n",
      "+----------+------+----------+---------------+------+------+-----------------+--------------------+\n",
      "|   Douglas|  Male|08-06-1993|       12:42 PM| 97308| 6.945|             true|           Marketing|\n",
      "|    Thomas|  Male| 3/31/1996|        6:53 AM| 61933|  4.17|             true|                null|\n",
      "|     Maria|Female| 4/23/1993|       11:17 AM|  null|11.858|            false|             Finance|\n",
      "|     Jerry|  Male|03-04-2005|        1:00 PM|138705|  null|             true|             Finance|\n",
      "|     Larry|  Male| 1/24/1998|        4:47 PM|  null| 1.389|             true|     Client Services|\n",
      "|    Dennis|  Male| 4/18/1987|        1:35 AM|115163|10.125|            false|               Legal|\n",
      "|      Ruby|Female|   unknown|        unknown| 65476|10.012|             true|             Product|\n",
      "|      null|Female| 7/20/2015|       10:43 AM|  null|  null|             null|             Finance|\n",
      "|    Angela|Female|   unknown|        6:29 AM| 95570|  null|             true|         Engineering|\n",
      "|   Frances|Female|   unknown|        6:51 AM|139852| 7.524|             true|Business Development|\n",
      "|    Louise|Female|08-12-1980|        9:01 AM| 63241|15.132|             true|                null|\n",
      "|     Julie|Female|10/26/1997|        3:19 PM|102508|12.637|             true|               Legal|\n",
      "|   Brandon|  Male|12-01-1980|        1:08 AM|112807|17.492|             true|     Human Resources|\n",
      "|      Gary|  Male| 1/27/2008|       11:40 PM|109831| 5.831|            false|               Sales|\n",
      "|  Kimberly|Female| 1/14/1999|        7:13 AM| 41426|14.543|             true|             Finance|\n",
      "|   Lillian|Female|06-05-2016|        6:09 AM| 59414| 1.256|            false|             Product|\n",
      "|    Jeremy|  Male| 9/21/2010|        5:56 AM| 90370| 7.369|            false|     Human Resources|\n",
      "|     Shawn|  Male|12-07-1986|        7:45 PM|111737| 6.414|            false|             Product|\n",
      "|     Diana|Female|10/23/1981|       10:27 AM|132940|19.082|            false|     Client Services|\n",
      "|     Donna|Female| 7/22/2010|        3:48 AM| 81014| 1.894|            false|             Product|\n",
      "+----------+------+----------+---------------+------+------+-----------------+--------------------+\n",
      "only showing top 20 rows\n",
      "\n"
     ]
    }
   ],
   "source": [
    "ds.na.fill('unknown',['Gender','Start Date','Last Login Time']).show()"
   ]
  },
  {
   "cell_type": "code",
   "execution_count": 96,
   "id": "d7c0b6fa",
   "metadata": {},
   "outputs": [
    {
     "name": "stdout",
     "output_type": "stream",
     "text": [
      "+----------+------+----------+---------------+------+------+-----------------+--------------------+\n",
      "|First Name|Gender|Start Date|Last Login Time|Salary| Bonus|Senior Management|                Team|\n",
      "+----------+------+----------+---------------+------+------+-----------------+--------------------+\n",
      "|   Douglas|  Male|08-06-1993|       12:42 PM| 97308| 6.945|             true|           Marketing|\n",
      "|    Thomas|  Male| 3/31/1996|        6:53 AM| 61933|  4.17|             true|                null|\n",
      "|     Maria|Female| 4/23/1993|       11:17 AM|  null|11.858|            false|             Finance|\n",
      "|     Jerry|  Male|03-04-2005|        1:00 PM|138705|  null|             true|             Finance|\n",
      "|     Larry|  Male| 1/24/1998|        4:47 PM|  null| 1.389|             true|     Client Services|\n",
      "|    Dennis|  Male| 4/18/1987|        1:35 AM|115163|10.125|            false|               Legal|\n",
      "|      Ruby|Female|      null|           null| 65476|10.012|             true|             Product|\n",
      "|      null|Female| 7/20/2015|       10:43 AM|  null|  null|             null|             Finance|\n",
      "|    Angela|Female|      null|        6:29 AM| 95570|  null|             true|         Engineering|\n",
      "|   Frances|Female|      null|        6:51 AM|139852| 7.524|             true|Business Development|\n",
      "|    Louise|Female|08-12-1980|        9:01 AM| 63241|15.132|             true|                null|\n",
      "|     Julie|Female|10/26/1997|        3:19 PM|102508|12.637|             true|               Legal|\n",
      "|   Brandon|  Male|12-01-1980|        1:08 AM|112807|17.492|             true|     Human Resources|\n",
      "|      Gary|  Male| 1/27/2008|       11:40 PM|109831| 5.831|            false|               Sales|\n",
      "|  Kimberly|Female| 1/14/1999|        7:13 AM| 41426|14.543|             true|             Finance|\n",
      "|   Lillian|Female|06-05-2016|        6:09 AM| 59414| 1.256|            false|             Product|\n",
      "|    Jeremy|  Male| 9/21/2010|        5:56 AM| 90370| 7.369|            false|     Human Resources|\n",
      "|     Shawn|  Male|12-07-1986|        7:45 PM|111737| 6.414|            false|             Product|\n",
      "|     Diana|Female|10/23/1981|       10:27 AM|132940|19.082|            false|     Client Services|\n",
      "|     Donna|Female| 7/22/2010|        3:48 AM| 81014| 1.894|            false|             Product|\n",
      "+----------+------+----------+---------------+------+------+-----------------+--------------------+\n",
      "only showing top 20 rows\n",
      "\n"
     ]
    }
   ],
   "source": [
    "ds.na.drop(subset=['Gender']).show()"
   ]
  },
  {
   "cell_type": "code",
   "execution_count": 98,
   "id": "48f148d2",
   "metadata": {},
   "outputs": [
    {
     "name": "stdout",
     "output_type": "stream",
     "text": [
      "+-------+----------+------+----------+---------------+------------------+-----------------+--------------------+\n",
      "|summary|First Name|Gender|Start Date|Last Login Time|            Salary|            Bonus|                Team|\n",
      "+-------+----------+------+----------+---------------+------------------+-----------------+--------------------+\n",
      "|  count|       933|   855|       997|            999|               997|              997|                 957|\n",
      "|   mean|      null|  null|      null|           null| 90656.65095285857|10.19869007021063|                null|\n",
      "| stddev|      null|  null|      null|           null|32916.794268247395|5.530276746856254|                null|\n",
      "|    min|     Aaron|Female|01-01-2014|       10:00 AM|             35013|            1.015|Business Development|\n",
      "|    max|    Willie|  Male| 9/30/2007|        9:59 AM|            149908|           19.944|               Sales|\n",
      "+-------+----------+------+----------+---------------+------------------+-----------------+--------------------+\n",
      "\n"
     ]
    }
   ],
   "source": [
    "ds.describe().show()"
   ]
  },
  {
   "cell_type": "code",
   "execution_count": 108,
   "id": "c6f3fa5a",
   "metadata": {},
   "outputs": [],
   "source": [
    "from pyspark.sql import functions as f"
   ]
  },
  {
   "cell_type": "code",
   "execution_count": 146,
   "id": "3209254e",
   "metadata": {},
   "outputs": [
    {
     "name": "stdout",
     "output_type": "stream",
     "text": [
      "+-----------------+\n",
      "|      avg(Salary)|\n",
      "+-----------------+\n",
      "|90656.65095285857|\n",
      "+-----------------+\n",
      "\n"
     ]
    }
   ],
   "source": [
    "s1=ds.agg(f.mean('Salary')).show()"
   ]
  },
  {
   "cell_type": "code",
   "execution_count": 147,
   "id": "f143279d",
   "metadata": {},
   "outputs": [
    {
     "ename": "AttributeError",
     "evalue": "'NoneType' object has no attribute 'cast'",
     "output_type": "error",
     "traceback": [
      "\u001b[1;31m---------------------------------------------------------------------------\u001b[0m",
      "\u001b[1;31mAttributeError\u001b[0m                            Traceback (most recent call last)",
      "Input \u001b[1;32mIn [147]\u001b[0m, in \u001b[0;36m<module>\u001b[1;34m\u001b[0m\n\u001b[1;32m----> 1\u001b[0m ds\u001b[38;5;241m.\u001b[39mwithColumn(\u001b[38;5;124m'\u001b[39m\u001b[38;5;124mSalary\u001b[39m\u001b[38;5;124m'\u001b[39m,\u001b[43md\u001b[49m\u001b[38;5;241;43m.\u001b[39;49m\u001b[43mcast\u001b[49m(\u001b[38;5;28mint\u001b[39m))\n",
      "\u001b[1;31mAttributeError\u001b[0m: 'NoneType' object has no attribute 'cast'"
     ]
    }
   ],
   "source": [
    "ds.withColumn(.cast(int))"
   ]
  },
  {
   "cell_type": "code",
   "execution_count": 116,
   "id": "c9fd9407",
   "metadata": {},
   "outputs": [
    {
     "name": "stdout",
     "output_type": "stream",
     "text": [
      "root\n",
      " |-- First Name: string (nullable = true)\n",
      " |-- Gender: string (nullable = true)\n",
      " |-- Start Date: string (nullable = true)\n",
      " |-- Last Login Time: string (nullable = true)\n",
      " |-- Salary: integer (nullable = true)\n",
      " |-- Bonus: double (nullable = true)\n",
      " |-- Senior Management: boolean (nullable = true)\n",
      " |-- Team: string (nullable = true)\n",
      "\n"
     ]
    }
   ],
   "source": [
    "ds.printSchema()"
   ]
  },
  {
   "cell_type": "code",
   "execution_count": 152,
   "id": "2e793edf",
   "metadata": {},
   "outputs": [],
   "source": [
    "from pyspark.ml.feature import Imputer \n",
    "imp=Imputer(inputCols=['Salary'],outputCols=['{}_Imputed'.format(c) for c in ['Salary']]).setStrategy('mean')"
   ]
  },
  {
   "cell_type": "code",
   "execution_count": 153,
   "id": "9ca21857",
   "metadata": {
    "scrolled": true
   },
   "outputs": [
    {
     "name": "stdout",
     "output_type": "stream",
     "text": [
      "+----------+------+----------+---------------+------+------+-----------------+--------------------+--------------+\n",
      "|First Name|Gender|Start Date|Last Login Time|Salary| Bonus|Senior Management|                Team|Salary_Imputed|\n",
      "+----------+------+----------+---------------+------+------+-----------------+--------------------+--------------+\n",
      "|   Douglas|  Male|08-06-1993|       12:42 PM| 97308| 6.945|             true|           Marketing|         97308|\n",
      "|    Thomas|  Male| 3/31/1996|        6:53 AM| 61933|  4.17|             true|                null|         61933|\n",
      "|     Maria|Female| 4/23/1993|       11:17 AM|  null|11.858|            false|             Finance|         90656|\n",
      "|     Jerry|  Male|03-04-2005|        1:00 PM|138705|  null|             true|             Finance|        138705|\n",
      "|     Larry|  Male| 1/24/1998|        4:47 PM|  null| 1.389|             true|     Client Services|         90656|\n",
      "|    Dennis|  Male| 4/18/1987|        1:35 AM|115163|10.125|            false|               Legal|        115163|\n",
      "|      Ruby|Female|      null|           null| 65476|10.012|             true|             Product|         65476|\n",
      "|      null|Female| 7/20/2015|       10:43 AM|  null|  null|             null|             Finance|         90656|\n",
      "|    Angela|Female|      null|        6:29 AM| 95570|  null|             true|         Engineering|         95570|\n",
      "|   Frances|Female|      null|        6:51 AM|139852| 7.524|             true|Business Development|        139852|\n",
      "|    Louise|Female|08-12-1980|        9:01 AM| 63241|15.132|             true|                null|         63241|\n",
      "|     Julie|Female|10/26/1997|        3:19 PM|102508|12.637|             true|               Legal|        102508|\n",
      "|   Brandon|  Male|12-01-1980|        1:08 AM|112807|17.492|             true|     Human Resources|        112807|\n",
      "|      Gary|  Male| 1/27/2008|       11:40 PM|109831| 5.831|            false|               Sales|        109831|\n",
      "|  Kimberly|Female| 1/14/1999|        7:13 AM| 41426|14.543|             true|             Finance|         41426|\n",
      "|   Lillian|Female|06-05-2016|        6:09 AM| 59414| 1.256|            false|             Product|         59414|\n",
      "|    Jeremy|  Male| 9/21/2010|        5:56 AM| 90370| 7.369|            false|     Human Resources|         90370|\n",
      "|     Shawn|  Male|12-07-1986|        7:45 PM|111737| 6.414|            false|             Product|        111737|\n",
      "|     Diana|Female|10/23/1981|       10:27 AM|132940|19.082|            false|     Client Services|        132940|\n",
      "|     Donna|Female| 7/22/2010|        3:48 AM| 81014| 1.894|            false|             Product|         81014|\n",
      "+----------+------+----------+---------------+------+------+-----------------+--------------------+--------------+\n",
      "only showing top 20 rows\n",
      "\n"
     ]
    }
   ],
   "source": [
    "imp.fit(ds).transform(ds).show()"
   ]
  },
  {
   "cell_type": "code",
   "execution_count": 156,
   "id": "ae832935",
   "metadata": {},
   "outputs": [],
   "source": [
    "imp1=Imputer(inputCols=['Gender'],outputCols=['{}_Imputed'.format(c) for c in ['Gender']]).setStrategy('mode')"
   ]
  },
  {
   "cell_type": "code",
   "execution_count": 157,
   "id": "b5a6aaef",
   "metadata": {},
   "outputs": [
    {
     "ename": "IllegalArgumentException",
     "evalue": "requirement failed: Column Gender must be of type numeric but was actually of type string.",
     "output_type": "error",
     "traceback": [
      "\u001b[1;31m---------------------------------------------------------------------------\u001b[0m",
      "\u001b[1;31mIllegalArgumentException\u001b[0m                  Traceback (most recent call last)",
      "Input \u001b[1;32mIn [157]\u001b[0m, in \u001b[0;36m<module>\u001b[1;34m\u001b[0m\n\u001b[1;32m----> 1\u001b[0m \u001b[43mimp1\u001b[49m\u001b[38;5;241;43m.\u001b[39;49m\u001b[43mfit\u001b[49m\u001b[43m(\u001b[49m\u001b[43mds\u001b[49m\u001b[43m)\u001b[49m\u001b[38;5;241m.\u001b[39mtransform(ds)\u001b[38;5;241m.\u001b[39mshow()\n",
      "File \u001b[1;32mD:\\New folder\\Python\\envs\\envr1\\lib\\site-packages\\pyspark\\ml\\base.py:161\u001b[0m, in \u001b[0;36mEstimator.fit\u001b[1;34m(self, dataset, params)\u001b[0m\n\u001b[0;32m    159\u001b[0m         \u001b[38;5;28;01mreturn\u001b[39;00m \u001b[38;5;28mself\u001b[39m\u001b[38;5;241m.\u001b[39mcopy(params)\u001b[38;5;241m.\u001b[39m_fit(dataset)\n\u001b[0;32m    160\u001b[0m     \u001b[38;5;28;01melse\u001b[39;00m:\n\u001b[1;32m--> 161\u001b[0m         \u001b[38;5;28;01mreturn\u001b[39;00m \u001b[38;5;28;43mself\u001b[39;49m\u001b[38;5;241;43m.\u001b[39;49m\u001b[43m_fit\u001b[49m\u001b[43m(\u001b[49m\u001b[43mdataset\u001b[49m\u001b[43m)\u001b[49m\n\u001b[0;32m    162\u001b[0m \u001b[38;5;28;01melse\u001b[39;00m:\n\u001b[0;32m    163\u001b[0m     \u001b[38;5;28;01mraise\u001b[39;00m \u001b[38;5;167;01mTypeError\u001b[39;00m(\u001b[38;5;124m\"\u001b[39m\u001b[38;5;124mParams must be either a param map or a list/tuple of param maps, \u001b[39m\u001b[38;5;124m\"\u001b[39m\n\u001b[0;32m    164\u001b[0m                     \u001b[38;5;124m\"\u001b[39m\u001b[38;5;124mbut got \u001b[39m\u001b[38;5;132;01m%s\u001b[39;00m\u001b[38;5;124m.\u001b[39m\u001b[38;5;124m\"\u001b[39m \u001b[38;5;241m%\u001b[39m \u001b[38;5;28mtype\u001b[39m(params))\n",
      "File \u001b[1;32mD:\\New folder\\Python\\envs\\envr1\\lib\\site-packages\\pyspark\\ml\\wrapper.py:335\u001b[0m, in \u001b[0;36mJavaEstimator._fit\u001b[1;34m(self, dataset)\u001b[0m\n\u001b[0;32m    334\u001b[0m \u001b[38;5;28;01mdef\u001b[39;00m \u001b[38;5;21m_fit\u001b[39m(\u001b[38;5;28mself\u001b[39m, dataset):\n\u001b[1;32m--> 335\u001b[0m     java_model \u001b[38;5;241m=\u001b[39m \u001b[38;5;28;43mself\u001b[39;49m\u001b[38;5;241;43m.\u001b[39;49m\u001b[43m_fit_java\u001b[49m\u001b[43m(\u001b[49m\u001b[43mdataset\u001b[49m\u001b[43m)\u001b[49m\n\u001b[0;32m    336\u001b[0m     model \u001b[38;5;241m=\u001b[39m \u001b[38;5;28mself\u001b[39m\u001b[38;5;241m.\u001b[39m_create_model(java_model)\n\u001b[0;32m    337\u001b[0m     \u001b[38;5;28;01mreturn\u001b[39;00m \u001b[38;5;28mself\u001b[39m\u001b[38;5;241m.\u001b[39m_copyValues(model)\n",
      "File \u001b[1;32mD:\\New folder\\Python\\envs\\envr1\\lib\\site-packages\\pyspark\\ml\\wrapper.py:332\u001b[0m, in \u001b[0;36mJavaEstimator._fit_java\u001b[1;34m(self, dataset)\u001b[0m\n\u001b[0;32m    318\u001b[0m \u001b[38;5;124;03m\"\"\"\u001b[39;00m\n\u001b[0;32m    319\u001b[0m \u001b[38;5;124;03mFits a Java model to the input dataset.\u001b[39;00m\n\u001b[0;32m    320\u001b[0m \n\u001b[1;32m   (...)\u001b[0m\n\u001b[0;32m    329\u001b[0m \u001b[38;5;124;03m    fitted Java model\u001b[39;00m\n\u001b[0;32m    330\u001b[0m \u001b[38;5;124;03m\"\"\"\u001b[39;00m\n\u001b[0;32m    331\u001b[0m \u001b[38;5;28mself\u001b[39m\u001b[38;5;241m.\u001b[39m_transfer_params_to_java()\n\u001b[1;32m--> 332\u001b[0m \u001b[38;5;28;01mreturn\u001b[39;00m \u001b[38;5;28;43mself\u001b[39;49m\u001b[38;5;241;43m.\u001b[39;49m\u001b[43m_java_obj\u001b[49m\u001b[38;5;241;43m.\u001b[39;49m\u001b[43mfit\u001b[49m\u001b[43m(\u001b[49m\u001b[43mdataset\u001b[49m\u001b[38;5;241;43m.\u001b[39;49m\u001b[43m_jdf\u001b[49m\u001b[43m)\u001b[49m\n",
      "File \u001b[1;32mD:\\New folder\\Python\\envs\\envr1\\lib\\site-packages\\py4j\\java_gateway.py:1321\u001b[0m, in \u001b[0;36mJavaMember.__call__\u001b[1;34m(self, *args)\u001b[0m\n\u001b[0;32m   1315\u001b[0m command \u001b[38;5;241m=\u001b[39m proto\u001b[38;5;241m.\u001b[39mCALL_COMMAND_NAME \u001b[38;5;241m+\u001b[39m\\\n\u001b[0;32m   1316\u001b[0m     \u001b[38;5;28mself\u001b[39m\u001b[38;5;241m.\u001b[39mcommand_header \u001b[38;5;241m+\u001b[39m\\\n\u001b[0;32m   1317\u001b[0m     args_command \u001b[38;5;241m+\u001b[39m\\\n\u001b[0;32m   1318\u001b[0m     proto\u001b[38;5;241m.\u001b[39mEND_COMMAND_PART\n\u001b[0;32m   1320\u001b[0m answer \u001b[38;5;241m=\u001b[39m \u001b[38;5;28mself\u001b[39m\u001b[38;5;241m.\u001b[39mgateway_client\u001b[38;5;241m.\u001b[39msend_command(command)\n\u001b[1;32m-> 1321\u001b[0m return_value \u001b[38;5;241m=\u001b[39m \u001b[43mget_return_value\u001b[49m\u001b[43m(\u001b[49m\n\u001b[0;32m   1322\u001b[0m \u001b[43m    \u001b[49m\u001b[43manswer\u001b[49m\u001b[43m,\u001b[49m\u001b[43m \u001b[49m\u001b[38;5;28;43mself\u001b[39;49m\u001b[38;5;241;43m.\u001b[39;49m\u001b[43mgateway_client\u001b[49m\u001b[43m,\u001b[49m\u001b[43m \u001b[49m\u001b[38;5;28;43mself\u001b[39;49m\u001b[38;5;241;43m.\u001b[39;49m\u001b[43mtarget_id\u001b[49m\u001b[43m,\u001b[49m\u001b[43m \u001b[49m\u001b[38;5;28;43mself\u001b[39;49m\u001b[38;5;241;43m.\u001b[39;49m\u001b[43mname\u001b[49m\u001b[43m)\u001b[49m\n\u001b[0;32m   1324\u001b[0m \u001b[38;5;28;01mfor\u001b[39;00m temp_arg \u001b[38;5;129;01min\u001b[39;00m temp_args:\n\u001b[0;32m   1325\u001b[0m     temp_arg\u001b[38;5;241m.\u001b[39m_detach()\n",
      "File \u001b[1;32mD:\\New folder\\Python\\envs\\envr1\\lib\\site-packages\\pyspark\\sql\\utils.py:117\u001b[0m, in \u001b[0;36mcapture_sql_exception.<locals>.deco\u001b[1;34m(*a, **kw)\u001b[0m\n\u001b[0;32m    113\u001b[0m converted \u001b[38;5;241m=\u001b[39m convert_exception(e\u001b[38;5;241m.\u001b[39mjava_exception)\n\u001b[0;32m    114\u001b[0m \u001b[38;5;28;01mif\u001b[39;00m \u001b[38;5;129;01mnot\u001b[39;00m \u001b[38;5;28misinstance\u001b[39m(converted, UnknownException):\n\u001b[0;32m    115\u001b[0m     \u001b[38;5;66;03m# Hide where the exception came from that shows a non-Pythonic\u001b[39;00m\n\u001b[0;32m    116\u001b[0m     \u001b[38;5;66;03m# JVM exception message.\u001b[39;00m\n\u001b[1;32m--> 117\u001b[0m     \u001b[38;5;28;01mraise\u001b[39;00m converted \u001b[38;5;28;01mfrom\u001b[39;00m \u001b[38;5;28mNone\u001b[39m\n\u001b[0;32m    118\u001b[0m \u001b[38;5;28;01melse\u001b[39;00m:\n\u001b[0;32m    119\u001b[0m     \u001b[38;5;28;01mraise\u001b[39;00m\n",
      "\u001b[1;31mIllegalArgumentException\u001b[0m: requirement failed: Column Gender must be of type numeric but was actually of type string."
     ]
    }
   ],
   "source": [
    "imp1.fit(ds).transform(ds).show()"
   ]
  },
  {
   "cell_type": "code",
   "execution_count": 158,
   "id": "bb985eac",
   "metadata": {},
   "outputs": [
    {
     "name": "stdout",
     "output_type": "stream",
     "text": [
      "+----------+------+----------+---------------+------+------+-----------------+--------------------+\n",
      "|First Name|Gender|Start Date|Last Login Time|Salary| Bonus|Senior Management|                Team|\n",
      "+----------+------+----------+---------------+------+------+-----------------+--------------------+\n",
      "|   Douglas|  Male|08-06-1993|       12:42 PM| 97308| 6.945|             true|           Marketing|\n",
      "|    Thomas|  Male| 3/31/1996|        6:53 AM| 61933|  4.17|             true|                null|\n",
      "|     Jerry|  Male|03-04-2005|        1:00 PM|138705|  null|             true|             Finance|\n",
      "|    Dennis|  Male| 4/18/1987|        1:35 AM|115163|10.125|            false|               Legal|\n",
      "|      Ruby|Female|      null|           null| 65476|10.012|             true|             Product|\n",
      "|    Angela|Female|      null|        6:29 AM| 95570|  null|             true|         Engineering|\n",
      "|   Frances|Female|      null|        6:51 AM|139852| 7.524|             true|Business Development|\n",
      "|    Louise|Female|08-12-1980|        9:01 AM| 63241|15.132|             true|                null|\n",
      "|     Julie|Female|10/26/1997|        3:19 PM|102508|12.637|             true|               Legal|\n",
      "|   Brandon|  Male|12-01-1980|        1:08 AM|112807|17.492|             true|     Human Resources|\n",
      "|      Gary|  Male| 1/27/2008|       11:40 PM|109831| 5.831|            false|               Sales|\n",
      "|   Lillian|Female|06-05-2016|        6:09 AM| 59414| 1.256|            false|             Product|\n",
      "|    Jeremy|  Male| 9/21/2010|        5:56 AM| 90370| 7.369|            false|     Human Resources|\n",
      "|     Shawn|  Male|12-07-1986|        7:45 PM|111737| 6.414|            false|             Product|\n",
      "|     Diana|Female|10/23/1981|       10:27 AM|132940|19.082|            false|     Client Services|\n",
      "|     Donna|Female| 7/22/2010|        3:48 AM| 81014| 1.894|            false|             Product|\n",
      "|      Lois|  null| 4/22/1995|        7:18 PM| 64714| 4.934|             true|               Legal|\n",
      "|   Matthew|  Male|09-05-1995|        2:12 AM|100612|13.645|            false|           Marketing|\n",
      "|    Joshua|  null|03-08-2012|        1:58 AM| 90816|18.816|             true|     Client Services|\n",
      "|      null|  Male| 6/14/2012|        4:19 PM|125792| 5.042|             null|                null|\n",
      "+----------+------+----------+---------------+------+------+-----------------+--------------------+\n",
      "only showing top 20 rows\n",
      "\n"
     ]
    }
   ],
   "source": [
    "ds.filter('Salary>=50000').show()"
   ]
  },
  {
   "cell_type": "code",
   "execution_count": 161,
   "id": "092e02cd",
   "metadata": {},
   "outputs": [
    {
     "name": "stdout",
     "output_type": "stream",
     "text": [
      "+-----------+------+----------+---------------+------+------+-----------------+--------------------+\n",
      "| First Name|Gender|Start Date|Last Login Time|Salary| Bonus|Senior Management|                Team|\n",
      "+-----------+------+----------+---------------+------+------+-----------------+--------------------+\n",
      "|   Kimberly|Female| 1/14/1999|        7:13 AM| 41426|14.543|             true|             Finance|\n",
      "|       null|  Male|10-08-2012|        1:12 AM| 37076|18.576|             null|     Client Services|\n",
      "|      Craig|  Male| 2/27/2000|        7:45 AM| 37598| 7.757|             true|           Marketing|\n",
      "|  Stephanie|Female| 9/13/1986|        1:52 AM| 36844| 5.574|             true|Business Development|\n",
      "|       null|  null|12/17/2011|        8:29 AM| 41126|14.009|             null|               Sales|\n",
      "|       Todd|  Male| 2/18/1990|        2:41 AM| 49339| 1.695|             true|     Human Resources|\n",
      "|       Alan|  null|03-03-2014|        1:28 PM| 40341|17.578|             true|             Finance|\n",
      "|      Paula|  null|11/23/2005|        2:01 PM| 48866| 4.271|            false|        Distribution|\n",
      "|    Matthew|  Male|01-02-2013|       10:33 PM| 35203| 18.04|            false|     Human Resources|\n",
      "|Christopher|  Male| 3/30/2008|       10:52 AM| 47369|14.822|            false|               Legal|\n",
      "|     Steven|  Male| 3/30/1980|        9:20 PM| 35095| 8.379|             true|     Client Services|\n",
      "|    Heather|Female|07-11-1998|        2:17 PM| 43026|14.166|            false|     Client Services|\n",
      "|    Melissa|Female| 6/21/2005|        6:33 AM| 48109|14.995|            false|             Finance|\n",
      "|       Paul|  Male|08-04-1993|        7:25 PM| 42146| 3.046|            false|               Legal|\n",
      "|Christopher|  Male| 4/22/2000|       10:15 AM| 37919|11.449|            false|                null|\n",
      "|     Bonnie|Female|12/17/1999|        3:12 PM| 42153| 8.454|             true|Business Development|\n",
      "|       Paul|  Male|06-03-2008|        3:05 PM| 41054|12.299|            false|           Marketing|\n",
      "|   Patricia|Female|09-01-2003|        6:46 AM| 49368|14.226|            false|     Human Resources|\n",
      "|    Shirley|Female|05-01-1984|        1:15 PM| 41334| 6.219|             true|     Human Resources|\n",
      "|      Henry|  Male| 4/24/1995|        4:18 AM| 43542|19.687|            false|               Legal|\n",
      "+-----------+------+----------+---------------+------+------+-----------------+--------------------+\n",
      "only showing top 20 rows\n",
      "\n"
     ]
    }
   ],
   "source": [
    "ds.filter(~(ds['Salary']>=50000)).show()"
   ]
  },
  {
   "cell_type": "code",
   "execution_count": 164,
   "id": "11076f93",
   "metadata": {},
   "outputs": [
    {
     "name": "stdout",
     "output_type": "stream",
     "text": [
      "+----------+------+----------+---------------+------+------+-----------------+--------------------+\n",
      "|First Name|Gender|Start Date|Last Login Time|Salary| Bonus|Senior Management|                Team|\n",
      "+----------+------+----------+---------------+------+------+-----------------+--------------------+\n",
      "|    Thomas|  Male| 3/31/1996|        6:53 AM| 61933|  4.17|             true|                null|\n",
      "|      Ruby|Female|      null|           null| 65476|10.012|             true|             Product|\n",
      "|    Louise|Female|08-12-1980|        9:01 AM| 63241|15.132|             true|                null|\n",
      "|   Lillian|Female|06-05-2016|        6:09 AM| 59414| 1.256|            false|             Product|\n",
      "|      Lois|  null| 4/22/1995|        7:18 PM| 64714| 4.934|             true|               Legal|\n",
      "|  Benjamin|  Male| 1/26/2005|       10:06 PM| 79529| 7.008|             true|               Legal|\n",
      "|     Linda|Female|10/19/1981|        8:49 PM| 57427| 9.557|             true|     Client Services|\n",
      "| Christine|  null| 6/28/2015|        1:08 AM| 66582|11.308|             true|Business Development|\n",
      "|   Marilyn|Female|12-07-1980|        3:16 AM| 73524| 5.207|             true|           Marketing|\n",
      "|     Kathy|Female| 6/22/2005|        4:51 AM| 66820|   9.0|             true|     Client Services|\n",
      "|     Henry|  Male| 6/26/1996|        1:44 AM| 64715|15.107|             true|     Human Resources|\n",
      "|   Theresa|Female|04-11-2010|        7:18 AM| 72670| 1.481|             true|         Engineering|\n",
      "|     Irene|Female|05-07-1997|        9:32 AM| 66851|11.279|            false|         Engineering|\n",
      "|      null|Female|06-12-2007|        5:25 PM| 58112|19.414|             null|           Marketing|\n",
      "|  Kathleen|  null|04-11-1990|        6:46 PM| 77834|18.771|            false|Business Development|\n",
      "|     Steve|  Male|11-11-2009|       11:44 PM| 61310|12.428|             true|        Distribution|\n",
      "|    Rachel|Female| 8/16/1999|        6:53 AM| 51178| 9.735|             true|             Finance|\n",
      "|     Bobby|  Male|05-07-2007|       10:01 AM| 54043| 3.833|            false|             Product|\n",
      "|    Thomas|  Male|06-04-1995|        2:24 PM| 62096|17.029|            false|           Marketing|\n",
      "|     Donna|Female|11/27/1991|        1:59 PM| 64088| 6.155|             true|               Legal|\n",
      "+----------+------+----------+---------------+------+------+-----------------+--------------------+\n",
      "only showing top 20 rows\n",
      "\n"
     ]
    }
   ],
   "source": [
    "ds.filter((ds['Salary']>=50000)& (ds['Salary']<=80000)).show()"
   ]
  },
  {
   "cell_type": "code",
   "execution_count": 166,
   "id": "44cb711d",
   "metadata": {},
   "outputs": [
    {
     "name": "stdout",
     "output_type": "stream",
     "text": [
      "+----------+------+----------+---------------+------+------+-----------------+--------------------+\n",
      "|First Name|Gender|Start Date|Last Login Time|Salary| Bonus|Senior Management|                Team|\n",
      "+----------+------+----------+---------------+------+------+-----------------+--------------------+\n",
      "|     Jerry|  Male|03-04-2005|        1:00 PM|138705|  null|             true|             Finance|\n",
      "|    Dennis|  Male| 4/18/1987|        1:35 AM|115163|10.125|            false|               Legal|\n",
      "|   Frances|Female|      null|        6:51 AM|139852| 7.524|             true|Business Development|\n",
      "|     Julie|Female|10/26/1997|        3:19 PM|102508|12.637|             true|               Legal|\n",
      "|   Brandon|  Male|12-01-1980|        1:08 AM|112807|17.492|             true|     Human Resources|\n",
      "|      Gary|  Male| 1/27/2008|       11:40 PM|109831| 5.831|            false|               Sales|\n",
      "|     Shawn|  Male|12-07-1986|        7:45 PM|111737| 6.414|            false|             Product|\n",
      "|     Diana|Female|10/23/1981|       10:27 AM|132940|19.082|            false|     Client Services|\n",
      "|   Matthew|  Male|09-05-1995|        2:12 AM|100612|13.645|            false|           Marketing|\n",
      "|      null|  Male| 6/14/2012|        4:19 PM|125792| 5.042|             null|                null|\n",
      "|     Scott|  null|07-11-1991|        6:58 PM|122367| 5.218|            false|               Legal|\n",
      "|     Terry|  Male|11/27/1981|        6:30 PM|124008|13.464|             true|     Client Services|\n",
      "| Christina|Female|08-06-2002|        1:19 PM|118780| 9.096|             true|         Engineering|\n",
      "|      null|  Male| 8/21/1998|        2:27 PM|122340| 6.417|             null|                null|\n",
      "|      Jean|Female|12/18/1993|        9:07 AM|119082| 16.18|            false|Business Development|\n",
      "|    Rachel|Female| 2/16/2009|        8:47 PM|142032|12.599|            false|Business Development|\n",
      "|      null|  Male| 1/29/2016|        2:33 AM|122173| 7.797|             null|     Client Services|\n",
      "|   Beverly|Female|09-09-1998|        8:26 PM|121918|15.835|            false|               Legal|\n",
      "|   Cynthia|Female|11/16/1988|        6:54 PM|145146| 7.482|             true|             Product|\n",
      "|     Bruce|  Male|11/28/2009|       10:47 PM|114796| 6.796|            false|             Finance|\n",
      "+----------+------+----------+---------------+------+------+-----------------+--------------------+\n",
      "only showing top 20 rows\n",
      "\n"
     ]
    }
   ],
   "source": [
    "ds.filter(~(ds[\"Salary\"]<=100000)).show()"
   ]
  },
  {
   "cell_type": "code",
   "execution_count": 177,
   "id": "0887ede9",
   "metadata": {},
   "outputs": [
    {
     "name": "stdout",
     "output_type": "stream",
     "text": [
      "+----------+------+----------+---------------+------+------+-----------------+--------------------+\n",
      "|First Name|Gender|Start Date|Last Login Time|Salary| Bonus|Senior Management|                Team|\n",
      "+----------+------+----------+---------------+------+------+-----------------+--------------------+\n",
      "|   Douglas|  Male|08-06-1993|       12:42 PM| 97308| 6.945|             true|           Marketing|\n",
      "|    Thomas|  Male| 3/31/1996|        6:53 AM| 61933|  4.17|             true|                null|\n",
      "|     Jerry|  Male|03-04-2005|        1:00 PM|138705|  null|             true|             Finance|\n",
      "|    Dennis|  Male| 4/18/1987|        1:35 AM|115163|10.125|            false|               Legal|\n",
      "|      Ruby|Female|      null|           null| 65476|10.012|             true|             Product|\n",
      "|    Angela|Female|      null|        6:29 AM| 95570|  null|             true|         Engineering|\n",
      "|   Frances|Female|      null|        6:51 AM|139852| 7.524|             true|Business Development|\n",
      "|    Louise|Female|08-12-1980|        9:01 AM| 63241|15.132|             true|                null|\n",
      "|     Julie|Female|10/26/1997|        3:19 PM|102508|12.637|             true|               Legal|\n",
      "|   Brandon|  Male|12-01-1980|        1:08 AM|112807|17.492|             true|     Human Resources|\n",
      "|      Gary|  Male| 1/27/2008|       11:40 PM|109831| 5.831|            false|               Sales|\n",
      "|  Kimberly|Female| 1/14/1999|        7:13 AM| 41426|14.543|             true|             Finance|\n",
      "|   Lillian|Female|06-05-2016|        6:09 AM| 59414| 1.256|            false|             Product|\n",
      "|    Jeremy|  Male| 9/21/2010|        5:56 AM| 90370| 7.369|            false|     Human Resources|\n",
      "|     Shawn|  Male|12-07-1986|        7:45 PM|111737| 6.414|            false|             Product|\n",
      "|     Diana|Female|10/23/1981|       10:27 AM|132940|19.082|            false|     Client Services|\n",
      "|     Donna|Female| 7/22/2010|        3:48 AM| 81014| 1.894|            false|             Product|\n",
      "|      Lois|  null| 4/22/1995|        7:18 PM| 64714| 4.934|             true|               Legal|\n",
      "|   Matthew|  Male|09-05-1995|        2:12 AM|100612|13.645|            false|           Marketing|\n",
      "|    Joshua|  null|03-08-2012|        1:58 AM| 90816|18.816|             true|     Client Services|\n",
      "+----------+------+----------+---------------+------+------+-----------------+--------------------+\n",
      "only showing top 20 rows\n",
      "\n"
     ]
    }
   ],
   "source": [
    "ds.filter(ds['Salary']>=10000).drop().show()"
   ]
  },
  {
   "cell_type": "code",
   "execution_count": null,
   "id": "d7dc82cd",
   "metadata": {},
   "outputs": [],
   "source": []
  },
  {
   "cell_type": "code",
   "execution_count": 8,
   "id": "aa728870",
   "metadata": {},
   "outputs": [
    {
     "name": "stdout",
     "output_type": "stream",
     "text": [
      "+------+---------+--------+--------+-----+----+\n",
      "|itemid|itemname |itemcost|supplier|grade| qty|\n",
      "+------+---------+--------+--------+-----+----+\n",
      "|     8|    chalk|   65.76|       X|    A|   2|\n",
      "|    12|   Pencil|    null|       Y|    B|   3|\n",
      "|    13|      Pen|    43.0|       X|    A|   5|\n",
      "|    15|   Duster|    54.0|       Y|    C|   1|\n",
      "|    23|    Scale|    10.0|    null|    A|   2|\n",
      "|    34|     null|    null|    null| null|null|\n",
      "+------+---------+--------+--------+-----+----+\n",
      "\n"
     ]
    }
   ],
   "source": [
    "df.show()"
   ]
  },
  {
   "cell_type": "code",
   "execution_count": 15,
   "id": "da10021b",
   "metadata": {},
   "outputs": [],
   "source": [
    "df1=df.filter(df['itemid']>12)"
   ]
  },
  {
   "cell_type": "code",
   "execution_count": 44,
   "id": "efeb6fc2",
   "metadata": {},
   "outputs": [
    {
     "name": "stdout",
     "output_type": "stream",
     "text": [
      "+------+---------+--------+--------+-----+---+\n",
      "|itemid|itemname |itemcost|supplier|grade|qty|\n",
      "+------+---------+--------+--------+-----+---+\n",
      "|    13|      Pen|    43.0|       X|    A|  5|\n",
      "|    15|   Duster|    54.0|       Y|    C|  1|\n",
      "|    23|    Scale|    10.0|    null|    A|  2|\n",
      "+------+---------+--------+--------+-----+---+\n",
      "\n"
     ]
    }
   ],
   "source": [
    "df1.show()"
   ]
  },
  {
   "cell_type": "code",
   "execution_count": 23,
   "id": "7539f254",
   "metadata": {},
   "outputs": [
    {
     "name": "stdout",
     "output_type": "stream",
     "text": [
      "+------+---------+--------+--------+-----+---+\n",
      "|itemid|itemname |itemcost|supplier|grade|qty|\n",
      "+------+---------+--------+--------+-----+---+\n",
      "|    13|      Pen|    43.0|       X|    A|  5|\n",
      "|    15|   Duster|    54.0|       Y|    C|  1|\n",
      "|    23|    Scale|    10.0|    null|    A|  2|\n",
      "+------+---------+--------+--------+-----+---+\n",
      "\n"
     ]
    }
   ],
   "source": [
    "#where-appraoch 2 we can drop the rows\n",
    "#df.show()\n",
    "df.where(df['itemcost']<60).show()"
   ]
  },
  {
   "cell_type": "code",
   "execution_count": 31,
   "id": "bddcdad5",
   "metadata": {},
   "outputs": [
    {
     "name": "stdout",
     "output_type": "stream",
     "text": [
      "+------+---------+--------+--------+-----+---+\n",
      "|itemid|itemname |itemcost|supplier|grade|qty|\n",
      "+------+---------+--------+--------+-----+---+\n",
      "|     8|    chalk|   65.76|       X|    A|  2|\n",
      "|    13|      Pen|    43.0|       X|    A|  5|\n",
      "+------+---------+--------+--------+-----+---+\n",
      "\n"
     ]
    }
   ],
   "source": [
    "df2=df.filter(df['supplier']!='Y')\n",
    "df2.show()"
   ]
  },
  {
   "cell_type": "code",
   "execution_count": 37,
   "id": "a38bc05c",
   "metadata": {},
   "outputs": [
    {
     "name": "stdout",
     "output_type": "stream",
     "text": [
      "+------+---------+--------+--------+-----+----+\n",
      "|itemid|itemname |itemcost|supplier|grade| qty|\n",
      "+------+---------+--------+--------+-----+----+\n",
      "|     8|    chalk|   65.76|       X|    A|   2|\n",
      "|    12|   Pencil|    null|       Y|    B|   3|\n",
      "|    13|      Pen|    43.0|       X|    A|   5|\n",
      "|    15|   Duster|    54.0|       Y|    C|   1|\n",
      "|    23|    Scale|    10.0|    null|    A|   2|\n",
      "|    34|     null|    null|    null| null|null|\n",
      "+------+---------+--------+--------+-----+----+\n",
      "\n"
     ]
    }
   ],
   "source": [
    "df.show()"
   ]
  },
  {
   "cell_type": "code",
   "execution_count": 40,
   "id": "e8052401",
   "metadata": {},
   "outputs": [
    {
     "name": "stdout",
     "output_type": "stream",
     "text": [
      "+------+---------+--------+--------+-----+---+\n",
      "|itemid|itemname |itemcost|supplier|grade|qty|\n",
      "+------+---------+--------+--------+-----+---+\n",
      "|     8|    chalk|   65.76|       X|    A|  2|\n",
      "|    13|      Pen|    43.0|       X|    A|  5|\n",
      "+------+---------+--------+--------+-----+---+\n",
      "\n"
     ]
    }
   ],
   "source": [
    "df.where(df['supplier']!='Y').show()"
   ]
  },
  {
   "cell_type": "code",
   "execution_count": 45,
   "id": "87205c82",
   "metadata": {},
   "outputs": [
    {
     "name": "stdout",
     "output_type": "stream",
     "text": [
      "+------+---------+--------+--------+-----+----+\n",
      "|itemid|itemname |itemcost|supplier|grade| qty|\n",
      "+------+---------+--------+--------+-----+----+\n",
      "|     8|    chalk|   65.76|       X|    A|   2|\n",
      "|    12|   Pencil|    null|       Y|    B|   3|\n",
      "|    13|      Pen|    43.0|       X|    A|   5|\n",
      "|    15|   Duster|    54.0|       Y|    C|   1|\n",
      "|    23|    Scale|    10.0|    null|    A|   2|\n",
      "|     8|    chalk|   80.78|    null| null|null|\n",
      "+------+---------+--------+--------+-----+----+\n",
      "\n"
     ]
    }
   ],
   "source": [
    "df.show()"
   ]
  },
  {
   "cell_type": "code",
   "execution_count": 47,
   "id": "394c9343",
   "metadata": {},
   "outputs": [
    {
     "name": "stdout",
     "output_type": "stream",
     "text": [
      "+------+---------+--------+--------+-----+---+\n",
      "|itemid|itemname |itemcost|supplier|grade|qty|\n",
      "+------+---------+--------+--------+-----+---+\n",
      "|    23|    Scale|    10.0|    null|    A|  2|\n",
      "|    12|   Pencil|    null|       Y|    B|  3|\n",
      "|     8|    chalk|   65.76|       X|    A|  2|\n",
      "|    13|      Pen|    43.0|       X|    A|  5|\n",
      "|    15|   Duster|    54.0|       Y|    C|  1|\n",
      "+------+---------+--------+--------+-----+---+\n",
      "\n"
     ]
    }
   ],
   "source": [
    "df.dropDuplicates().show()"
   ]
  },
  {
   "cell_type": "code",
   "execution_count": 48,
   "id": "aa56f66c",
   "metadata": {},
   "outputs": [
    {
     "name": "stdout",
     "output_type": "stream",
     "text": [
      "+------+---------+--------+--------+-----+---+\n",
      "|itemid|itemname |itemcost|supplier|grade|qty|\n",
      "+------+---------+--------+--------+-----+---+\n",
      "|    23|    Scale|    10.0|    null|    A|  2|\n",
      "|     8|    chalk|   65.76|       X|    A|  2|\n",
      "|    12|   Pencil|    null|       Y|    B|  3|\n",
      "+------+---------+--------+--------+-----+---+\n",
      "\n"
     ]
    }
   ],
   "source": [
    "df.dropDuplicates(['supplier']).show()"
   ]
  },
  {
   "cell_type": "code",
   "execution_count": 49,
   "id": "7fbdc86f",
   "metadata": {},
   "outputs": [],
   "source": [
    "#with distinct clause(for droping dupplicate row)\n",
    "df3=df.distinct()"
   ]
  },
  {
   "cell_type": "code",
   "execution_count": 51,
   "id": "ff45107e",
   "metadata": {},
   "outputs": [
    {
     "name": "stdout",
     "output_type": "stream",
     "text": [
      "+--------+\n",
      "|supplier|\n",
      "+--------+\n",
      "|       X|\n",
      "|       Y|\n",
      "|       X|\n",
      "|       Y|\n",
      "|    null|\n",
      "|       X|\n",
      "+--------+\n",
      "\n"
     ]
    }
   ],
   "source": [
    "df.select('supplier').show()"
   ]
  },
  {
   "cell_type": "code",
   "execution_count": 54,
   "id": "f2999a1c",
   "metadata": {},
   "outputs": [
    {
     "name": "stdout",
     "output_type": "stream",
     "text": [
      "+--------+\n",
      "|supplier|\n",
      "+--------+\n",
      "|    null|\n",
      "|       Y|\n",
      "|       X|\n",
      "+--------+\n",
      "\n"
     ]
    }
   ],
   "source": [
    "df.select('supplier').distinct().show()"
   ]
  },
  {
   "cell_type": "code",
   "execution_count": 55,
   "id": "6f3c9b7f",
   "metadata": {},
   "outputs": [
    {
     "name": "stdout",
     "output_type": "stream",
     "text": [
      "root\n",
      " |-- itemid: integer (nullable = true)\n",
      " |-- itemname : string (nullable = true)\n",
      " |-- itemcost: double (nullable = true)\n",
      " |-- supplier: string (nullable = true)\n",
      " |-- grade: string (nullable = true)\n",
      " |-- qty: integer (nullable = true)\n",
      "\n"
     ]
    }
   ],
   "source": [
    "#casting\n",
    "df.printSchema()"
   ]
  },
  {
   "cell_type": "code",
   "execution_count": 56,
   "id": "7bf046ad",
   "metadata": {},
   "outputs": [],
   "source": [
    "df=spark.read.csv('d:\\\\item_details.csv',header=True)"
   ]
  },
  {
   "cell_type": "code",
   "execution_count": 57,
   "id": "d3620503",
   "metadata": {},
   "outputs": [
    {
     "name": "stdout",
     "output_type": "stream",
     "text": [
      "root\n",
      " |-- itemid: string (nullable = true)\n",
      " |-- itemname : string (nullable = true)\n",
      " |-- itemcost: string (nullable = true)\n",
      " |-- supplier: string (nullable = true)\n",
      " |-- grade: string (nullable = true)\n",
      " |-- qty: string (nullable = true)\n",
      "\n"
     ]
    }
   ],
   "source": [
    "df.printSchema()"
   ]
  },
  {
   "cell_type": "code",
   "execution_count": 58,
   "id": "0f85f8a0",
   "metadata": {},
   "outputs": [],
   "source": [
    "from pyspark.sql.types import IntegerType,DateType"
   ]
  },
  {
   "cell_type": "code",
   "execution_count": 60,
   "id": "8336be80",
   "metadata": {},
   "outputs": [],
   "source": [
    "pdf1=df.withColumn('itemid',df['itemid'].cast('Integer'))"
   ]
  },
  {
   "cell_type": "code",
   "execution_count": 61,
   "id": "517630b5",
   "metadata": {},
   "outputs": [
    {
     "name": "stdout",
     "output_type": "stream",
     "text": [
      "root\n",
      " |-- itemid: integer (nullable = true)\n",
      " |-- itemname : string (nullable = true)\n",
      " |-- itemcost: string (nullable = true)\n",
      " |-- supplier: string (nullable = true)\n",
      " |-- grade: string (nullable = true)\n",
      " |-- qty: string (nullable = true)\n",
      "\n"
     ]
    }
   ],
   "source": [
    "pdf1.printSchema()"
   ]
  },
  {
   "cell_type": "code",
   "execution_count": 66,
   "id": "f0466538",
   "metadata": {},
   "outputs": [],
   "source": [
    "pd=df.withColumn('itemcost',df['itemcost'].cast('float')).withColumn('itemid',df['itemid'].cast('Integer'))"
   ]
  },
  {
   "cell_type": "code",
   "execution_count": 68,
   "id": "a69a2f45",
   "metadata": {},
   "outputs": [
    {
     "name": "stdout",
     "output_type": "stream",
     "text": [
      "root\n",
      " |-- itemid: integer (nullable = true)\n",
      " |-- itemname : string (nullable = true)\n",
      " |-- itemcost: float (nullable = true)\n",
      " |-- supplier: string (nullable = true)\n",
      " |-- grade: string (nullable = true)\n",
      " |-- qty: string (nullable = true)\n",
      "\n"
     ]
    }
   ],
   "source": [
    "pd.printSchema()"
   ]
  },
  {
   "cell_type": "code",
   "execution_count": 72,
   "id": "82543e6b",
   "metadata": {},
   "outputs": [],
   "source": [
    "data=[(234,'12/31/2020'),(274,'11/30/2021')]\n",
    "df=spark.createDataFrame(data,['id','JoiningDate'])"
   ]
  },
  {
   "cell_type": "code",
   "execution_count": 73,
   "id": "39b1f657",
   "metadata": {},
   "outputs": [
    {
     "name": "stdout",
     "output_type": "stream",
     "text": [
      "+---+-----------+\n",
      "| id|JoiningDate|\n",
      "+---+-----------+\n",
      "|234| 12/31/2020|\n",
      "|274| 11/30/2021|\n",
      "+---+-----------+\n",
      "\n"
     ]
    }
   ],
   "source": [
    "df.show()"
   ]
  },
  {
   "cell_type": "code",
   "execution_count": 74,
   "id": "866db2ed",
   "metadata": {},
   "outputs": [
    {
     "name": "stdout",
     "output_type": "stream",
     "text": [
      "root\n",
      " |-- id: long (nullable = true)\n",
      " |-- JoiningDate: string (nullable = true)\n",
      "\n"
     ]
    }
   ],
   "source": [
    "df.printSchema()  "
   ]
  },
  {
   "cell_type": "code",
   "execution_count": 75,
   "id": "b8cec24b",
   "metadata": {},
   "outputs": [],
   "source": [
    "pd2=df.withColumn('JoiningDate',df['JoiningDate'].cast('Date'))"
   ]
  },
  {
   "cell_type": "code",
   "execution_count": 76,
   "id": "d03ce04f",
   "metadata": {},
   "outputs": [
    {
     "name": "stdout",
     "output_type": "stream",
     "text": [
      "root\n",
      " |-- id: long (nullable = true)\n",
      " |-- JoiningDate: date (nullable = true)\n",
      "\n"
     ]
    }
   ],
   "source": [
    "pd2.printSchema()"
   ]
  },
  {
   "cell_type": "code",
   "execution_count": 77,
   "id": "03b3f603",
   "metadata": {},
   "outputs": [
    {
     "name": "stdout",
     "output_type": "stream",
     "text": [
      "+---+-----------+\n",
      "| id|JoiningDate|\n",
      "+---+-----------+\n",
      "|234| 12/31/2020|\n",
      "|274| 11/30/2021|\n",
      "+---+-----------+\n",
      "\n"
     ]
    }
   ],
   "source": [
    "df.show()"
   ]
  },
  {
   "cell_type": "code",
   "execution_count": 78,
   "id": "a72e65ea",
   "metadata": {},
   "outputs": [
    {
     "name": "stdout",
     "output_type": "stream",
     "text": [
      "+---+-----------+\n",
      "| id|JoiningDate|\n",
      "+---+-----------+\n",
      "|234|       null|\n",
      "|274|       null|\n",
      "+---+-----------+\n",
      "\n"
     ]
    }
   ],
   "source": [
    "pd2.show()"
   ]
  },
  {
   "cell_type": "code",
   "execution_count": 82,
   "id": "16ae43ba",
   "metadata": {},
   "outputs": [
    {
     "ename": "NameError",
     "evalue": "name 'add_months' is not defined",
     "output_type": "error",
     "traceback": [
      "\u001b[1;31m---------------------------------------------------------------\u001b[0m",
      "\u001b[1;31mNameError\u001b[0m                     Traceback (most recent call last)",
      "Input \u001b[1;32mIn [82]\u001b[0m, in \u001b[0;36m<module>\u001b[1;34m\u001b[0m\n\u001b[1;32m----> 1\u001b[0m pd1\u001b[38;5;241m=\u001b[39mpd2\u001b[38;5;241m.\u001b[39mwithColumn(\u001b[38;5;124m'\u001b[39m\u001b[38;5;124mProdessionDate\u001b[39m\u001b[38;5;124m'\u001b[39m,\u001b[43madd_months\u001b[49m(\u001b[38;5;124m'\u001b[39m\u001b[38;5;124mJoiningDate\u001b[39m\u001b[38;5;124m'\u001b[39m,\u001b[38;5;241m2\u001b[39m))\n",
      "\u001b[1;31mNameError\u001b[0m: name 'add_months' is not defined"
     ]
    }
   ],
   "source": [
    "pd1=pd2.withColumn('ProdessionDate',add_months('JoiningDate',2))"
   ]
  },
  {
   "cell_type": "code",
   "execution_count": 88,
   "id": "d7e77441",
   "metadata": {},
   "outputs": [
    {
     "ename": "ModuleNotFoundError",
     "evalue": "No module named 'Spark'",
     "output_type": "error",
     "traceback": [
      "\u001b[1;31m---------------------------------------------------------------\u001b[0m",
      "\u001b[1;31mModuleNotFoundError\u001b[0m           Traceback (most recent call last)",
      "Input \u001b[1;32mIn [88]\u001b[0m, in \u001b[0;36m<module>\u001b[1;34m\u001b[0m\n\u001b[1;32m----> 1\u001b[0m \u001b[38;5;28;01mimport\u001b[39;00m \u001b[38;5;21;01mSpark\u001b[39;00m\u001b[38;5;21;01m.\u001b[39;00m\u001b[38;5;21;01msql\u001b[39;00m\u001b[38;5;21;01m.\u001b[39;00m\u001b[38;5;21;01mContext\u001b[39;00m\u001b[38;5;21;01m.\u001b[39;00m\u001b[38;5;21;01mimplicits\u001b[39;00m\u001b[38;5;21;01m.\u001b[39;00m\u001b[38;5;21;01m_\u001b[39;00m\n",
      "\u001b[1;31mModuleNotFoundError\u001b[0m: No module named 'Spark'"
     ]
    }
   ],
   "source": [
    "import Spark.sql.Context.implicits._"
   ]
  },
  {
   "cell_type": "code",
   "execution_count": 89,
   "id": "415bf393",
   "metadata": {},
   "outputs": [
    {
     "ename": "ModuleNotFoundError",
     "evalue": "No module named 'pyspark.sql.types.DateType'; 'pyspark.sql.types' is not a package",
     "output_type": "error",
     "traceback": [
      "\u001b[1;31m---------------------------------------------------------------\u001b[0m",
      "\u001b[1;31mModuleNotFoundError\u001b[0m           Traceback (most recent call last)",
      "Input \u001b[1;32mIn [89]\u001b[0m, in \u001b[0;36m<module>\u001b[1;34m\u001b[0m\n\u001b[1;32m----> 1\u001b[0m \u001b[38;5;28;01mimport\u001b[39;00m \u001b[38;5;21;01mpyspark\u001b[39;00m\u001b[38;5;21;01m.\u001b[39;00m\u001b[38;5;21;01msql\u001b[39;00m\u001b[38;5;21;01m.\u001b[39;00m\u001b[38;5;21;01mtypes\u001b[39;00m\u001b[38;5;21;01m.\u001b[39;00m\u001b[38;5;21;01mDateType\u001b[39;00m\n",
      "\u001b[1;31mModuleNotFoundError\u001b[0m: No module named 'pyspark.sql.types.DateType'; 'pyspark.sql.types' is not a package"
     ]
    }
   ],
   "source": [
    "import pyspark.sql.types.DateType "
   ]
  },
  {
   "cell_type": "code",
   "execution_count": 90,
   "id": "0d4f56c3",
   "metadata": {},
   "outputs": [],
   "source": [
    "from pyspark.sql.functions import *"
   ]
  },
  {
   "cell_type": "code",
   "execution_count": 91,
   "id": "168d1b0e",
   "metadata": {},
   "outputs": [],
   "source": [
    "pd1=pd2.withColumn('ProdessionDate',add_months('JoiningDate',2))"
   ]
  },
  {
   "cell_type": "code",
   "execution_count": 93,
   "id": "ae007f04",
   "metadata": {},
   "outputs": [
    {
     "name": "stdout",
     "output_type": "stream",
     "text": [
      "+---+-----------+--------------+\n",
      "| id|JoiningDate|ProdessionDate|\n",
      "+---+-----------+--------------+\n",
      "|234|       null|          null|\n",
      "|274|       null|          null|\n",
      "+---+-----------+--------------+\n",
      "\n"
     ]
    }
   ],
   "source": [
    "pd1.show()"
   ]
  },
  {
   "cell_type": "code",
   "execution_count": 94,
   "id": "cbb7d444",
   "metadata": {},
   "outputs": [
    {
     "name": "stdout",
     "output_type": "stream",
     "text": [
      "+------+---------+--------+--------+-----+---+\n",
      "|itemid|itemname |itemcost|supplier|grade|qty|\n",
      "+------+---------+--------+--------+-----+---+\n",
      "|     8|    chalk|   65.76|       X|    A|  2|\n",
      "|    12|   Pencil|    null|       Y|    B|  3|\n",
      "|    13|      Pen|      43|       X|    A|  5|\n",
      "|    15|   Duster|      54|       Y|    C|  1|\n",
      "|    23|    Scale|      10|    null|    A|  2|\n",
      "|     8|    chalk|   65.76|       X|    A|  2|\n",
      "+------+---------+--------+--------+-----+---+\n",
      "\n"
     ]
    }
   ],
   "source": [
    "pdf1.show()"
   ]
  },
  {
   "cell_type": "code",
   "execution_count": 96,
   "id": "2d672c14",
   "metadata": {},
   "outputs": [],
   "source": [
    "pdf2=spark.read.option('header','true').csv('d:\\\\item.csv',inferSchema=True)"
   ]
  },
  {
   "cell_type": "code",
   "execution_count": 97,
   "id": "f6406748",
   "metadata": {},
   "outputs": [
    {
     "name": "stdout",
     "output_type": "stream",
     "text": [
      "+------+--------+--------+--------+-----+---+\n",
      "|itemid|itemname|itemcost|supplier|grade|qty|\n",
      "+------+--------+--------+--------+-----+---+\n",
      "|    15|   chalk|   65.76|       X|    A|  2|\n",
      "|    11|  Pencil|   900.0|       Y|    B|  3|\n",
      "|    13|     Pen|    43.0|       X|    A|  5|\n",
      "|    15|  Duster|    54.0|       Y|    C|  1|\n",
      "|    78|   Scale|   100.0|    null|    A|  2|\n",
      "|    89|   chalk|   65.76|       X|    A|  2|\n",
      "+------+--------+--------+--------+-----+---+\n",
      "\n"
     ]
    }
   ],
   "source": [
    "pdf2.show()"
   ]
  },
  {
   "cell_type": "code",
   "execution_count": 105,
   "id": "a0d9925e",
   "metadata": {},
   "outputs": [],
   "source": [
    "result=pdf1.union(pdf2)"
   ]
  },
  {
   "cell_type": "code",
   "execution_count": 106,
   "id": "4adbf2f8",
   "metadata": {},
   "outputs": [
    {
     "name": "stdout",
     "output_type": "stream",
     "text": [
      "+------+---------+--------+--------+-----+---+\n",
      "|itemid|itemname |itemcost|supplier|grade|qty|\n",
      "+------+---------+--------+--------+-----+---+\n",
      "|     8|    chalk|   65.76|       X|    A|  2|\n",
      "|    12|   Pencil|    null|       Y|    B|  3|\n",
      "|    13|      Pen|      43|       X|    A|  5|\n",
      "|    15|   Duster|      54|       Y|    C|  1|\n",
      "|    23|    Scale|      10|    null|    A|  2|\n",
      "|     8|    chalk|   65.76|       X|    A|  2|\n",
      "|    15|    chalk|   65.76|       X|    A|  2|\n",
      "|    11|   Pencil|   900.0|       Y|    B|  3|\n",
      "|    13|      Pen|    43.0|       X|    A|  5|\n",
      "|    15|   Duster|    54.0|       Y|    C|  1|\n",
      "|    78|    Scale|   100.0|    null|    A|  2|\n",
      "|    89|    chalk|   65.76|       X|    A|  2|\n",
      "+------+---------+--------+--------+-----+---+\n",
      "\n"
     ]
    }
   ],
   "source": [
    "result.show()"
   ]
  },
  {
   "cell_type": "code",
   "execution_count": 129,
   "id": "1b95d4d3",
   "metadata": {},
   "outputs": [
    {
     "name": "stdout",
     "output_type": "stream",
     "text": [
      "+------+--------+--------+--------+-----+---+\n",
      "|itemid|itemname|itemcost|supplier|grade|qty|\n",
      "+------+--------+--------+--------+-----+---+\n",
      "|     8|   chalk|   65.76|       X|    A|  2|\n",
      "|    12|  Pencil|    null|       Y|    B|  3|\n",
      "|    13|     Pen|    43.0|       X|    A|  5|\n",
      "|    15|  Duster|    54.0|       Y|    C|  1|\n",
      "|    23|   Scale|    10.0|    null|    A|  2|\n",
      "|     8|   chalk|   65.76|       X|    A|  2|\n",
      "|    15|   chalk|   65.76|       X|    A|  2|\n",
      "|    11|  Pencil|   900.0|       Y|    B|  3|\n",
      "|    13|     Pen|    43.0|       X|    A|  5|\n",
      "|    15|  Duster|    54.0|       Y|    C|  1|\n",
      "|    78|   Scale|   100.0|    null|    A|  2|\n",
      "|    89|   chalk|   65.76|       X|    A|  2|\n",
      "+------+--------+--------+--------+-----+---+\n",
      "\n"
     ]
    }
   ],
   "source": [
    "res=df.unionByName(pdf2)#column names should be same\n",
    "res.show()"
   ]
  },
  {
   "cell_type": "code",
   "execution_count": 126,
   "id": "0d3ed7db",
   "metadata": {},
   "outputs": [],
   "source": [
    "import functools\n",
    "def joinFrames(frameList):\n",
    "    res=functools.reduce(lambda f1,f2:f1.union(f2.select(f1.columns)),frameList)\n",
    "    return res"
   ]
  },
  {
   "cell_type": "code",
   "execution_count": 127,
   "id": "e1f209fd",
   "metadata": {},
   "outputs": [
    {
     "name": "stdout",
     "output_type": "stream",
     "text": [
      "+------+--------+--------+--------+-----+---+\n",
      "|itemid|itemname|itemcost|supplier|grade|qty|\n",
      "+------+--------+--------+--------+-----+---+\n",
      "|     8|   chalk|   65.76|       X|    A|  2|\n",
      "|    12|  Pencil|    null|       Y|    B|  3|\n",
      "|    13|     Pen|    43.0|       X|    A|  5|\n",
      "|    15|  Duster|    54.0|       Y|    C|  1|\n",
      "|    23|   Scale|    10.0|    null|    A|  2|\n",
      "|     8|   chalk|   65.76|       X|    A|  2|\n",
      "|    15|   chalk|   65.76|       X|    A|  2|\n",
      "|    11|  Pencil|   900.0|       Y|    B|  3|\n",
      "|    13|     Pen|    43.0|       X|    A|  5|\n",
      "|    15|  Duster|    54.0|       Y|    C|  1|\n",
      "|    78|   Scale|   100.0|    null|    A|  2|\n",
      "|    89|   chalk|   65.76|       X|    A|  2|\n",
      "+------+--------+--------+--------+-----+---+\n",
      "\n"
     ]
    }
   ],
   "source": [
    "r=joinFrames([df,pdf2])\n",
    "r.show()"
   ]
  },
  {
   "cell_type": "code",
   "execution_count": 128,
   "id": "262b8da2",
   "metadata": {},
   "outputs": [
    {
     "name": "stdout",
     "output_type": "stream",
     "text": [
      "+------+--------+--------+--------+-----+---+\n",
      "|itemid|itemname|itemcost|supplier|grade|qty|\n",
      "+------+--------+--------+--------+-----+---+\n",
      "|     8|   chalk|   65.76|       X|    A|  2|\n",
      "|    12|  Pencil|    null|       Y|    B|  3|\n",
      "|    13|     Pen|    43.0|       X|    A|  5|\n",
      "|    15|  Duster|    54.0|       Y|    C|  1|\n",
      "|    23|   Scale|    10.0|    null|    A|  2|\n",
      "|     8|   chalk|   65.76|       X|    A|  2|\n",
      "+------+--------+--------+--------+-----+---+\n",
      "\n"
     ]
    }
   ],
   "source": [
    "df.show()"
   ]
  },
  {
   "cell_type": "code",
   "execution_count": 124,
   "id": "11ae0866",
   "metadata": {},
   "outputs": [
    {
     "name": "stdout",
     "output_type": "stream",
     "text": [
      "+------+--------+--------+--------+-----+---+\n",
      "|itemid|itemname|itemcost|supplier|grade|qty|\n",
      "+------+--------+--------+--------+-----+---+\n",
      "|    15|   chalk|   65.76|       X|    A|  2|\n",
      "|    11|  Pencil|   900.0|       Y|    B|  3|\n",
      "|    13|     Pen|    43.0|       X|    A|  5|\n",
      "|    15|  Duster|    54.0|       Y|    C|  1|\n",
      "|    78|   Scale|   100.0|    null|    A|  2|\n",
      "|    89|   chalk|   65.76|       X|    A|  2|\n",
      "+------+--------+--------+--------+-----+---+\n",
      "\n"
     ]
    }
   ],
   "source": [
    "pdf2.show()"
   ]
  },
  {
   "cell_type": "code",
   "execution_count": 130,
   "id": "330776dc",
   "metadata": {},
   "outputs": [
    {
     "name": "stdout",
     "output_type": "stream",
     "text": [
      "+------+-------------+--------+---+\n",
      "|BookId|     BookName|BookCost|Aid|\n",
      "+------+-------------+--------+---+\n",
      "|  1001|       I Dare|     300|120|\n",
      "|  1002|  The Shivaji|    2000|122|\n",
      "|  1003|      Panipat|    1000|122|\n",
      "|  1004|  Asami Asami|    2000|123|\n",
      "|  1005|   Sweet Home|     500|121|\n",
      "|  1006|  India Today|    2250|122|\n",
      "|  1007|Know Yourself|    1334|124|\n",
      "+------+-------------+--------+---+\n",
      "\n",
      "+---+-------------+\n",
      "|Aid|   AuthorName|\n",
      "+---+-------------+\n",
      "|121|  Tarak Mehta|\n",
      "|120|   Kiran Bedi|\n",
      "|122|Vishwas Patil|\n",
      "|123|P.L.Deshpande|\n",
      "|134|     V.P.Kale|\n",
      "|135| G.A.Kulkarni|\n",
      "+---+-------------+\n",
      "\n"
     ]
    }
   ],
   "source": [
    "pdf=spark.read.csv('d://Books.csv',header=True)\n",
    "pdf.show()\n",
    "\n",
    "pdf2=spark.read.csv('d://Authors.csv',header=True)\n",
    "pdf2.show()"
   ]
  },
  {
   "cell_type": "code",
   "execution_count": 132,
   "id": "92923743",
   "metadata": {},
   "outputs": [
    {
     "name": "stdout",
     "output_type": "stream",
     "text": [
      "+------+-----------+--------+---+---+-------------+\n",
      "|BookId|   BookName|BookCost|Aid|Aid|   AuthorName|\n",
      "+------+-----------+--------+---+---+-------------+\n",
      "|  1001|     I Dare|     300|120|120|   Kiran Bedi|\n",
      "|  1002|The Shivaji|    2000|122|122|Vishwas Patil|\n",
      "|  1003|    Panipat|    1000|122|122|Vishwas Patil|\n",
      "|  1004|Asami Asami|    2000|123|123|P.L.Deshpande|\n",
      "|  1005| Sweet Home|     500|121|121|  Tarak Mehta|\n",
      "|  1006|India Today|    2250|122|122|Vishwas Patil|\n",
      "+------+-----------+--------+---+---+-------------+\n",
      "\n"
     ]
    }
   ],
   "source": [
    "#joining 2 tables using join method\n",
    "pdf3=pdf.join(pdf2,pdf.Aid==pdf2.Aid)\n",
    "pdf3.show()"
   ]
  },
  {
   "cell_type": "code",
   "execution_count": 133,
   "id": "19a9a412",
   "metadata": {},
   "outputs": [
    {
     "name": "stdout",
     "output_type": "stream",
     "text": [
      "+------+-------------+--------+----+----+-------------+\n",
      "|BookId|     BookName|BookCost| Aid| Aid|   AuthorName|\n",
      "+------+-------------+--------+----+----+-------------+\n",
      "|  1001|       I Dare|     300| 120| 120|   Kiran Bedi|\n",
      "|  1005|   Sweet Home|     500| 121| 121|  Tarak Mehta|\n",
      "|  1002|  The Shivaji|    2000| 122| 122|Vishwas Patil|\n",
      "|  1003|      Panipat|    1000| 122| 122|Vishwas Patil|\n",
      "|  1006|  India Today|    2250| 122| 122|Vishwas Patil|\n",
      "|  1004|  Asami Asami|    2000| 123| 123|P.L.Deshpande|\n",
      "|  1007|Know Yourself|    1334| 124|null|         null|\n",
      "|  null|         null|    null|null| 134|     V.P.Kale|\n",
      "|  null|         null|    null|null| 135| G.A.Kulkarni|\n",
      "+------+-------------+--------+----+----+-------------+\n",
      "\n"
     ]
    }
   ],
   "source": [
    "#joining 2 tables using join method\n",
    "pdf3=pdf.join(pdf2,pdf.Aid==pdf2.Aid,'fullouter')\n",
    "pdf3.show()"
   ]
  },
  {
   "cell_type": "code",
   "execution_count": 134,
   "id": "957e367d",
   "metadata": {},
   "outputs": [
    {
     "name": "stdout",
     "output_type": "stream",
     "text": [
      "+------+-------------+--------+---+----+-------------+\n",
      "|BookId|     BookName|BookCost|Aid| Aid|   AuthorName|\n",
      "+------+-------------+--------+---+----+-------------+\n",
      "|  1001|       I Dare|     300|120| 120|   Kiran Bedi|\n",
      "|  1002|  The Shivaji|    2000|122| 122|Vishwas Patil|\n",
      "|  1003|      Panipat|    1000|122| 122|Vishwas Patil|\n",
      "|  1004|  Asami Asami|    2000|123| 123|P.L.Deshpande|\n",
      "|  1005|   Sweet Home|     500|121| 121|  Tarak Mehta|\n",
      "|  1006|  India Today|    2250|122| 122|Vishwas Patil|\n",
      "|  1007|Know Yourself|    1334|124|null|         null|\n",
      "+------+-------------+--------+---+----+-------------+\n",
      "\n"
     ]
    }
   ],
   "source": [
    "pdf3=pdf.join(pdf2,pdf.Aid==pdf2.Aid,'left')\n",
    "pdf3.show()"
   ]
  },
  {
   "cell_type": "code",
   "execution_count": 137,
   "id": "9ecc2acc",
   "metadata": {},
   "outputs": [
    {
     "name": "stdout",
     "output_type": "stream",
     "text": [
      "+------+-----------+--------+----+---+-------------+\n",
      "|BookId|   BookName|BookCost| Aid|Aid|   AuthorName|\n",
      "+------+-----------+--------+----+---+-------------+\n",
      "|  1005| Sweet Home|     500| 121|121|  Tarak Mehta|\n",
      "|  1001|     I Dare|     300| 120|120|   Kiran Bedi|\n",
      "|  1006|India Today|    2250| 122|122|Vishwas Patil|\n",
      "|  1003|    Panipat|    1000| 122|122|Vishwas Patil|\n",
      "|  1002|The Shivaji|    2000| 122|122|Vishwas Patil|\n",
      "|  1004|Asami Asami|    2000| 123|123|P.L.Deshpande|\n",
      "|  null|       null|    null|null|134|     V.P.Kale|\n",
      "|  null|       null|    null|null|135| G.A.Kulkarni|\n",
      "+------+-----------+--------+----+---+-------------+\n",
      "\n"
     ]
    }
   ],
   "source": [
    "pdf3=pdf.join(pdf2,pdf.Aid==pdf2.Aid,'rightouter')\n",
    "pdf3.show()"
   ]
  },
  {
   "cell_type": "code",
   "execution_count": 138,
   "id": "e82d235c",
   "metadata": {},
   "outputs": [
    {
     "name": "stdout",
     "output_type": "stream",
     "text": [
      "+------+-----------+--------+---+\n",
      "|BookId|   BookName|BookCost|Aid|\n",
      "+------+-----------+--------+---+\n",
      "|  1001|     I Dare|     300|120|\n",
      "|  1002|The Shivaji|    2000|122|\n",
      "|  1003|    Panipat|    1000|122|\n",
      "|  1004|Asami Asami|    2000|123|\n",
      "|  1005| Sweet Home|     500|121|\n",
      "|  1006|India Today|    2250|122|\n",
      "+------+-----------+--------+---+\n",
      "\n"
     ]
    }
   ],
   "source": [
    "pdf3=pdf.join(pdf2,pdf.Aid==pdf2.Aid,'leftsemi')\n",
    "pdf3.show()"
   ]
  },
  {
   "cell_type": "code",
   "execution_count": 142,
   "id": "43c47f1b",
   "metadata": {},
   "outputs": [
    {
     "name": "stdout",
     "output_type": "stream",
     "text": [
      "+---+-------------+\n",
      "|Aid|   AuthorName|\n",
      "+---+-------------+\n",
      "|121|  Tarak Mehta|\n",
      "|120|   Kiran Bedi|\n",
      "|122|Vishwas Patil|\n",
      "|123|P.L.Deshpande|\n",
      "+---+-------------+\n",
      "\n"
     ]
    }
   ],
   "source": [
    "pdf3=pdf2.join(pdf,pdf2.Aid==pdf.Aid,'leftsemi')\n",
    "pdf3.show()"
   ]
  },
  {
   "cell_type": "code",
   "execution_count": 143,
   "id": "f70f3aaa",
   "metadata": {},
   "outputs": [
    {
     "name": "stdout",
     "output_type": "stream",
     "text": [
      "+------+-----------+--------+---+---+-------------+\n",
      "|BookId|   BookName|BookCost|Aid|Aid|   AuthorName|\n",
      "+------+-----------+--------+---+---+-------------+\n",
      "|  1001|     I Dare|     300|120|120|   Kiran Bedi|\n",
      "|  1002|The Shivaji|    2000|122|122|Vishwas Patil|\n",
      "|  1003|    Panipat|    1000|122|122|Vishwas Patil|\n",
      "|  1004|Asami Asami|    2000|123|123|P.L.Deshpande|\n",
      "|  1005| Sweet Home|     500|121|121|  Tarak Mehta|\n",
      "|  1006|India Today|    2250|122|122|Vishwas Patil|\n",
      "+------+-----------+--------+---+---+-------------+\n",
      "\n"
     ]
    }
   ],
   "source": [
    "pdf3=pdf.join(pdf2,pdf.Aid==pdf2.Aid)\n",
    "pdf3.show()"
   ]
  },
  {
   "cell_type": "code",
   "execution_count": 144,
   "id": "8b496404",
   "metadata": {},
   "outputs": [
    {
     "name": "stdout",
     "output_type": "stream",
     "text": [
      "+------+-------------+--------+---+\n",
      "|BookId|     BookName|BookCost|Aid|\n",
      "+------+-------------+--------+---+\n",
      "|  1007|Know Yourself|    1334|124|\n",
      "+------+-------------+--------+---+\n",
      "\n"
     ]
    }
   ],
   "source": [
    "pdf3=pdf.join(pdf2,pdf.Aid==pdf2.Aid,'leftanti')\n",
    "pdf3.show()"
   ]
  },
  {
   "cell_type": "code",
   "execution_count": 145,
   "id": "b5bcd9a9",
   "metadata": {},
   "outputs": [
    {
     "name": "stdout",
     "output_type": "stream",
     "text": [
      "+------+-------------+--------+----+----+-------------+\n",
      "|BookId|     BookName|BookCost| Aid| Aid|   AuthorName|\n",
      "+------+-------------+--------+----+----+-------------+\n",
      "|  1001|       I Dare|     300| 120| 120|   Kiran Bedi|\n",
      "|  1005|   Sweet Home|     500| 121| 121|  Tarak Mehta|\n",
      "|  1002|  The Shivaji|    2000| 122| 122|Vishwas Patil|\n",
      "|  1003|      Panipat|    1000| 122| 122|Vishwas Patil|\n",
      "|  1006|  India Today|    2250| 122| 122|Vishwas Patil|\n",
      "|  1004|  Asami Asami|    2000| 123| 123|P.L.Deshpande|\n",
      "|  1007|Know Yourself|    1334| 124|null|         null|\n",
      "|  null|         null|    null|null| 134|     V.P.Kale|\n",
      "|  null|         null|    null|null| 135| G.A.Kulkarni|\n",
      "+------+-------------+--------+----+----+-------------+\n",
      "\n",
      "+------+-------------+--------+----+----+-------------+\n",
      "|BookId|     BookName|BookCost| Aid| Aid|   AuthorName|\n",
      "+------+-------------+--------+----+----+-------------+\n",
      "|  1001|       I Dare|     300| 120| 120|   Kiran Bedi|\n",
      "|  1005|   Sweet Home|     500| 121| 121|  Tarak Mehta|\n",
      "|  1002|  The Shivaji|    2000| 122| 122|Vishwas Patil|\n",
      "|  1003|      Panipat|    1000| 122| 122|Vishwas Patil|\n",
      "|  1006|  India Today|    2250| 122| 122|Vishwas Patil|\n",
      "|  1004|  Asami Asami|    2000| 123| 123|P.L.Deshpande|\n",
      "|  1007|Know Yourself|    1334| 124|null|         null|\n",
      "|  null|         null|    null|null| 134|     V.P.Kale|\n",
      "|  null|         null|    null|null| 135| G.A.Kulkarni|\n",
      "+------+-------------+--------+----+----+-------------+\n",
      "\n"
     ]
    }
   ],
   "source": [
    "pdf3=pdf.join(pdf2,pdf.Aid==pdf2.Aid,'fullouter')\n",
    "pdf3.show()\n",
    "pdf3=pdf.join(pdf2,pdf.Aid==pdf2.Aid,'outer')\n",
    "pdf3.show()"
   ]
  },
  {
   "cell_type": "code",
   "execution_count": 146,
   "id": "581dbbfa",
   "metadata": {},
   "outputs": [
    {
     "name": "stdout",
     "output_type": "stream",
     "text": [
      "+------+-----------+--------+---+---+-------------+\n",
      "|BookId|   BookName|BookCost|Aid|Aid|   AuthorName|\n",
      "+------+-----------+--------+---+---+-------------+\n",
      "|  1001|     I Dare|     300|120|120|   Kiran Bedi|\n",
      "|  1002|The Shivaji|    2000|122|122|Vishwas Patil|\n",
      "|  1003|    Panipat|    1000|122|122|Vishwas Patil|\n",
      "|  1004|Asami Asami|    2000|123|123|P.L.Deshpande|\n",
      "|  1005| Sweet Home|     500|121|121|  Tarak Mehta|\n",
      "|  1006|India Today|    2250|122|122|Vishwas Patil|\n",
      "+------+-----------+--------+---+---+-------------+\n",
      "\n"
     ]
    }
   ],
   "source": [
    "pdf3=pdf.join(pdf2,pdf.Aid==pdf2.Aid,'cross')\n",
    "pdf3.show()"
   ]
  },
  {
   "cell_type": "code",
   "execution_count": null,
   "id": "ec76d24a",
   "metadata": {},
   "outputs": [],
   "source": []
  }
 ],
 "metadata": {
  "kernelspec": {
   "display_name": "Python 3 (ipykernel)",
   "language": "python",
   "name": "python3"
  },
  "language_info": {
   "codemirror_mode": {
    "name": "ipython",
    "version": 3
   },
   "file_extension": ".py",
   "mimetype": "text/x-python",
   "name": "python",
   "nbconvert_exporter": "python",
   "pygments_lexer": "ipython3",
   "version": "3.9.7"
  }
 },
 "nbformat": 4,
 "nbformat_minor": 5
}
