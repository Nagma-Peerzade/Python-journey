{
 "cells": [
  {
   "cell_type": "code",
   "execution_count": 1,
   "id": "196cba18",
   "metadata": {},
   "outputs": [],
   "source": [
    "import findspark\n",
    "findspark.init()"
   ]
  },
  {
   "cell_type": "code",
   "execution_count": 2,
   "id": "2c9742db",
   "metadata": {},
   "outputs": [],
   "source": [
    "import pyspark\n",
    "from pyspark.sql import SparkSession"
   ]
  },
  {
   "cell_type": "code",
   "execution_count": 4,
   "id": "77e3bdad",
   "metadata": {},
   "outputs": [],
   "source": [
    "spark=SparkSession.builder.appName('ItemsApp').getOrCreate()"
   ]
  },
  {
   "cell_type": "code",
   "execution_count": 55,
   "id": "fed6c9fb",
   "metadata": {},
   "outputs": [],
   "source": [
    "df=spark.read.csv('d:\\\\item_details.csv',header=True,inferSchema=True)"
   ]
  },
  {
   "cell_type": "code",
   "execution_count": 6,
   "id": "05a39e0e",
   "metadata": {},
   "outputs": [
    {
     "data": {
      "text/html": [
       "\n",
       "            <div>\n",
       "                <p><b>SparkSession - in-memory</b></p>\n",
       "                \n",
       "        <div>\n",
       "            <p><b>SparkContext</b></p>\n",
       "\n",
       "            <p><a href=\"http://LAPTOP-403SC8Q4:4040\">Spark UI</a></p>\n",
       "\n",
       "            <dl>\n",
       "              <dt>Version</dt>\n",
       "                <dd><code>v3.2.1</code></dd>\n",
       "              <dt>Master</dt>\n",
       "                <dd><code>local[*]</code></dd>\n",
       "              <dt>AppName</dt>\n",
       "                <dd><code>ItemsApp</code></dd>\n",
       "            </dl>\n",
       "        </div>\n",
       "        \n",
       "            </div>\n",
       "        "
      ],
      "text/plain": [
       "<pyspark.sql.session.SparkSession at 0x1d9d19e4d60>"
      ]
     },
     "execution_count": 6,
     "metadata": {},
     "output_type": "execute_result"
    }
   ],
   "source": [
    "spark"
   ]
  },
  {
   "cell_type": "code",
   "execution_count": 7,
   "id": "7675027e",
   "metadata": {},
   "outputs": [
    {
     "data": {
      "text/plain": [
       "DataFrame[itemid: string, itemname : string, itemcost: string, supplier: string, grade: string, qty: string]"
      ]
     },
     "execution_count": 7,
     "metadata": {},
     "output_type": "execute_result"
    }
   ],
   "source": [
    "df"
   ]
  },
  {
   "cell_type": "code",
   "execution_count": 56,
   "id": "419aac24",
   "metadata": {},
   "outputs": [
    {
     "name": "stdout",
     "output_type": "stream",
     "text": [
      "+------+---------+--------+--------+-----+----+\n",
      "|itemid|itemname |itemcost|supplier|grade| qty|\n",
      "+------+---------+--------+--------+-----+----+\n",
      "|     8|    chalk|   65.76|       X|    A|   2|\n",
      "|    12|   Pencil|    null|       Y|    B|   3|\n",
      "|    13|      Pen|    43.0|       X|    A|   5|\n",
      "|    15|   Duster|    54.0|       Y|    C|   1|\n",
      "|    23|    Scale|    10.0|    null|    A|   2|\n",
      "|    34|     null|    null|    null| null|null|\n",
      "+------+---------+--------+--------+-----+----+\n",
      "\n"
     ]
    }
   ],
   "source": [
    "df.show()"
   ]
  },
  {
   "cell_type": "code",
   "execution_count": 9,
   "id": "95723839",
   "metadata": {},
   "outputs": [],
   "source": [
    "d1=spark.read.option('header','true').csv('d:\\\\item_details.csv')"
   ]
  },
  {
   "cell_type": "code",
   "execution_count": 11,
   "id": "8afbe2b0",
   "metadata": {},
   "outputs": [
    {
     "name": "stdout",
     "output_type": "stream",
     "text": [
      "+------+---------+--------+--------+-----+----+\n",
      "|itemid|itemname |itemcost|supplier|grade| qty|\n",
      "+------+---------+--------+--------+-----+----+\n",
      "|     8|    chalk|   65.76|       X|    A|   2|\n",
      "|    12|   Pencil|    null|       Y|    B|   3|\n",
      "|    13|      Pen|      43|       X|    A|   5|\n",
      "|    15|   Duster|      54|       Y|    C|   1|\n",
      "|    23|    Scale|      10|    null|    A|   2|\n",
      "|    34|     null|      60|    null| null|null|\n",
      "+------+---------+--------+--------+-----+----+\n",
      "\n"
     ]
    }
   ],
   "source": [
    "d1.show()"
   ]
  },
  {
   "cell_type": "code",
   "execution_count": 12,
   "id": "a92f42d2",
   "metadata": {},
   "outputs": [
    {
     "data": {
      "text/plain": [
       "['itemid', 'itemname ', 'itemcost', 'supplier', 'grade', 'qty']"
      ]
     },
     "execution_count": 12,
     "metadata": {},
     "output_type": "execute_result"
    }
   ],
   "source": [
    "d1.columns"
   ]
  },
  {
   "cell_type": "code",
   "execution_count": 15,
   "id": "b175c039",
   "metadata": {},
   "outputs": [
    {
     "data": {
      "text/plain": [
       "[Row(itemid='8', itemname ='chalk', itemcost='65.76', supplier='X', grade='A', qty='2'),\n",
       " Row(itemid='12', itemname ='Pencil', itemcost=None, supplier='Y', grade='B', qty='3')]"
      ]
     },
     "execution_count": 15,
     "metadata": {},
     "output_type": "execute_result"
    }
   ],
   "source": [
    "d1.head(2)"
   ]
  },
  {
   "cell_type": "code",
   "execution_count": 17,
   "id": "ec75c8a1",
   "metadata": {},
   "outputs": [
    {
     "name": "stdout",
     "output_type": "stream",
     "text": [
      "+------+\n",
      "|itemid|\n",
      "+------+\n",
      "|     8|\n",
      "|    12|\n",
      "|    13|\n",
      "|    15|\n",
      "|    23|\n",
      "|    34|\n",
      "+------+\n",
      "\n"
     ]
    }
   ],
   "source": [
    "df.select('itemid').show()"
   ]
  },
  {
   "cell_type": "code",
   "execution_count": 20,
   "id": "3adf302e",
   "metadata": {},
   "outputs": [
    {
     "name": "stdout",
     "output_type": "stream",
     "text": [
      "+------+--------+----+\n",
      "|itemid|itemcost| qty|\n",
      "+------+--------+----+\n",
      "|     8|   65.76|   2|\n",
      "|    12|    null|   3|\n",
      "|    13|      43|   5|\n",
      "|    15|      54|   1|\n",
      "|    23|      10|   2|\n",
      "|    34|      60|null|\n",
      "+------+--------+----+\n",
      "\n"
     ]
    }
   ],
   "source": [
    "df.select('itemid','itemcost','qty').show()"
   ]
  },
  {
   "cell_type": "code",
   "execution_count": 29,
   "id": "2eb34c5e",
   "metadata": {},
   "outputs": [
    {
     "data": {
      "text/plain": [
       "[('itemid', 'int'),\n",
       " ('itemname ', 'string'),\n",
       " ('itemcost', 'double'),\n",
       " ('supplier', 'string'),\n",
       " ('grade', 'string'),\n",
       " ('qty', 'int')]"
      ]
     },
     "execution_count": 29,
     "metadata": {},
     "output_type": "execute_result"
    }
   ],
   "source": [
    "df.dtypes"
   ]
  },
  {
   "cell_type": "code",
   "execution_count": 24,
   "id": "305db60c",
   "metadata": {},
   "outputs": [
    {
     "data": {
      "text/plain": [
       "DataFrame[itemid: string, itemname : string, itemcost: string, supplier: string, grade: string, qty: string]"
      ]
     },
     "execution_count": 24,
     "metadata": {},
     "output_type": "execute_result"
    }
   ],
   "source": [
    "df"
   ]
  },
  {
   "cell_type": "code",
   "execution_count": 30,
   "id": "4fac2cc1",
   "metadata": {},
   "outputs": [
    {
     "name": "stdout",
     "output_type": "stream",
     "text": [
      "root\n",
      " |-- itemid: integer (nullable = true)\n",
      " |-- itemname : string (nullable = true)\n",
      " |-- itemcost: double (nullable = true)\n",
      " |-- supplier: string (nullable = true)\n",
      " |-- grade: string (nullable = true)\n",
      " |-- qty: integer (nullable = true)\n",
      "\n"
     ]
    }
   ],
   "source": [
    "df.printSchema()"
   ]
  },
  {
   "cell_type": "code",
   "execution_count": 57,
   "id": "e955ce6b",
   "metadata": {},
   "outputs": [],
   "source": [
    "#creating a new column\n",
    "d2=df.withColumn('Bill',df['itemcost']*df['qty'])"
   ]
  },
  {
   "cell_type": "code",
   "execution_count": 32,
   "id": "cc993036",
   "metadata": {},
   "outputs": [
    {
     "name": "stdout",
     "output_type": "stream",
     "text": [
      "+------+---------+--------+--------+-----+----+------+\n",
      "|itemid|itemname |itemcost|supplier|grade| qty|  Bill|\n",
      "+------+---------+--------+--------+-----+----+------+\n",
      "|     8|    chalk|   65.76|       X|    A|   2|131.52|\n",
      "|    12|   Pencil|    null|       Y|    B|   3|  null|\n",
      "|    13|      Pen|    43.0|       X|    A|   5| 215.0|\n",
      "|    15|   Duster|    54.0|       Y|    C|   1|  54.0|\n",
      "|    23|    Scale|    10.0|    null|    A|   2|  20.0|\n",
      "|    34|     null|    60.0|    null| null|null|  null|\n",
      "+------+---------+--------+--------+-----+----+------+\n",
      "\n"
     ]
    }
   ],
   "source": [
    "d2.show()"
   ]
  },
  {
   "cell_type": "code",
   "execution_count": 58,
   "id": "20094588",
   "metadata": {},
   "outputs": [
    {
     "name": "stdout",
     "output_type": "stream",
     "text": [
      "+------+---------+--------+--------+-----+--------+\n",
      "|itemid|itemname |itemcost|supplier|grade|Quantity|\n",
      "+------+---------+--------+--------+-----+--------+\n",
      "|     8|    chalk|   65.76|       X|    A|       2|\n",
      "|    12|   Pencil|    null|       Y|    B|       3|\n",
      "|    13|      Pen|    43.0|       X|    A|       5|\n",
      "|    15|   Duster|    54.0|       Y|    C|       1|\n",
      "|    23|    Scale|    10.0|    null|    A|       2|\n",
      "|    34|     null|    null|    null| null|    null|\n",
      "+------+---------+--------+--------+-----+--------+\n",
      "\n"
     ]
    }
   ],
   "source": [
    "#rename column name\n",
    "df.withColumnRenamed('qty','Quantity').show()"
   ]
  },
  {
   "cell_type": "code",
   "execution_count": 59,
   "id": "21f05128",
   "metadata": {},
   "outputs": [
    {
     "data": {
      "text/plain": [
       "6"
      ]
     },
     "execution_count": 59,
     "metadata": {},
     "output_type": "execute_result"
    }
   ],
   "source": [
    "d2.count()"
   ]
  },
  {
   "cell_type": "code",
   "execution_count": 60,
   "id": "1dad2215",
   "metadata": {},
   "outputs": [
    {
     "name": "stdout",
     "output_type": "stream",
     "text": [
      "+------+---------+--------+--------+-----+----+\n",
      "|itemid|itemname |itemcost|supplier|grade| qty|\n",
      "+------+---------+--------+--------+-----+----+\n",
      "|     8|    chalk|   65.76|       X|    A|   2|\n",
      "|    12|   Pencil|    null|       Y|    B|   3|\n",
      "|    13|      Pen|    43.0|       X|    A|   5|\n",
      "|    15|   Duster|    54.0|       Y|    C|   1|\n",
      "|    23|    Scale|    10.0|    null|    A|   2|\n",
      "|    34|     null|    null|    null| null|null|\n",
      "+------+---------+--------+--------+-----+----+\n",
      "\n"
     ]
    }
   ],
   "source": [
    "#column drop\n",
    "d2.drop('Bill').show()"
   ]
  },
  {
   "cell_type": "code",
   "execution_count": 42,
   "id": "855d53fc",
   "metadata": {},
   "outputs": [
    {
     "name": "stdout",
     "output_type": "stream",
     "text": [
      "+------+---------+--------+--------+-----+---+------+\n",
      "|itemid|itemname |itemcost|supplier|grade|qty|  Bill|\n",
      "+------+---------+--------+--------+-----+---+------+\n",
      "|     8|    chalk|   65.76|       X|    A|  2|131.52|\n",
      "|    13|      Pen|    43.0|       X|    A|  5| 215.0|\n",
      "|    15|   Duster|    54.0|       Y|    C|  1|  54.0|\n",
      "+------+---------+--------+--------+-----+---+------+\n",
      "\n"
     ]
    }
   ],
   "source": [
    "d2.na.drop(how='any').show()"
   ]
  },
  {
   "cell_type": "code",
   "execution_count": 44,
   "id": "98586904",
   "metadata": {},
   "outputs": [
    {
     "name": "stdout",
     "output_type": "stream",
     "text": [
      "+------+---------+--------+--------+-----+----+\n",
      "|itemid|itemname |itemcost|supplier|grade| qty|\n",
      "+------+---------+--------+--------+-----+----+\n",
      "|     8|    chalk|   65.76|       X|    A|   2|\n",
      "|    12|   Pencil|    null|       Y|    B|   3|\n",
      "|    13|      Pen|    43.0|       X|    A|   5|\n",
      "|    15|   Duster|    54.0|       Y|    C|   1|\n",
      "|    23|    Scale|    10.0|    null|    A|   2|\n",
      "|    34|     null|    60.0|    null| null|null|\n",
      "+------+---------+--------+--------+-----+----+\n",
      "\n"
     ]
    }
   ],
   "source": [
    "df.show()"
   ]
  },
  {
   "cell_type": "code",
   "execution_count": 53,
   "id": "a4f49e14",
   "metadata": {},
   "outputs": [],
   "source": [
    "d4=df.na.fill(99999)"
   ]
  },
  {
   "cell_type": "code",
   "execution_count": 54,
   "id": "bd518071",
   "metadata": {},
   "outputs": [
    {
     "name": "stdout",
     "output_type": "stream",
     "text": [
      "+------+---------+--------+--------+-----+-----+\n",
      "|itemid|itemname |itemcost|supplier|grade|  qty|\n",
      "+------+---------+--------+--------+-----+-----+\n",
      "|     8|    chalk|   65.76|       X|    A|    2|\n",
      "|    12|   Pencil| 99999.0|       Y|    B|    3|\n",
      "|    13|      Pen|    43.0|       X|    A|    5|\n",
      "|    15|   Duster|    54.0|       Y|    C|    1|\n",
      "|    23|    Scale|    10.0|    null|    A|    2|\n",
      "|    34|     null|    60.0|    null| null|99999|\n",
      "+------+---------+--------+--------+-----+-----+\n",
      "\n"
     ]
    }
   ],
   "source": [
    "d4.show()"
   ]
  },
  {
   "cell_type": "code",
   "execution_count": 61,
   "id": "d6caf669",
   "metadata": {},
   "outputs": [
    {
     "name": "stdout",
     "output_type": "stream",
     "text": [
      "+------+---------+--------+--------+-----+----+\n",
      "|itemid|itemname |itemcost|supplier|grade| qty|\n",
      "+------+---------+--------+--------+-----+----+\n",
      "|     8|    chalk|   65.76|       X|    A|   2|\n",
      "|    12|   Pencil|    null|       Y|    B|   3|\n",
      "|    13|      Pen|    43.0|       X|    A|   5|\n",
      "|    15|   Duster|    54.0|       Y|    C|   1|\n",
      "|    23|    Scale|    10.0|    null|    A|   2|\n",
      "|    34|     null|    null|    null| null|null|\n",
      "+------+---------+--------+--------+-----+----+\n",
      "\n"
     ]
    }
   ],
   "source": [
    "df.show()"
   ]
  },
  {
   "cell_type": "code",
   "execution_count": 63,
   "id": "259368e4",
   "metadata": {},
   "outputs": [
    {
     "name": "stdout",
     "output_type": "stream",
     "text": [
      "+------+---------+--------+--------+-----+----+------+\n",
      "|itemid|itemname |itemcost|supplier|grade| qty|  Bill|\n",
      "+------+---------+--------+--------+-----+----+------+\n",
      "|     8|    chalk|   65.76|       X|    A|   2|131.52|\n",
      "|    12|   Pencil|    null|       Y|    B|   3|  null|\n",
      "|    13|      Pen|    43.0|       X|    A|   5| 215.0|\n",
      "|    15|   Duster|    54.0|       Y|    C|   1|  54.0|\n",
      "|    23|    Scale|    10.0|    null|    A|   2|  20.0|\n",
      "|    34|     null|    null|    null| null|null|  null|\n",
      "+------+---------+--------+--------+-----+----+------+\n",
      "\n"
     ]
    }
   ],
   "source": [
    "d2.show()"
   ]
  },
  {
   "cell_type": "code",
   "execution_count": 69,
   "id": "a55dba09",
   "metadata": {
    "scrolled": true
   },
   "outputs": [
    {
     "name": "stdout",
     "output_type": "stream",
     "text": [
      "+------+---------+--------+--------+-----+---+------+\n",
      "|itemid|itemname |itemcost|supplier|grade|qty|  Bill|\n",
      "+------+---------+--------+--------+-----+---+------+\n",
      "|     8|    chalk|   65.76|       X|    A|  2|131.52|\n",
      "|    12|   Pencil|    null|       Y|    B|  3|  null|\n",
      "|    13|      Pen|    43.0|       X|    A|  5| 215.0|\n",
      "|    15|   Duster|    54.0|       Y|    C|  1|  54.0|\n",
      "|    23|    Scale|    10.0|    null|    A|  2|  20.0|\n",
      "+------+---------+--------+--------+-----+---+------+\n",
      "\n"
     ]
    }
   ],
   "source": [
    "d2.na.drop(how='any',thresh=2).show()"
   ]
  },
  {
   "cell_type": "code",
   "execution_count": 70,
   "id": "447eddad",
   "metadata": {},
   "outputs": [
    {
     "name": "stdout",
     "output_type": "stream",
     "text": [
      "+------+---------+--------+--------+-----+----+------+\n",
      "|itemid|itemname |itemcost|supplier|grade| qty|  Bill|\n",
      "+------+---------+--------+--------+-----+----+------+\n",
      "|     8|    chalk|   65.76|       X|    A|   2|131.52|\n",
      "|    12|   Pencil|    null|       Y|    B|   3|  null|\n",
      "|    13|      Pen|    43.0|       X|    A|   5| 215.0|\n",
      "|    15|   Duster|    54.0|       Y|    C|   1|  54.0|\n",
      "|    23|    Scale|    10.0|    null|    A|   2|  20.0|\n",
      "|    34|     null|    null|    null| null|null|  null|\n",
      "+------+---------+--------+--------+-----+----+------+\n",
      "\n"
     ]
    }
   ],
   "source": [
    "d2.na.drop(subset=['itemid']).show()"
   ]
  },
  {
   "cell_type": "code",
   "execution_count": 71,
   "id": "f96ccb3f",
   "metadata": {},
   "outputs": [
    {
     "name": "stdout",
     "output_type": "stream",
     "text": [
      "+------+---------+--------+--------+-----+---+------+\n",
      "|itemid|itemname |itemcost|supplier|grade|qty|  Bill|\n",
      "+------+---------+--------+--------+-----+---+------+\n",
      "|     8|    chalk|   65.76|       X|    A|  2|131.52|\n",
      "|    12|   Pencil|    null|       Y|    B|  3|  null|\n",
      "|    13|      Pen|    43.0|       X|    A|  5| 215.0|\n",
      "|    15|   Duster|    54.0|       Y|    C|  1|  54.0|\n",
      "+------+---------+--------+--------+-----+---+------+\n",
      "\n"
     ]
    }
   ],
   "source": [
    "d2.na.drop(subset=['supplier']).show()"
   ]
  },
  {
   "cell_type": "code",
   "execution_count": 72,
   "id": "fd69fe85",
   "metadata": {},
   "outputs": [
    {
     "name": "stdout",
     "output_type": "stream",
     "text": [
      "+------+---------+--------+--------+-----+----+------+\n",
      "|itemid|itemname |itemcost|supplier|grade| qty|  Bill|\n",
      "+------+---------+--------+--------+-----+----+------+\n",
      "|     8|    chalk|   65.76|       X|    A|   2|131.52|\n",
      "|    12|   Pencil|     0.0|       Y|    B|   3|  null|\n",
      "|    13|      Pen|    43.0|       X|    A|   5| 215.0|\n",
      "|    15|   Duster|    54.0|       Y|    C|   1|  54.0|\n",
      "|    23|    Scale|    10.0|    null|    A|   2|  20.0|\n",
      "|    34|     null|     0.0|    null| null|null|  null|\n",
      "+------+---------+--------+--------+-----+----+------+\n",
      "\n"
     ]
    }
   ],
   "source": [
    "d2.na.fill(0,['itemcost']).show()"
   ]
  },
  {
   "cell_type": "code",
   "execution_count": 75,
   "id": "a6fac807",
   "metadata": {},
   "outputs": [
    {
     "name": "stdout",
     "output_type": "stream",
     "text": [
      "+------+---------+--------+--------+-----+---+------+\n",
      "|itemid|itemname |itemcost|supplier|grade|qty|  Bill|\n",
      "+------+---------+--------+--------+-----+---+------+\n",
      "|     8|    chalk|   65.76|       X|    A|  2|131.52|\n",
      "|    12|   Pencil|     0.0|       Y|    B|  3|   0.0|\n",
      "|    13|      Pen|    43.0|       X|    A|  5| 215.0|\n",
      "|    15|   Duster|    54.0|       Y|    C|  1|  54.0|\n",
      "|    23|    Scale|    10.0|    null|    A|  2|  20.0|\n",
      "|    34|     null|     0.0|    null| null|  0|   0.0|\n",
      "+------+---------+--------+--------+-----+---+------+\n",
      "\n"
     ]
    }
   ],
   "source": [
    "d2.na.fill(0,['itemcost','qty','Bill','supplier']).show()"
   ]
  },
  {
   "cell_type": "code",
   "execution_count": 76,
   "id": "a14ffb57",
   "metadata": {},
   "outputs": [],
   "source": [
    "d=spark.read.csv('d:\\\\employees.csv',header=True,inferSchema=True)"
   ]
  },
  {
   "cell_type": "code",
   "execution_count": 78,
   "id": "4ccaaaa6",
   "metadata": {},
   "outputs": [
    {
     "name": "stdout",
     "output_type": "stream",
     "text": [
      "+----------+------+----------+---------------+------+-------+-----------------+--------------------+\n",
      "|First Name|Gender|Start Date|Last Login Time|Salary|Bonus %|Senior Management|                Team|\n",
      "+----------+------+----------+---------------+------+-------+-----------------+--------------------+\n",
      "|   Douglas|  Male|08-06-1993|       12:42 PM| 97308|  6.945|             true|           Marketing|\n",
      "|    Thomas|  Male| 3/31/1996|        6:53 AM| 61933|   4.17|             true|                null|\n",
      "|     Maria|Female| 4/23/1993|       11:17 AM|  null| 11.858|            false|             Finance|\n",
      "|     Jerry|  Male|03-04-2005|        1:00 PM|138705|   null|             true|             Finance|\n",
      "|     Larry|  Male| 1/24/1998|        4:47 PM|  null|  1.389|             true|     Client Services|\n",
      "|    Dennis|  Male| 4/18/1987|        1:35 AM|115163| 10.125|            false|               Legal|\n",
      "|      Ruby|Female|      null|           null| 65476| 10.012|             true|             Product|\n",
      "|      null|Female| 7/20/2015|       10:43 AM|  null|   null|             null|             Finance|\n",
      "|    Angela|Female|      null|        6:29 AM| 95570|   null|             true|         Engineering|\n",
      "|   Frances|Female|      null|        6:51 AM|139852|  7.524|             true|Business Development|\n",
      "|    Louise|Female|08-12-1980|        9:01 AM| 63241| 15.132|             true|                null|\n",
      "|     Julie|Female|10/26/1997|        3:19 PM|102508| 12.637|             true|               Legal|\n",
      "|   Brandon|  Male|12-01-1980|        1:08 AM|112807| 17.492|             true|     Human Resources|\n",
      "|      Gary|  Male| 1/27/2008|       11:40 PM|109831|  5.831|            false|               Sales|\n",
      "|  Kimberly|Female| 1/14/1999|        7:13 AM| 41426| 14.543|             true|             Finance|\n",
      "|   Lillian|Female|06-05-2016|        6:09 AM| 59414|  1.256|            false|             Product|\n",
      "|    Jeremy|  Male| 9/21/2010|        5:56 AM| 90370|  7.369|            false|     Human Resources|\n",
      "|     Shawn|  Male|12-07-1986|        7:45 PM|111737|  6.414|            false|             Product|\n",
      "|     Diana|Female|10/23/1981|       10:27 AM|132940| 19.082|            false|     Client Services|\n",
      "|     Donna|Female| 7/22/2010|        3:48 AM| 81014|  1.894|            false|             Product|\n",
      "+----------+------+----------+---------------+------+-------+-----------------+--------------------+\n",
      "only showing top 20 rows\n",
      "\n"
     ]
    }
   ],
   "source": [
    "d.show()"
   ]
  },
  {
   "cell_type": "code",
   "execution_count": 79,
   "id": "ccaa5a6c",
   "metadata": {},
   "outputs": [
    {
     "data": {
      "text/plain": [
       "['First Name',\n",
       " 'Gender',\n",
       " 'Start Date',\n",
       " 'Last Login Time',\n",
       " 'Salary',\n",
       " 'Bonus %',\n",
       " 'Senior Management',\n",
       " 'Team']"
      ]
     },
     "execution_count": 79,
     "metadata": {},
     "output_type": "execute_result"
    }
   ],
   "source": [
    "d.columns"
   ]
  },
  {
   "cell_type": "code",
   "execution_count": 81,
   "id": "0b467b5c",
   "metadata": {},
   "outputs": [
    {
     "data": {
      "text/plain": [
       "[('First Name', 'string'),\n",
       " ('Gender', 'string'),\n",
       " ('Start Date', 'string'),\n",
       " ('Last Login Time', 'string'),\n",
       " ('Salary', 'int'),\n",
       " ('Bonus %', 'double'),\n",
       " ('Senior Management', 'boolean'),\n",
       " ('Team', 'string')]"
      ]
     },
     "execution_count": 81,
     "metadata": {},
     "output_type": "execute_result"
    }
   ],
   "source": [
    "d.dtypes"
   ]
  },
  {
   "cell_type": "code",
   "execution_count": 82,
   "id": "9ec29e0e",
   "metadata": {},
   "outputs": [
    {
     "name": "stdout",
     "output_type": "stream",
     "text": [
      "root\n",
      " |-- First Name: string (nullable = true)\n",
      " |-- Gender: string (nullable = true)\n",
      " |-- Start Date: string (nullable = true)\n",
      " |-- Last Login Time: string (nullable = true)\n",
      " |-- Salary: integer (nullable = true)\n",
      " |-- Bonus %: double (nullable = true)\n",
      " |-- Senior Management: boolean (nullable = true)\n",
      " |-- Team: string (nullable = true)\n",
      "\n"
     ]
    }
   ],
   "source": [
    "d.printSchema()"
   ]
  },
  {
   "cell_type": "code",
   "execution_count": 83,
   "id": "13fdab2b",
   "metadata": {},
   "outputs": [],
   "source": [
    "ds=d.withColumnRenamed( 'Bonus %','Bonus')"
   ]
  },
  {
   "cell_type": "code",
   "execution_count": 84,
   "id": "5ea4f2ae",
   "metadata": {},
   "outputs": [
    {
     "name": "stdout",
     "output_type": "stream",
     "text": [
      "+----------+------+----------+---------------+------+------+-----------------+--------------------+\n",
      "|First Name|Gender|Start Date|Last Login Time|Salary| Bonus|Senior Management|                Team|\n",
      "+----------+------+----------+---------------+------+------+-----------------+--------------------+\n",
      "|   Douglas|  Male|08-06-1993|       12:42 PM| 97308| 6.945|             true|           Marketing|\n",
      "|    Thomas|  Male| 3/31/1996|        6:53 AM| 61933|  4.17|             true|                null|\n",
      "|     Maria|Female| 4/23/1993|       11:17 AM|  null|11.858|            false|             Finance|\n",
      "|     Jerry|  Male|03-04-2005|        1:00 PM|138705|  null|             true|             Finance|\n",
      "|     Larry|  Male| 1/24/1998|        4:47 PM|  null| 1.389|             true|     Client Services|\n",
      "|    Dennis|  Male| 4/18/1987|        1:35 AM|115163|10.125|            false|               Legal|\n",
      "|      Ruby|Female|      null|           null| 65476|10.012|             true|             Product|\n",
      "|      null|Female| 7/20/2015|       10:43 AM|  null|  null|             null|             Finance|\n",
      "|    Angela|Female|      null|        6:29 AM| 95570|  null|             true|         Engineering|\n",
      "|   Frances|Female|      null|        6:51 AM|139852| 7.524|             true|Business Development|\n",
      "|    Louise|Female|08-12-1980|        9:01 AM| 63241|15.132|             true|                null|\n",
      "|     Julie|Female|10/26/1997|        3:19 PM|102508|12.637|             true|               Legal|\n",
      "|   Brandon|  Male|12-01-1980|        1:08 AM|112807|17.492|             true|     Human Resources|\n",
      "|      Gary|  Male| 1/27/2008|       11:40 PM|109831| 5.831|            false|               Sales|\n",
      "|  Kimberly|Female| 1/14/1999|        7:13 AM| 41426|14.543|             true|             Finance|\n",
      "|   Lillian|Female|06-05-2016|        6:09 AM| 59414| 1.256|            false|             Product|\n",
      "|    Jeremy|  Male| 9/21/2010|        5:56 AM| 90370| 7.369|            false|     Human Resources|\n",
      "|     Shawn|  Male|12-07-1986|        7:45 PM|111737| 6.414|            false|             Product|\n",
      "|     Diana|Female|10/23/1981|       10:27 AM|132940|19.082|            false|     Client Services|\n",
      "|     Donna|Female| 7/22/2010|        3:48 AM| 81014| 1.894|            false|             Product|\n",
      "+----------+------+----------+---------------+------+------+-----------------+--------------------+\n",
      "only showing top 20 rows\n",
      "\n"
     ]
    }
   ],
   "source": [
    "ds.show()"
   ]
  },
  {
   "cell_type": "code",
   "execution_count": 85,
   "id": "d01fa012",
   "metadata": {},
   "outputs": [
    {
     "name": "stdout",
     "output_type": "stream",
     "text": [
      "+----------+------+----------+------+------+-----------------+--------------------+\n",
      "|First Name|Gender|Start Date|Salary| Bonus|Senior Management|                Team|\n",
      "+----------+------+----------+------+------+-----------------+--------------------+\n",
      "|   Douglas|  Male|08-06-1993| 97308| 6.945|             true|           Marketing|\n",
      "|    Thomas|  Male| 3/31/1996| 61933|  4.17|             true|                null|\n",
      "|     Maria|Female| 4/23/1993|  null|11.858|            false|             Finance|\n",
      "|     Jerry|  Male|03-04-2005|138705|  null|             true|             Finance|\n",
      "|     Larry|  Male| 1/24/1998|  null| 1.389|             true|     Client Services|\n",
      "|    Dennis|  Male| 4/18/1987|115163|10.125|            false|               Legal|\n",
      "|      Ruby|Female|      null| 65476|10.012|             true|             Product|\n",
      "|      null|Female| 7/20/2015|  null|  null|             null|             Finance|\n",
      "|    Angela|Female|      null| 95570|  null|             true|         Engineering|\n",
      "|   Frances|Female|      null|139852| 7.524|             true|Business Development|\n",
      "|    Louise|Female|08-12-1980| 63241|15.132|             true|                null|\n",
      "|     Julie|Female|10/26/1997|102508|12.637|             true|               Legal|\n",
      "|   Brandon|  Male|12-01-1980|112807|17.492|             true|     Human Resources|\n",
      "|      Gary|  Male| 1/27/2008|109831| 5.831|            false|               Sales|\n",
      "|  Kimberly|Female| 1/14/1999| 41426|14.543|             true|             Finance|\n",
      "|   Lillian|Female|06-05-2016| 59414| 1.256|            false|             Product|\n",
      "|    Jeremy|  Male| 9/21/2010| 90370| 7.369|            false|     Human Resources|\n",
      "|     Shawn|  Male|12-07-1986|111737| 6.414|            false|             Product|\n",
      "|     Diana|Female|10/23/1981|132940|19.082|            false|     Client Services|\n",
      "|     Donna|Female| 7/22/2010| 81014| 1.894|            false|             Product|\n",
      "+----------+------+----------+------+------+-----------------+--------------------+\n",
      "only showing top 20 rows\n",
      "\n"
     ]
    }
   ],
   "source": [
    "ds.drop('Last Login Time').show()"
   ]
  },
  {
   "cell_type": "code",
   "execution_count": 86,
   "id": "de01f24a",
   "metadata": {},
   "outputs": [
    {
     "name": "stdout",
     "output_type": "stream",
     "text": [
      "+----------+------+----------+---------------+------+------+-----------------+--------------------+\n",
      "|First Name|Gender|Start Date|Last Login Time|Salary| Bonus|Senior Management|                Team|\n",
      "+----------+------+----------+---------------+------+------+-----------------+--------------------+\n",
      "|   Douglas|  Male|08-06-1993|       12:42 PM| 97308| 6.945|             true|           Marketing|\n",
      "|    Dennis|  Male| 4/18/1987|        1:35 AM|115163|10.125|            false|               Legal|\n",
      "|     Julie|Female|10/26/1997|        3:19 PM|102508|12.637|             true|               Legal|\n",
      "|   Brandon|  Male|12-01-1980|        1:08 AM|112807|17.492|             true|     Human Resources|\n",
      "|      Gary|  Male| 1/27/2008|       11:40 PM|109831| 5.831|            false|               Sales|\n",
      "|  Kimberly|Female| 1/14/1999|        7:13 AM| 41426|14.543|             true|             Finance|\n",
      "|   Lillian|Female|06-05-2016|        6:09 AM| 59414| 1.256|            false|             Product|\n",
      "|    Jeremy|  Male| 9/21/2010|        5:56 AM| 90370| 7.369|            false|     Human Resources|\n",
      "|     Shawn|  Male|12-07-1986|        7:45 PM|111737| 6.414|            false|             Product|\n",
      "|     Diana|Female|10/23/1981|       10:27 AM|132940|19.082|            false|     Client Services|\n",
      "|     Donna|Female| 7/22/2010|        3:48 AM| 81014| 1.894|            false|             Product|\n",
      "|   Matthew|  Male|09-05-1995|        2:12 AM|100612|13.645|            false|           Marketing|\n",
      "|      John|  Male|07-01-1992|       10:08 PM| 97950|13.873|            false|     Client Services|\n",
      "|     Craig|  Male| 2/27/2000|        7:45 AM| 37598| 7.757|             true|           Marketing|\n",
      "|     Terry|  Male|11/27/1981|        6:30 PM|124008|13.464|             true|     Client Services|\n",
      "|  Benjamin|  Male| 1/26/2005|       10:06 PM| 79529| 7.008|             true|               Legal|\n",
      "| Christina|Female|08-06-2002|        1:19 PM|118780| 9.096|             true|         Engineering|\n",
      "|      Jean|Female|12/18/1993|        9:07 AM|119082| 16.18|            false|Business Development|\n",
      "|     Jerry|  Male|01-10-2004|       12:56 PM| 95734|19.096|            false|     Client Services|\n",
      "|   Theresa|Female|10-10-2006|        1:12 AM| 85182|16.675|            false|               Sales|\n",
      "+----------+------+----------+---------------+------+------+-----------------+--------------------+\n",
      "only showing top 20 rows\n",
      "\n"
     ]
    }
   ],
   "source": [
    "ds.na.drop(how='any').show()"
   ]
  },
  {
   "cell_type": "code",
   "execution_count": 87,
   "id": "f7218701",
   "metadata": {},
   "outputs": [
    {
     "name": "stdout",
     "output_type": "stream",
     "text": [
      "+----------+------+----------+---------------+------+------+-----------------+--------------------+\n",
      "|First Name|Gender|Start Date|Last Login Time|Salary| Bonus|Senior Management|                Team|\n",
      "+----------+------+----------+---------------+------+------+-----------------+--------------------+\n",
      "|   Douglas|  Male|08-06-1993|       12:42 PM| 97308| 6.945|             true|           Marketing|\n",
      "|    Thomas|  Male| 3/31/1996|        6:53 AM| 61933|  4.17|             true|                null|\n",
      "|     Maria|Female| 4/23/1993|       11:17 AM|  null|11.858|            false|             Finance|\n",
      "|     Jerry|  Male|03-04-2005|        1:00 PM|138705|  null|             true|             Finance|\n",
      "|     Larry|  Male| 1/24/1998|        4:47 PM|  null| 1.389|             true|     Client Services|\n",
      "|    Dennis|  Male| 4/18/1987|        1:35 AM|115163|10.125|            false|               Legal|\n",
      "|      Ruby|Female|      null|           null| 65476|10.012|             true|             Product|\n",
      "|      null|Female| 7/20/2015|       10:43 AM|  null|  null|             null|             Finance|\n",
      "|    Angela|Female|      null|        6:29 AM| 95570|  null|             true|         Engineering|\n",
      "|   Frances|Female|      null|        6:51 AM|139852| 7.524|             true|Business Development|\n",
      "|    Louise|Female|08-12-1980|        9:01 AM| 63241|15.132|             true|                null|\n",
      "|     Julie|Female|10/26/1997|        3:19 PM|102508|12.637|             true|               Legal|\n",
      "|   Brandon|  Male|12-01-1980|        1:08 AM|112807|17.492|             true|     Human Resources|\n",
      "|      Gary|  Male| 1/27/2008|       11:40 PM|109831| 5.831|            false|               Sales|\n",
      "|  Kimberly|Female| 1/14/1999|        7:13 AM| 41426|14.543|             true|             Finance|\n",
      "|   Lillian|Female|06-05-2016|        6:09 AM| 59414| 1.256|            false|             Product|\n",
      "|    Jeremy|  Male| 9/21/2010|        5:56 AM| 90370| 7.369|            false|     Human Resources|\n",
      "|     Shawn|  Male|12-07-1986|        7:45 PM|111737| 6.414|            false|             Product|\n",
      "|     Diana|Female|10/23/1981|       10:27 AM|132940|19.082|            false|     Client Services|\n",
      "|     Donna|Female| 7/22/2010|        3:48 AM| 81014| 1.894|            false|             Product|\n",
      "+----------+------+----------+---------------+------+------+-----------------+--------------------+\n",
      "only showing top 20 rows\n",
      "\n"
     ]
    }
   ],
   "source": [
    "ds.na.drop(how='any',thresh=3).show()"
   ]
  },
  {
   "cell_type": "code",
   "execution_count": 89,
   "id": "e7da8187",
   "metadata": {},
   "outputs": [
    {
     "name": "stdout",
     "output_type": "stream",
     "text": [
      "+----------+------+----------+---------------+------+------+-----------------+--------------------+\n",
      "|First Name|Gender|Start Date|Last Login Time|Salary| Bonus|Senior Management|                Team|\n",
      "+----------+------+----------+---------------+------+------+-----------------+--------------------+\n",
      "|   Douglas|  Male|08-06-1993|       12:42 PM| 97308| 6.945|             true|           Marketing|\n",
      "|    Thomas|  Male| 3/31/1996|        6:53 AM| 61933|  4.17|             true|                null|\n",
      "|     Maria|Female| 4/23/1993|       11:17 AM|  null|11.858|            false|             Finance|\n",
      "|     Jerry|  Male|03-04-2005|        1:00 PM|138705|  null|             true|             Finance|\n",
      "|     Larry|  Male| 1/24/1998|        4:47 PM|  null| 1.389|             true|     Client Services|\n",
      "|    Dennis|  Male| 4/18/1987|        1:35 AM|115163|10.125|            false|               Legal|\n",
      "|      Ruby|Female|      null|           null| 65476|10.012|             true|             Product|\n",
      "|      null|Female| 7/20/2015|       10:43 AM|  null|  null|             null|             Finance|\n",
      "|    Angela|Female|      null|        6:29 AM| 95570|  null|             true|         Engineering|\n",
      "|   Frances|Female|      null|        6:51 AM|139852| 7.524|             true|Business Development|\n",
      "|    Louise|Female|08-12-1980|        9:01 AM| 63241|15.132|             true|                null|\n",
      "|     Julie|Female|10/26/1997|        3:19 PM|102508|12.637|             true|               Legal|\n",
      "|   Brandon|  Male|12-01-1980|        1:08 AM|112807|17.492|             true|     Human Resources|\n",
      "|      Gary|  Male| 1/27/2008|       11:40 PM|109831| 5.831|            false|               Sales|\n",
      "|  Kimberly|Female| 1/14/1999|        7:13 AM| 41426|14.543|             true|             Finance|\n",
      "|   Lillian|Female|06-05-2016|        6:09 AM| 59414| 1.256|            false|             Product|\n",
      "|    Jeremy|  Male| 9/21/2010|        5:56 AM| 90370| 7.369|            false|     Human Resources|\n",
      "|     Shawn|  Male|12-07-1986|        7:45 PM|111737| 6.414|            false|             Product|\n",
      "|     Diana|Female|10/23/1981|       10:27 AM|132940|19.082|            false|     Client Services|\n",
      "|     Donna|Female| 7/22/2010|        3:48 AM| 81014| 1.894|            false|             Product|\n",
      "+----------+------+----------+---------------+------+------+-----------------+--------------------+\n",
      "only showing top 20 rows\n",
      "\n"
     ]
    }
   ],
   "source": [
    "ds.na.drop(subset=['Gender']).show()"
   ]
  },
  {
   "cell_type": "code",
   "execution_count": 91,
   "id": "bb539779",
   "metadata": {},
   "outputs": [
    {
     "name": "stdout",
     "output_type": "stream",
     "text": [
      "+----------+------+----------+---------------+------+------+-----------------+--------------------+\n",
      "|First Name|Gender|Start Date|Last Login Time|Salary| Bonus|Senior Management|                Team|\n",
      "+----------+------+----------+---------------+------+------+-----------------+--------------------+\n",
      "|   Douglas|  Male|08-06-1993|       12:42 PM| 97308| 6.945|             true|           Marketing|\n",
      "|    Thomas|  Male| 3/31/1996|        6:53 AM| 61933|  4.17|             true|             unknown|\n",
      "|     Maria|Female| 4/23/1993|       11:17 AM|  null|11.858|            false|             Finance|\n",
      "|     Jerry|  Male|03-04-2005|        1:00 PM|138705|  null|             true|             Finance|\n",
      "|     Larry|  Male| 1/24/1998|        4:47 PM|  null| 1.389|             true|     Client Services|\n",
      "|    Dennis|  Male| 4/18/1987|        1:35 AM|115163|10.125|            false|               Legal|\n",
      "|      Ruby|Female|   unknown|        unknown| 65476|10.012|             true|             Product|\n",
      "|   unknown|Female| 7/20/2015|       10:43 AM|  null|  null|             null|             Finance|\n",
      "|    Angela|Female|   unknown|        6:29 AM| 95570|  null|             true|         Engineering|\n",
      "|   Frances|Female|   unknown|        6:51 AM|139852| 7.524|             true|Business Development|\n",
      "|    Louise|Female|08-12-1980|        9:01 AM| 63241|15.132|             true|             unknown|\n",
      "|     Julie|Female|10/26/1997|        3:19 PM|102508|12.637|             true|               Legal|\n",
      "|   Brandon|  Male|12-01-1980|        1:08 AM|112807|17.492|             true|     Human Resources|\n",
      "|      Gary|  Male| 1/27/2008|       11:40 PM|109831| 5.831|            false|               Sales|\n",
      "|  Kimberly|Female| 1/14/1999|        7:13 AM| 41426|14.543|             true|             Finance|\n",
      "|   Lillian|Female|06-05-2016|        6:09 AM| 59414| 1.256|            false|             Product|\n",
      "|    Jeremy|  Male| 9/21/2010|        5:56 AM| 90370| 7.369|            false|     Human Resources|\n",
      "|     Shawn|  Male|12-07-1986|        7:45 PM|111737| 6.414|            false|             Product|\n",
      "|     Diana|Female|10/23/1981|       10:27 AM|132940|19.082|            false|     Client Services|\n",
      "|     Donna|Female| 7/22/2010|        3:48 AM| 81014| 1.894|            false|             Product|\n",
      "+----------+------+----------+---------------+------+------+-----------------+--------------------+\n",
      "only showing top 20 rows\n",
      "\n"
     ]
    }
   ],
   "source": [
    "ds.na.fill('unknown').show()"
   ]
  },
  {
   "cell_type": "code",
   "execution_count": 92,
   "id": "fbed882e",
   "metadata": {},
   "outputs": [
    {
     "name": "stdout",
     "output_type": "stream",
     "text": [
      "+----------+------+----------+---------------+------+------+-----------------+--------------------+\n",
      "|First Name|Gender|Start Date|Last Login Time|Salary| Bonus|Senior Management|                Team|\n",
      "+----------+------+----------+---------------+------+------+-----------------+--------------------+\n",
      "|   Douglas|  Male|08-06-1993|       12:42 PM| 97308| 6.945|             true|           Marketing|\n",
      "|    Thomas|  Male| 3/31/1996|        6:53 AM| 61933|  4.17|             true|                null|\n",
      "|     Maria|Female| 4/23/1993|       11:17 AM|     0|11.858|            false|             Finance|\n",
      "|     Jerry|  Male|03-04-2005|        1:00 PM|138705|   0.0|             true|             Finance|\n",
      "|     Larry|  Male| 1/24/1998|        4:47 PM|     0| 1.389|             true|     Client Services|\n",
      "|    Dennis|  Male| 4/18/1987|        1:35 AM|115163|10.125|            false|               Legal|\n",
      "|      Ruby|Female|      null|           null| 65476|10.012|             true|             Product|\n",
      "|      null|Female| 7/20/2015|       10:43 AM|     0|   0.0|             null|             Finance|\n",
      "|    Angela|Female|      null|        6:29 AM| 95570|   0.0|             true|         Engineering|\n",
      "|   Frances|Female|      null|        6:51 AM|139852| 7.524|             true|Business Development|\n",
      "|    Louise|Female|08-12-1980|        9:01 AM| 63241|15.132|             true|                null|\n",
      "|     Julie|Female|10/26/1997|        3:19 PM|102508|12.637|             true|               Legal|\n",
      "|   Brandon|  Male|12-01-1980|        1:08 AM|112807|17.492|             true|     Human Resources|\n",
      "|      Gary|  Male| 1/27/2008|       11:40 PM|109831| 5.831|            false|               Sales|\n",
      "|  Kimberly|Female| 1/14/1999|        7:13 AM| 41426|14.543|             true|             Finance|\n",
      "|   Lillian|Female|06-05-2016|        6:09 AM| 59414| 1.256|            false|             Product|\n",
      "|    Jeremy|  Male| 9/21/2010|        5:56 AM| 90370| 7.369|            false|     Human Resources|\n",
      "|     Shawn|  Male|12-07-1986|        7:45 PM|111737| 6.414|            false|             Product|\n",
      "|     Diana|Female|10/23/1981|       10:27 AM|132940|19.082|            false|     Client Services|\n",
      "|     Donna|Female| 7/22/2010|        3:48 AM| 81014| 1.894|            false|             Product|\n",
      "+----------+------+----------+---------------+------+------+-----------------+--------------------+\n",
      "only showing top 20 rows\n",
      "\n"
     ]
    }
   ],
   "source": [
    "ds.na.fill(0,['Bonus','Salary']).show()"
   ]
  },
  {
   "cell_type": "code",
   "execution_count": 94,
   "id": "07d02a13",
   "metadata": {},
   "outputs": [
    {
     "name": "stdout",
     "output_type": "stream",
     "text": [
      "+----------+------+----------+---------------+------+------+-----------------+--------------------+\n",
      "|First Name|Gender|Start Date|Last Login Time|Salary| Bonus|Senior Management|                Team|\n",
      "+----------+------+----------+---------------+------+------+-----------------+--------------------+\n",
      "|   Douglas|  Male|08-06-1993|       12:42 PM| 97308| 6.945|             true|           Marketing|\n",
      "|    Thomas|  Male| 3/31/1996|        6:53 AM| 61933|  4.17|             true|                null|\n",
      "|     Maria|Female| 4/23/1993|       11:17 AM|  null|11.858|            false|             Finance|\n",
      "|     Jerry|  Male|03-04-2005|        1:00 PM|138705|  null|             true|             Finance|\n",
      "|     Larry|  Male| 1/24/1998|        4:47 PM|  null| 1.389|             true|     Client Services|\n",
      "|    Dennis|  Male| 4/18/1987|        1:35 AM|115163|10.125|            false|               Legal|\n",
      "|      Ruby|Female|   unknown|        unknown| 65476|10.012|             true|             Product|\n",
      "|      null|Female| 7/20/2015|       10:43 AM|  null|  null|             null|             Finance|\n",
      "|    Angela|Female|   unknown|        6:29 AM| 95570|  null|             true|         Engineering|\n",
      "|   Frances|Female|   unknown|        6:51 AM|139852| 7.524|             true|Business Development|\n",
      "|    Louise|Female|08-12-1980|        9:01 AM| 63241|15.132|             true|                null|\n",
      "|     Julie|Female|10/26/1997|        3:19 PM|102508|12.637|             true|               Legal|\n",
      "|   Brandon|  Male|12-01-1980|        1:08 AM|112807|17.492|             true|     Human Resources|\n",
      "|      Gary|  Male| 1/27/2008|       11:40 PM|109831| 5.831|            false|               Sales|\n",
      "|  Kimberly|Female| 1/14/1999|        7:13 AM| 41426|14.543|             true|             Finance|\n",
      "|   Lillian|Female|06-05-2016|        6:09 AM| 59414| 1.256|            false|             Product|\n",
      "|    Jeremy|  Male| 9/21/2010|        5:56 AM| 90370| 7.369|            false|     Human Resources|\n",
      "|     Shawn|  Male|12-07-1986|        7:45 PM|111737| 6.414|            false|             Product|\n",
      "|     Diana|Female|10/23/1981|       10:27 AM|132940|19.082|            false|     Client Services|\n",
      "|     Donna|Female| 7/22/2010|        3:48 AM| 81014| 1.894|            false|             Product|\n",
      "+----------+------+----------+---------------+------+------+-----------------+--------------------+\n",
      "only showing top 20 rows\n",
      "\n"
     ]
    }
   ],
   "source": [
    "ds.na.fill('unknown',['Gender','Start Date','Last Login Time']).show()"
   ]
  },
  {
   "cell_type": "code",
   "execution_count": 96,
   "id": "cd7b6561",
   "metadata": {},
   "outputs": [
    {
     "name": "stdout",
     "output_type": "stream",
     "text": [
      "+----------+------+----------+---------------+------+------+-----------------+--------------------+\n",
      "|First Name|Gender|Start Date|Last Login Time|Salary| Bonus|Senior Management|                Team|\n",
      "+----------+------+----------+---------------+------+------+-----------------+--------------------+\n",
      "|   Douglas|  Male|08-06-1993|       12:42 PM| 97308| 6.945|             true|           Marketing|\n",
      "|    Thomas|  Male| 3/31/1996|        6:53 AM| 61933|  4.17|             true|                null|\n",
      "|     Maria|Female| 4/23/1993|       11:17 AM|  null|11.858|            false|             Finance|\n",
      "|     Jerry|  Male|03-04-2005|        1:00 PM|138705|  null|             true|             Finance|\n",
      "|     Larry|  Male| 1/24/1998|        4:47 PM|  null| 1.389|             true|     Client Services|\n",
      "|    Dennis|  Male| 4/18/1987|        1:35 AM|115163|10.125|            false|               Legal|\n",
      "|      Ruby|Female|      null|           null| 65476|10.012|             true|             Product|\n",
      "|      null|Female| 7/20/2015|       10:43 AM|  null|  null|             null|             Finance|\n",
      "|    Angela|Female|      null|        6:29 AM| 95570|  null|             true|         Engineering|\n",
      "|   Frances|Female|      null|        6:51 AM|139852| 7.524|             true|Business Development|\n",
      "|    Louise|Female|08-12-1980|        9:01 AM| 63241|15.132|             true|                null|\n",
      "|     Julie|Female|10/26/1997|        3:19 PM|102508|12.637|             true|               Legal|\n",
      "|   Brandon|  Male|12-01-1980|        1:08 AM|112807|17.492|             true|     Human Resources|\n",
      "|      Gary|  Male| 1/27/2008|       11:40 PM|109831| 5.831|            false|               Sales|\n",
      "|  Kimberly|Female| 1/14/1999|        7:13 AM| 41426|14.543|             true|             Finance|\n",
      "|   Lillian|Female|06-05-2016|        6:09 AM| 59414| 1.256|            false|             Product|\n",
      "|    Jeremy|  Male| 9/21/2010|        5:56 AM| 90370| 7.369|            false|     Human Resources|\n",
      "|     Shawn|  Male|12-07-1986|        7:45 PM|111737| 6.414|            false|             Product|\n",
      "|     Diana|Female|10/23/1981|       10:27 AM|132940|19.082|            false|     Client Services|\n",
      "|     Donna|Female| 7/22/2010|        3:48 AM| 81014| 1.894|            false|             Product|\n",
      "+----------+------+----------+---------------+------+------+-----------------+--------------------+\n",
      "only showing top 20 rows\n",
      "\n"
     ]
    }
   ],
   "source": [
    "ds.na.drop(subset=['Gender']).show()"
   ]
  },
  {
   "cell_type": "code",
   "execution_count": 98,
   "id": "9fbd8593",
   "metadata": {},
   "outputs": [
    {
     "name": "stdout",
     "output_type": "stream",
     "text": [
      "+-------+----------+------+----------+---------------+------------------+-----------------+--------------------+\n",
      "|summary|First Name|Gender|Start Date|Last Login Time|            Salary|            Bonus|                Team|\n",
      "+-------+----------+------+----------+---------------+------------------+-----------------+--------------------+\n",
      "|  count|       933|   855|       997|            999|               997|              997|                 957|\n",
      "|   mean|      null|  null|      null|           null| 90656.65095285857|10.19869007021063|                null|\n",
      "| stddev|      null|  null|      null|           null|32916.794268247395|5.530276746856254|                null|\n",
      "|    min|     Aaron|Female|01-01-2014|       10:00 AM|             35013|            1.015|Business Development|\n",
      "|    max|    Willie|  Male| 9/30/2007|        9:59 AM|            149908|           19.944|               Sales|\n",
      "+-------+----------+------+----------+---------------+------------------+-----------------+--------------------+\n",
      "\n"
     ]
    }
   ],
   "source": [
    "ds.describe().show()"
   ]
  },
  {
   "cell_type": "code",
   "execution_count": 108,
   "id": "83eca46a",
   "metadata": {},
   "outputs": [],
   "source": [
    "from pyspark.sql import functions as f"
   ]
  },
  {
   "cell_type": "code",
   "execution_count": 146,
   "id": "7a324033",
   "metadata": {},
   "outputs": [
    {
     "name": "stdout",
     "output_type": "stream",
     "text": [
      "+-----------------+\n",
      "|      avg(Salary)|\n",
      "+-----------------+\n",
      "|90656.65095285857|\n",
      "+-----------------+\n",
      "\n"
     ]
    }
   ],
   "source": [
    "s1=ds.agg(f.mean('Salary')).show()"
   ]
  },
  {
   "cell_type": "code",
   "execution_count": 147,
   "id": "5f605fcb",
   "metadata": {},
   "outputs": [
    {
     "ename": "AttributeError",
     "evalue": "'NoneType' object has no attribute 'cast'",
     "output_type": "error",
     "traceback": [
      "\u001b[1;31m---------------------------------------------------------------------------\u001b[0m",
      "\u001b[1;31mAttributeError\u001b[0m                            Traceback (most recent call last)",
      "Input \u001b[1;32mIn [147]\u001b[0m, in \u001b[0;36m<module>\u001b[1;34m\u001b[0m\n\u001b[1;32m----> 1\u001b[0m ds\u001b[38;5;241m.\u001b[39mwithColumn(\u001b[38;5;124m'\u001b[39m\u001b[38;5;124mSalary\u001b[39m\u001b[38;5;124m'\u001b[39m,\u001b[43md\u001b[49m\u001b[38;5;241;43m.\u001b[39;49m\u001b[43mcast\u001b[49m(\u001b[38;5;28mint\u001b[39m))\n",
      "\u001b[1;31mAttributeError\u001b[0m: 'NoneType' object has no attribute 'cast'"
     ]
    }
   ],
   "source": [
    "ds.withColumn(.cast(int))"
   ]
  },
  {
   "cell_type": "code",
   "execution_count": 116,
   "id": "12b3ac86",
   "metadata": {},
   "outputs": [
    {
     "name": "stdout",
     "output_type": "stream",
     "text": [
      "root\n",
      " |-- First Name: string (nullable = true)\n",
      " |-- Gender: string (nullable = true)\n",
      " |-- Start Date: string (nullable = true)\n",
      " |-- Last Login Time: string (nullable = true)\n",
      " |-- Salary: integer (nullable = true)\n",
      " |-- Bonus: double (nullable = true)\n",
      " |-- Senior Management: boolean (nullable = true)\n",
      " |-- Team: string (nullable = true)\n",
      "\n"
     ]
    }
   ],
   "source": [
    "ds.printSchema()"
   ]
  },
  {
   "cell_type": "code",
   "execution_count": 152,
   "id": "8e8fd338",
   "metadata": {},
   "outputs": [],
   "source": [
    "from pyspark.ml.feature import Imputer \n",
    "imp=Imputer(inputCols=['Salary'],outputCols=['{}_Imputed'.format(c) for c in ['Salary']]).setStrategy('mean')"
   ]
  },
  {
   "cell_type": "code",
   "execution_count": 153,
   "id": "0151fc0c",
   "metadata": {
    "scrolled": true
   },
   "outputs": [
    {
     "name": "stdout",
     "output_type": "stream",
     "text": [
      "+----------+------+----------+---------------+------+------+-----------------+--------------------+--------------+\n",
      "|First Name|Gender|Start Date|Last Login Time|Salary| Bonus|Senior Management|                Team|Salary_Imputed|\n",
      "+----------+------+----------+---------------+------+------+-----------------+--------------------+--------------+\n",
      "|   Douglas|  Male|08-06-1993|       12:42 PM| 97308| 6.945|             true|           Marketing|         97308|\n",
      "|    Thomas|  Male| 3/31/1996|        6:53 AM| 61933|  4.17|             true|                null|         61933|\n",
      "|     Maria|Female| 4/23/1993|       11:17 AM|  null|11.858|            false|             Finance|         90656|\n",
      "|     Jerry|  Male|03-04-2005|        1:00 PM|138705|  null|             true|             Finance|        138705|\n",
      "|     Larry|  Male| 1/24/1998|        4:47 PM|  null| 1.389|             true|     Client Services|         90656|\n",
      "|    Dennis|  Male| 4/18/1987|        1:35 AM|115163|10.125|            false|               Legal|        115163|\n",
      "|      Ruby|Female|      null|           null| 65476|10.012|             true|             Product|         65476|\n",
      "|      null|Female| 7/20/2015|       10:43 AM|  null|  null|             null|             Finance|         90656|\n",
      "|    Angela|Female|      null|        6:29 AM| 95570|  null|             true|         Engineering|         95570|\n",
      "|   Frances|Female|      null|        6:51 AM|139852| 7.524|             true|Business Development|        139852|\n",
      "|    Louise|Female|08-12-1980|        9:01 AM| 63241|15.132|             true|                null|         63241|\n",
      "|     Julie|Female|10/26/1997|        3:19 PM|102508|12.637|             true|               Legal|        102508|\n",
      "|   Brandon|  Male|12-01-1980|        1:08 AM|112807|17.492|             true|     Human Resources|        112807|\n",
      "|      Gary|  Male| 1/27/2008|       11:40 PM|109831| 5.831|            false|               Sales|        109831|\n",
      "|  Kimberly|Female| 1/14/1999|        7:13 AM| 41426|14.543|             true|             Finance|         41426|\n",
      "|   Lillian|Female|06-05-2016|        6:09 AM| 59414| 1.256|            false|             Product|         59414|\n",
      "|    Jeremy|  Male| 9/21/2010|        5:56 AM| 90370| 7.369|            false|     Human Resources|         90370|\n",
      "|     Shawn|  Male|12-07-1986|        7:45 PM|111737| 6.414|            false|             Product|        111737|\n",
      "|     Diana|Female|10/23/1981|       10:27 AM|132940|19.082|            false|     Client Services|        132940|\n",
      "|     Donna|Female| 7/22/2010|        3:48 AM| 81014| 1.894|            false|             Product|         81014|\n",
      "+----------+------+----------+---------------+------+------+-----------------+--------------------+--------------+\n",
      "only showing top 20 rows\n",
      "\n"
     ]
    }
   ],
   "source": [
    "imp.fit(ds).transform(ds).show()"
   ]
  },
  {
   "cell_type": "code",
   "execution_count": 156,
   "id": "179f13aa",
   "metadata": {},
   "outputs": [],
   "source": [
    "imp1=Imputer(inputCols=['Gender'],outputCols=['{}_Imputed'.format(c) for c in ['Gender']]).setStrategy('mode')"
   ]
  },
  {
   "cell_type": "code",
   "execution_count": 157,
   "id": "fd471692",
   "metadata": {},
   "outputs": [
    {
     "ename": "IllegalArgumentException",
     "evalue": "requirement failed: Column Gender must be of type numeric but was actually of type string.",
     "output_type": "error",
     "traceback": [
      "\u001b[1;31m---------------------------------------------------------------------------\u001b[0m",
      "\u001b[1;31mIllegalArgumentException\u001b[0m                  Traceback (most recent call last)",
      "Input \u001b[1;32mIn [157]\u001b[0m, in \u001b[0;36m<module>\u001b[1;34m\u001b[0m\n\u001b[1;32m----> 1\u001b[0m \u001b[43mimp1\u001b[49m\u001b[38;5;241;43m.\u001b[39;49m\u001b[43mfit\u001b[49m\u001b[43m(\u001b[49m\u001b[43mds\u001b[49m\u001b[43m)\u001b[49m\u001b[38;5;241m.\u001b[39mtransform(ds)\u001b[38;5;241m.\u001b[39mshow()\n",
      "File \u001b[1;32mD:\\New folder\\Python\\envs\\envr1\\lib\\site-packages\\pyspark\\ml\\base.py:161\u001b[0m, in \u001b[0;36mEstimator.fit\u001b[1;34m(self, dataset, params)\u001b[0m\n\u001b[0;32m    159\u001b[0m         \u001b[38;5;28;01mreturn\u001b[39;00m \u001b[38;5;28mself\u001b[39m\u001b[38;5;241m.\u001b[39mcopy(params)\u001b[38;5;241m.\u001b[39m_fit(dataset)\n\u001b[0;32m    160\u001b[0m     \u001b[38;5;28;01melse\u001b[39;00m:\n\u001b[1;32m--> 161\u001b[0m         \u001b[38;5;28;01mreturn\u001b[39;00m \u001b[38;5;28;43mself\u001b[39;49m\u001b[38;5;241;43m.\u001b[39;49m\u001b[43m_fit\u001b[49m\u001b[43m(\u001b[49m\u001b[43mdataset\u001b[49m\u001b[43m)\u001b[49m\n\u001b[0;32m    162\u001b[0m \u001b[38;5;28;01melse\u001b[39;00m:\n\u001b[0;32m    163\u001b[0m     \u001b[38;5;28;01mraise\u001b[39;00m \u001b[38;5;167;01mTypeError\u001b[39;00m(\u001b[38;5;124m\"\u001b[39m\u001b[38;5;124mParams must be either a param map or a list/tuple of param maps, \u001b[39m\u001b[38;5;124m\"\u001b[39m\n\u001b[0;32m    164\u001b[0m                     \u001b[38;5;124m\"\u001b[39m\u001b[38;5;124mbut got \u001b[39m\u001b[38;5;132;01m%s\u001b[39;00m\u001b[38;5;124m.\u001b[39m\u001b[38;5;124m\"\u001b[39m \u001b[38;5;241m%\u001b[39m \u001b[38;5;28mtype\u001b[39m(params))\n",
      "File \u001b[1;32mD:\\New folder\\Python\\envs\\envr1\\lib\\site-packages\\pyspark\\ml\\wrapper.py:335\u001b[0m, in \u001b[0;36mJavaEstimator._fit\u001b[1;34m(self, dataset)\u001b[0m\n\u001b[0;32m    334\u001b[0m \u001b[38;5;28;01mdef\u001b[39;00m \u001b[38;5;21m_fit\u001b[39m(\u001b[38;5;28mself\u001b[39m, dataset):\n\u001b[1;32m--> 335\u001b[0m     java_model \u001b[38;5;241m=\u001b[39m \u001b[38;5;28;43mself\u001b[39;49m\u001b[38;5;241;43m.\u001b[39;49m\u001b[43m_fit_java\u001b[49m\u001b[43m(\u001b[49m\u001b[43mdataset\u001b[49m\u001b[43m)\u001b[49m\n\u001b[0;32m    336\u001b[0m     model \u001b[38;5;241m=\u001b[39m \u001b[38;5;28mself\u001b[39m\u001b[38;5;241m.\u001b[39m_create_model(java_model)\n\u001b[0;32m    337\u001b[0m     \u001b[38;5;28;01mreturn\u001b[39;00m \u001b[38;5;28mself\u001b[39m\u001b[38;5;241m.\u001b[39m_copyValues(model)\n",
      "File \u001b[1;32mD:\\New folder\\Python\\envs\\envr1\\lib\\site-packages\\pyspark\\ml\\wrapper.py:332\u001b[0m, in \u001b[0;36mJavaEstimator._fit_java\u001b[1;34m(self, dataset)\u001b[0m\n\u001b[0;32m    318\u001b[0m \u001b[38;5;124;03m\"\"\"\u001b[39;00m\n\u001b[0;32m    319\u001b[0m \u001b[38;5;124;03mFits a Java model to the input dataset.\u001b[39;00m\n\u001b[0;32m    320\u001b[0m \n\u001b[1;32m   (...)\u001b[0m\n\u001b[0;32m    329\u001b[0m \u001b[38;5;124;03m    fitted Java model\u001b[39;00m\n\u001b[0;32m    330\u001b[0m \u001b[38;5;124;03m\"\"\"\u001b[39;00m\n\u001b[0;32m    331\u001b[0m \u001b[38;5;28mself\u001b[39m\u001b[38;5;241m.\u001b[39m_transfer_params_to_java()\n\u001b[1;32m--> 332\u001b[0m \u001b[38;5;28;01mreturn\u001b[39;00m \u001b[38;5;28;43mself\u001b[39;49m\u001b[38;5;241;43m.\u001b[39;49m\u001b[43m_java_obj\u001b[49m\u001b[38;5;241;43m.\u001b[39;49m\u001b[43mfit\u001b[49m\u001b[43m(\u001b[49m\u001b[43mdataset\u001b[49m\u001b[38;5;241;43m.\u001b[39;49m\u001b[43m_jdf\u001b[49m\u001b[43m)\u001b[49m\n",
      "File \u001b[1;32mD:\\New folder\\Python\\envs\\envr1\\lib\\site-packages\\py4j\\java_gateway.py:1321\u001b[0m, in \u001b[0;36mJavaMember.__call__\u001b[1;34m(self, *args)\u001b[0m\n\u001b[0;32m   1315\u001b[0m command \u001b[38;5;241m=\u001b[39m proto\u001b[38;5;241m.\u001b[39mCALL_COMMAND_NAME \u001b[38;5;241m+\u001b[39m\\\n\u001b[0;32m   1316\u001b[0m     \u001b[38;5;28mself\u001b[39m\u001b[38;5;241m.\u001b[39mcommand_header \u001b[38;5;241m+\u001b[39m\\\n\u001b[0;32m   1317\u001b[0m     args_command \u001b[38;5;241m+\u001b[39m\\\n\u001b[0;32m   1318\u001b[0m     proto\u001b[38;5;241m.\u001b[39mEND_COMMAND_PART\n\u001b[0;32m   1320\u001b[0m answer \u001b[38;5;241m=\u001b[39m \u001b[38;5;28mself\u001b[39m\u001b[38;5;241m.\u001b[39mgateway_client\u001b[38;5;241m.\u001b[39msend_command(command)\n\u001b[1;32m-> 1321\u001b[0m return_value \u001b[38;5;241m=\u001b[39m \u001b[43mget_return_value\u001b[49m\u001b[43m(\u001b[49m\n\u001b[0;32m   1322\u001b[0m \u001b[43m    \u001b[49m\u001b[43manswer\u001b[49m\u001b[43m,\u001b[49m\u001b[43m \u001b[49m\u001b[38;5;28;43mself\u001b[39;49m\u001b[38;5;241;43m.\u001b[39;49m\u001b[43mgateway_client\u001b[49m\u001b[43m,\u001b[49m\u001b[43m \u001b[49m\u001b[38;5;28;43mself\u001b[39;49m\u001b[38;5;241;43m.\u001b[39;49m\u001b[43mtarget_id\u001b[49m\u001b[43m,\u001b[49m\u001b[43m \u001b[49m\u001b[38;5;28;43mself\u001b[39;49m\u001b[38;5;241;43m.\u001b[39;49m\u001b[43mname\u001b[49m\u001b[43m)\u001b[49m\n\u001b[0;32m   1324\u001b[0m \u001b[38;5;28;01mfor\u001b[39;00m temp_arg \u001b[38;5;129;01min\u001b[39;00m temp_args:\n\u001b[0;32m   1325\u001b[0m     temp_arg\u001b[38;5;241m.\u001b[39m_detach()\n",
      "File \u001b[1;32mD:\\New folder\\Python\\envs\\envr1\\lib\\site-packages\\pyspark\\sql\\utils.py:117\u001b[0m, in \u001b[0;36mcapture_sql_exception.<locals>.deco\u001b[1;34m(*a, **kw)\u001b[0m\n\u001b[0;32m    113\u001b[0m converted \u001b[38;5;241m=\u001b[39m convert_exception(e\u001b[38;5;241m.\u001b[39mjava_exception)\n\u001b[0;32m    114\u001b[0m \u001b[38;5;28;01mif\u001b[39;00m \u001b[38;5;129;01mnot\u001b[39;00m \u001b[38;5;28misinstance\u001b[39m(converted, UnknownException):\n\u001b[0;32m    115\u001b[0m     \u001b[38;5;66;03m# Hide where the exception came from that shows a non-Pythonic\u001b[39;00m\n\u001b[0;32m    116\u001b[0m     \u001b[38;5;66;03m# JVM exception message.\u001b[39;00m\n\u001b[1;32m--> 117\u001b[0m     \u001b[38;5;28;01mraise\u001b[39;00m converted \u001b[38;5;28;01mfrom\u001b[39;00m \u001b[38;5;28mNone\u001b[39m\n\u001b[0;32m    118\u001b[0m \u001b[38;5;28;01melse\u001b[39;00m:\n\u001b[0;32m    119\u001b[0m     \u001b[38;5;28;01mraise\u001b[39;00m\n",
      "\u001b[1;31mIllegalArgumentException\u001b[0m: requirement failed: Column Gender must be of type numeric but was actually of type string."
     ]
    }
   ],
   "source": [
    "imp1.fit(ds).transform(ds).show()"
   ]
  },
  {
   "cell_type": "code",
   "execution_count": 158,
   "id": "9a110b06",
   "metadata": {},
   "outputs": [
    {
     "name": "stdout",
     "output_type": "stream",
     "text": [
      "+----------+------+----------+---------------+------+------+-----------------+--------------------+\n",
      "|First Name|Gender|Start Date|Last Login Time|Salary| Bonus|Senior Management|                Team|\n",
      "+----------+------+----------+---------------+------+------+-----------------+--------------------+\n",
      "|   Douglas|  Male|08-06-1993|       12:42 PM| 97308| 6.945|             true|           Marketing|\n",
      "|    Thomas|  Male| 3/31/1996|        6:53 AM| 61933|  4.17|             true|                null|\n",
      "|     Jerry|  Male|03-04-2005|        1:00 PM|138705|  null|             true|             Finance|\n",
      "|    Dennis|  Male| 4/18/1987|        1:35 AM|115163|10.125|            false|               Legal|\n",
      "|      Ruby|Female|      null|           null| 65476|10.012|             true|             Product|\n",
      "|    Angela|Female|      null|        6:29 AM| 95570|  null|             true|         Engineering|\n",
      "|   Frances|Female|      null|        6:51 AM|139852| 7.524|             true|Business Development|\n",
      "|    Louise|Female|08-12-1980|        9:01 AM| 63241|15.132|             true|                null|\n",
      "|     Julie|Female|10/26/1997|        3:19 PM|102508|12.637|             true|               Legal|\n",
      "|   Brandon|  Male|12-01-1980|        1:08 AM|112807|17.492|             true|     Human Resources|\n",
      "|      Gary|  Male| 1/27/2008|       11:40 PM|109831| 5.831|            false|               Sales|\n",
      "|   Lillian|Female|06-05-2016|        6:09 AM| 59414| 1.256|            false|             Product|\n",
      "|    Jeremy|  Male| 9/21/2010|        5:56 AM| 90370| 7.369|            false|     Human Resources|\n",
      "|     Shawn|  Male|12-07-1986|        7:45 PM|111737| 6.414|            false|             Product|\n",
      "|     Diana|Female|10/23/1981|       10:27 AM|132940|19.082|            false|     Client Services|\n",
      "|     Donna|Female| 7/22/2010|        3:48 AM| 81014| 1.894|            false|             Product|\n",
      "|      Lois|  null| 4/22/1995|        7:18 PM| 64714| 4.934|             true|               Legal|\n",
      "|   Matthew|  Male|09-05-1995|        2:12 AM|100612|13.645|            false|           Marketing|\n",
      "|    Joshua|  null|03-08-2012|        1:58 AM| 90816|18.816|             true|     Client Services|\n",
      "|      null|  Male| 6/14/2012|        4:19 PM|125792| 5.042|             null|                null|\n",
      "+----------+------+----------+---------------+------+------+-----------------+--------------------+\n",
      "only showing top 20 rows\n",
      "\n"
     ]
    }
   ],
   "source": [
    "ds.filter('Salary>=50000').show()"
   ]
  },
  {
   "cell_type": "code",
   "execution_count": 161,
   "id": "51a97f1c",
   "metadata": {},
   "outputs": [
    {
     "name": "stdout",
     "output_type": "stream",
     "text": [
      "+-----------+------+----------+---------------+------+------+-----------------+--------------------+\n",
      "| First Name|Gender|Start Date|Last Login Time|Salary| Bonus|Senior Management|                Team|\n",
      "+-----------+------+----------+---------------+------+------+-----------------+--------------------+\n",
      "|   Kimberly|Female| 1/14/1999|        7:13 AM| 41426|14.543|             true|             Finance|\n",
      "|       null|  Male|10-08-2012|        1:12 AM| 37076|18.576|             null|     Client Services|\n",
      "|      Craig|  Male| 2/27/2000|        7:45 AM| 37598| 7.757|             true|           Marketing|\n",
      "|  Stephanie|Female| 9/13/1986|        1:52 AM| 36844| 5.574|             true|Business Development|\n",
      "|       null|  null|12/17/2011|        8:29 AM| 41126|14.009|             null|               Sales|\n",
      "|       Todd|  Male| 2/18/1990|        2:41 AM| 49339| 1.695|             true|     Human Resources|\n",
      "|       Alan|  null|03-03-2014|        1:28 PM| 40341|17.578|             true|             Finance|\n",
      "|      Paula|  null|11/23/2005|        2:01 PM| 48866| 4.271|            false|        Distribution|\n",
      "|    Matthew|  Male|01-02-2013|       10:33 PM| 35203| 18.04|            false|     Human Resources|\n",
      "|Christopher|  Male| 3/30/2008|       10:52 AM| 47369|14.822|            false|               Legal|\n",
      "|     Steven|  Male| 3/30/1980|        9:20 PM| 35095| 8.379|             true|     Client Services|\n",
      "|    Heather|Female|07-11-1998|        2:17 PM| 43026|14.166|            false|     Client Services|\n",
      "|    Melissa|Female| 6/21/2005|        6:33 AM| 48109|14.995|            false|             Finance|\n",
      "|       Paul|  Male|08-04-1993|        7:25 PM| 42146| 3.046|            false|               Legal|\n",
      "|Christopher|  Male| 4/22/2000|       10:15 AM| 37919|11.449|            false|                null|\n",
      "|     Bonnie|Female|12/17/1999|        3:12 PM| 42153| 8.454|             true|Business Development|\n",
      "|       Paul|  Male|06-03-2008|        3:05 PM| 41054|12.299|            false|           Marketing|\n",
      "|   Patricia|Female|09-01-2003|        6:46 AM| 49368|14.226|            false|     Human Resources|\n",
      "|    Shirley|Female|05-01-1984|        1:15 PM| 41334| 6.219|             true|     Human Resources|\n",
      "|      Henry|  Male| 4/24/1995|        4:18 AM| 43542|19.687|            false|               Legal|\n",
      "+-----------+------+----------+---------------+------+------+-----------------+--------------------+\n",
      "only showing top 20 rows\n",
      "\n"
     ]
    }
   ],
   "source": [
    "ds.filter(~(ds['Salary']>=50000)).show()"
   ]
  },
  {
   "cell_type": "code",
   "execution_count": 164,
   "id": "bcded2c5",
   "metadata": {},
   "outputs": [
    {
     "name": "stdout",
     "output_type": "stream",
     "text": [
      "+----------+------+----------+---------------+------+------+-----------------+--------------------+\n",
      "|First Name|Gender|Start Date|Last Login Time|Salary| Bonus|Senior Management|                Team|\n",
      "+----------+------+----------+---------------+------+------+-----------------+--------------------+\n",
      "|    Thomas|  Male| 3/31/1996|        6:53 AM| 61933|  4.17|             true|                null|\n",
      "|      Ruby|Female|      null|           null| 65476|10.012|             true|             Product|\n",
      "|    Louise|Female|08-12-1980|        9:01 AM| 63241|15.132|             true|                null|\n",
      "|   Lillian|Female|06-05-2016|        6:09 AM| 59414| 1.256|            false|             Product|\n",
      "|      Lois|  null| 4/22/1995|        7:18 PM| 64714| 4.934|             true|               Legal|\n",
      "|  Benjamin|  Male| 1/26/2005|       10:06 PM| 79529| 7.008|             true|               Legal|\n",
      "|     Linda|Female|10/19/1981|        8:49 PM| 57427| 9.557|             true|     Client Services|\n",
      "| Christine|  null| 6/28/2015|        1:08 AM| 66582|11.308|             true|Business Development|\n",
      "|   Marilyn|Female|12-07-1980|        3:16 AM| 73524| 5.207|             true|           Marketing|\n",
      "|     Kathy|Female| 6/22/2005|        4:51 AM| 66820|   9.0|             true|     Client Services|\n",
      "|     Henry|  Male| 6/26/1996|        1:44 AM| 64715|15.107|             true|     Human Resources|\n",
      "|   Theresa|Female|04-11-2010|        7:18 AM| 72670| 1.481|             true|         Engineering|\n",
      "|     Irene|Female|05-07-1997|        9:32 AM| 66851|11.279|            false|         Engineering|\n",
      "|      null|Female|06-12-2007|        5:25 PM| 58112|19.414|             null|           Marketing|\n",
      "|  Kathleen|  null|04-11-1990|        6:46 PM| 77834|18.771|            false|Business Development|\n",
      "|     Steve|  Male|11-11-2009|       11:44 PM| 61310|12.428|             true|        Distribution|\n",
      "|    Rachel|Female| 8/16/1999|        6:53 AM| 51178| 9.735|             true|             Finance|\n",
      "|     Bobby|  Male|05-07-2007|       10:01 AM| 54043| 3.833|            false|             Product|\n",
      "|    Thomas|  Male|06-04-1995|        2:24 PM| 62096|17.029|            false|           Marketing|\n",
      "|     Donna|Female|11/27/1991|        1:59 PM| 64088| 6.155|             true|               Legal|\n",
      "+----------+------+----------+---------------+------+------+-----------------+--------------------+\n",
      "only showing top 20 rows\n",
      "\n"
     ]
    }
   ],
   "source": [
    "ds.filter((ds['Salary']>=50000)& (ds['Salary']<=80000)).show()"
   ]
  },
  {
   "cell_type": "code",
   "execution_count": 166,
   "id": "1780d5b2",
   "metadata": {},
   "outputs": [
    {
     "name": "stdout",
     "output_type": "stream",
     "text": [
      "+----------+------+----------+---------------+------+------+-----------------+--------------------+\n",
      "|First Name|Gender|Start Date|Last Login Time|Salary| Bonus|Senior Management|                Team|\n",
      "+----------+------+----------+---------------+------+------+-----------------+--------------------+\n",
      "|     Jerry|  Male|03-04-2005|        1:00 PM|138705|  null|             true|             Finance|\n",
      "|    Dennis|  Male| 4/18/1987|        1:35 AM|115163|10.125|            false|               Legal|\n",
      "|   Frances|Female|      null|        6:51 AM|139852| 7.524|             true|Business Development|\n",
      "|     Julie|Female|10/26/1997|        3:19 PM|102508|12.637|             true|               Legal|\n",
      "|   Brandon|  Male|12-01-1980|        1:08 AM|112807|17.492|             true|     Human Resources|\n",
      "|      Gary|  Male| 1/27/2008|       11:40 PM|109831| 5.831|            false|               Sales|\n",
      "|     Shawn|  Male|12-07-1986|        7:45 PM|111737| 6.414|            false|             Product|\n",
      "|     Diana|Female|10/23/1981|       10:27 AM|132940|19.082|            false|     Client Services|\n",
      "|   Matthew|  Male|09-05-1995|        2:12 AM|100612|13.645|            false|           Marketing|\n",
      "|      null|  Male| 6/14/2012|        4:19 PM|125792| 5.042|             null|                null|\n",
      "|     Scott|  null|07-11-1991|        6:58 PM|122367| 5.218|            false|               Legal|\n",
      "|     Terry|  Male|11/27/1981|        6:30 PM|124008|13.464|             true|     Client Services|\n",
      "| Christina|Female|08-06-2002|        1:19 PM|118780| 9.096|             true|         Engineering|\n",
      "|      null|  Male| 8/21/1998|        2:27 PM|122340| 6.417|             null|                null|\n",
      "|      Jean|Female|12/18/1993|        9:07 AM|119082| 16.18|            false|Business Development|\n",
      "|    Rachel|Female| 2/16/2009|        8:47 PM|142032|12.599|            false|Business Development|\n",
      "|      null|  Male| 1/29/2016|        2:33 AM|122173| 7.797|             null|     Client Services|\n",
      "|   Beverly|Female|09-09-1998|        8:26 PM|121918|15.835|            false|               Legal|\n",
      "|   Cynthia|Female|11/16/1988|        6:54 PM|145146| 7.482|             true|             Product|\n",
      "|     Bruce|  Male|11/28/2009|       10:47 PM|114796| 6.796|            false|             Finance|\n",
      "+----------+------+----------+---------------+------+------+-----------------+--------------------+\n",
      "only showing top 20 rows\n",
      "\n"
     ]
    }
   ],
   "source": [
    "ds.filter(~(ds[\"Salary\"]<=100000)).show()"
   ]
  },
  {
   "cell_type": "code",
   "execution_count": 177,
   "id": "7a9ab42d",
   "metadata": {},
   "outputs": [
    {
     "name": "stdout",
     "output_type": "stream",
     "text": [
      "+----------+------+----------+---------------+------+------+-----------------+--------------------+\n",
      "|First Name|Gender|Start Date|Last Login Time|Salary| Bonus|Senior Management|                Team|\n",
      "+----------+------+----------+---------------+------+------+-----------------+--------------------+\n",
      "|   Douglas|  Male|08-06-1993|       12:42 PM| 97308| 6.945|             true|           Marketing|\n",
      "|    Thomas|  Male| 3/31/1996|        6:53 AM| 61933|  4.17|             true|                null|\n",
      "|     Jerry|  Male|03-04-2005|        1:00 PM|138705|  null|             true|             Finance|\n",
      "|    Dennis|  Male| 4/18/1987|        1:35 AM|115163|10.125|            false|               Legal|\n",
      "|      Ruby|Female|      null|           null| 65476|10.012|             true|             Product|\n",
      "|    Angela|Female|      null|        6:29 AM| 95570|  null|             true|         Engineering|\n",
      "|   Frances|Female|      null|        6:51 AM|139852| 7.524|             true|Business Development|\n",
      "|    Louise|Female|08-12-1980|        9:01 AM| 63241|15.132|             true|                null|\n",
      "|     Julie|Female|10/26/1997|        3:19 PM|102508|12.637|             true|               Legal|\n",
      "|   Brandon|  Male|12-01-1980|        1:08 AM|112807|17.492|             true|     Human Resources|\n",
      "|      Gary|  Male| 1/27/2008|       11:40 PM|109831| 5.831|            false|               Sales|\n",
      "|  Kimberly|Female| 1/14/1999|        7:13 AM| 41426|14.543|             true|             Finance|\n",
      "|   Lillian|Female|06-05-2016|        6:09 AM| 59414| 1.256|            false|             Product|\n",
      "|    Jeremy|  Male| 9/21/2010|        5:56 AM| 90370| 7.369|            false|     Human Resources|\n",
      "|     Shawn|  Male|12-07-1986|        7:45 PM|111737| 6.414|            false|             Product|\n",
      "|     Diana|Female|10/23/1981|       10:27 AM|132940|19.082|            false|     Client Services|\n",
      "|     Donna|Female| 7/22/2010|        3:48 AM| 81014| 1.894|            false|             Product|\n",
      "|      Lois|  null| 4/22/1995|        7:18 PM| 64714| 4.934|             true|               Legal|\n",
      "|   Matthew|  Male|09-05-1995|        2:12 AM|100612|13.645|            false|           Marketing|\n",
      "|    Joshua|  null|03-08-2012|        1:58 AM| 90816|18.816|             true|     Client Services|\n",
      "+----------+------+----------+---------------+------+------+-----------------+--------------------+\n",
      "only showing top 20 rows\n",
      "\n"
     ]
    }
   ],
   "source": [
    "ds.filter(ds['Salary']>=10000).drop().show()"
   ]
  },
  {
   "cell_type": "code",
   "execution_count": null,
   "id": "945315f1",
   "metadata": {},
   "outputs": [],
   "source": []
  }
 ],
 "metadata": {
  "kernelspec": {
   "display_name": "Python 3 (ipykernel)",
   "language": "python",
   "name": "python3"
  },
  "language_info": {
   "codemirror_mode": {
    "name": "ipython",
    "version": 3
   },
   "file_extension": ".py",
   "mimetype": "text/x-python",
   "name": "python",
   "nbconvert_exporter": "python",
   "pygments_lexer": "ipython3",
   "version": "3.9.7"
  }
 },
 "nbformat": 4,
 "nbformat_minor": 5
}
