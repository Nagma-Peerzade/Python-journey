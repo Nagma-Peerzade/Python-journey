{
 "cells": [
  {
   "cell_type": "code",
   "execution_count": 11,
   "id": "05b85e23",
   "metadata": {},
   "outputs": [],
   "source": [
    "import findspark\n",
    "findspark.init()"
   ]
  },
  {
   "cell_type": "code",
   "execution_count": 12,
   "id": "b9349565",
   "metadata": {},
   "outputs": [],
   "source": [
    "import pyspark\n",
    "from pyspark.sql import SparkSession"
   ]
  },
  {
   "cell_type": "code",
   "execution_count": 14,
   "id": "1616a09c",
   "metadata": {},
   "outputs": [],
   "source": [
    "spark=SparkSession.builder.appName('PySparkSqlApp').getOrCreate()"
   ]
  },
  {
   "cell_type": "code",
   "execution_count": 7,
   "id": "688ff19d",
   "metadata": {},
   "outputs": [],
   "source": [
    "pdf=spark.read.csv('d:\\\\employees.csv',header=True,inferSchema=True)"
   ]
  },
  {
   "cell_type": "code",
   "execution_count": 8,
   "id": "f205f156",
   "metadata": {},
   "outputs": [
    {
     "name": "stdout",
     "output_type": "stream",
     "text": [
      "root\n",
      " |-- First Name: string (nullable = true)\n",
      " |-- Gender: string (nullable = true)\n",
      " |-- Start Date: string (nullable = true)\n",
      " |-- Last Login Time: string (nullable = true)\n",
      " |-- Salary: integer (nullable = true)\n",
      " |-- Bonus %: double (nullable = true)\n",
      " |-- Senior Management: boolean (nullable = true)\n",
      " |-- Team: string (nullable = true)\n",
      "\n"
     ]
    }
   ],
   "source": [
    "pdf.printSchema()"
   ]
  },
  {
   "cell_type": "code",
   "execution_count": 9,
   "id": "e7ced45b",
   "metadata": {},
   "outputs": [],
   "source": [
    "from pyspark.sql.functions import col"
   ]
  },
  {
   "cell_type": "code",
   "execution_count": 10,
   "id": "da75b91e",
   "metadata": {},
   "outputs": [
    {
     "name": "stdout",
     "output_type": "stream",
     "text": [
      "+---------+------+----------+---------+------+------+-----+--------------------+\n",
      "|FirstName|   Gen| StartDate|LastLogin|   Sal| Bonus|   Sm|                team|\n",
      "+---------+------+----------+---------+------+------+-----+--------------------+\n",
      "|  Douglas|  Male|08-06-1993| 12:42 PM| 97308| 6.945| true|           Marketing|\n",
      "|   Thomas|  Male| 3/31/1996|  6:53 AM| 61933|  4.17| true|                null|\n",
      "|    Maria|Female| 4/23/1993| 11:17 AM|  null|11.858|false|             Finance|\n",
      "|    Jerry|  Male|03-04-2005|  1:00 PM|138705|  null| true|             Finance|\n",
      "|    Larry|  Male| 1/24/1998|  4:47 PM|  null| 1.389| true|     Client Services|\n",
      "|   Dennis|  Male| 4/18/1987|  1:35 AM|115163|10.125|false|               Legal|\n",
      "|     Ruby|Female|      null|     null| 65476|10.012| true|             Product|\n",
      "|     null|Female| 7/20/2015| 10:43 AM|  null|  null| null|             Finance|\n",
      "|   Angela|Female|      null|  6:29 AM| 95570|  null| true|         Engineering|\n",
      "|  Frances|Female|      null|  6:51 AM|139852| 7.524| true|Business Development|\n",
      "|   Louise|Female|08-12-1980|  9:01 AM| 63241|15.132| true|                null|\n",
      "|    Julie|Female|10/26/1997|  3:19 PM|102508|12.637| true|               Legal|\n",
      "|  Brandon|  Male|12-01-1980|  1:08 AM|112807|17.492| true|     Human Resources|\n",
      "|     Gary|  Male| 1/27/2008| 11:40 PM|109831| 5.831|false|               Sales|\n",
      "| Kimberly|Female| 1/14/1999|  7:13 AM| 41426|14.543| true|             Finance|\n",
      "|  Lillian|Female|06-05-2016|  6:09 AM| 59414| 1.256|false|             Product|\n",
      "|   Jeremy|  Male| 9/21/2010|  5:56 AM| 90370| 7.369|false|     Human Resources|\n",
      "|    Shawn|  Male|12-07-1986|  7:45 PM|111737| 6.414|false|             Product|\n",
      "|    Diana|Female|10/23/1981| 10:27 AM|132940|19.082|false|     Client Services|\n",
      "|    Donna|Female| 7/22/2010|  3:48 AM| 81014| 1.894|false|             Product|\n",
      "+---------+------+----------+---------+------+------+-----+--------------------+\n",
      "only showing top 20 rows\n",
      "\n"
     ]
    }
   ],
   "source": [
    "pdf1=pdf.select(col('First Name').alias('FirstName'),\n",
    "                col('Gender').alias('Gen'),\n",
    "                col('Start Date').alias('StartDate'),\n",
    "                col('Last Login Time').alias('LastLogin'),\n",
    "                col('Salary').alias('Sal'),\n",
    "                col('Bonus %').alias('Bonus'),\n",
    "                col('Senior Management').alias('Sm'),\n",
    "                col('Team').alias('team'))\n",
    "                \n",
    "pdf1.show()               "
   ]
  },
  {
   "cell_type": "code",
   "execution_count": 11,
   "id": "d6d618cc",
   "metadata": {},
   "outputs": [],
   "source": [
    "pdf1.createOrReplaceTempView('tempview')"
   ]
  },
  {
   "cell_type": "code",
   "execution_count": 16,
   "id": "f041b676",
   "metadata": {},
   "outputs": [],
   "source": [
    "result=spark.sql('select team,sum(Sal) as Total_sal from tempview GROUP BY team').toPandas()"
   ]
  },
  {
   "cell_type": "code",
   "execution_count": 17,
   "id": "cde7862f",
   "metadata": {},
   "outputs": [
    {
     "data": {
      "text/html": [
       "<div>\n",
       "<style scoped>\n",
       "    .dataframe tbody tr th:only-of-type {\n",
       "        vertical-align: middle;\n",
       "    }\n",
       "\n",
       "    .dataframe tbody tr th {\n",
       "        vertical-align: top;\n",
       "    }\n",
       "\n",
       "    .dataframe thead th {\n",
       "        text-align: right;\n",
       "    }\n",
       "</style>\n",
       "<table border=\"1\" class=\"dataframe\">\n",
       "  <thead>\n",
       "    <tr style=\"text-align: right;\">\n",
       "      <th></th>\n",
       "      <th>team</th>\n",
       "      <th>Total_sal</th>\n",
       "    </tr>\n",
       "  </thead>\n",
       "  <tbody>\n",
       "    <tr>\n",
       "      <th>0</th>\n",
       "      <td>Sales</td>\n",
       "      <td>8664303</td>\n",
       "    </tr>\n",
       "    <tr>\n",
       "      <th>1</th>\n",
       "      <td>Engineering</td>\n",
       "      <td>8672766</td>\n",
       "    </tr>\n",
       "    <tr>\n",
       "      <th>2</th>\n",
       "      <td>None</td>\n",
       "      <td>3902815</td>\n",
       "    </tr>\n",
       "    <tr>\n",
       "      <th>3</th>\n",
       "      <td>Business Development</td>\n",
       "      <td>9278498</td>\n",
       "    </tr>\n",
       "    <tr>\n",
       "      <th>4</th>\n",
       "      <td>Finance</td>\n",
       "      <td>9229891</td>\n",
       "    </tr>\n",
       "    <tr>\n",
       "      <th>5</th>\n",
       "      <td>Client Services</td>\n",
       "      <td>9250785</td>\n",
       "    </tr>\n",
       "    <tr>\n",
       "      <th>6</th>\n",
       "      <td>Distribution</td>\n",
       "      <td>7965042</td>\n",
       "    </tr>\n",
       "    <tr>\n",
       "      <th>7</th>\n",
       "      <td>Legal</td>\n",
       "      <td>7858718</td>\n",
       "    </tr>\n",
       "    <tr>\n",
       "      <th>8</th>\n",
       "      <td>Marketing</td>\n",
       "      <td>8862688</td>\n",
       "    </tr>\n",
       "    <tr>\n",
       "      <th>9</th>\n",
       "      <td>Product</td>\n",
       "      <td>8423223</td>\n",
       "    </tr>\n",
       "    <tr>\n",
       "      <th>10</th>\n",
       "      <td>Human Resources</td>\n",
       "      <td>8275952</td>\n",
       "    </tr>\n",
       "  </tbody>\n",
       "</table>\n",
       "</div>"
      ],
      "text/plain": [
       "                    team  Total_sal\n",
       "0                  Sales    8664303\n",
       "1            Engineering    8672766\n",
       "2                   None    3902815\n",
       "3   Business Development    9278498\n",
       "4                Finance    9229891\n",
       "5        Client Services    9250785\n",
       "6           Distribution    7965042\n",
       "7                  Legal    7858718\n",
       "8              Marketing    8862688\n",
       "9                Product    8423223\n",
       "10       Human Resources    8275952"
      ]
     },
     "execution_count": 17,
     "metadata": {},
     "output_type": "execute_result"
    }
   ],
   "source": [
    "result"
   ]
  },
  {
   "cell_type": "code",
   "execution_count": 18,
   "id": "a32936a9",
   "metadata": {},
   "outputs": [],
   "source": [
    "from pyspark.ml.feature import SQLTransformer "
   ]
  },
  {
   "cell_type": "code",
   "execution_count": 22,
   "id": "9ba8e7f3",
   "metadata": {},
   "outputs": [
    {
     "name": "stdout",
     "output_type": "stream",
     "text": [
      "+---------+---------------+------+------+\n",
      "|FirstName|           team|   Sal| Bonus|\n",
      "+---------+---------------+------+------+\n",
      "|  Douglas|      Marketing| 97308| 6.945|\n",
      "|   Thomas|           null| 61933|  4.17|\n",
      "|    Maria|        Finance|  null|11.858|\n",
      "|    Jerry|        Finance|138705|  null|\n",
      "|    Larry|Client Services|  null| 1.389|\n",
      "+---------+---------------+------+------+\n",
      "only showing top 5 rows\n",
      "\n"
     ]
    }
   ],
   "source": [
    "sqltrans=SQLTransformer(statement='select FirstName,team,Sal,Bonus from __THIS__')\n",
    "sqltrans.transform(pdf1).show(5)"
   ]
  },
  {
   "cell_type": "code",
   "execution_count": 23,
   "id": "39ecfa57",
   "metadata": {},
   "outputs": [],
   "source": [
    "pd=spark.read.csv('d:\\\\item_details.csv',header=True,inferSchema=True)"
   ]
  },
  {
   "cell_type": "code",
   "execution_count": 24,
   "id": "8f78a78f",
   "metadata": {},
   "outputs": [
    {
     "name": "stdout",
     "output_type": "stream",
     "text": [
      "root\n",
      " |-- item id: integer (nullable = true)\n",
      " |-- item name: string (nullable = true)\n",
      " |-- item cost: double (nullable = true)\n",
      " |-- supplier: string (nullable = true)\n",
      " |-- grade: string (nullable = true)\n",
      " |-- qty: integer (nullable = true)\n",
      "\n"
     ]
    }
   ],
   "source": [
    "pd.printSchema()"
   ]
  },
  {
   "cell_type": "code",
   "execution_count": 27,
   "id": "23a2b5ea",
   "metadata": {},
   "outputs": [
    {
     "name": "stdout",
     "output_type": "stream",
     "text": [
      "+------+-----+\n",
      "| iname|icost|\n",
      "+------+-----+\n",
      "| chalk|65.76|\n",
      "|Pencil| null|\n",
      "|   Pen| 43.0|\n",
      "|Duster| 54.0|\n",
      "| Scale| 10.0|\n",
      "| chalk|65.76|\n",
      "+------+-----+\n",
      "\n"
     ]
    }
   ],
   "source": [
    "pd1=pd.select(col('item name').alias('iname'),\n",
    "                col('item cost').alias('icost'))\n",
    "                \n",
    "                \n",
    "pd1.show()               "
   ]
  },
  {
   "cell_type": "code",
   "execution_count": 29,
   "id": "80f59c6f",
   "metadata": {},
   "outputs": [
    {
     "name": "stdout",
     "output_type": "stream",
     "text": [
      "+----------+----------+------------------+\n",
      "|max(icost)|min(icost)|        sum(icost)|\n",
      "+----------+----------+------------------+\n",
      "|     65.76|      10.0|238.51999999999998|\n",
      "+----------+----------+------------------+\n",
      "\n"
     ]
    }
   ],
   "source": [
    "sqltrans=SQLTransformer(statement='select max(icost),min(icost),sum(icost) from __THIS__')\n",
    "sqltrans.transform(pd1).show()"
   ]
  },
  {
   "cell_type": "code",
   "execution_count": 31,
   "id": "220c153b",
   "metadata": {},
   "outputs": [],
   "source": [
    "#expr()\n",
    "from pyspark.sql.functions import expr"
   ]
  },
  {
   "cell_type": "code",
   "execution_count": 38,
   "id": "67358554",
   "metadata": {},
   "outputs": [
    {
     "name": "stdout",
     "output_type": "stream",
     "text": [
      "+---------+------+----------+---------+------+------+-----+--------------------+---------+\n",
      "|FirstName|   Gen| StartDate|LastLogin|   Sal| Bonus|   Sm|                team|Increment|\n",
      "+---------+------+----------+---------+------+------+-----+--------------------+---------+\n",
      "|  Douglas|  Male|08-06-1993| 12:42 PM| 97308| 6.945| true|           Marketing|    99308|\n",
      "|   Thomas|  Male| 3/31/1996|  6:53 AM| 61933|  4.17| true|                null|    63933|\n",
      "|    Maria|Female| 4/23/1993| 11:17 AM|  null|11.858|false|             Finance|     null|\n",
      "|    Jerry|  Male|03-04-2005|  1:00 PM|138705|  null| true|             Finance|   140705|\n",
      "|    Larry|  Male| 1/24/1998|  4:47 PM|  null| 1.389| true|     Client Services|     null|\n",
      "|   Dennis|  Male| 4/18/1987|  1:35 AM|115163|10.125|false|               Legal|   117163|\n",
      "|     Ruby|Female|      null|     null| 65476|10.012| true|             Product|    67476|\n",
      "|     null|Female| 7/20/2015| 10:43 AM|  null|  null| null|             Finance|     null|\n",
      "|   Angela|Female|      null|  6:29 AM| 95570|  null| true|         Engineering|    97570|\n",
      "|  Frances|Female|      null|  6:51 AM|139852| 7.524| true|Business Development|   141852|\n",
      "|   Louise|Female|08-12-1980|  9:01 AM| 63241|15.132| true|                null|    65241|\n",
      "|    Julie|Female|10/26/1997|  3:19 PM|102508|12.637| true|               Legal|   104508|\n",
      "|  Brandon|  Male|12-01-1980|  1:08 AM|112807|17.492| true|     Human Resources|   114807|\n",
      "|     Gary|  Male| 1/27/2008| 11:40 PM|109831| 5.831|false|               Sales|   111831|\n",
      "| Kimberly|Female| 1/14/1999|  7:13 AM| 41426|14.543| true|             Finance|    43426|\n",
      "|  Lillian|Female|06-05-2016|  6:09 AM| 59414| 1.256|false|             Product|    61414|\n",
      "|   Jeremy|  Male| 9/21/2010|  5:56 AM| 90370| 7.369|false|     Human Resources|    92370|\n",
      "|    Shawn|  Male|12-07-1986|  7:45 PM|111737| 6.414|false|             Product|   113737|\n",
      "|    Diana|Female|10/23/1981| 10:27 AM|132940|19.082|false|     Client Services|   134940|\n",
      "|    Donna|Female| 7/22/2010|  3:48 AM| 81014| 1.894|false|             Product|    83014|\n",
      "+---------+------+----------+---------+------+------+-----+--------------------+---------+\n",
      "only showing top 20 rows\n",
      "\n"
     ]
    }
   ],
   "source": [
    "pdf1.withColumn('Increment',expr('Sal+2000')).show()"
   ]
  },
  {
   "cell_type": "code",
   "execution_count": 45,
   "id": "48264d97",
   "metadata": {
    "scrolled": true
   },
   "outputs": [
    {
     "name": "stdout",
     "output_type": "stream",
     "text": [
      "+---------+------+------------+\n",
      "|FirstName|   Sal|(Sal + 2000)|\n",
      "+---------+------+------------+\n",
      "|  Douglas| 97308|       99308|\n",
      "|   Thomas| 61933|       63933|\n",
      "|    Maria|  null|        null|\n",
      "|    Jerry|138705|      140705|\n",
      "|    Larry|  null|        null|\n",
      "|   Dennis|115163|      117163|\n",
      "|     Ruby| 65476|       67476|\n",
      "|     null|  null|        null|\n",
      "|   Angela| 95570|       97570|\n",
      "|  Frances|139852|      141852|\n",
      "|   Louise| 63241|       65241|\n",
      "|    Julie|102508|      104508|\n",
      "|  Brandon|112807|      114807|\n",
      "|     Gary|109831|      111831|\n",
      "| Kimberly| 41426|       43426|\n",
      "|  Lillian| 59414|       61414|\n",
      "|   Jeremy| 90370|       92370|\n",
      "|    Shawn|111737|      113737|\n",
      "|    Diana|132940|      134940|\n",
      "|    Donna| 81014|       83014|\n",
      "+---------+------+------------+\n",
      "only showing top 20 rows\n",
      "\n"
     ]
    }
   ],
   "source": [
    "pdf1.selectExpr('FirstName','Sal','Sal+2000').show()"
   ]
  },
  {
   "cell_type": "code",
   "execution_count": 46,
   "id": "b7e27c82",
   "metadata": {},
   "outputs": [
    {
     "name": "stdout",
     "output_type": "stream",
     "text": [
      "+------+-----+---------+\n",
      "| iname|icost|Increment|\n",
      "+------+-----+---------+\n",
      "| chalk|65.76|  2065.76|\n",
      "|Pencil| null|     null|\n",
      "|   Pen| 43.0|   2043.0|\n",
      "|Duster| 54.0|   2054.0|\n",
      "| Scale| 10.0|   2010.0|\n",
      "| chalk|65.76|  2065.76|\n",
      "+------+-----+---------+\n",
      "\n"
     ]
    }
   ],
   "source": [
    "pd1.withColumn('Increment',expr('icost+2000')).show()"
   ]
  },
  {
   "cell_type": "code",
   "execution_count": 48,
   "id": "e9ef161e",
   "metadata": {},
   "outputs": [
    {
     "name": "stdout",
     "output_type": "stream",
     "text": [
      "+------+-----+-------------+\n",
      "| iname|icost|(icost + 200)|\n",
      "+------+-----+-------------+\n",
      "| chalk|65.76|       265.76|\n",
      "|Pencil| null|         null|\n",
      "|   Pen| 43.0|        243.0|\n",
      "|Duster| 54.0|        254.0|\n",
      "| Scale| 10.0|        210.0|\n",
      "| chalk|65.76|       265.76|\n",
      "+------+-----+-------------+\n",
      "\n"
     ]
    }
   ],
   "source": [
    "pd1.selectExpr('iname','icost','icost+200').show()"
   ]
  },
  {
   "cell_type": "code",
   "execution_count": 51,
   "id": "e63e0119",
   "metadata": {},
   "outputs": [
    {
     "name": "stdout",
     "output_type": "stream",
     "text": [
      "+---------+---+----------+---------+------+------+-----+--------------------+\n",
      "|FirstName|Gen| StartDate|LastLogin|   Sal| Bonus|   Sm|                team|\n",
      "+---------+---+----------+---------+------+------+-----+--------------------+\n",
      "|  Douglas|  M|08-06-1993| 12:42 PM| 97308| 6.945| true|           Marketing|\n",
      "|   Thomas|  M| 3/31/1996|  6:53 AM| 61933|  4.17| true|                null|\n",
      "|    Maria|  F| 4/23/1993| 11:17 AM|  null|11.858|false|             Finance|\n",
      "|    Jerry|  M|03-04-2005|  1:00 PM|138705|  null| true|             Finance|\n",
      "|    Larry|  M| 1/24/1998|  4:47 PM|  null| 1.389| true|     Client Services|\n",
      "|   Dennis|  M| 4/18/1987|  1:35 AM|115163|10.125|false|               Legal|\n",
      "|     Ruby|  F|      null|     null| 65476|10.012| true|             Product|\n",
      "|     null|  F| 7/20/2015| 10:43 AM|  null|  null| null|             Finance|\n",
      "|   Angela|  F|      null|  6:29 AM| 95570|  null| true|         Engineering|\n",
      "|  Frances|  F|      null|  6:51 AM|139852| 7.524| true|Business Development|\n",
      "|   Louise|  F|08-12-1980|  9:01 AM| 63241|15.132| true|                null|\n",
      "|    Julie|  F|10/26/1997|  3:19 PM|102508|12.637| true|               Legal|\n",
      "|  Brandon|  M|12-01-1980|  1:08 AM|112807|17.492| true|     Human Resources|\n",
      "|     Gary|  M| 1/27/2008| 11:40 PM|109831| 5.831|false|               Sales|\n",
      "| Kimberly|  F| 1/14/1999|  7:13 AM| 41426|14.543| true|             Finance|\n",
      "|  Lillian|  F|06-05-2016|  6:09 AM| 59414| 1.256|false|             Product|\n",
      "|   Jeremy|  M| 9/21/2010|  5:56 AM| 90370| 7.369|false|     Human Resources|\n",
      "|    Shawn|  M|12-07-1986|  7:45 PM|111737| 6.414|false|             Product|\n",
      "|    Diana|  F|10/23/1981| 10:27 AM|132940|19.082|false|     Client Services|\n",
      "|    Donna|  F| 7/22/2010|  3:48 AM| 81014| 1.894|false|             Product|\n",
      "+---------+---+----------+---------+------+------+-----+--------------------+\n",
      "only showing top 20 rows\n",
      "\n"
     ]
    }
   ],
   "source": [
    "pdf1.withColumn('Gen',expr('CASE WHEN Gen=\"Male\" Then \"M\"' + 'WHEN Gen=\"Female\" Then \"F\" END' )).show()"
   ]
  },
  {
   "cell_type": "code",
   "execution_count": 61,
   "id": "d3410865",
   "metadata": {},
   "outputs": [
    {
     "name": "stdout",
     "output_type": "stream",
     "text": [
      "+------+-----+-----+\n",
      "| iname|icost|Grade|\n",
      "+------+-----+-----+\n",
      "| chalk|65.76|    B|\n",
      "|Pencil| null|    C|\n",
      "|   Pen| 43.0|    C|\n",
      "|Duster| 54.0|    B|\n",
      "| Scale| 10.0|    C|\n",
      "| chalk|65.76|    B|\n",
      "+------+-----+-----+\n",
      "\n"
     ]
    }
   ],
   "source": [
    "pd1.withColumn('Grade',expr('CASE WHEN icost>=100 Then \"A\"' + 'WHEN icost>=50 Then \"B\" Else \"C\" END' )).show()"
   ]
  },
  {
   "cell_type": "code",
   "execution_count": 53,
   "id": "20de23f1",
   "metadata": {},
   "outputs": [
    {
     "name": "stdout",
     "output_type": "stream",
     "text": [
      "+------+-----+\n",
      "| iname|icost|\n",
      "+------+-----+\n",
      "| chalk|65.76|\n",
      "|Pencil| null|\n",
      "|   Pen| 43.0|\n",
      "|Duster| 54.0|\n",
      "| Scale| 10.0|\n",
      "| chalk|65.76|\n",
      "+------+-----+\n",
      "\n"
     ]
    }
   ],
   "source": [
    "pd1.show()"
   ]
  },
  {
   "cell_type": "code",
   "execution_count": 63,
   "id": "0b9d342b",
   "metadata": {},
   "outputs": [
    {
     "name": "stdout",
     "output_type": "stream",
     "text": [
      "+---------+------+----------+---------+------+-----+-----+--------------------+\n",
      "|FirstName|   Gen| StartDate|LastLogin|   Sal|Bonus|   Sm|                team|\n",
      "+---------+------+----------+---------+------+-----+-----+--------------------+\n",
      "|  Douglas|  Male|08-06-1993| 12:42 PM| 97308| 6.95| true|           Marketing|\n",
      "|   Thomas|  Male| 3/31/1996|  6:53 AM| 61933| 4.17| true|                null|\n",
      "|    Maria|Female| 4/23/1993| 11:17 AM|  null|11.86|false|             Finance|\n",
      "|    Jerry|  Male|03-04-2005|  1:00 PM|138705| null| true|             Finance|\n",
      "|    Larry|  Male| 1/24/1998|  4:47 PM|  null| 1.39| true|     Client Services|\n",
      "|   Dennis|  Male| 4/18/1987|  1:35 AM|115163|10.13|false|               Legal|\n",
      "|     Ruby|Female|      null|     null| 65476|10.01| true|             Product|\n",
      "|     null|Female| 7/20/2015| 10:43 AM|  null| null| null|             Finance|\n",
      "|   Angela|Female|      null|  6:29 AM| 95570| null| true|         Engineering|\n",
      "|  Frances|Female|      null|  6:51 AM|139852| 7.52| true|Business Development|\n",
      "|   Louise|Female|08-12-1980|  9:01 AM| 63241|15.13| true|                null|\n",
      "|    Julie|Female|10/26/1997|  3:19 PM|102508|12.64| true|               Legal|\n",
      "|  Brandon|  Male|12-01-1980|  1:08 AM|112807|17.49| true|     Human Resources|\n",
      "|     Gary|  Male| 1/27/2008| 11:40 PM|109831| 5.83|false|               Sales|\n",
      "| Kimberly|Female| 1/14/1999|  7:13 AM| 41426|14.54| true|             Finance|\n",
      "|  Lillian|Female|06-05-2016|  6:09 AM| 59414| 1.26|false|             Product|\n",
      "|   Jeremy|  Male| 9/21/2010|  5:56 AM| 90370| 7.37|false|     Human Resources|\n",
      "|    Shawn|  Male|12-07-1986|  7:45 PM|111737| 6.41|false|             Product|\n",
      "|    Diana|Female|10/23/1981| 10:27 AM|132940|19.08|false|     Client Services|\n",
      "|    Donna|Female| 7/22/2010|  3:48 AM| 81014| 1.89|false|             Product|\n",
      "+---------+------+----------+---------+------+-----+-----+--------------------+\n",
      "only showing top 20 rows\n",
      "\n"
     ]
    }
   ],
   "source": [
    "pdf1.withColumn('Bonus',expr('round(Bonus,2)')).show()"
   ]
  },
  {
   "cell_type": "code",
   "execution_count": 70,
   "id": "920dd112",
   "metadata": {},
   "outputs": [
    {
     "name": "stdout",
     "output_type": "stream",
     "text": [
      "+---------+------+------+-------+\n",
      "|FirstName|   Sal| Bonus|roundup|\n",
      "+---------+------+------+-------+\n",
      "|  Douglas| 97308| 6.945|   6.95|\n",
      "|   Thomas| 61933|  4.17|   4.17|\n",
      "|    Maria|  null|11.858|  11.86|\n",
      "|    Jerry|138705|  null|   null|\n",
      "|    Larry|  null| 1.389|   1.39|\n",
      "|   Dennis|115163|10.125|  10.13|\n",
      "|     Ruby| 65476|10.012|  10.01|\n",
      "|     null|  null|  null|   null|\n",
      "|   Angela| 95570|  null|   null|\n",
      "|  Frances|139852| 7.524|   7.52|\n",
      "|   Louise| 63241|15.132|  15.13|\n",
      "|    Julie|102508|12.637|  12.64|\n",
      "|  Brandon|112807|17.492|  17.49|\n",
      "|     Gary|109831| 5.831|   5.83|\n",
      "| Kimberly| 41426|14.543|  14.54|\n",
      "|  Lillian| 59414| 1.256|   1.26|\n",
      "|   Jeremy| 90370| 7.369|   7.37|\n",
      "|    Shawn|111737| 6.414|   6.41|\n",
      "|    Diana|132940|19.082|  19.08|\n",
      "|    Donna| 81014| 1.894|   1.89|\n",
      "+---------+------+------+-------+\n",
      "only showing top 20 rows\n",
      "\n"
     ]
    }
   ],
   "source": [
    "pdf1.select('FirstName','Sal','Bonus' ,expr('round(Bonus,2) as roundup ')).show()"
   ]
  },
  {
   "cell_type": "code",
   "execution_count": 76,
   "id": "8c79e387",
   "metadata": {},
   "outputs": [
    {
     "name": "stdout",
     "output_type": "stream",
     "text": [
      "+---------+------+-------+\n",
      "|FirstName| Bonus|roundup|\n",
      "+---------+------+-------+\n",
      "|  Douglas| 6.945|   6.95|\n",
      "|   Thomas|  4.17|   4.17|\n",
      "|    Maria|11.858|  11.86|\n",
      "|    Jerry|  null|   null|\n",
      "+---------+------+-------+\n",
      "only showing top 4 rows\n",
      "\n"
     ]
    }
   ],
   "source": [
    "pdf1.selectExpr('FirstName','Bonus' ,'round(Bonus,2) as roundup ').show(4)"
   ]
  },
  {
   "cell_type": "code",
   "execution_count": 77,
   "id": "2a332822",
   "metadata": {},
   "outputs": [
    {
     "name": "stdout",
     "output_type": "stream",
     "text": [
      "+---------+---------------+\n",
      "|FirstName|round(Bonus, 2)|\n",
      "+---------+---------------+\n",
      "|    Jerry|           null|\n",
      "|    Jerry|           19.1|\n",
      "|    Jerry|           9.18|\n",
      "|    Jerry|          18.85|\n",
      "|    Jerry|          11.39|\n",
      "|    Jerry|          18.86|\n",
      "+---------+---------------+\n",
      "\n"
     ]
    }
   ],
   "source": [
    "pdf1.selectExpr('FirstName','round(Bonus,2)').filter('FirstName=\"Jerry\"').show()"
   ]
  },
  {
   "cell_type": "code",
   "execution_count": 113,
   "id": "eed2510b",
   "metadata": {},
   "outputs": [],
   "source": [
    "pdf1.createOrReplaceTempView('tempview')"
   ]
  },
  {
   "cell_type": "code",
   "execution_count": 141,
   "id": "9d328558",
   "metadata": {
    "scrolled": true
   },
   "outputs": [
    {
     "name": "stdout",
     "output_type": "stream",
     "text": [
      "+-------+--------+\n",
      "|   team|sum(Sal)|\n",
      "+-------+--------+\n",
      "|Finance| 9229891|\n",
      "|Product| 8423223|\n",
      "+-------+--------+\n",
      "\n"
     ]
    }
   ],
   "source": [
    "spark.sql('select team,sum(Sal) from tempview where length(team)==7 GROUP BY team').show()"
   ]
  },
  {
   "cell_type": "code",
   "execution_count": 110,
   "id": "538d6f45",
   "metadata": {},
   "outputs": [
    {
     "name": "stdout",
     "output_type": "stream",
     "text": [
      "+-------+--------+\n",
      "|   team|sum(Sal)|\n",
      "+-------+--------+\n",
      "|Finance| 9229891|\n",
      "|Product| 8423223|\n",
      "+-------+--------+\n",
      "\n"
     ]
    }
   ],
   "source": [
    "pdf1.selectExpr(\"team\",\"Sal\").filter('length(team)==\"7\"').groupBy('team').sum('Sal').show()"
   ]
  },
  {
   "cell_type": "code",
   "execution_count": 108,
   "id": "2910f9ae",
   "metadata": {},
   "outputs": [
    {
     "name": "stdout",
     "output_type": "stream",
     "text": [
      "root\n",
      " |-- FirstName: string (nullable = true)\n",
      " |-- Gen: string (nullable = true)\n",
      " |-- StartDate: string (nullable = true)\n",
      " |-- LastLogin: string (nullable = true)\n",
      " |-- Sal: integer (nullable = true)\n",
      " |-- Bonus: double (nullable = true)\n",
      " |-- Sm: boolean (nullable = true)\n",
      " |-- team: string (nullable = true)\n",
      "\n"
     ]
    }
   ],
   "source": [
    "pdf1.printSchema()"
   ]
  },
  {
   "cell_type": "code",
   "execution_count": 142,
   "id": "369d435d",
   "metadata": {},
   "outputs": [
    {
     "name": "stdout",
     "output_type": "stream",
     "text": [
      "Requirement already satisfied: mysql-connector-python in d:\\new folder\\python\\envs\\envr1\\lib\\site-packages (8.0.28)\n",
      "Requirement already satisfied: protobuf>=3.0.0 in d:\\new folder\\python\\envs\\envr1\\lib\\site-packages (from mysql-connector-python) (3.19.3)\n",
      "Note: you may need to restart the kernel to use updated packages.\n"
     ]
    }
   ],
   "source": [
    "pip install mysql-connector-python"
   ]
  },
  {
   "cell_type": "code",
   "execution_count": 16,
   "id": "cad85fd2",
   "metadata": {},
   "outputs": [],
   "source": [
    "import mysql.connector as c\n",
    "import pandas as pd"
   ]
  },
  {
   "cell_type": "code",
   "execution_count": 17,
   "id": "6a972b39",
   "metadata": {},
   "outputs": [],
   "source": [
    "conn=c.Connect(host='localhost',port=3306,user='root',password='mypass',database='travelling')\n",
    "cursor=conn.cursor()\n"
   ]
  },
  {
   "cell_type": "code",
   "execution_count": 9,
   "id": "cfafe4c7",
   "metadata": {},
   "outputs": [
    {
     "name": "stdout",
     "output_type": "stream",
     "text": [
      "   busno          busName\n",
      "0   1234    PanjiToMumbai\n",
      "1  12344             PTOM\n",
      "2  12347             PTOM\n",
      "3  14567      bgmtopunjab\n",
      "4  23456      MumbaiToGoa\n",
      "5  34566  PunaToBangalore\n",
      "6  56778   PanjiToBelgaum\n",
      "7  67890    BelgaumToPuna\n",
      "<class 'pandas.core.frame.DataFrame'>\n"
     ]
    }
   ],
   "source": [
    "p1=pd.read_sql('select busno,busName from bus',con=conn)\n",
    "print(p1)\n",
    "print(type(p1))\n",
    "conn.close()"
   ]
  },
  {
   "cell_type": "code",
   "execution_count": 4,
   "id": "5274134a",
   "metadata": {},
   "outputs": [
    {
     "name": "stdout",
     "output_type": "stream",
     "text": [
      "Collecting SQLAlchemyNote: you may need to restart the kernel to use updated packages.\n",
      "  Downloading SQLAlchemy-1.4.31-cp39-cp39-win_amd64.whl (1.6 MB)\n",
      "Collecting greenlet!=0.4.17\n",
      "  Downloading greenlet-1.1.2-cp39-cp39-win_amd64.whl (101 kB)\n",
      "Installing collected packages: greenlet, SQLAlchemy\n",
      "Successfully installed SQLAlchemy-1.4.31 greenlet-1.1.2\n",
      "\n"
     ]
    }
   ],
   "source": [
    "pip install SQLAlchemy"
   ]
  },
  {
   "cell_type": "code",
   "execution_count": 20,
   "id": "9cadff4f",
   "metadata": {},
   "outputs": [
    {
     "name": "stderr",
     "output_type": "stream",
     "text": [
      "D:\\New folder\\Python\\envs\\envr1\\lib\\site-packages\\pandas\\io\\sql.py:758: UserWarning: pandas only support SQLAlchemy connectable(engine/connection) ordatabase string URI or sqlite3 DBAPI2 connectionother DBAPI2 objects are not tested, please consider using SQLAlchemy\n",
      "  warnings.warn(\n"
     ]
    },
    {
     "name": "stdout",
     "output_type": "stream",
     "text": [
      "+-----+---------------+\n",
      "|busno|        busName|\n",
      "+-----+---------------+\n",
      "| 1234|  PanjiToMumbai|\n",
      "|12344|           PTOM|\n",
      "|12347|           PTOM|\n",
      "|14567|    bgmtopunjab|\n",
      "|23456|    MumbaiToGoa|\n",
      "|34566|PunaToBangalore|\n",
      "|56778| PanjiToBelgaum|\n",
      "|67890|  BelgaumToPuna|\n",
      "+-----+---------------+\n",
      "\n"
     ]
    }
   ],
   "source": [
    "spark.createDataFrame(pd.read_sql('select busno,busName from bus',con=conn)).show()"
   ]
  },
  {
   "cell_type": "code",
   "execution_count": null,
   "id": "7ddbb035",
   "metadata": {},
   "outputs": [],
   "source": []
  }
 ],
 "metadata": {
  "kernelspec": {
   "display_name": "Python 3 (ipykernel)",
   "language": "python",
   "name": "python3"
  },
  "language_info": {
   "codemirror_mode": {
    "name": "ipython",
    "version": 3
   },
   "file_extension": ".py",
   "mimetype": "text/x-python",
   "name": "python",
   "nbconvert_exporter": "python",
   "pygments_lexer": "ipython3",
   "version": "3.9.7"
  }
 },
 "nbformat": 4,
 "nbformat_minor": 5
}
