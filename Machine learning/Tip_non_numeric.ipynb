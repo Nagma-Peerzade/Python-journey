{
 "cells": [
  {
   "cell_type": "markdown",
   "id": "caf34e27",
   "metadata": {},
   "source": [
    "##Assignment"
   ]
  },
  {
   "cell_type": "code",
   "execution_count": 2,
   "id": "ad5f2df1",
   "metadata": {},
   "outputs": [],
   "source": [
    "import findspark\n",
    "findspark.init()"
   ]
  },
  {
   "cell_type": "code",
   "execution_count": 3,
   "id": "e7fcde36",
   "metadata": {},
   "outputs": [],
   "source": [
    "import pyspark\n",
    "from pyspark.sql import SparkSession"
   ]
  },
  {
   "cell_type": "code",
   "execution_count": 4,
   "id": "1c5d4c88",
   "metadata": {},
   "outputs": [],
   "source": [
    "spark=SparkSession.builder.appName('Tip1').getOrCreate()"
   ]
  },
  {
   "cell_type": "code",
   "execution_count": 5,
   "id": "02d935b9",
   "metadata": {},
   "outputs": [
    {
     "name": "stdout",
     "output_type": "stream",
     "text": [
      "+----------+----+------+------+---+------+----+\n",
      "|total_bill| tip|   sex|smoker|day|  time|size|\n",
      "+----------+----+------+------+---+------+----+\n",
      "|     16.99|1.01|Female|    No|Sun|Dinner|   2|\n",
      "|     10.34|1.66|  Male|    No|Sun|Dinner|   3|\n",
      "|     21.01| 3.5|  Male|    No|Sun|Dinner|   3|\n",
      "|     23.68|3.31|  Male|    No|Sun|Dinner|   2|\n",
      "|     24.59|3.61|Female|    No|Sun|Dinner|   4|\n",
      "|     25.29|4.71|  Male|    No|Sun|Dinner|   4|\n",
      "|      8.77| 2.0|  Male|    No|Sun|Dinner|   2|\n",
      "|     26.88|3.12|  Male|    No|Sun|Dinner|   4|\n",
      "|     15.04|1.96|  Male|    No|Sun|Dinner|   2|\n",
      "|     14.78|3.23|  Male|    No|Sun|Dinner|   2|\n",
      "|     10.27|1.71|  Male|    No|Sun|Dinner|   2|\n",
      "|     35.26| 5.0|Female|    No|Sun|Dinner|   4|\n",
      "|     15.42|1.57|  Male|    No|Sun|Dinner|   2|\n",
      "|     18.43| 3.0|  Male|    No|Sun|Dinner|   4|\n",
      "|     14.83|3.02|Female|    No|Sun|Dinner|   2|\n",
      "|     21.58|3.92|  Male|    No|Sun|Dinner|   2|\n",
      "|     10.33|1.67|Female|    No|Sun|Dinner|   3|\n",
      "|     16.29|3.71|  Male|    No|Sun|Dinner|   3|\n",
      "|     16.97| 3.5|Female|    No|Sun|Dinner|   3|\n",
      "|     20.65|3.35|  Male|    No|Sat|Dinner|   3|\n",
      "+----------+----+------+------+---+------+----+\n",
      "only showing top 20 rows\n",
      "\n"
     ]
    }
   ],
   "source": [
    "dtip=spark.read.csv('d:\\\\tips.csv',header=True,inferSchema=True)\n",
    "dtip.show()"
   ]
  },
  {
   "cell_type": "code",
   "execution_count": 6,
   "id": "9f5e27ce",
   "metadata": {},
   "outputs": [],
   "source": [
    "from pyspark.ml.feature import StringIndexer"
   ]
  },
  {
   "cell_type": "code",
   "execution_count": 10,
   "id": "82f2cac5",
   "metadata": {},
   "outputs": [],
   "source": [
    "g=StringIndexer(inputCol='sex',outputCol='Gen_Col')"
   ]
  },
  {
   "cell_type": "code",
   "execution_count": 11,
   "id": "14af0dd4",
   "metadata": {},
   "outputs": [],
   "source": [
    "v=g.fit(dtip).transform(dtip)"
   ]
  },
  {
   "cell_type": "code",
   "execution_count": 12,
   "id": "d93eecfb",
   "metadata": {},
   "outputs": [
    {
     "name": "stdout",
     "output_type": "stream",
     "text": [
      "+----------+----+------+------+---+------+----+-------+\n",
      "|total_bill| tip|   sex|smoker|day|  time|size|Gen_Col|\n",
      "+----------+----+------+------+---+------+----+-------+\n",
      "|     16.99|1.01|Female|    No|Sun|Dinner|   2|    1.0|\n",
      "|     10.34|1.66|  Male|    No|Sun|Dinner|   3|    0.0|\n",
      "|     21.01| 3.5|  Male|    No|Sun|Dinner|   3|    0.0|\n",
      "|     23.68|3.31|  Male|    No|Sun|Dinner|   2|    0.0|\n",
      "|     24.59|3.61|Female|    No|Sun|Dinner|   4|    1.0|\n",
      "|     25.29|4.71|  Male|    No|Sun|Dinner|   4|    0.0|\n",
      "|      8.77| 2.0|  Male|    No|Sun|Dinner|   2|    0.0|\n",
      "|     26.88|3.12|  Male|    No|Sun|Dinner|   4|    0.0|\n",
      "|     15.04|1.96|  Male|    No|Sun|Dinner|   2|    0.0|\n",
      "|     14.78|3.23|  Male|    No|Sun|Dinner|   2|    0.0|\n",
      "|     10.27|1.71|  Male|    No|Sun|Dinner|   2|    0.0|\n",
      "|     35.26| 5.0|Female|    No|Sun|Dinner|   4|    1.0|\n",
      "|     15.42|1.57|  Male|    No|Sun|Dinner|   2|    0.0|\n",
      "|     18.43| 3.0|  Male|    No|Sun|Dinner|   4|    0.0|\n",
      "|     14.83|3.02|Female|    No|Sun|Dinner|   2|    1.0|\n",
      "|     21.58|3.92|  Male|    No|Sun|Dinner|   2|    0.0|\n",
      "|     10.33|1.67|Female|    No|Sun|Dinner|   3|    1.0|\n",
      "|     16.29|3.71|  Male|    No|Sun|Dinner|   3|    0.0|\n",
      "|     16.97| 3.5|Female|    No|Sun|Dinner|   3|    1.0|\n",
      "|     20.65|3.35|  Male|    No|Sat|Dinner|   3|    0.0|\n",
      "+----------+----+------+------+---+------+----+-------+\n",
      "only showing top 20 rows\n",
      "\n"
     ]
    }
   ],
   "source": [
    "v.show()"
   ]
  },
  {
   "cell_type": "code",
   "execution_count": 13,
   "id": "bfc64616",
   "metadata": {},
   "outputs": [],
   "source": [
    "g1=StringIndexer(inputCol='smoker',outputCol='sm_Col')"
   ]
  },
  {
   "cell_type": "code",
   "execution_count": 17,
   "id": "6e5ee554",
   "metadata": {},
   "outputs": [],
   "source": [
    "f=g1.fit(v).transform(v)"
   ]
  },
  {
   "cell_type": "code",
   "execution_count": 18,
   "id": "b9430985",
   "metadata": {},
   "outputs": [
    {
     "name": "stdout",
     "output_type": "stream",
     "text": [
      "+----------+----+------+------+---+------+----+-------+------+\n",
      "|total_bill| tip|   sex|smoker|day|  time|size|Gen_Col|sm_Col|\n",
      "+----------+----+------+------+---+------+----+-------+------+\n",
      "|     16.99|1.01|Female|    No|Sun|Dinner|   2|    1.0|   0.0|\n",
      "|     10.34|1.66|  Male|    No|Sun|Dinner|   3|    0.0|   0.0|\n",
      "|     21.01| 3.5|  Male|    No|Sun|Dinner|   3|    0.0|   0.0|\n",
      "|     23.68|3.31|  Male|    No|Sun|Dinner|   2|    0.0|   0.0|\n",
      "|     24.59|3.61|Female|    No|Sun|Dinner|   4|    1.0|   0.0|\n",
      "|     25.29|4.71|  Male|    No|Sun|Dinner|   4|    0.0|   0.0|\n",
      "|      8.77| 2.0|  Male|    No|Sun|Dinner|   2|    0.0|   0.0|\n",
      "|     26.88|3.12|  Male|    No|Sun|Dinner|   4|    0.0|   0.0|\n",
      "|     15.04|1.96|  Male|    No|Sun|Dinner|   2|    0.0|   0.0|\n",
      "|     14.78|3.23|  Male|    No|Sun|Dinner|   2|    0.0|   0.0|\n",
      "|     10.27|1.71|  Male|    No|Sun|Dinner|   2|    0.0|   0.0|\n",
      "|     35.26| 5.0|Female|    No|Sun|Dinner|   4|    1.0|   0.0|\n",
      "|     15.42|1.57|  Male|    No|Sun|Dinner|   2|    0.0|   0.0|\n",
      "|     18.43| 3.0|  Male|    No|Sun|Dinner|   4|    0.0|   0.0|\n",
      "|     14.83|3.02|Female|    No|Sun|Dinner|   2|    1.0|   0.0|\n",
      "|     21.58|3.92|  Male|    No|Sun|Dinner|   2|    0.0|   0.0|\n",
      "|     10.33|1.67|Female|    No|Sun|Dinner|   3|    1.0|   0.0|\n",
      "|     16.29|3.71|  Male|    No|Sun|Dinner|   3|    0.0|   0.0|\n",
      "|     16.97| 3.5|Female|    No|Sun|Dinner|   3|    1.0|   0.0|\n",
      "|     20.65|3.35|  Male|    No|Sat|Dinner|   3|    0.0|   0.0|\n",
      "+----------+----+------+------+---+------+----+-------+------+\n",
      "only showing top 20 rows\n",
      "\n"
     ]
    }
   ],
   "source": [
    "f.show()"
   ]
  },
  {
   "cell_type": "code",
   "execution_count": 20,
   "id": "9c3fd091",
   "metadata": {},
   "outputs": [],
   "source": [
    "g2=StringIndexer(inputCol='day',outputCol='d_Col')"
   ]
  },
  {
   "cell_type": "code",
   "execution_count": 21,
   "id": "781d215d",
   "metadata": {},
   "outputs": [
    {
     "name": "stdout",
     "output_type": "stream",
     "text": [
      "+----------+----+------+------+---+------+----+-------+------+-----+\n",
      "|total_bill| tip|   sex|smoker|day|  time|size|Gen_Col|sm_Col|d_Col|\n",
      "+----------+----+------+------+---+------+----+-------+------+-----+\n",
      "|     16.99|1.01|Female|    No|Sun|Dinner|   2|    1.0|   0.0|  1.0|\n",
      "|     10.34|1.66|  Male|    No|Sun|Dinner|   3|    0.0|   0.0|  1.0|\n",
      "|     21.01| 3.5|  Male|    No|Sun|Dinner|   3|    0.0|   0.0|  1.0|\n",
      "|     23.68|3.31|  Male|    No|Sun|Dinner|   2|    0.0|   0.0|  1.0|\n",
      "|     24.59|3.61|Female|    No|Sun|Dinner|   4|    1.0|   0.0|  1.0|\n",
      "|     25.29|4.71|  Male|    No|Sun|Dinner|   4|    0.0|   0.0|  1.0|\n",
      "|      8.77| 2.0|  Male|    No|Sun|Dinner|   2|    0.0|   0.0|  1.0|\n",
      "|     26.88|3.12|  Male|    No|Sun|Dinner|   4|    0.0|   0.0|  1.0|\n",
      "|     15.04|1.96|  Male|    No|Sun|Dinner|   2|    0.0|   0.0|  1.0|\n",
      "|     14.78|3.23|  Male|    No|Sun|Dinner|   2|    0.0|   0.0|  1.0|\n",
      "|     10.27|1.71|  Male|    No|Sun|Dinner|   2|    0.0|   0.0|  1.0|\n",
      "|     35.26| 5.0|Female|    No|Sun|Dinner|   4|    1.0|   0.0|  1.0|\n",
      "|     15.42|1.57|  Male|    No|Sun|Dinner|   2|    0.0|   0.0|  1.0|\n",
      "|     18.43| 3.0|  Male|    No|Sun|Dinner|   4|    0.0|   0.0|  1.0|\n",
      "|     14.83|3.02|Female|    No|Sun|Dinner|   2|    1.0|   0.0|  1.0|\n",
      "|     21.58|3.92|  Male|    No|Sun|Dinner|   2|    0.0|   0.0|  1.0|\n",
      "|     10.33|1.67|Female|    No|Sun|Dinner|   3|    1.0|   0.0|  1.0|\n",
      "|     16.29|3.71|  Male|    No|Sun|Dinner|   3|    0.0|   0.0|  1.0|\n",
      "|     16.97| 3.5|Female|    No|Sun|Dinner|   3|    1.0|   0.0|  1.0|\n",
      "|     20.65|3.35|  Male|    No|Sat|Dinner|   3|    0.0|   0.0|  0.0|\n",
      "+----------+----+------+------+---+------+----+-------+------+-----+\n",
      "only showing top 20 rows\n",
      "\n"
     ]
    }
   ],
   "source": [
    "y=g2.fit(f).transform(f)\n",
    "y.show()"
   ]
  },
  {
   "cell_type": "code",
   "execution_count": 22,
   "id": "c47156cc",
   "metadata": {},
   "outputs": [],
   "source": [
    "g3=StringIndexer(inputCol='time',outputCol='t_Col')"
   ]
  },
  {
   "cell_type": "code",
   "execution_count": 23,
   "id": "ebfaf2a8",
   "metadata": {},
   "outputs": [
    {
     "name": "stdout",
     "output_type": "stream",
     "text": [
      "+----------+----+------+------+---+------+----+-------+------+-----+-----+\n",
      "|total_bill| tip|   sex|smoker|day|  time|size|Gen_Col|sm_Col|d_Col|t_Col|\n",
      "+----------+----+------+------+---+------+----+-------+------+-----+-----+\n",
      "|     16.99|1.01|Female|    No|Sun|Dinner|   2|    1.0|   0.0|  1.0|  0.0|\n",
      "|     10.34|1.66|  Male|    No|Sun|Dinner|   3|    0.0|   0.0|  1.0|  0.0|\n",
      "|     21.01| 3.5|  Male|    No|Sun|Dinner|   3|    0.0|   0.0|  1.0|  0.0|\n",
      "|     23.68|3.31|  Male|    No|Sun|Dinner|   2|    0.0|   0.0|  1.0|  0.0|\n",
      "|     24.59|3.61|Female|    No|Sun|Dinner|   4|    1.0|   0.0|  1.0|  0.0|\n",
      "|     25.29|4.71|  Male|    No|Sun|Dinner|   4|    0.0|   0.0|  1.0|  0.0|\n",
      "|      8.77| 2.0|  Male|    No|Sun|Dinner|   2|    0.0|   0.0|  1.0|  0.0|\n",
      "|     26.88|3.12|  Male|    No|Sun|Dinner|   4|    0.0|   0.0|  1.0|  0.0|\n",
      "|     15.04|1.96|  Male|    No|Sun|Dinner|   2|    0.0|   0.0|  1.0|  0.0|\n",
      "|     14.78|3.23|  Male|    No|Sun|Dinner|   2|    0.0|   0.0|  1.0|  0.0|\n",
      "|     10.27|1.71|  Male|    No|Sun|Dinner|   2|    0.0|   0.0|  1.0|  0.0|\n",
      "|     35.26| 5.0|Female|    No|Sun|Dinner|   4|    1.0|   0.0|  1.0|  0.0|\n",
      "|     15.42|1.57|  Male|    No|Sun|Dinner|   2|    0.0|   0.0|  1.0|  0.0|\n",
      "|     18.43| 3.0|  Male|    No|Sun|Dinner|   4|    0.0|   0.0|  1.0|  0.0|\n",
      "|     14.83|3.02|Female|    No|Sun|Dinner|   2|    1.0|   0.0|  1.0|  0.0|\n",
      "|     21.58|3.92|  Male|    No|Sun|Dinner|   2|    0.0|   0.0|  1.0|  0.0|\n",
      "|     10.33|1.67|Female|    No|Sun|Dinner|   3|    1.0|   0.0|  1.0|  0.0|\n",
      "|     16.29|3.71|  Male|    No|Sun|Dinner|   3|    0.0|   0.0|  1.0|  0.0|\n",
      "|     16.97| 3.5|Female|    No|Sun|Dinner|   3|    1.0|   0.0|  1.0|  0.0|\n",
      "|     20.65|3.35|  Male|    No|Sat|Dinner|   3|    0.0|   0.0|  0.0|  0.0|\n",
      "+----------+----+------+------+---+------+----+-------+------+-----+-----+\n",
      "only showing top 20 rows\n",
      "\n"
     ]
    }
   ],
   "source": [
    "z=g3.fit(y).transform(y)\n",
    "z.show()"
   ]
  },
  {
   "cell_type": "code",
   "execution_count": 24,
   "id": "afb6ac22",
   "metadata": {},
   "outputs": [],
   "source": [
    "from pyspark.ml.feature import VectorAssembler"
   ]
  },
  {
   "cell_type": "code",
   "execution_count": 30,
   "id": "cffe062c",
   "metadata": {},
   "outputs": [],
   "source": [
    "va=VectorAssembler(inputCols=['tip','Gen_Col','sm_Col','d_Col','t_Col'],outputCol='inputfeat')\n",
    "p=va.transform(z)"
   ]
  },
  {
   "cell_type": "code",
   "execution_count": 31,
   "id": "51d5a564",
   "metadata": {},
   "outputs": [
    {
     "name": "stdout",
     "output_type": "stream",
     "text": [
      "+----------+----+------+------+---+------+----+-------+------+-----+-----+----------------------+\n",
      "|total_bill|tip |sex   |smoker|day|time  |size|Gen_Col|sm_Col|d_Col|t_Col|inputfeat             |\n",
      "+----------+----+------+------+---+------+----+-------+------+-----+-----+----------------------+\n",
      "|16.99     |1.01|Female|No    |Sun|Dinner|2   |1.0    |0.0   |1.0  |0.0  |[1.01,1.0,0.0,1.0,0.0]|\n",
      "|10.34     |1.66|Male  |No    |Sun|Dinner|3   |0.0    |0.0   |1.0  |0.0  |(5,[0,3],[1.66,1.0])  |\n",
      "|21.01     |3.5 |Male  |No    |Sun|Dinner|3   |0.0    |0.0   |1.0  |0.0  |(5,[0,3],[3.5,1.0])   |\n",
      "|23.68     |3.31|Male  |No    |Sun|Dinner|2   |0.0    |0.0   |1.0  |0.0  |(5,[0,3],[3.31,1.0])  |\n",
      "|24.59     |3.61|Female|No    |Sun|Dinner|4   |1.0    |0.0   |1.0  |0.0  |[3.61,1.0,0.0,1.0,0.0]|\n",
      "+----------+----+------+------+---+------+----+-------+------+-----+-----+----------------------+\n",
      "only showing top 5 rows\n",
      "\n"
     ]
    }
   ],
   "source": [
    "p.show(5,False)"
   ]
  },
  {
   "cell_type": "code",
   "execution_count": 32,
   "id": "c7849eb2",
   "metadata": {},
   "outputs": [],
   "source": [
    "finaldata=p.select('inputfeat','total_bill')"
   ]
  },
  {
   "cell_type": "code",
   "execution_count": 33,
   "id": "98bccb6e",
   "metadata": {},
   "outputs": [
    {
     "name": "stdout",
     "output_type": "stream",
     "text": [
      "root\n",
      " |-- inputfeat: vector (nullable = true)\n",
      " |-- total_bill: double (nullable = true)\n",
      "\n"
     ]
    }
   ],
   "source": [
    "finaldata.printSchema()"
   ]
  },
  {
   "cell_type": "code",
   "execution_count": 34,
   "id": "6ed09c80",
   "metadata": {},
   "outputs": [
    {
     "name": "stdout",
     "output_type": "stream",
     "text": [
      "+----------------------+----------+\n",
      "|inputfeat             |total_bill|\n",
      "+----------------------+----------+\n",
      "|[1.01,1.0,0.0,1.0,0.0]|16.99     |\n",
      "|(5,[0,3],[1.66,1.0])  |10.34     |\n",
      "|(5,[0,3],[3.5,1.0])   |21.01     |\n",
      "|(5,[0,3],[3.31,1.0])  |23.68     |\n",
      "|[3.61,1.0,0.0,1.0,0.0]|24.59     |\n",
      "+----------------------+----------+\n",
      "only showing top 5 rows\n",
      "\n"
     ]
    }
   ],
   "source": [
    "finaldata.show(5,False)"
   ]
  },
  {
   "cell_type": "code",
   "execution_count": 35,
   "id": "fc53d3a4",
   "metadata": {},
   "outputs": [],
   "source": [
    "train,test=finaldata.randomSplit([.70,.30])"
   ]
  },
  {
   "cell_type": "code",
   "execution_count": 36,
   "id": "cfa17d15",
   "metadata": {},
   "outputs": [],
   "source": [
    "from pyspark.ml.regression import LinearRegression"
   ]
  },
  {
   "cell_type": "code",
   "execution_count": 37,
   "id": "7b39dff3",
   "metadata": {},
   "outputs": [],
   "source": [
    "lr=LinearRegression(featuresCol='inputfeat',labelCol='total_bill')\n",
    "lrt=lr.fit(train)"
   ]
  },
  {
   "cell_type": "code",
   "execution_count": 38,
   "id": "a7f497a8",
   "metadata": {},
   "outputs": [
    {
     "name": "stderr",
     "output_type": "stream",
     "text": [
      "D:\\New folder\\Python\\envs\\envr1\\lib\\site-packages\\pyspark\\sql\\context.py:125: FutureWarning: Deprecated in 3.0.0. Use SparkSession.builder.getOrCreate() instead.\n",
      "  warnings.warn(\n"
     ]
    },
    {
     "name": "stdout",
     "output_type": "stream",
     "text": [
      "+--------------+----------+------------------+\n",
      "|inputfeat     |total_bill|prediction        |\n",
      "+--------------+----------+------------------+\n",
      "|(5,[0],[1.25])|10.51     |11.860906482688026|\n",
      "|(5,[0],[1.75])|17.82     |14.255226421271317|\n",
      "|(5,[0],[1.97])|12.02     |15.308727194247965|\n",
      "|(5,[0],[2.0]) |13.37     |15.45238639056296 |\n",
      "|(5,[0],[2.24])|16.04     |16.60165996108294 |\n",
      "+--------------+----------+------------------+\n",
      "only showing top 5 rows\n",
      "\n"
     ]
    }
   ],
   "source": [
    "res=lrt.evaluate(test)\n",
    "res.predictions.show(5,False)"
   ]
  },
  {
   "cell_type": "code",
   "execution_count": 39,
   "id": "168c2130",
   "metadata": {},
   "outputs": [
    {
     "name": "stdout",
     "output_type": "stream",
     "text": [
      "r2 0.39872706271380254\n",
      "square of error 5.012936032964059\n",
      "root mean square error 6.868408116335687\n"
     ]
    }
   ],
   "source": [
    "print('r2',res.r2)\n",
    "print('square of error',res.meanAbsoluteError)\n",
    "print('root mean square error',res.rootMeanSquaredError)"
   ]
  },
  {
   "cell_type": "code",
   "execution_count": null,
   "id": "88db3608",
   "metadata": {},
   "outputs": [],
   "source": []
  }
 ],
 "metadata": {
  "kernelspec": {
   "display_name": "Python 3 (ipykernel)",
   "language": "python",
   "name": "python3"
  },
  "language_info": {
   "codemirror_mode": {
    "name": "ipython",
    "version": 3
   },
   "file_extension": ".py",
   "mimetype": "text/x-python",
   "name": "python",
   "nbconvert_exporter": "python",
   "pygments_lexer": "ipython3",
   "version": "3.9.7"
  }
 },
 "nbformat": 4,
 "nbformat_minor": 5
}
