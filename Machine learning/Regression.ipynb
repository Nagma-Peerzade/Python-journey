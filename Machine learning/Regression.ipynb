{
 "cells": [
  {
   "cell_type": "code",
   "execution_count": 4,
   "id": "b3103884",
   "metadata": {},
   "outputs": [],
   "source": [
    "import findspark\n",
    "findspark.init()"
   ]
  },
  {
   "cell_type": "code",
   "execution_count": 5,
   "id": "a33fab98",
   "metadata": {},
   "outputs": [],
   "source": [
    "import pyspark\n",
    "from pyspark.sql import SparkSession"
   ]
  },
  {
   "cell_type": "code",
   "execution_count": 6,
   "id": "004402fa",
   "metadata": {},
   "outputs": [],
   "source": [
    "spark=SparkSession.builder.appName('HWApp').getOrCreate()"
   ]
  },
  {
   "cell_type": "code",
   "execution_count": 7,
   "id": "fd3916df",
   "metadata": {},
   "outputs": [
    {
     "name": "stdout",
     "output_type": "stream",
     "text": [
      "+------+-----------+-----------+\n",
      "|Gender|     Height|     Weight|\n",
      "+------+-----------+-----------+\n",
      "|  Male|73.84701702|241.8935632|\n",
      "|  Male|68.78190405|162.3104725|\n",
      "|  Male|74.11010539|212.7408556|\n",
      "|  Male| 71.7309784|220.0424703|\n",
      "|  Male|69.88179586|206.3498006|\n",
      "|  Male|67.25301569|152.2121558|\n",
      "|  Male|68.78508125|183.9278886|\n",
      "|  Male|68.34851551|167.9711105|\n",
      "|  Male|67.01894966|175.9294404|\n",
      "|  Male|63.45649398|156.3996764|\n",
      "|  Male|71.19538228|186.6049256|\n",
      "|  Male|71.64080512|213.7411695|\n",
      "|  Male|64.76632913|167.1274611|\n",
      "|  Male| 69.2830701|189.4461814|\n",
      "|  Male|69.24373223| 186.434168|\n",
      "|  Male| 67.6456197|172.1869301|\n",
      "|  Male|72.41831663|196.0285063|\n",
      "|  Male|63.97432572|172.8834702|\n",
      "|  Male| 69.6400599|185.9839576|\n",
      "|  Male|67.93600485| 182.426648|\n",
      "+------+-----------+-----------+\n",
      "only showing top 20 rows\n",
      "\n"
     ]
    }
   ],
   "source": [
    "fw=spark.read.csv('d:\\\\wh.csv',header=True,inferSchema=True)\n",
    "fw.show()\n"
   ]
  },
  {
   "cell_type": "code",
   "execution_count": 6,
   "id": "2383c316",
   "metadata": {},
   "outputs": [
    {
     "name": "stdout",
     "output_type": "stream",
     "text": [
      "root\n",
      " |-- Gender: string (nullable = true)\n",
      " |-- Height: double (nullable = true)\n",
      " |-- Weight: double (nullable = true)\n",
      "\n"
     ]
    }
   ],
   "source": [
    "fw.printSchema()"
   ]
  },
  {
   "cell_type": "code",
   "execution_count": 7,
   "id": "f8178cb9",
   "metadata": {},
   "outputs": [
    {
     "data": {
      "text/plain": [
       "10000"
      ]
     },
     "execution_count": 7,
     "metadata": {},
     "output_type": "execute_result"
    }
   ],
   "source": [
    "fw.count()"
   ]
  },
  {
   "cell_type": "code",
   "execution_count": 10,
   "id": "fe4b5755",
   "metadata": {},
   "outputs": [
    {
     "data": {
      "text/plain": [
       "DataFrame[Gender: string, Height: double, Weight: double]"
      ]
     },
     "execution_count": 10,
     "metadata": {},
     "output_type": "execute_result"
    }
   ],
   "source": [
    "fw.dropna()"
   ]
  },
  {
   "cell_type": "code",
   "execution_count": 14,
   "id": "e683f868",
   "metadata": {},
   "outputs": [
    {
     "data": {
      "text/plain": [
       "10000"
      ]
     },
     "execution_count": 14,
     "metadata": {},
     "output_type": "execute_result"
    }
   ],
   "source": [
    "fw.count()"
   ]
  },
  {
   "cell_type": "code",
   "execution_count": 8,
   "id": "6540a875",
   "metadata": {},
   "outputs": [
    {
     "name": "stdout",
     "output_type": "stream",
     "text": [
      "+------+-----------+-----------+-------------+\n",
      "|Gender|     Height|     Weight|   HeightData|\n",
      "+------+-----------+-----------+-------------+\n",
      "|  Male|73.84701702|241.8935632|[73.84701702]|\n",
      "|  Male|68.78190405|162.3104725|[68.78190405]|\n",
      "|  Male|74.11010539|212.7408556|[74.11010539]|\n",
      "|  Male| 71.7309784|220.0424703| [71.7309784]|\n",
      "|  Male|69.88179586|206.3498006|[69.88179586]|\n",
      "|  Male|67.25301569|152.2121558|[67.25301569]|\n",
      "|  Male|68.78508125|183.9278886|[68.78508125]|\n",
      "|  Male|68.34851551|167.9711105|[68.34851551]|\n",
      "|  Male|67.01894966|175.9294404|[67.01894966]|\n",
      "|  Male|63.45649398|156.3996764|[63.45649398]|\n",
      "|  Male|71.19538228|186.6049256|[71.19538228]|\n",
      "|  Male|71.64080512|213.7411695|[71.64080512]|\n",
      "|  Male|64.76632913|167.1274611|[64.76632913]|\n",
      "|  Male| 69.2830701|189.4461814| [69.2830701]|\n",
      "|  Male|69.24373223| 186.434168|[69.24373223]|\n",
      "|  Male| 67.6456197|172.1869301| [67.6456197]|\n",
      "|  Male|72.41831663|196.0285063|[72.41831663]|\n",
      "|  Male|63.97432572|172.8834702|[63.97432572]|\n",
      "|  Male| 69.6400599|185.9839576| [69.6400599]|\n",
      "|  Male|67.93600485| 182.426648|[67.93600485]|\n",
      "+------+-----------+-----------+-------------+\n",
      "only showing top 20 rows\n",
      "\n"
     ]
    }
   ],
   "source": [
    "#formating\n",
    "from pyspark.ml.feature import VectorAssembler\n",
    "f=VectorAssembler(inputCols=['Height'],outputCol='HeightData')\n",
    "d=f.transform(fw)\n",
    "d.show()"
   ]
  },
  {
   "cell_type": "code",
   "execution_count": 23,
   "id": "8883d43e",
   "metadata": {},
   "outputs": [
    {
     "name": "stdout",
     "output_type": "stream",
     "text": [
      "+-------------+-----------+\n",
      "|   HeightData|     Weight|\n",
      "+-------------+-----------+\n",
      "|[73.84701702]|241.8935632|\n",
      "|[68.78190405]|162.3104725|\n",
      "|[74.11010539]|212.7408556|\n",
      "| [71.7309784]|220.0424703|\n",
      "|[69.88179586]|206.3498006|\n",
      "|[67.25301569]|152.2121558|\n",
      "|[68.78508125]|183.9278886|\n",
      "|[68.34851551]|167.9711105|\n",
      "|[67.01894966]|175.9294404|\n",
      "|[63.45649398]|156.3996764|\n",
      "|[71.19538228]|186.6049256|\n",
      "|[71.64080512]|213.7411695|\n",
      "|[64.76632913]|167.1274611|\n",
      "| [69.2830701]|189.4461814|\n",
      "|[69.24373223]| 186.434168|\n",
      "| [67.6456197]|172.1869301|\n",
      "|[72.41831663]|196.0285063|\n",
      "|[63.97432572]|172.8834702|\n",
      "| [69.6400599]|185.9839576|\n",
      "|[67.93600485]| 182.426648|\n",
      "+-------------+-----------+\n",
      "only showing top 20 rows\n",
      "\n"
     ]
    }
   ],
   "source": [
    "d.select('HeightData','Weight').show()"
   ]
  },
  {
   "cell_type": "code",
   "execution_count": 16,
   "id": "854299f5",
   "metadata": {},
   "outputs": [],
   "source": [
    "from pyspark.ml.regression import LinearRegression"
   ]
  },
  {
   "cell_type": "code",
   "execution_count": 30,
   "id": "73461511",
   "metadata": {},
   "outputs": [],
   "source": [
    "Train,Test=d.randomSplit([.70,.30])"
   ]
  },
  {
   "cell_type": "code",
   "execution_count": 31,
   "id": "e67d39cd",
   "metadata": {},
   "outputs": [],
   "source": [
    "lr=LinearRegression(featuresCol='HeightData',labelCol='Weight')\n",
    "tm=lr.fit(Train)"
   ]
  },
  {
   "cell_type": "code",
   "execution_count": 34,
   "id": "ac7ce3e6",
   "metadata": {},
   "outputs": [
    {
     "name": "stdout",
     "output_type": "stream",
     "text": [
      "-352.31537200799613\n",
      "[7.7418507105899055]\n"
     ]
    }
   ],
   "source": [
    "print(tm.intercept)#intercept\n",
    "print(tm.coefficients)##coefficient"
   ]
  },
  {
   "cell_type": "code",
   "execution_count": 37,
   "id": "87a23e99",
   "metadata": {},
   "outputs": [
    {
     "name": "stderr",
     "output_type": "stream",
     "text": [
      "D:\\New folder\\Python\\envs\\envr1\\lib\\site-packages\\pyspark\\sql\\context.py:125: FutureWarning: Deprecated in 3.0.0. Use SparkSession.builder.getOrCreate() instead.\n",
      "  warnings.warn(\n"
     ]
    },
    {
     "name": "stdout",
     "output_type": "stream",
     "text": [
      "+------+-----------+-----------+-------------+-----------------+\n",
      "|Gender|     Height|     Weight|   HeightData|       prediction|\n",
      "+------+-----------+-----------+-------------+-----------------+\n",
      "|Female|55.14855736|88.81241211|[55.14855736]|74.63652597752804|\n",
      "|Female| 55.6518916|85.62177644| [55.6518916]|78.53326452113623|\n",
      "|Female|56.06663635|89.57120474|[56.06663635]|81.74415645863724|\n",
      "|Female| 56.1089021|80.53125938| [56.1089021]|82.07137158530833|\n",
      "|Female|56.82223984|101.9799235|[56.82223984]|87.59392587461792|\n",
      "|Female|57.02885744|101.2025509|[57.02885744]|89.19352848799832|\n",
      "|Female|57.10386947| 93.5063159|[57.10386947]|89.77426042575655|\n",
      "|Female|57.20794645|99.49482376|[57.20794645]|90.58000886732566|\n",
      "|Female|57.27014705|94.49963415|[57.27014705]|91.06155662663474|\n",
      "|Female|57.37575853|114.1922086|[57.37575853]|91.87918493811918|\n",
      "|Female|57.44256697|104.4866362|[57.44256697]|92.39640590680659|\n",
      "|Female|57.44520357|89.42089489|[57.44520357]| 92.4168180703901|\n",
      "|Female|57.54026863|96.19051124|[57.54026863]|93.15279757270343|\n",
      "|Female|57.55275371|98.64396312|[57.55275371]|93.24945519817317|\n",
      "|Female|57.64752149|99.39603077|[57.64752149]|93.98313320310723|\n",
      "|Female|57.74019191|93.65295688|[57.74019191]| 94.7005737600349|\n",
      "|Female|  57.795534|112.4581679|  [57.795534]|95.12902395882696|\n",
      "|Female|57.80732285|107.7050259|[57.80732285]|95.22029147557646|\n",
      "|Female|57.86970441|93.53375287|[57.86970441]|95.70324020019012|\n",
      "|Female|57.93667432|97.70828469|[57.93667432]|96.22171124551181|\n",
      "+------+-----------+-----------+-------------+-----------------+\n",
      "only showing top 20 rows\n",
      "\n"
     ]
    }
   ],
   "source": [
    "#evaluate the traindata\n",
    "res=tm.evaluate(Test)\n",
    "res.predictions.show()"
   ]
  },
  {
   "cell_type": "code",
   "execution_count": 39,
   "id": "2bb52181",
   "metadata": {},
   "outputs": [
    {
     "name": "stdout",
     "output_type": "stream",
     "text": [
      "square of r: 0.8477900228003823\n",
      "meam abssoulte error 9.774489947516509\n",
      "Root mean square error: 12.245546241377918\n"
     ]
    }
   ],
   "source": [
    "print('square of r:',res.r2)\n",
    "print('meam abssoulte error',res.meanAbsoluteError)\n",
    "print('Root mean square error:',res.rootMeanSquaredError)"
   ]
  },
  {
   "cell_type": "code",
   "execution_count": null,
   "id": "7657fa4c",
   "metadata": {},
   "outputs": [],
   "source": [
    "mynewmodel=t.load('e:\\\\myperfectmodel')\n",
    "mynewmodel.evaluate(test)"
   ]
  }
 ],
 "metadata": {
  "kernelspec": {
   "display_name": "Python 3 (ipykernel)",
   "language": "python",
   "name": "python3"
  },
  "language_info": {
   "codemirror_mode": {
    "name": "ipython",
    "version": 3
   },
   "file_extension": ".py",
   "mimetype": "text/x-python",
   "name": "python",
   "nbconvert_exporter": "python",
   "pygments_lexer": "ipython3",
   "version": "3.9.7"
  }
 },
 "nbformat": 4,
 "nbformat_minor": 5
}
