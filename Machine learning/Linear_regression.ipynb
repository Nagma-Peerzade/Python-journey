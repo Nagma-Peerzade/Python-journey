{
 "cells": [
  {
   "cell_type": "code",
   "execution_count": 1,
   "id": "715a350a",
   "metadata": {},
   "outputs": [],
   "source": [
    "import findspark\n",
    "findspark.init()"
   ]
  },
  {
   "cell_type": "code",
   "execution_count": 2,
   "id": "fac77337",
   "metadata": {},
   "outputs": [],
   "source": [
    "import pyspark\n",
    "from pyspark.sql import SparkSession"
   ]
  },
  {
   "cell_type": "code",
   "execution_count": 3,
   "id": "5e40bb5c",
   "metadata": {},
   "outputs": [],
   "source": [
    "spark=SparkSession.builder.appName('HWApp').getOrCreate()"
   ]
  },
  {
   "cell_type": "code",
   "execution_count": 15,
   "id": "ad91b597",
   "metadata": {},
   "outputs": [
    {
     "name": "stdout",
     "output_type": "stream",
     "text": [
      "+------+-----------+-----------+\n",
      "|Gender|     Height|     Weight|\n",
      "+------+-----------+-----------+\n",
      "|  Male|73.84701702|241.8935632|\n",
      "|  Male|68.78190405|162.3104725|\n",
      "|  Male|74.11010539|212.7408556|\n",
      "|  Male| 71.7309784|220.0424703|\n",
      "|  Male|69.88179586|206.3498006|\n",
      "|  Male|67.25301569|152.2121558|\n",
      "|  Male|68.78508125|183.9278886|\n",
      "|  Male|68.34851551|167.9711105|\n",
      "|  Male|67.01894966|175.9294404|\n",
      "|  Male|63.45649398|156.3996764|\n",
      "|  Male|71.19538228|186.6049256|\n",
      "|  Male|71.64080512|213.7411695|\n",
      "|  Male|64.76632913|167.1274611|\n",
      "|  Male| 69.2830701|189.4461814|\n",
      "|  Male|69.24373223| 186.434168|\n",
      "|  Male| 67.6456197|172.1869301|\n",
      "|  Male|72.41831663|196.0285063|\n",
      "|  Male|63.97432572|172.8834702|\n",
      "|  Male| 69.6400599|185.9839576|\n",
      "|  Male|67.93600485| 182.426648|\n",
      "+------+-----------+-----------+\n",
      "only showing top 20 rows\n",
      "\n"
     ]
    }
   ],
   "source": [
    "fw=spark.read.csv('d:\\\\wh.csv',header=True,inferSchema=True)\n",
    "fw.show()"
   ]
  },
  {
   "cell_type": "code",
   "execution_count": 5,
   "id": "dfa647b0",
   "metadata": {},
   "outputs": [
    {
     "name": "stdout",
     "output_type": "stream",
     "text": [
      "root\n",
      " |-- Gender: string (nullable = true)\n",
      " |-- Height: double (nullable = true)\n",
      " |-- Weight: double (nullable = true)\n",
      "\n"
     ]
    }
   ],
   "source": [
    "fw.printSchema()"
   ]
  },
  {
   "cell_type": "code",
   "execution_count": 16,
   "id": "c78f4845",
   "metadata": {},
   "outputs": [],
   "source": [
    "#independent feature gender col is non numeric so we will import stringindexer\n",
    "from pyspark.ml.feature import StringIndexer"
   ]
  },
  {
   "cell_type": "code",
   "execution_count": 17,
   "id": "c3a5121e",
   "metadata": {},
   "outputs": [],
   "source": [
    "g=StringIndexer(inputCol='Gender',outputCol='Gen_Col')"
   ]
  },
  {
   "cell_type": "code",
   "execution_count": 18,
   "id": "60d349c3",
   "metadata": {},
   "outputs": [],
   "source": [
    "v=g.fit(fw).transform(fw)"
   ]
  },
  {
   "cell_type": "code",
   "execution_count": 19,
   "id": "ce876e4d",
   "metadata": {},
   "outputs": [
    {
     "name": "stdout",
     "output_type": "stream",
     "text": [
      "+------+-----------+-----------+-------+\n",
      "|Gender|     Height|     Weight|Gen_Col|\n",
      "+------+-----------+-----------+-------+\n",
      "|  Male|73.84701702|241.8935632|    1.0|\n",
      "|  Male|68.78190405|162.3104725|    1.0|\n",
      "|  Male|74.11010539|212.7408556|    1.0|\n",
      "|  Male| 71.7309784|220.0424703|    1.0|\n",
      "|  Male|69.88179586|206.3498006|    1.0|\n",
      "|  Male|67.25301569|152.2121558|    1.0|\n",
      "|  Male|68.78508125|183.9278886|    1.0|\n",
      "|  Male|68.34851551|167.9711105|    1.0|\n",
      "|  Male|67.01894966|175.9294404|    1.0|\n",
      "|  Male|63.45649398|156.3996764|    1.0|\n",
      "|  Male|71.19538228|186.6049256|    1.0|\n",
      "|  Male|71.64080512|213.7411695|    1.0|\n",
      "|  Male|64.76632913|167.1274611|    1.0|\n",
      "|  Male| 69.2830701|189.4461814|    1.0|\n",
      "|  Male|69.24373223| 186.434168|    1.0|\n",
      "|  Male| 67.6456197|172.1869301|    1.0|\n",
      "|  Male|72.41831663|196.0285063|    1.0|\n",
      "|  Male|63.97432572|172.8834702|    1.0|\n",
      "|  Male| 69.6400599|185.9839576|    1.0|\n",
      "|  Male|67.93600485| 182.426648|    1.0|\n",
      "+------+-----------+-----------+-------+\n",
      "only showing top 20 rows\n",
      "\n"
     ]
    }
   ],
   "source": [
    "v.show()"
   ]
  },
  {
   "cell_type": "code",
   "execution_count": 20,
   "id": "9c0dd67a",
   "metadata": {},
   "outputs": [
    {
     "data": {
      "text/plain": [
       "DataFrame[Gender: string, Height: double, Weight: double]"
      ]
     },
     "execution_count": 20,
     "metadata": {},
     "output_type": "execute_result"
    }
   ],
   "source": [
    "fw.na.drop(how='any')"
   ]
  },
  {
   "cell_type": "code",
   "execution_count": 11,
   "id": "f0ca4fdc",
   "metadata": {},
   "outputs": [
    {
     "data": {
      "text/plain": [
       "10000"
      ]
     },
     "execution_count": 11,
     "metadata": {},
     "output_type": "execute_result"
    }
   ],
   "source": [
    "fw.count()"
   ]
  },
  {
   "cell_type": "code",
   "execution_count": 21,
   "id": "6724e2a3",
   "metadata": {},
   "outputs": [],
   "source": [
    "from pyspark.ml.feature import VectorAssembler"
   ]
  },
  {
   "cell_type": "code",
   "execution_count": 22,
   "id": "a3cb9a3e",
   "metadata": {},
   "outputs": [],
   "source": [
    "va=VectorAssembler(inputCols=['Height','Gen_Col'],outputCol='inputfeat')\n",
    "p=va.transform(v)"
   ]
  },
  {
   "cell_type": "code",
   "execution_count": 23,
   "id": "c214916f",
   "metadata": {},
   "outputs": [
    {
     "name": "stdout",
     "output_type": "stream",
     "text": [
      "+------+-----------+-----------+-------+-----------------+\n",
      "|Gender|Height     |Weight     |Gen_Col|inputfeat        |\n",
      "+------+-----------+-----------+-------+-----------------+\n",
      "|Male  |73.84701702|241.8935632|1.0    |[73.84701702,1.0]|\n",
      "|Male  |68.78190405|162.3104725|1.0    |[68.78190405,1.0]|\n",
      "|Male  |74.11010539|212.7408556|1.0    |[74.11010539,1.0]|\n",
      "|Male  |71.7309784 |220.0424703|1.0    |[71.7309784,1.0] |\n",
      "|Male  |69.88179586|206.3498006|1.0    |[69.88179586,1.0]|\n",
      "+------+-----------+-----------+-------+-----------------+\n",
      "only showing top 5 rows\n",
      "\n"
     ]
    }
   ],
   "source": [
    "p.show(5,False)"
   ]
  },
  {
   "cell_type": "code",
   "execution_count": 24,
   "id": "a308ae8b",
   "metadata": {},
   "outputs": [],
   "source": [
    "finaldata=p.select('inputfeat','weight')"
   ]
  },
  {
   "cell_type": "code",
   "execution_count": 25,
   "id": "adc535b1",
   "metadata": {},
   "outputs": [
    {
     "name": "stdout",
     "output_type": "stream",
     "text": [
      "root\n",
      " |-- inputfeat: vector (nullable = true)\n",
      " |-- weight: double (nullable = true)\n",
      "\n"
     ]
    }
   ],
   "source": [
    "finaldata.printSchema()"
   ]
  },
  {
   "cell_type": "code",
   "execution_count": 26,
   "id": "ee8c9ffd",
   "metadata": {},
   "outputs": [
    {
     "name": "stdout",
     "output_type": "stream",
     "text": [
      "+-----------------+-----------+\n",
      "|inputfeat        |weight     |\n",
      "+-----------------+-----------+\n",
      "|[73.84701702,1.0]|241.8935632|\n",
      "|[68.78190405,1.0]|162.3104725|\n",
      "|[74.11010539,1.0]|212.7408556|\n",
      "|[71.7309784,1.0] |220.0424703|\n",
      "|[69.88179586,1.0]|206.3498006|\n",
      "+-----------------+-----------+\n",
      "only showing top 5 rows\n",
      "\n"
     ]
    }
   ],
   "source": [
    "finaldata.show(5,False)"
   ]
  },
  {
   "cell_type": "code",
   "execution_count": 27,
   "id": "c1f405db",
   "metadata": {},
   "outputs": [],
   "source": [
    "train,test=finaldata.randomSplit([.70,.30])"
   ]
  },
  {
   "cell_type": "code",
   "execution_count": 28,
   "id": "2a6c243d",
   "metadata": {},
   "outputs": [],
   "source": [
    "from pyspark.ml.regression import LinearRegression"
   ]
  },
  {
   "cell_type": "code",
   "execution_count": 29,
   "id": "70afc868",
   "metadata": {},
   "outputs": [],
   "source": [
    "lr=LinearRegression(featuresCol='inputfeat',labelCol='weight')\n",
    "lrt=lr.fit(train)"
   ]
  },
  {
   "cell_type": "code",
   "execution_count": 30,
   "id": "72bfcc5e",
   "metadata": {},
   "outputs": [
    {
     "name": "stderr",
     "output_type": "stream",
     "text": [
      "D:\\New folder\\Python\\envs\\envr1\\lib\\site-packages\\pyspark\\sql\\context.py:125: FutureWarning: Deprecated in 3.0.0. Use SparkSession.builder.getOrCreate() instead.\n",
      "  warnings.warn(\n"
     ]
    },
    {
     "name": "stdout",
     "output_type": "stream",
     "text": [
      "+-----------------+-----------+-----------------+\n",
      "|inputfeat        |weight     |prediction       |\n",
      "+-----------------+-----------+-----------------+\n",
      "|[55.6518916,0.0] |85.62177644|87.84012769535548|\n",
      "|[55.97919788,0.0]|85.41753362|89.79418998984562|\n",
      "|[56.06663635,0.0]|89.57120474|90.31620935750004|\n",
      "|[56.10536959,0.0]|87.29886913|90.54745198390924|\n",
      "|[56.1089021,0.0] |80.53125938|90.5685415413596 |\n",
      "+-----------------+-----------+-----------------+\n",
      "only showing top 5 rows\n",
      "\n"
     ]
    }
   ],
   "source": [
    "res=lrt.evaluate(test)\n",
    "res.predictions.show(5,False)"
   ]
  },
  {
   "cell_type": "code",
   "execution_count": 33,
   "id": "c74e9111",
   "metadata": {},
   "outputs": [
    {
     "name": "stdout",
     "output_type": "stream",
     "text": [
      "r2 0.9068524568876848\n",
      "square of error 8.019663060859644\n",
      "root mean square error 10.038568924000826\n"
     ]
    }
   ],
   "source": [
    "print('r2',res.r2)\n",
    "print('square of error',res.meanAbsoluteError)\n",
    "print('root mean square error',res.rootMeanSquaredError)"
   ]
  },
  {
   "cell_type": "code",
   "execution_count": null,
   "id": "372f1bea",
   "metadata": {},
   "outputs": [],
   "source": []
  }
 ],
 "metadata": {
  "kernelspec": {
   "display_name": "Python 3 (ipykernel)",
   "language": "python",
   "name": "python3"
  },
  "language_info": {
   "codemirror_mode": {
    "name": "ipython",
    "version": 3
   },
   "file_extension": ".py",
   "mimetype": "text/x-python",
   "name": "python",
   "nbconvert_exporter": "python",
   "pygments_lexer": "ipython3",
   "version": "3.9.7"
  }
 },
 "nbformat": 4,
 "nbformat_minor": 5
}
