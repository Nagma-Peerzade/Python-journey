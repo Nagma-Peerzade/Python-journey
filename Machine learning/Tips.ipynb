{
 "cells": [
  {
   "cell_type": "markdown",
   "id": "3157ae38",
   "metadata": {},
   "source": [
    "#Assignment"
   ]
  },
  {
   "cell_type": "code",
   "execution_count": 1,
   "id": "2d6b8931",
   "metadata": {},
   "outputs": [],
   "source": [
    "import findspark\n",
    "findspark.init()"
   ]
  },
  {
   "cell_type": "code",
   "execution_count": 2,
   "id": "7bf5f61e",
   "metadata": {},
   "outputs": [],
   "source": [
    "import pyspark\n",
    "from pyspark.sql import SparkSession"
   ]
  },
  {
   "cell_type": "code",
   "execution_count": 3,
   "id": "a60f0d05",
   "metadata": {},
   "outputs": [],
   "source": [
    "spark=SparkSession.builder.appName('Tips').getOrCreate()"
   ]
  },
  {
   "cell_type": "code",
   "execution_count": 4,
   "id": "3a16d690",
   "metadata": {},
   "outputs": [
    {
     "name": "stdout",
     "output_type": "stream",
     "text": [
      "+----------+----+------+------+---+------+----+\n",
      "|total_bill| tip|   sex|smoker|day|  time|size|\n",
      "+----------+----+------+------+---+------+----+\n",
      "|     16.99|1.01|Female|    No|Sun|Dinner|   2|\n",
      "|     10.34|1.66|  Male|    No|Sun|Dinner|   3|\n",
      "|     21.01| 3.5|  Male|    No|Sun|Dinner|   3|\n",
      "|     23.68|3.31|  Male|    No|Sun|Dinner|   2|\n",
      "|     24.59|3.61|Female|    No|Sun|Dinner|   4|\n",
      "|     25.29|4.71|  Male|    No|Sun|Dinner|   4|\n",
      "|      8.77| 2.0|  Male|    No|Sun|Dinner|   2|\n",
      "|     26.88|3.12|  Male|    No|Sun|Dinner|   4|\n",
      "|     15.04|1.96|  Male|    No|Sun|Dinner|   2|\n",
      "|     14.78|3.23|  Male|    No|Sun|Dinner|   2|\n",
      "|     10.27|1.71|  Male|    No|Sun|Dinner|   2|\n",
      "|     35.26| 5.0|Female|    No|Sun|Dinner|   4|\n",
      "|     15.42|1.57|  Male|    No|Sun|Dinner|   2|\n",
      "|     18.43| 3.0|  Male|    No|Sun|Dinner|   4|\n",
      "|     14.83|3.02|Female|    No|Sun|Dinner|   2|\n",
      "|     21.58|3.92|  Male|    No|Sun|Dinner|   2|\n",
      "|     10.33|1.67|Female|    No|Sun|Dinner|   3|\n",
      "|     16.29|3.71|  Male|    No|Sun|Dinner|   3|\n",
      "|     16.97| 3.5|Female|    No|Sun|Dinner|   3|\n",
      "|     20.65|3.35|  Male|    No|Sat|Dinner|   3|\n",
      "+----------+----+------+------+---+------+----+\n",
      "only showing top 20 rows\n",
      "\n"
     ]
    }
   ],
   "source": [
    "dtips=spark.read.csv('d:\\\\tips.csv',header=True,inferSchema=True)\n",
    "dtips.show()"
   ]
  },
  {
   "cell_type": "code",
   "execution_count": 5,
   "id": "6ec23566",
   "metadata": {},
   "outputs": [
    {
     "name": "stdout",
     "output_type": "stream",
     "text": [
      "root\n",
      " |-- total_bill: double (nullable = true)\n",
      " |-- tip: double (nullable = true)\n",
      " |-- sex: string (nullable = true)\n",
      " |-- smoker: string (nullable = true)\n",
      " |-- day: string (nullable = true)\n",
      " |-- time: string (nullable = true)\n",
      " |-- size: integer (nullable = true)\n",
      "\n"
     ]
    }
   ],
   "source": [
    "dtips.printSchema()"
   ]
  },
  {
   "cell_type": "code",
   "execution_count": 6,
   "id": "0a25692e",
   "metadata": {},
   "outputs": [],
   "source": [
    "from pyspark.ml.feature import VectorAssembler"
   ]
  },
  {
   "cell_type": "code",
   "execution_count": 7,
   "id": "e828d7ad",
   "metadata": {},
   "outputs": [
    {
     "name": "stdout",
     "output_type": "stream",
     "text": [
      "+----------+----+------+------+---+------+----+------+\n",
      "|total_bill| tip|   sex|smoker|day|  time|size|  Data|\n",
      "+----------+----+------+------+---+------+----+------+\n",
      "|     16.99|1.01|Female|    No|Sun|Dinner|   2|[1.01]|\n",
      "|     10.34|1.66|  Male|    No|Sun|Dinner|   3|[1.66]|\n",
      "|     21.01| 3.5|  Male|    No|Sun|Dinner|   3| [3.5]|\n",
      "|     23.68|3.31|  Male|    No|Sun|Dinner|   2|[3.31]|\n",
      "|     24.59|3.61|Female|    No|Sun|Dinner|   4|[3.61]|\n",
      "|     25.29|4.71|  Male|    No|Sun|Dinner|   4|[4.71]|\n",
      "|      8.77| 2.0|  Male|    No|Sun|Dinner|   2| [2.0]|\n",
      "|     26.88|3.12|  Male|    No|Sun|Dinner|   4|[3.12]|\n",
      "|     15.04|1.96|  Male|    No|Sun|Dinner|   2|[1.96]|\n",
      "|     14.78|3.23|  Male|    No|Sun|Dinner|   2|[3.23]|\n",
      "|     10.27|1.71|  Male|    No|Sun|Dinner|   2|[1.71]|\n",
      "|     35.26| 5.0|Female|    No|Sun|Dinner|   4| [5.0]|\n",
      "|     15.42|1.57|  Male|    No|Sun|Dinner|   2|[1.57]|\n",
      "|     18.43| 3.0|  Male|    No|Sun|Dinner|   4| [3.0]|\n",
      "|     14.83|3.02|Female|    No|Sun|Dinner|   2|[3.02]|\n",
      "|     21.58|3.92|  Male|    No|Sun|Dinner|   2|[3.92]|\n",
      "|     10.33|1.67|Female|    No|Sun|Dinner|   3|[1.67]|\n",
      "|     16.29|3.71|  Male|    No|Sun|Dinner|   3|[3.71]|\n",
      "|     16.97| 3.5|Female|    No|Sun|Dinner|   3| [3.5]|\n",
      "|     20.65|3.35|  Male|    No|Sat|Dinner|   3|[3.35]|\n",
      "+----------+----+------+------+---+------+----+------+\n",
      "only showing top 20 rows\n",
      "\n"
     ]
    }
   ],
   "source": [
    "f=VectorAssembler(inputCols=['tip'],outputCol='Data')\n",
    "d=f.transform(dtips)\n",
    "d.show()"
   ]
  },
  {
   "cell_type": "code",
   "execution_count": 10,
   "id": "10d8467b",
   "metadata": {},
   "outputs": [
    {
     "name": "stdout",
     "output_type": "stream",
     "text": [
      "+------+----------+\n",
      "|  Data|total_bill|\n",
      "+------+----------+\n",
      "|[1.01]|     16.99|\n",
      "|[1.66]|     10.34|\n",
      "| [3.5]|     21.01|\n",
      "|[3.31]|     23.68|\n",
      "|[3.61]|     24.59|\n",
      "|[4.71]|     25.29|\n",
      "| [2.0]|      8.77|\n",
      "|[3.12]|     26.88|\n",
      "|[1.96]|     15.04|\n",
      "|[3.23]|     14.78|\n",
      "|[1.71]|     10.27|\n",
      "| [5.0]|     35.26|\n",
      "|[1.57]|     15.42|\n",
      "| [3.0]|     18.43|\n",
      "|[3.02]|     14.83|\n",
      "|[3.92]|     21.58|\n",
      "|[1.67]|     10.33|\n",
      "|[3.71]|     16.29|\n",
      "| [3.5]|     16.97|\n",
      "|[3.35]|     20.65|\n",
      "+------+----------+\n",
      "only showing top 20 rows\n",
      "\n"
     ]
    }
   ],
   "source": [
    "d.select('Data','total_bill').show()"
   ]
  },
  {
   "cell_type": "code",
   "execution_count": 11,
   "id": "3f3a7b9e",
   "metadata": {},
   "outputs": [
    {
     "name": "stdout",
     "output_type": "stream",
     "text": [
      "root\n",
      " |-- total_bill: double (nullable = true)\n",
      " |-- tip: double (nullable = true)\n",
      " |-- sex: string (nullable = true)\n",
      " |-- smoker: string (nullable = true)\n",
      " |-- day: string (nullable = true)\n",
      " |-- time: string (nullable = true)\n",
      " |-- size: integer (nullable = true)\n",
      " |-- Data: vector (nullable = true)\n",
      "\n"
     ]
    }
   ],
   "source": [
    "d.printSchema()"
   ]
  },
  {
   "cell_type": "code",
   "execution_count": 12,
   "id": "f721a3a4",
   "metadata": {},
   "outputs": [],
   "source": [
    "from pyspark.ml.regression import LinearRegression"
   ]
  },
  {
   "cell_type": "code",
   "execution_count": 14,
   "id": "c9ed5e79",
   "metadata": {},
   "outputs": [],
   "source": [
    "train,test=d.randomSplit([.70,.30])"
   ]
  },
  {
   "cell_type": "code",
   "execution_count": 15,
   "id": "0e466c2e",
   "metadata": {},
   "outputs": [],
   "source": [
    "lr=LinearRegression(featuresCol='Data',labelCol='total_bill')\n",
    "tm=lr.fit(train)"
   ]
  },
  {
   "cell_type": "code",
   "execution_count": 16,
   "id": "3358e284",
   "metadata": {},
   "outputs": [
    {
     "name": "stdout",
     "output_type": "stream",
     "text": [
      "6.765338756526413\n",
      "[4.325188774182937]\n"
     ]
    }
   ],
   "source": [
    "print(tm.intercept)#intercept\n",
    "print(tm.coefficients)##coefficient"
   ]
  },
  {
   "cell_type": "code",
   "execution_count": 17,
   "id": "31f802eb",
   "metadata": {},
   "outputs": [
    {
     "name": "stderr",
     "output_type": "stream",
     "text": [
      "D:\\New folder\\Python\\envs\\envr1\\lib\\site-packages\\pyspark\\sql\\context.py:125: FutureWarning: Deprecated in 3.0.0. Use SparkSession.builder.getOrCreate() instead.\n",
      "  warnings.warn(\n"
     ]
    },
    {
     "name": "stdout",
     "output_type": "stream",
     "text": [
      "+----------+----+------+------+----+------+----+------+------------------+\n",
      "|total_bill| tip|   sex|smoker| day|  time|size|  Data|        prediction|\n",
      "+----------+----+------+------+----+------+----+------+------------------+\n",
      "|      7.51| 2.0|  Male|    No|Thur| Lunch|   2| [2.0]|15.415716304892287|\n",
      "|      8.58|1.92|  Male|   Yes| Fri| Lunch|   1|[1.92]|15.069701202957653|\n",
      "|      8.77| 2.0|  Male|    No| Sun|Dinner|   2| [2.0]|15.415716304892287|\n",
      "|     10.07|1.25|  Male|    No| Sat|Dinner|   2|[1.25]|12.171824724255085|\n",
      "|     10.33| 2.0|Female|    No|Thur| Lunch|   2| [2.0]|15.415716304892287|\n",
      "|     10.34|1.66|  Male|    No| Sun|Dinner|   3|[1.66]|13.945152121670088|\n",
      "|     10.34| 2.0|  Male|   Yes|Thur| Lunch|   2| [2.0]|15.415716304892287|\n",
      "|     10.77|1.47|  Male|    No| Sat|Dinner|   2|[1.47]| 13.12336625457533|\n",
      "|     11.17| 1.5|Female|    No|Thur| Lunch|   2| [1.5]|13.253121917800819|\n",
      "|     11.24|1.76|  Male|   Yes| Sat|Dinner|   2|[1.76]|14.377670999088382|\n",
      "|     11.59| 1.5|  Male|   Yes| Sat|Dinner|   2| [1.5]|13.253121917800819|\n",
      "|     11.87|1.63|Female|    No|Thur| Lunch|   2|[1.63]|  13.8153964584446|\n",
      "|     12.02|1.97|  Male|    No| Sat|Dinner|   2|[1.97]|15.285960641666799|\n",
      "|     12.48|2.52|Female|    No|Thur| Lunch|   2|[2.52]|17.664814467467416|\n",
      "|     12.76|2.23|Female|   Yes| Sat|Dinner|   2|[2.23]|16.410509722954362|\n",
      "|     13.37| 2.0|  Male|    No| Sat|Dinner|   2| [2.0]|15.415716304892287|\n",
      "|     13.81| 2.0|  Male|   Yes| Sat|Dinner|   2| [2.0]|15.415716304892287|\n",
      "|      14.0| 3.0|  Male|    No| Sat|Dinner|   2| [3.0]|19.740905079075226|\n",
      "|     14.26| 2.5|  Male|    No|Thur| Lunch|   2| [2.5]|17.578310691983756|\n",
      "|     14.31| 4.0|Female|   Yes| Sat|Dinner|   2| [4.0]| 24.06609385325816|\n",
      "+----------+----+------+------+----+------+----+------+------------------+\n",
      "only showing top 20 rows\n",
      "\n"
     ]
    }
   ],
   "source": [
    "res=tm.evaluate(test)\n",
    "res.predictions.show()"
   ]
  },
  {
   "cell_type": "code",
   "execution_count": 18,
   "id": "74f56ff5",
   "metadata": {},
   "outputs": [
    {
     "name": "stdout",
     "output_type": "stream",
     "text": [
      "this is R2: 0.560561495161898\n",
      "this is mean absolute error: 4.275529896341071\n",
      "Root mean square error: 6.097920224059575\n"
     ]
    }
   ],
   "source": [
    "print('this is R2:',res.r2)\n",
    "print('this is mean absolute error:',res.meanAbsoluteError)\n",
    "print('Root mean square error:',res.rootMeanSquaredError)"
   ]
  },
  {
   "cell_type": "code",
   "execution_count": null,
   "id": "985124ff",
   "metadata": {},
   "outputs": [],
   "source": []
  }
 ],
 "metadata": {
  "kernelspec": {
   "display_name": "Python 3 (ipykernel)",
   "language": "python",
   "name": "python3"
  },
  "language_info": {
   "codemirror_mode": {
    "name": "ipython",
    "version": 3
   },
   "file_extension": ".py",
   "mimetype": "text/x-python",
   "name": "python",
   "nbconvert_exporter": "python",
   "pygments_lexer": "ipython3",
   "version": "3.9.7"
  }
 },
 "nbformat": 4,
 "nbformat_minor": 5
}
