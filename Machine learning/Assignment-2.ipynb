{
 "cells": [
  {
   "cell_type": "code",
   "execution_count": 1,
   "id": "ccdbbaf8",
   "metadata": {},
   "outputs": [],
   "source": [
    "import findspark\n",
    "findspark.init()"
   ]
  },
  {
   "cell_type": "code",
   "execution_count": 2,
   "id": "f4d1df7a",
   "metadata": {},
   "outputs": [],
   "source": [
    "import pyspark\n",
    "from pyspark.sql import SparkSession"
   ]
  },
  {
   "cell_type": "code",
   "execution_count": 3,
   "id": "0dc10bf2",
   "metadata": {},
   "outputs": [],
   "source": [
    "sp=SparkSession.builder.appName('toddlerapp').getOrCreate()"
   ]
  },
  {
   "cell_type": "code",
   "execution_count": 22,
   "id": "e3abeda2",
   "metadata": {},
   "outputs": [
    {
     "data": {
      "text/html": [
       "<div>\n",
       "<style scoped>\n",
       "    .dataframe tbody tr th:only-of-type {\n",
       "        vertical-align: middle;\n",
       "    }\n",
       "\n",
       "    .dataframe tbody tr th {\n",
       "        vertical-align: top;\n",
       "    }\n",
       "\n",
       "    .dataframe thead th {\n",
       "        text-align: right;\n",
       "    }\n",
       "</style>\n",
       "<table border=\"1\" class=\"dataframe\">\n",
       "  <thead>\n",
       "    <tr style=\"text-align: right;\">\n",
       "      <th></th>\n",
       "      <th>Survived</th>\n",
       "      <th>Pclass</th>\n",
       "      <th>Name</th>\n",
       "      <th>Sex</th>\n",
       "      <th>Age</th>\n",
       "      <th>SiblingsSpouses</th>\n",
       "      <th>ParentsChildren</th>\n",
       "      <th>Fare</th>\n",
       "    </tr>\n",
       "  </thead>\n",
       "  <tbody>\n",
       "    <tr>\n",
       "      <th>0</th>\n",
       "      <td>0</td>\n",
       "      <td>3</td>\n",
       "      <td>Mr. Owen Harris Braund</td>\n",
       "      <td>male</td>\n",
       "      <td>22.0</td>\n",
       "      <td>1</td>\n",
       "      <td>0</td>\n",
       "      <td>7.2500</td>\n",
       "    </tr>\n",
       "    <tr>\n",
       "      <th>1</th>\n",
       "      <td>1</td>\n",
       "      <td>1</td>\n",
       "      <td>Mrs. John Bradley (Florence Briggs Thayer) Cum...</td>\n",
       "      <td>female</td>\n",
       "      <td>38.0</td>\n",
       "      <td>1</td>\n",
       "      <td>0</td>\n",
       "      <td>71.2833</td>\n",
       "    </tr>\n",
       "    <tr>\n",
       "      <th>2</th>\n",
       "      <td>1</td>\n",
       "      <td>3</td>\n",
       "      <td>Miss. Laina Heikkinen</td>\n",
       "      <td>female</td>\n",
       "      <td>26.0</td>\n",
       "      <td>0</td>\n",
       "      <td>0</td>\n",
       "      <td>7.9250</td>\n",
       "    </tr>\n",
       "    <tr>\n",
       "      <th>3</th>\n",
       "      <td>1</td>\n",
       "      <td>1</td>\n",
       "      <td>Mrs. Jacques Heath (Lily May Peel) Futrelle</td>\n",
       "      <td>female</td>\n",
       "      <td>35.0</td>\n",
       "      <td>1</td>\n",
       "      <td>0</td>\n",
       "      <td>53.1000</td>\n",
       "    </tr>\n",
       "    <tr>\n",
       "      <th>4</th>\n",
       "      <td>0</td>\n",
       "      <td>3</td>\n",
       "      <td>Mr. William Henry Allen</td>\n",
       "      <td>male</td>\n",
       "      <td>35.0</td>\n",
       "      <td>0</td>\n",
       "      <td>0</td>\n",
       "      <td>8.0500</td>\n",
       "    </tr>\n",
       "    <tr>\n",
       "      <th>...</th>\n",
       "      <td>...</td>\n",
       "      <td>...</td>\n",
       "      <td>...</td>\n",
       "      <td>...</td>\n",
       "      <td>...</td>\n",
       "      <td>...</td>\n",
       "      <td>...</td>\n",
       "      <td>...</td>\n",
       "    </tr>\n",
       "    <tr>\n",
       "      <th>882</th>\n",
       "      <td>0</td>\n",
       "      <td>2</td>\n",
       "      <td>Rev. Juozas Montvila</td>\n",
       "      <td>male</td>\n",
       "      <td>27.0</td>\n",
       "      <td>0</td>\n",
       "      <td>0</td>\n",
       "      <td>13.0000</td>\n",
       "    </tr>\n",
       "    <tr>\n",
       "      <th>883</th>\n",
       "      <td>1</td>\n",
       "      <td>1</td>\n",
       "      <td>Miss. Margaret Edith Graham</td>\n",
       "      <td>female</td>\n",
       "      <td>19.0</td>\n",
       "      <td>0</td>\n",
       "      <td>0</td>\n",
       "      <td>30.0000</td>\n",
       "    </tr>\n",
       "    <tr>\n",
       "      <th>884</th>\n",
       "      <td>0</td>\n",
       "      <td>3</td>\n",
       "      <td>Miss. Catherine Helen Johnston</td>\n",
       "      <td>female</td>\n",
       "      <td>7.0</td>\n",
       "      <td>1</td>\n",
       "      <td>2</td>\n",
       "      <td>23.4500</td>\n",
       "    </tr>\n",
       "    <tr>\n",
       "      <th>885</th>\n",
       "      <td>1</td>\n",
       "      <td>1</td>\n",
       "      <td>Mr. Karl Howell Behr</td>\n",
       "      <td>male</td>\n",
       "      <td>26.0</td>\n",
       "      <td>0</td>\n",
       "      <td>0</td>\n",
       "      <td>30.0000</td>\n",
       "    </tr>\n",
       "    <tr>\n",
       "      <th>886</th>\n",
       "      <td>0</td>\n",
       "      <td>3</td>\n",
       "      <td>Mr. Patrick Dooley</td>\n",
       "      <td>male</td>\n",
       "      <td>32.0</td>\n",
       "      <td>0</td>\n",
       "      <td>0</td>\n",
       "      <td>7.7500</td>\n",
       "    </tr>\n",
       "  </tbody>\n",
       "</table>\n",
       "<p>887 rows × 8 columns</p>\n",
       "</div>"
      ],
      "text/plain": [
       "     Survived  Pclass                                               Name  \\\n",
       "0           0       3                             Mr. Owen Harris Braund   \n",
       "1           1       1  Mrs. John Bradley (Florence Briggs Thayer) Cum...   \n",
       "2           1       3                              Miss. Laina Heikkinen   \n",
       "3           1       1        Mrs. Jacques Heath (Lily May Peel) Futrelle   \n",
       "4           0       3                            Mr. William Henry Allen   \n",
       "..        ...     ...                                                ...   \n",
       "882         0       2                               Rev. Juozas Montvila   \n",
       "883         1       1                        Miss. Margaret Edith Graham   \n",
       "884         0       3                     Miss. Catherine Helen Johnston   \n",
       "885         1       1                               Mr. Karl Howell Behr   \n",
       "886         0       3                                 Mr. Patrick Dooley   \n",
       "\n",
       "        Sex   Age  SiblingsSpouses  ParentsChildren     Fare  \n",
       "0      male  22.0                1                0   7.2500  \n",
       "1    female  38.0                1                0  71.2833  \n",
       "2    female  26.0                0                0   7.9250  \n",
       "3    female  35.0                1                0  53.1000  \n",
       "4      male  35.0                0                0   8.0500  \n",
       "..      ...   ...              ...              ...      ...  \n",
       "882    male  27.0                0                0  13.0000  \n",
       "883  female  19.0                0                0  30.0000  \n",
       "884  female   7.0                1                2  23.4500  \n",
       "885    male  26.0                0                0  30.0000  \n",
       "886    male  32.0                0                0   7.7500  \n",
       "\n",
       "[887 rows x 8 columns]"
      ]
     },
     "execution_count": 22,
     "metadata": {},
     "output_type": "execute_result"
    }
   ],
   "source": [
    "dtitanic=sp.read.csv('d:\\\\titanic.csv',header=True,inferSchema=True)\n",
    "dtitanic.toPandas()"
   ]
  },
  {
   "cell_type": "code",
   "execution_count": 23,
   "id": "267120ba",
   "metadata": {},
   "outputs": [
    {
     "name": "stdout",
     "output_type": "stream",
     "text": [
      "root\n",
      " |-- Survived: integer (nullable = true)\n",
      " |-- Pclass: integer (nullable = true)\n",
      " |-- Name: string (nullable = true)\n",
      " |-- Sex: string (nullable = true)\n",
      " |-- Age: double (nullable = true)\n",
      " |-- SiblingsSpouses: integer (nullable = true)\n",
      " |-- ParentsChildren: integer (nullable = true)\n",
      " |-- Fare: double (nullable = true)\n",
      "\n"
     ]
    }
   ],
   "source": [
    "dtitanic.printSchema()"
   ]
  },
  {
   "cell_type": "code",
   "execution_count": 24,
   "id": "7273b6f2",
   "metadata": {},
   "outputs": [
    {
     "name": "stdout",
     "output_type": "stream",
     "text": [
      "+---------------+-----+\n",
      "|SiblingsSpouses|count|\n",
      "+---------------+-----+\n",
      "|              1|  209|\n",
      "|              3|   16|\n",
      "|              5|    5|\n",
      "|              4|   18|\n",
      "|              8|    7|\n",
      "|              2|   28|\n",
      "|              0|  604|\n",
      "+---------------+-----+\n",
      "\n"
     ]
    }
   ],
   "source": [
    "dtitanic.groupBy(\"SiblingsSpouses\").count().show()"
   ]
  },
  {
   "cell_type": "code",
   "execution_count": 25,
   "id": "572ed68c",
   "metadata": {},
   "outputs": [
    {
     "name": "stdout",
     "output_type": "stream",
     "text": [
      "['Age', 'SiblingsSpouses']\n",
      "Survived\n"
     ]
    }
   ],
   "source": [
    "input_columns=dtitanic.columns\n",
    "input_columns=input_columns[4:6:1]\n",
    "dependent_var='Survived'\n",
    "print(input_columns)\n",
    "print(dependent_var)"
   ]
  },
  {
   "cell_type": "code",
   "execution_count": 26,
   "id": "593a7550",
   "metadata": {},
   "outputs": [],
   "source": [
    "from pyspark.ml.feature import VectorAssembler\n",
    "from pyspark.sql.types import *\n",
    "from pyspark.sql.functions import *\n",
    "from pyspark.ml.feature import StringIndexer\n",
    "from pyspark.ml.feature import MinMaxScaler\n",
    "from pyspark.ml.classification import NaiveBayes"
   ]
  },
  {
   "cell_type": "markdown",
   "id": "fe2ba3fd",
   "metadata": {},
   "source": [
    "numeric_inputs=[]\n",
    "string_inputs=[]\n",
    "for column in input_columns:\n",
    "    if str(indexed.schema[column].dataType)=='StringType':\n",
    "        indexer=StringIndexer(inputCol=column,outputCol=column+\"_num\")\n",
    "        indexed=indexer.fit(indexed).transform(indexed)\n",
    "        new_col_name=column+\"_num\"\n",
    "        string_inputs.append(new_col_name)\n",
    "    else:\n",
    "        numeric_inputs.append(column)\n",
    "print('numeric input',numeric_inputs)\n",
    "print('String_inputs',string_inputs)"
   ]
  },
  {
   "cell_type": "markdown",
   "id": "8910b9aa",
   "metadata": {},
   "source": [
    "d={}\n",
    "for col in numeric_inputs:\n",
    "    d[col]=indexed.approxQuantile(col,[0.01,0.99],0.25)\n",
    "for col in numeric_inputs:\n",
    "    skew=indexed.agg(skewness(indexed[col])).collect()\n",
    "    skew=skew[0][0]\n",
    "    if skew > 1: # If right skew, floor, cap and log(x+1)\n",
    "        indexed = indexed.withColumn(col, \\\n",
    "        log(when(dtitanic[col] < d[col][0],d[col][0])\\\n",
    "        .when(indexed[col] > d[col][1], d[col][1])\\\n",
    "        .otherwise(indexed[col] ) +1).alias(col))\n",
    "        print(col+\" has been treated for positive (right) skewness. (skew =)\",skew,\")\")\n",
    "    elif skew < -1: # If left skew floor, cap and exp(x)\n",
    "        indexed = indexed.withColumn(col, \\\n",
    "        exp(when(dtitanic[col] < d[col][0],d[col][0])\\\n",
    "        .when(indexed[col] > d[col][1], d[col][1])\\\n",
    "        .otherwise(indexed[col] )).alias(col))\n",
    "        print(col+\" has been treated for negative (left) skewness. (skew =\",skew,\")\")        \n",
    "print(skew)  "
   ]
  },
  {
   "cell_type": "code",
   "execution_count": 27,
   "id": "e8353283",
   "metadata": {},
   "outputs": [
    {
     "name": "stdout",
     "output_type": "stream",
     "text": [
      "+-------------------------+-----+\n",
      "|features                 |label|\n",
      "+-------------------------+-----+\n",
      "|[22.0,0.6931471805599453]|0.0  |\n",
      "|[38.0,0.6931471805599453]|1.0  |\n",
      "|[26.0,0.0]               |1.0  |\n",
      "|[35.0,0.6931471805599453]|1.0  |\n",
      "|[35.0,0.0]               |0.0  |\n",
      "+-------------------------+-----+\n",
      "only showing top 5 rows\n",
      "\n"
     ]
    }
   ],
   "source": [
    "features_list = numeric_inputs + string_inputs\n",
    "assembler = VectorAssembler(inputCols=features_list,outputCol='features')\n",
    "output = assembler.transform(indexed).select('features','label')\n",
    "output.show(5,False)"
   ]
  },
  {
   "cell_type": "code",
   "execution_count": 28,
   "id": "e16dd3d4",
   "metadata": {},
   "outputs": [
    {
     "name": "stdout",
     "output_type": "stream",
     "text": [
      "Features scaled to range: [0.000000, 1000.000000]\n",
      "+-----+--------------------+\n",
      "|label|            features|\n",
      "+-----+--------------------+\n",
      "|  0.0|[271.173661724051...|\n",
      "|  1.0|[472.229203317416...|\n",
      "|  1.0|[321.437547122392...|\n",
      "|  1.0|[434.531289268660...|\n",
      "|  0.0|[434.531289268660...|\n",
      "|  0.0|[334.003518471977...|\n",
      "|  0.0|[673.284744910781...|\n",
      "|  0.0|[19.8542347323448...|\n",
      "|  1.0|[334.003518471977...|\n",
      "|  1.0|[170.645890927368...|\n",
      "|  1.0|[44.9861774315154...|\n",
      "|  1.0|[723.548630309122...|\n",
      "|  0.0|[246.041719024880...|\n",
      "|  0.0|[484.795174667001...|\n",
      "|  0.0|[170.645890927368...|\n",
      "|  1.0|[685.850716260367...|\n",
      "|  0.0|[19.8542347323448...|\n",
      "|  1.0|[283.739633073636...|\n",
      "|  0.0|[384.267403870319...|\n",
      "|  1.0|[271.173661724051...|\n",
      "+-----+--------------------+\n",
      "only showing top 20 rows\n",
      "\n"
     ]
    }
   ],
   "source": [
    "scaler = MinMaxScaler(inputCol=\"features\", outputCol=\"scaledFeatures\",min=0,max=1000)\n",
    "print(\"Features scaled to range: [%f, %f]\" % (scaler.getMin(), scaler.getMax()))\n",
    "scalerModel = scaler.fit(output)\n",
    "scaled_data = scalerModel.transform(output)\n",
    "final_data = scaled_data.select('label','scaledFeatures')\n",
    "final_data = final_data.withColumnRenamed(\"scaledFeatures\",\"features\")\n",
    "final_data.show()"
   ]
  },
  {
   "cell_type": "code",
   "execution_count": 29,
   "id": "6438db22",
   "metadata": {},
   "outputs": [],
   "source": [
    "train,test = final_data.randomSplit([0.70,0.30])"
   ]
  },
  {
   "cell_type": "code",
   "execution_count": 30,
   "id": "d7a83159",
   "metadata": {},
   "outputs": [],
   "source": [
    "nbclassifier=NaiveBayes()"
   ]
  },
  {
   "cell_type": "code",
   "execution_count": 31,
   "id": "1ac6d993",
   "metadata": {},
   "outputs": [],
   "source": [
    "nbcModel = nbclassifier.fit(train)"
   ]
  },
  {
   "cell_type": "code",
   "execution_count": 32,
   "id": "b7425e82",
   "metadata": {},
   "outputs": [],
   "source": [
    "predictions = nbcModel.transform(test)"
   ]
  },
  {
   "cell_type": "code",
   "execution_count": 19,
   "id": "1ec8381a",
   "metadata": {},
   "outputs": [
    {
     "name": "stdout",
     "output_type": "stream",
     "text": [
      "root\n",
      " |-- label: double (nullable = false)\n",
      " |-- features: vector (nullable = true)\n",
      " |-- rawPrediction: vector (nullable = true)\n",
      " |-- probability: vector (nullable = true)\n",
      " |-- prediction: double (nullable = false)\n",
      "\n",
      "+-----+--------------------+--------------------+----------+\n",
      "|label|       rawPrediction|         probability|prediction|\n",
      "+-----+--------------------+--------------------+----------+\n",
      "|  0.0|[-1040.3583147057...|[1.00914021129105...|       1.0|\n",
      "|  0.0|[-408.37933427671...|[0.00120863596018...|       1.0|\n",
      "|  0.0|[-938.92340971019...|[7.73617545833334...|       1.0|\n",
      "|  0.0|[-813.85204677977...|[9.11931629727032...|       1.0|\n",
      "|  0.0|[-834.51011039012...|[1.62172713589367...|       1.0|\n",
      "|  0.0|[-851.03656127841...|[2.57033672775070...|       1.0|\n",
      "|  0.0|[-56.617587160572...|[0.87765062316954...|       0.0|\n",
      "|  0.0|[-64.880812604714...|[0.90030705523580...|       0.0|\n",
      "|  0.0|[-64.880812604714...|[0.90030705523580...|       0.0|\n",
      "|  0.0|[-466.22191238570...|[0.00602890946112...|       1.0|\n",
      "|  0.0|[-700.99140575577...|[8.44935345993795...|       1.0|\n",
      "|  0.0|[-69.012425326785...|[0.91017532283931...|       0.0|\n",
      "|  0.0|[-69.012425326785...|[0.91017532283931...|       0.0|\n",
      "|  0.0|[-69.012425326785...|[0.91017532283931...|       0.0|\n",
      "|  0.0|[-470.35352510777...|[0.00675962396399...|       1.0|\n",
      "|  0.0|[-73.144038048856...|[0.91915448077753...|       0.0|\n",
      "|  0.0|[-73.144038048856...|[0.91915448077753...|       0.0|\n",
      "|  0.0|[-73.144038048856...|[0.91915448077753...|       0.0|\n",
      "|  0.0|[-73.144038048856...|[0.91915448077753...|       0.0|\n",
      "|  0.0|[-474.48513782984...|[0.00757822713041...|       1.0|\n",
      "+-----+--------------------+--------------------+----------+\n",
      "only showing top 20 rows\n",
      "\n"
     ]
    }
   ],
   "source": [
    "predictions.printSchema()\n",
    "predictions.select('label','rawPrediction','probability','prediction').show()"
   ]
  },
  {
   "cell_type": "code",
   "execution_count": 33,
   "id": "f896097d",
   "metadata": {},
   "outputs": [
    {
     "name": "stdout",
     "output_type": "stream",
     "text": [
      "Accuracy of Model : 0.46643626991565124\n",
      "Test Error of Model : 0.5335637300843488\n"
     ]
    }
   ],
   "source": [
    "from pyspark.ml.evaluation import BinaryClassificationEvaluator\n",
    "evaluator=BinaryClassificationEvaluator();\n",
    "accuracy = evaluator.evaluate(predictions)\n",
    "print(\"Accuracy of Model :\" , accuracy)\n",
    "print(\"Test Error of Model :\" , 1-accuracy)"
   ]
  },
  {
   "cell_type": "code",
   "execution_count": 34,
   "id": "326deb92",
   "metadata": {},
   "outputs": [
    {
     "name": "stdout",
     "output_type": "stream",
     "text": [
      "Accuracy of Model : 0.6801775910327561\n",
      "Test Error of Model : 0.3198224089672439\n"
     ]
    }
   ],
   "source": [
    "from pyspark.ml.evaluation import ClusteringEvaluator\n",
    "evaluator=ClusteringEvaluator();\n",
    "accuracy = evaluator.evaluate(predictions)\n",
    "print(\"Accuracy of Model :\" , accuracy)\n",
    "print(\"Test Error of Model :\" , 1-accuracy)"
   ]
  },
  {
   "cell_type": "code",
   "execution_count": null,
   "id": "0a5bddb3",
   "metadata": {},
   "outputs": [],
   "source": []
  }
 ],
 "metadata": {
  "kernelspec": {
   "display_name": "Python 3 (ipykernel)",
   "language": "python",
   "name": "python3"
  },
  "language_info": {
   "codemirror_mode": {
    "name": "ipython",
    "version": 3
   },
   "file_extension": ".py",
   "mimetype": "text/x-python",
   "name": "python",
   "nbconvert_exporter": "python",
   "pygments_lexer": "ipython3",
   "version": "3.9.7"
  }
 },
 "nbformat": 4,
 "nbformat_minor": 5
}
