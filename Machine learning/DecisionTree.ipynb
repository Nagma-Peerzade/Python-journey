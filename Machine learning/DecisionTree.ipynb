{
 "cells": [
  {
   "cell_type": "code",
   "execution_count": 1,
   "id": "984f1a82",
   "metadata": {},
   "outputs": [],
   "source": [
    "import findspark\n",
    "findspark.init()"
   ]
  },
  {
   "cell_type": "code",
   "execution_count": 2,
   "id": "0ffe0d7b",
   "metadata": {},
   "outputs": [],
   "source": [
    "import pyspark\n",
    "from pyspark.sql import SparkSession"
   ]
  },
  {
   "cell_type": "code",
   "execution_count": 3,
   "id": "5f601438",
   "metadata": {},
   "outputs": [],
   "source": [
    "sp=SparkSession.builder.appName('irisapp').getOrCreate()"
   ]
  },
  {
   "cell_type": "code",
   "execution_count": 11,
   "id": "b6d319b2",
   "metadata": {},
   "outputs": [
    {
     "name": "stdout",
     "output_type": "stream",
     "text": [
      "+-----------+----------+-----------+----------+-------+\n",
      "|sepallength|sepalwidth|petallength|petalwidth|variety|\n",
      "+-----------+----------+-----------+----------+-------+\n",
      "|        5.1|       3.5|        1.4|       0.2| Setosa|\n",
      "|        4.9|       3.0|        1.4|       0.2| Setosa|\n",
      "|        4.7|       3.2|        1.3|       0.2| Setosa|\n",
      "|        4.6|       3.1|        1.5|       0.2| Setosa|\n",
      "|        5.0|       3.6|        1.4|       0.2| Setosa|\n",
      "+-----------+----------+-----------+----------+-------+\n",
      "only showing top 5 rows\n",
      "\n"
     ]
    },
    {
     "data": {
      "text/plain": [
       "150"
      ]
     },
     "execution_count": 11,
     "metadata": {},
     "output_type": "execute_result"
    }
   ],
   "source": [
    "diris=sp.read.csv('d:\\\\iris.csv',header=True,inferSchema=True)\n",
    "diris.show(5)\n",
    "diris.count()"
   ]
  },
  {
   "cell_type": "code",
   "execution_count": 12,
   "id": "6bd8dc85",
   "metadata": {},
   "outputs": [
    {
     "name": "stdout",
     "output_type": "stream",
     "text": [
      "root\n",
      " |-- sepallength: double (nullable = true)\n",
      " |-- sepalwidth: double (nullable = true)\n",
      " |-- petallength: double (nullable = true)\n",
      " |-- petalwidth: double (nullable = true)\n",
      " |-- variety: string (nullable = true)\n",
      "\n",
      "+----------+\n",
      "|   variety|\n",
      "+----------+\n",
      "| Virginica|\n",
      "|    Setosa|\n",
      "|Versicolor|\n",
      "+----------+\n",
      "\n"
     ]
    }
   ],
   "source": [
    "diris.printSchema()\n",
    "diris.select('variety').distinct().show()"
   ]
  },
  {
   "cell_type": "code",
   "execution_count": 13,
   "id": "f96e56c5",
   "metadata": {},
   "outputs": [
    {
     "data": {
      "text/plain": [
       "['sepallength', 'sepalwidth', 'petallength', 'petalwidth']"
      ]
     },
     "execution_count": 13,
     "metadata": {},
     "output_type": "execute_result"
    }
   ],
   "source": [
    "diris.columns[:4]"
   ]
  },
  {
   "cell_type": "code",
   "execution_count": 24,
   "id": "1299df0b",
   "metadata": {},
   "outputs": [
    {
     "name": "stdout",
     "output_type": "stream",
     "text": [
      "+-----------+----------+-----------+----------+-------+-----------------+\n",
      "|sepallength|sepalwidth|petallength|petalwidth|variety|        inputfeat|\n",
      "+-----------+----------+-----------+----------+-------+-----------------+\n",
      "|        5.1|       3.5|        1.4|       0.2| Setosa|[5.1,3.5,1.4,0.2]|\n",
      "|        4.9|       3.0|        1.4|       0.2| Setosa|[4.9,3.0,1.4,0.2]|\n",
      "|        4.7|       3.2|        1.3|       0.2| Setosa|[4.7,3.2,1.3,0.2]|\n",
      "|        4.6|       3.1|        1.5|       0.2| Setosa|[4.6,3.1,1.5,0.2]|\n",
      "|        5.0|       3.6|        1.4|       0.2| Setosa|[5.0,3.6,1.4,0.2]|\n",
      "+-----------+----------+-----------+----------+-------+-----------------+\n",
      "only showing top 5 rows\n",
      "\n"
     ]
    }
   ],
   "source": [
    "from pyspark.ml.feature import VectorAssembler\n",
    "from pyspark.ml.feature import StringIndexer\n",
    "va=VectorAssembler(inputCols=diris.columns[:4],outputCol='inputfeat')\n",
    "df=va.transform(diris)\n",
    "df.show(5)"
   ]
  },
  {
   "cell_type": "code",
   "execution_count": 25,
   "id": "25897749",
   "metadata": {},
   "outputs": [
    {
     "name": "stdout",
     "output_type": "stream",
     "text": [
      "+-----------+----------+-----------+----------+-------+-----------------+---+\n",
      "|sepallength|sepalwidth|petallength|petalwidth|variety|        inputfeat| Sp|\n",
      "+-----------+----------+-----------+----------+-------+-----------------+---+\n",
      "|        5.1|       3.5|        1.4|       0.2| Setosa|[5.1,3.5,1.4,0.2]|0.0|\n",
      "|        4.9|       3.0|        1.4|       0.2| Setosa|[4.9,3.0,1.4,0.2]|0.0|\n",
      "|        4.7|       3.2|        1.3|       0.2| Setosa|[4.7,3.2,1.3,0.2]|0.0|\n",
      "|        4.6|       3.1|        1.5|       0.2| Setosa|[4.6,3.1,1.5,0.2]|0.0|\n",
      "|        5.0|       3.6|        1.4|       0.2| Setosa|[5.0,3.6,1.4,0.2]|0.0|\n",
      "|        5.4|       3.9|        1.7|       0.4| Setosa|[5.4,3.9,1.7,0.4]|0.0|\n",
      "|        4.6|       3.4|        1.4|       0.3| Setosa|[4.6,3.4,1.4,0.3]|0.0|\n",
      "|        5.0|       3.4|        1.5|       0.2| Setosa|[5.0,3.4,1.5,0.2]|0.0|\n",
      "|        4.4|       2.9|        1.4|       0.2| Setosa|[4.4,2.9,1.4,0.2]|0.0|\n",
      "|        4.9|       3.1|        1.5|       0.1| Setosa|[4.9,3.1,1.5,0.1]|0.0|\n",
      "|        5.4|       3.7|        1.5|       0.2| Setosa|[5.4,3.7,1.5,0.2]|0.0|\n",
      "|        4.8|       3.4|        1.6|       0.2| Setosa|[4.8,3.4,1.6,0.2]|0.0|\n",
      "|        4.8|       3.0|        1.4|       0.1| Setosa|[4.8,3.0,1.4,0.1]|0.0|\n",
      "|        4.3|       3.0|        1.1|       0.1| Setosa|[4.3,3.0,1.1,0.1]|0.0|\n",
      "|        5.8|       4.0|        1.2|       0.2| Setosa|[5.8,4.0,1.2,0.2]|0.0|\n",
      "|        5.7|       4.4|        1.5|       0.4| Setosa|[5.7,4.4,1.5,0.4]|0.0|\n",
      "|        5.4|       3.9|        1.3|       0.4| Setosa|[5.4,3.9,1.3,0.4]|0.0|\n",
      "|        5.1|       3.5|        1.4|       0.3| Setosa|[5.1,3.5,1.4,0.3]|0.0|\n",
      "|        5.7|       3.8|        1.7|       0.3| Setosa|[5.7,3.8,1.7,0.3]|0.0|\n",
      "|        5.1|       3.8|        1.5|       0.3| Setosa|[5.1,3.8,1.5,0.3]|0.0|\n",
      "+-----------+----------+-----------+----------+-------+-----------------+---+\n",
      "only showing top 20 rows\n",
      "\n"
     ]
    }
   ],
   "source": [
    "ind=StringIndexer(inputCol='variety',outputCol='Sp')\n",
    "df1=ind.fit(df).transform(df)\n",
    "df1.show()"
   ]
  },
  {
   "cell_type": "code",
   "execution_count": 27,
   "id": "fc12513c",
   "metadata": {},
   "outputs": [
    {
     "name": "stdout",
     "output_type": "stream",
     "text": [
      "+-----------------+---+\n",
      "|        inputfeat| sp|\n",
      "+-----------------+---+\n",
      "|[5.1,3.5,1.4,0.2]|0.0|\n",
      "|[4.9,3.0,1.4,0.2]|0.0|\n",
      "|[4.7,3.2,1.3,0.2]|0.0|\n",
      "|[4.6,3.1,1.5,0.2]|0.0|\n",
      "|[5.0,3.6,1.4,0.2]|0.0|\n",
      "|[5.4,3.9,1.7,0.4]|0.0|\n",
      "|[4.6,3.4,1.4,0.3]|0.0|\n",
      "|[5.0,3.4,1.5,0.2]|0.0|\n",
      "|[4.4,2.9,1.4,0.2]|0.0|\n",
      "|[4.9,3.1,1.5,0.1]|0.0|\n",
      "|[5.4,3.7,1.5,0.2]|0.0|\n",
      "|[4.8,3.4,1.6,0.2]|0.0|\n",
      "|[4.8,3.0,1.4,0.1]|0.0|\n",
      "|[4.3,3.0,1.1,0.1]|0.0|\n",
      "|[5.8,4.0,1.2,0.2]|0.0|\n",
      "|[5.7,4.4,1.5,0.4]|0.0|\n",
      "|[5.4,3.9,1.3,0.4]|0.0|\n",
      "|[5.1,3.5,1.4,0.3]|0.0|\n",
      "|[5.7,3.8,1.7,0.3]|0.0|\n",
      "|[5.1,3.8,1.5,0.3]|0.0|\n",
      "+-----------------+---+\n",
      "only showing top 20 rows\n",
      "\n"
     ]
    }
   ],
   "source": [
    "finaldata=df1.select('inputfeat','sp')\n",
    "finaldata.show()"
   ]
  },
  {
   "cell_type": "code",
   "execution_count": 28,
   "id": "83838906",
   "metadata": {},
   "outputs": [],
   "source": [
    "train,test=finaldata.randomSplit([.70,.30])"
   ]
  },
  {
   "cell_type": "code",
   "execution_count": 30,
   "id": "fc99f344",
   "metadata": {},
   "outputs": [],
   "source": [
    "from pyspark.ml.classification  import DecisionTreeClassifier\n",
    "dtcmodel=DecisionTreeClassifier(labelCol='sp',featuresCol='inputfeat')"
   ]
  },
  {
   "cell_type": "code",
   "execution_count": 31,
   "id": "56c35e33",
   "metadata": {},
   "outputs": [],
   "source": [
    "model=dtcmodel.fit(train)"
   ]
  },
  {
   "cell_type": "code",
   "execution_count": 32,
   "id": "abebd4af",
   "metadata": {},
   "outputs": [
    {
     "data": {
      "text/plain": [
       "DecisionTreeClassificationModel: uid=DecisionTreeClassifier_c9b3157c7af0, depth=4, numNodes=13, numClasses=3, numFeatures=4"
      ]
     },
     "execution_count": 32,
     "metadata": {},
     "output_type": "execute_result"
    }
   ],
   "source": [
    "model"
   ]
  },
  {
   "cell_type": "code",
   "execution_count": 33,
   "id": "2eda91c5",
   "metadata": {},
   "outputs": [],
   "source": [
    "pre_res=model.transform(test)"
   ]
  },
  {
   "cell_type": "code",
   "execution_count": 35,
   "id": "7332231e",
   "metadata": {},
   "outputs": [
    {
     "name": "stdout",
     "output_type": "stream",
     "text": [
      "+-----------------+---+----------+\n",
      "|        inputfeat| sp|prediction|\n",
      "+-----------------+---+----------+\n",
      "|[4.4,3.2,1.3,0.2]|0.0|       0.0|\n",
      "|[4.6,3.2,1.4,0.2]|0.0|       0.0|\n",
      "|[4.8,3.0,1.4,0.1]|0.0|       0.0|\n",
      "|[4.8,3.0,1.4,0.3]|0.0|       0.0|\n",
      "|[4.8,3.4,1.9,0.2]|0.0|       0.0|\n",
      "|[5.0,2.3,3.3,1.0]|1.0|       1.0|\n",
      "|[5.0,3.2,1.2,0.2]|0.0|       0.0|\n",
      "|[5.0,3.4,1.5,0.2]|0.0|       0.0|\n",
      "|[5.0,3.6,1.4,0.2]|0.0|       0.0|\n",
      "|[5.1,3.4,1.5,0.2]|0.0|       0.0|\n",
      "|[5.1,3.5,1.4,0.3]|0.0|       0.0|\n",
      "|[5.1,3.8,1.6,0.2]|0.0|       0.0|\n",
      "|[5.2,3.4,1.4,0.2]|0.0|       0.0|\n",
      "|[5.2,4.1,1.5,0.1]|0.0|       0.0|\n",
      "|[5.5,2.4,3.8,1.1]|1.0|       1.0|\n",
      "|[5.6,2.8,4.9,2.0]|2.0|       2.0|\n",
      "|[5.7,2.8,4.1,1.3]|1.0|       1.0|\n",
      "|[5.7,3.8,1.7,0.3]|0.0|       0.0|\n",
      "|[5.7,4.4,1.5,0.4]|0.0|       0.0|\n",
      "|[5.8,2.7,5.1,1.9]|2.0|       2.0|\n",
      "+-----------------+---+----------+\n",
      "only showing top 20 rows\n",
      "\n"
     ]
    }
   ],
   "source": [
    "pre_res.select('inputfeat','sp','prediction').show()"
   ]
  },
  {
   "cell_type": "code",
   "execution_count": 37,
   "id": "0aded342",
   "metadata": {},
   "outputs": [],
   "source": [
    "from pyspark.ml.evaluation import MulticlassClassificationEvaluator"
   ]
  },
  {
   "cell_type": "code",
   "execution_count": 40,
   "id": "891f2a91",
   "metadata": {},
   "outputs": [
    {
     "name": "stdout",
     "output_type": "stream",
     "text": [
      "Accuaracy of model: 0.9018583042973286\n",
      "Test Error of model: 0.0981416957026714\n"
     ]
    }
   ],
   "source": [
    "ev=MulticlassClassificationEvaluator(labelCol='sp',predictionCol='prediction')\n",
    "acc=ev.evaluate(pre_res)\n",
    "print('Accuaracy of model:',acc)\n",
    "print('Test Error of model:',(1-acc))"
   ]
  },
  {
   "cell_type": "code",
   "execution_count": 56,
   "id": "61838462",
   "metadata": {},
   "outputs": [
    {
     "name": "stdout",
     "output_type": "stream",
     "text": [
      "+---+-----------+\n",
      "| Sp|va_category|\n",
      "+---+-----------+\n",
      "|1.0| Versicolor|\n",
      "|0.0|     Setosa|\n",
      "|2.0|  Virginica|\n",
      "+---+-----------+\n",
      "\n"
     ]
    }
   ],
   "source": [
    "#IndexToString converstion\n",
    "from pyspark.ml.feature import IndexToString\n",
    "itos=IndexToString(inputCol='Sp',outputCol='va_category')\n",
    "b=itos.transform(df1)\n",
    "b.select('Sp','va_category').distinct().show()"
   ]
  },
  {
   "cell_type": "code",
   "execution_count": 63,
   "id": "79007a35",
   "metadata": {},
   "outputs": [
    {
     "name": "stdout",
     "output_type": "stream",
     "text": [
      "+-----------+----------+-----------+----------+-------+-----------------+---+-----------+\n",
      "|sepallength|sepalwidth|petallength|petalwidth|variety|        inputfeat| Sp|va_category|\n",
      "+-----------+----------+-----------+----------+-------+-----------------+---+-----------+\n",
      "|        5.1|       3.5|        1.4|       0.2| Setosa|[5.1,3.5,1.4,0.2]|0.0|     Setosa|\n",
      "|        4.9|       3.0|        1.4|       0.2| Setosa|[4.9,3.0,1.4,0.2]|0.0|     Setosa|\n",
      "|        4.7|       3.2|        1.3|       0.2| Setosa|[4.7,3.2,1.3,0.2]|0.0|     Setosa|\n",
      "|        4.6|       3.1|        1.5|       0.2| Setosa|[4.6,3.1,1.5,0.2]|0.0|     Setosa|\n",
      "|        5.0|       3.6|        1.4|       0.2| Setosa|[5.0,3.6,1.4,0.2]|0.0|     Setosa|\n",
      "|        5.4|       3.9|        1.7|       0.4| Setosa|[5.4,3.9,1.7,0.4]|0.0|     Setosa|\n",
      "|        4.6|       3.4|        1.4|       0.3| Setosa|[4.6,3.4,1.4,0.3]|0.0|     Setosa|\n",
      "|        5.0|       3.4|        1.5|       0.2| Setosa|[5.0,3.4,1.5,0.2]|0.0|     Setosa|\n",
      "|        4.4|       2.9|        1.4|       0.2| Setosa|[4.4,2.9,1.4,0.2]|0.0|     Setosa|\n",
      "|        4.9|       3.1|        1.5|       0.1| Setosa|[4.9,3.1,1.5,0.1]|0.0|     Setosa|\n",
      "|        5.4|       3.7|        1.5|       0.2| Setosa|[5.4,3.7,1.5,0.2]|0.0|     Setosa|\n",
      "|        4.8|       3.4|        1.6|       0.2| Setosa|[4.8,3.4,1.6,0.2]|0.0|     Setosa|\n",
      "|        4.8|       3.0|        1.4|       0.1| Setosa|[4.8,3.0,1.4,0.1]|0.0|     Setosa|\n",
      "|        4.3|       3.0|        1.1|       0.1| Setosa|[4.3,3.0,1.1,0.1]|0.0|     Setosa|\n",
      "|        5.8|       4.0|        1.2|       0.2| Setosa|[5.8,4.0,1.2,0.2]|0.0|     Setosa|\n",
      "|        5.7|       4.4|        1.5|       0.4| Setosa|[5.7,4.4,1.5,0.4]|0.0|     Setosa|\n",
      "|        5.4|       3.9|        1.3|       0.4| Setosa|[5.4,3.9,1.3,0.4]|0.0|     Setosa|\n",
      "|        5.1|       3.5|        1.4|       0.3| Setosa|[5.1,3.5,1.4,0.3]|0.0|     Setosa|\n",
      "|        5.7|       3.8|        1.7|       0.3| Setosa|[5.7,3.8,1.7,0.3]|0.0|     Setosa|\n",
      "|        5.1|       3.8|        1.5|       0.3| Setosa|[5.1,3.8,1.5,0.3]|0.0|     Setosa|\n",
      "+-----------+----------+-----------+----------+-------+-----------------+---+-----------+\n",
      "only showing top 20 rows\n",
      "\n"
     ]
    }
   ],
   "source": [
    "from pyspark.ml.feature import IndexToString\n",
    "itos=IndexToString(inputCol='Sp',outputCol='va_category')\n",
    "b=itos.transform(df1)\n",
    "b.show()"
   ]
  },
  {
   "cell_type": "code",
   "execution_count": 62,
   "id": "810e5f03",
   "metadata": {},
   "outputs": [],
   "source": [
    "from pyspark.ml.classification import RandomForestClassifier"
   ]
  },
  {
   "cell_type": "code",
   "execution_count": 65,
   "id": "4b97eb4f",
   "metadata": {},
   "outputs": [],
   "source": [
    "dt=RandomForestClassifier(labelCol='sp',featuresCol='inputfeat')\n",
    "model=dt.fit(train)"
   ]
  },
  {
   "cell_type": "code",
   "execution_count": 66,
   "id": "f25807df",
   "metadata": {},
   "outputs": [
    {
     "name": "stdout",
     "output_type": "stream",
     "text": [
      "+-----------------+---+--------------+---------------+----------+\n",
      "|        inputfeat| sp| rawPrediction|    probability|prediction|\n",
      "+-----------------+---+--------------+---------------+----------+\n",
      "|[4.4,3.2,1.3,0.2]|0.0|[20.0,0.0,0.0]|  [1.0,0.0,0.0]|       0.0|\n",
      "|[4.6,3.2,1.4,0.2]|0.0|[20.0,0.0,0.0]|  [1.0,0.0,0.0]|       0.0|\n",
      "|[4.8,3.0,1.4,0.1]|0.0|[20.0,0.0,0.0]|  [1.0,0.0,0.0]|       0.0|\n",
      "|[4.8,3.0,1.4,0.3]|0.0|[20.0,0.0,0.0]|  [1.0,0.0,0.0]|       0.0|\n",
      "|[4.8,3.4,1.9,0.2]|0.0|[16.0,4.0,0.0]|  [0.8,0.2,0.0]|       0.0|\n",
      "|[5.0,2.3,3.3,1.0]|1.0|[0.0,20.0,0.0]|  [0.0,1.0,0.0]|       1.0|\n",
      "|[5.0,3.2,1.2,0.2]|0.0|[20.0,0.0,0.0]|  [1.0,0.0,0.0]|       0.0|\n",
      "|[5.0,3.4,1.5,0.2]|0.0|[20.0,0.0,0.0]|  [1.0,0.0,0.0]|       0.0|\n",
      "|[5.0,3.6,1.4,0.2]|0.0|[20.0,0.0,0.0]|  [1.0,0.0,0.0]|       0.0|\n",
      "|[5.1,3.4,1.5,0.2]|0.0|[20.0,0.0,0.0]|  [1.0,0.0,0.0]|       0.0|\n",
      "|[5.1,3.5,1.4,0.3]|0.0|[20.0,0.0,0.0]|  [1.0,0.0,0.0]|       0.0|\n",
      "|[5.1,3.8,1.6,0.2]|0.0|[20.0,0.0,0.0]|  [1.0,0.0,0.0]|       0.0|\n",
      "|[5.2,3.4,1.4,0.2]|0.0|[20.0,0.0,0.0]|  [1.0,0.0,0.0]|       0.0|\n",
      "|[5.2,4.1,1.5,0.1]|0.0|[20.0,0.0,0.0]|  [1.0,0.0,0.0]|       0.0|\n",
      "|[5.5,2.4,3.8,1.1]|1.0|[0.0,20.0,0.0]|  [0.0,1.0,0.0]|       1.0|\n",
      "|[5.6,2.8,4.9,2.0]|2.0|[0.0,5.0,15.0]|[0.0,0.25,0.75]|       2.0|\n",
      "|[5.7,2.8,4.1,1.3]|1.0|[0.0,20.0,0.0]|  [0.0,1.0,0.0]|       1.0|\n",
      "|[5.7,3.8,1.7,0.3]|0.0|[18.0,2.0,0.0]|  [0.9,0.1,0.0]|       0.0|\n",
      "|[5.7,4.4,1.5,0.4]|0.0|[18.0,2.0,0.0]|  [0.9,0.1,0.0]|       0.0|\n",
      "|[5.8,2.7,5.1,1.9]|2.0|[0.0,0.0,20.0]|  [0.0,0.0,1.0]|       2.0|\n",
      "+-----------------+---+--------------+---------------+----------+\n",
      "only showing top 20 rows\n",
      "\n"
     ]
    }
   ],
   "source": [
    "pre_result=model.transform(test)\n",
    "pre_result.show()"
   ]
  },
  {
   "cell_type": "code",
   "execution_count": 67,
   "id": "2615f95d",
   "metadata": {},
   "outputs": [
    {
     "name": "stdout",
     "output_type": "stream",
     "text": [
      "Accuaracy of model: 0.9509291521486644\n",
      "Test Error of model: 0.04907084785133564\n"
     ]
    }
   ],
   "source": [
    "ev=MulticlassClassificationEvaluator(labelCol='sp',predictionCol='prediction')\n",
    "acc=ev.evaluate(pre_result)\n",
    "print('Accuaracy of model:',acc)\n",
    "print('Test Error of model:',(1-acc))"
   ]
  },
  {
   "cell_type": "code",
   "execution_count": null,
   "id": "75b7d0e8",
   "metadata": {},
   "outputs": [],
   "source": []
  }
 ],
 "metadata": {
  "kernelspec": {
   "display_name": "Python 3 (ipykernel)",
   "language": "python",
   "name": "python3"
  },
  "language_info": {
   "codemirror_mode": {
    "name": "ipython",
    "version": 3
   },
   "file_extension": ".py",
   "mimetype": "text/x-python",
   "name": "python",
   "nbconvert_exporter": "python",
   "pygments_lexer": "ipython3",
   "version": "3.9.7"
  }
 },
 "nbformat": 4,
 "nbformat_minor": 5
}
