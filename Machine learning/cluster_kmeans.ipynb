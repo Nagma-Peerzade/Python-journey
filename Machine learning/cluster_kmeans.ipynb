{
 "cells": [
  {
   "cell_type": "code",
   "execution_count": 1,
   "id": "fe78a015",
   "metadata": {},
   "outputs": [
    {
     "name": "stdout",
     "output_type": "stream",
     "text": [
      "You are working with 1 core(s)\n"
     ]
    },
    {
     "data": {
      "text/html": [
       "\n",
       "            <div>\n",
       "                <p><b>SparkSession - in-memory</b></p>\n",
       "                \n",
       "        <div>\n",
       "            <p><b>SparkContext</b></p>\n",
       "\n",
       "            <p><a href=\"http://LAPTOP-403SC8Q4:4041\">Spark UI</a></p>\n",
       "\n",
       "            <dl>\n",
       "              <dt>Version</dt>\n",
       "                <dd><code>v3.2.1</code></dd>\n",
       "              <dt>Master</dt>\n",
       "                <dd><code>local[*]</code></dd>\n",
       "              <dt>AppName</dt>\n",
       "                <dd><code>kmeans</code></dd>\n",
       "            </dl>\n",
       "        </div>\n",
       "        \n",
       "            </div>\n",
       "        "
      ],
      "text/plain": [
       "<pyspark.sql.session.SparkSession at 0x253129fdfa0>"
      ]
     },
     "execution_count": 1,
     "metadata": {},
     "output_type": "execute_result"
    }
   ],
   "source": [
    "import findspark\n",
    "findspark.init()\n",
    "\n",
    "import pyspark # only run after findspark.init()\n",
    "from pyspark.sql import SparkSession\n",
    "# May take awhile locally\n",
    "spark = SparkSession.builder.appName(\"kmeans\").getOrCreate()\n",
    "\n",
    "cores = spark._jsc.sc().getExecutorMemoryStatus().keySet().size()\n",
    "print(\"You are working with\", cores, \"core(s)\")\n",
    "spark"
   ]
  },
  {
   "cell_type": "code",
   "execution_count": 9,
   "id": "4502f523",
   "metadata": {},
   "outputs": [],
   "source": [
    "path =\"d:\\\\\"\n",
    "dti = spark.read.csv(path+'titanic.csv',inferSchema=True,header=True)"
   ]
  },
  {
   "cell_type": "code",
   "execution_count": 18,
   "id": "862c1b02",
   "metadata": {},
   "outputs": [
    {
     "data": {
      "text/html": [
       "<div>\n",
       "<style scoped>\n",
       "    .dataframe tbody tr th:only-of-type {\n",
       "        vertical-align: middle;\n",
       "    }\n",
       "\n",
       "    .dataframe tbody tr th {\n",
       "        vertical-align: top;\n",
       "    }\n",
       "\n",
       "    .dataframe thead th {\n",
       "        text-align: right;\n",
       "    }\n",
       "</style>\n",
       "<table border=\"1\" class=\"dataframe\">\n",
       "  <thead>\n",
       "    <tr style=\"text-align: right;\">\n",
       "      <th></th>\n",
       "      <th>Survived</th>\n",
       "      <th>Pclass</th>\n",
       "      <th>Name</th>\n",
       "      <th>Sex</th>\n",
       "      <th>Age</th>\n",
       "      <th>SiblingsSpouses</th>\n",
       "      <th>ParentsChildren</th>\n",
       "      <th>Fare</th>\n",
       "    </tr>\n",
       "  </thead>\n",
       "  <tbody>\n",
       "    <tr>\n",
       "      <th>0</th>\n",
       "      <td>0</td>\n",
       "      <td>3</td>\n",
       "      <td>Mr. Owen Harris Braund</td>\n",
       "      <td>male</td>\n",
       "      <td>22.0</td>\n",
       "      <td>1</td>\n",
       "      <td>0</td>\n",
       "      <td>7.2500</td>\n",
       "    </tr>\n",
       "    <tr>\n",
       "      <th>1</th>\n",
       "      <td>1</td>\n",
       "      <td>1</td>\n",
       "      <td>Mrs. John Bradley (Florence Briggs Thayer) Cum...</td>\n",
       "      <td>female</td>\n",
       "      <td>38.0</td>\n",
       "      <td>1</td>\n",
       "      <td>0</td>\n",
       "      <td>71.2833</td>\n",
       "    </tr>\n",
       "    <tr>\n",
       "      <th>2</th>\n",
       "      <td>1</td>\n",
       "      <td>3</td>\n",
       "      <td>Miss. Laina Heikkinen</td>\n",
       "      <td>female</td>\n",
       "      <td>26.0</td>\n",
       "      <td>0</td>\n",
       "      <td>0</td>\n",
       "      <td>7.9250</td>\n",
       "    </tr>\n",
       "    <tr>\n",
       "      <th>3</th>\n",
       "      <td>1</td>\n",
       "      <td>1</td>\n",
       "      <td>Mrs. Jacques Heath (Lily May Peel) Futrelle</td>\n",
       "      <td>female</td>\n",
       "      <td>35.0</td>\n",
       "      <td>1</td>\n",
       "      <td>0</td>\n",
       "      <td>53.1000</td>\n",
       "    </tr>\n",
       "    <tr>\n",
       "      <th>4</th>\n",
       "      <td>0</td>\n",
       "      <td>3</td>\n",
       "      <td>Mr. William Henry Allen</td>\n",
       "      <td>male</td>\n",
       "      <td>35.0</td>\n",
       "      <td>0</td>\n",
       "      <td>0</td>\n",
       "      <td>8.0500</td>\n",
       "    </tr>\n",
       "  </tbody>\n",
       "</table>\n",
       "</div>"
      ],
      "text/plain": [
       "   Survived  Pclass                                               Name  \\\n",
       "0         0       3                             Mr. Owen Harris Braund   \n",
       "1         1       1  Mrs. John Bradley (Florence Briggs Thayer) Cum...   \n",
       "2         1       3                              Miss. Laina Heikkinen   \n",
       "3         1       1        Mrs. Jacques Heath (Lily May Peel) Futrelle   \n",
       "4         0       3                            Mr. William Henry Allen   \n",
       "\n",
       "      Sex   Age  SiblingsSpouses  ParentsChildren     Fare  \n",
       "0    male  22.0                1                0   7.2500  \n",
       "1  female  38.0                1                0  71.2833  \n",
       "2  female  26.0                0                0   7.9250  \n",
       "3  female  35.0                1                0  53.1000  \n",
       "4    male  35.0                0                0   8.0500  "
      ]
     },
     "execution_count": 18,
     "metadata": {},
     "output_type": "execute_result"
    }
   ],
   "source": [
    "dti.limit(5).toPandas()"
   ]
  },
  {
   "cell_type": "code",
   "execution_count": 19,
   "id": "9c0fa956",
   "metadata": {},
   "outputs": [
    {
     "name": "stdout",
     "output_type": "stream",
     "text": [
      "root\n",
      " |-- Survived: integer (nullable = true)\n",
      " |-- Pclass: integer (nullable = true)\n",
      " |-- Name: string (nullable = true)\n",
      " |-- Sex: string (nullable = true)\n",
      " |-- Age: double (nullable = true)\n",
      " |-- SiblingsSpouses: integer (nullable = true)\n",
      " |-- ParentsChildren: integer (nullable = true)\n",
      " |-- Fare: double (nullable = true)\n",
      "\n"
     ]
    }
   ],
   "source": [
    "dti.printSchema()"
   ]
  },
  {
   "cell_type": "code",
   "execution_count": 22,
   "id": "409b874b",
   "metadata": {},
   "outputs": [
    {
     "name": "stdout",
     "output_type": "stream",
     "text": [
      "Null COlumns calc list  []\n"
     ]
    }
   ],
   "source": [
    "from pyspark.sql.functions import *\n",
    "from pyspark.sql.types import *\n",
    "\n",
    "def null_value_calc(df):\n",
    "    null_columns_counts = []\n",
    "    numRows = df.count()\n",
    "    for k in df.columns:\n",
    "        nullRows = df.where(col(k).isNull()).count()\n",
    "        if(nullRows > 0):\n",
    "            temp = k,nullRows,(nullRows/numRows)*100\n",
    "            null_columns_counts.append(temp)\n",
    "    return(null_columns_counts)\n",
    "\n",
    "null_columns_calc_list = null_value_calc(dti)\n",
    "print(\"Null COlumns calc list \" ,null_columns_calc_list)\n",
    "#spark.createDataFrame(null_columns_calc_list, ['Column_Name', 'Null_Values_Count','Null_Value_Percent']).show()\n"
   ]
  },
  {
   "cell_type": "code",
   "execution_count": 39,
   "id": "c872419e",
   "metadata": {},
   "outputs": [],
   "source": [
    "from pyspark.ml.feature import StringIndexer\n",
    "g=StringIndexer(inputCol='Sex',outputCol='Gen_Col')\n",
    "v=g.fit(dti).transform(dti)\n",
    "dt=v.drop('Sex','Name')"
   ]
  },
  {
   "cell_type": "code",
   "execution_count": 40,
   "id": "e9c3f2fc",
   "metadata": {},
   "outputs": [
    {
     "data": {
      "text/html": [
       "<div>\n",
       "<style scoped>\n",
       "    .dataframe tbody tr th:only-of-type {\n",
       "        vertical-align: middle;\n",
       "    }\n",
       "\n",
       "    .dataframe tbody tr th {\n",
       "        vertical-align: top;\n",
       "    }\n",
       "\n",
       "    .dataframe thead th {\n",
       "        text-align: right;\n",
       "    }\n",
       "</style>\n",
       "<table border=\"1\" class=\"dataframe\">\n",
       "  <thead>\n",
       "    <tr style=\"text-align: right;\">\n",
       "      <th></th>\n",
       "      <th>Survived</th>\n",
       "      <th>Pclass</th>\n",
       "      <th>Age</th>\n",
       "      <th>SiblingsSpouses</th>\n",
       "      <th>ParentsChildren</th>\n",
       "      <th>Fare</th>\n",
       "      <th>Gen_Col</th>\n",
       "      <th>features</th>\n",
       "    </tr>\n",
       "  </thead>\n",
       "  <tbody>\n",
       "    <tr>\n",
       "      <th>0</th>\n",
       "      <td>0</td>\n",
       "      <td>3</td>\n",
       "      <td>22.0</td>\n",
       "      <td>1</td>\n",
       "      <td>0</td>\n",
       "      <td>7.2500</td>\n",
       "      <td>0.0</td>\n",
       "      <td>[3.0, 22.0, 1.0, 0.0, 7.25, 0.0]</td>\n",
       "    </tr>\n",
       "    <tr>\n",
       "      <th>1</th>\n",
       "      <td>1</td>\n",
       "      <td>1</td>\n",
       "      <td>38.0</td>\n",
       "      <td>1</td>\n",
       "      <td>0</td>\n",
       "      <td>71.2833</td>\n",
       "      <td>1.0</td>\n",
       "      <td>[1.0, 38.0, 1.0, 0.0, 71.2833, 1.0]</td>\n",
       "    </tr>\n",
       "    <tr>\n",
       "      <th>2</th>\n",
       "      <td>1</td>\n",
       "      <td>3</td>\n",
       "      <td>26.0</td>\n",
       "      <td>0</td>\n",
       "      <td>0</td>\n",
       "      <td>7.9250</td>\n",
       "      <td>1.0</td>\n",
       "      <td>[3.0, 26.0, 0.0, 0.0, 7.925, 1.0]</td>\n",
       "    </tr>\n",
       "    <tr>\n",
       "      <th>3</th>\n",
       "      <td>1</td>\n",
       "      <td>1</td>\n",
       "      <td>35.0</td>\n",
       "      <td>1</td>\n",
       "      <td>0</td>\n",
       "      <td>53.1000</td>\n",
       "      <td>1.0</td>\n",
       "      <td>[1.0, 35.0, 1.0, 0.0, 53.1, 1.0]</td>\n",
       "    </tr>\n",
       "  </tbody>\n",
       "</table>\n",
       "</div>"
      ],
      "text/plain": [
       "   Survived  Pclass   Age  SiblingsSpouses  ParentsChildren     Fare  Gen_Col  \\\n",
       "0         0       3  22.0                1                0   7.2500      0.0   \n",
       "1         1       1  38.0                1                0  71.2833      1.0   \n",
       "2         1       3  26.0                0                0   7.9250      1.0   \n",
       "3         1       1  35.0                1                0  53.1000      1.0   \n",
       "\n",
       "                              features  \n",
       "0     [3.0, 22.0, 1.0, 0.0, 7.25, 0.0]  \n",
       "1  [1.0, 38.0, 1.0, 0.0, 71.2833, 1.0]  \n",
       "2    [3.0, 26.0, 0.0, 0.0, 7.925, 1.0]  \n",
       "3     [1.0, 35.0, 1.0, 0.0, 53.1, 1.0]  "
      ]
     },
     "execution_count": 40,
     "metadata": {},
     "output_type": "execute_result"
    }
   ],
   "source": [
    "from pyspark.ml.feature import VectorAssembler\n",
    "input_columns = dt.columns # Collect the column names as a list\n",
    "input_columns = input_columns[1:] # keep only relevant columns: from column 8 until the end\n",
    "vecAssembler = VectorAssembler(inputCols=input_columns, outputCol=\"features\")\n",
    "dt_kmeans = vecAssembler.transform(dt) #.select('CUST_ID', 'features')\n",
    "dt_kmeans.limit(4).toPandas()"
   ]
  },
  {
   "cell_type": "code",
   "execution_count": 42,
   "id": "af5df087",
   "metadata": {},
   "outputs": [
    {
     "name": "stdout",
     "output_type": "stream",
     "text": [
      "[0. 0. 0. 0. 0. 0. 0. 0. 0. 0. 0. 0. 0. 0. 0. 0. 0. 0. 0. 0. 0. 0. 0. 0.\n",
      " 0. 0. 0. 0. 0. 0. 0. 0. 0. 0. 0. 0. 0. 0. 0. 0. 0. 0. 0. 0. 0. 0. 0. 0.\n",
      " 0. 0.]\n",
      "[0.         0.         0.97406795 0.91497372 0.81922853 0.78148193\n",
      " 0.60385217 0.49200774 0.61372646 0.60968895 0.60434023 0.62893952\n",
      " 0.60060975 0.56486044 0.57940103 0.57934825 0.57728547 0.52787228\n",
      " 0.59366382 0.57951056 0.59147428 0.5292159  0.56337806 0.59997166\n",
      " 0.54245571 0.57523814 0.57085226 0.54190741 0.59590609 0.51410167\n",
      " 0.52373749 0.54415796 0.52777644 0.5505415  0.52814098 0.53622115\n",
      " 0.52010412 0.53037725 0.55355835 0.52338034 0.5304636  0.53219158\n",
      " 0.51564929 0.51189597 0.51575261 0.51651365 0.51870184 0.53031097\n",
      " 0.49229003 0.5214153 ]\n"
     ]
    }
   ],
   "source": [
    "from pyspark.ml.clustering import KMeans\n",
    "from pyspark.ml.evaluation import ClusteringEvaluator\n",
    "import numpy as np\n",
    "kmax = 50\n",
    "kmcost = np.zeros(kmax)\n",
    "print(kmcost)\n",
    "for k in range(2,kmax):\n",
    "    kmeans = KMeans().setK(k).setSeed(1).setFeaturesCol(\"features\")\n",
    "    model = kmeans.fit(dt_kmeans)\n",
    "    predictions = model.transform(dt_kmeans)\n",
    "    evaluator = ClusteringEvaluator()\n",
    "    kmcost[k] = evaluator.evaluate(predictions) #computing Silhouette score\n",
    "    \n",
    "print(kmcost)"
   ]
  },
  {
   "cell_type": "code",
   "execution_count": 43,
   "id": "9c2f8af3",
   "metadata": {},
   "outputs": [
    {
     "name": "stdout",
     "output_type": "stream",
     "text": [
      "+--------+------+----+---------------+---------------+-------+-------+--------------------+----------+\n",
      "|Survived|Pclass| Age|SiblingsSpouses|ParentsChildren|   Fare|Gen_Col|            features|prediction|\n",
      "+--------+------+----+---------------+---------------+-------+-------+--------------------+----------+\n",
      "|       0|     3|22.0|              1|              0|   7.25|    0.0|[3.0,22.0,1.0,0.0...|         0|\n",
      "|       1|     1|38.0|              1|              0|71.2833|    1.0|[1.0,38.0,1.0,0.0...|        27|\n",
      "|       1|     3|26.0|              0|              0|  7.925|    1.0|[3.0,26.0,0.0,0.0...|        44|\n",
      "|       1|     1|35.0|              1|              0|   53.1|    1.0|[1.0,35.0,1.0,0.0...|        11|\n",
      "|       0|     3|35.0|              0|              0|   8.05|    0.0|[3.0,35.0,0.0,0.0...|        10|\n",
      "|       0|     3|27.0|              0|              0| 8.4583|    0.0|[3.0,27.0,0.0,0.0...|        44|\n",
      "|       0|     1|54.0|              0|              0|51.8625|    0.0|[1.0,54.0,0.0,0.0...|        23|\n",
      "|       0|     3| 2.0|              3|              1| 21.075|    0.0|[3.0,2.0,3.0,1.0,...|        42|\n",
      "|       1|     3|27.0|              0|              2|11.1333|    1.0|[3.0,27.0,0.0,2.0...|        44|\n",
      "|       1|     2|14.0|              1|              0|30.0708|    1.0|[2.0,14.0,1.0,0.0...|        32|\n",
      "+--------+------+----+---------------+---------------+-------+-------+--------------------+----------+\n",
      "only showing top 10 rows\n",
      "\n"
     ]
    }
   ],
   "source": [
    "predictions.show(10)"
   ]
  },
  {
   "cell_type": "code",
   "execution_count": 44,
   "id": "08e6893a",
   "metadata": {},
   "outputs": [
    {
     "data": {
      "text/plain": [
       "Text(0, 0.5, 'cost')"
      ]
     },
     "execution_count": 44,
     "metadata": {},
     "output_type": "execute_result"
    },
    {
     "data": {
      "image/png": "[encoded data removed]",
      "text/plain": [
       "<Figure size 576x432 with 1 Axes>"
      ]
     },
     "metadata": {
      "needs_background": "light"
     },
     "output_type": "display_data"
    }
   ],
   "source": [
    "import matplotlib.pyplot as plt\n",
    "from mpl_toolkits.mplot3d import Axes3D\n",
    "fig, ax = plt.subplots(1,1, figsize =(8,6))\n",
    "ax.plot(range(2,kmax),kmcost[2:kmax])\n",
    "ax.set_xlabel('k')\n",
    "ax.set_ylabel('cost')"
   ]
  },
  {
   "cell_type": "code",
   "execution_count": 45,
   "id": "a91cef19",
   "metadata": {},
   "outputs": [],
   "source": [
    "#Bisecting Kmeans\n",
    "from pyspark.ml.clustering import BisectingKMeans\n",
    "\n",
    "# Same calls here except with bkmeans\n",
    "kmax = 50\n",
    "bkmcost = np.zeros(kmax)\n",
    "for k in range(2,kmax):\n",
    "    bkmeans = BisectingKMeans().setK(k).setSeed(1).setFeaturesCol(\"features\")\n",
    "    model = bkmeans.fit(dt_kmeans)\n",
    "    \n",
    "   \n",
    "    predictions = model.transform(dt_kmeans)\n",
    "    evaluator = ClusteringEvaluator()\n",
    "    bkmcost[k] = evaluator.evaluate(predictions) #computes Silhouette score"
   ]
  },
  {
   "cell_type": "code",
   "execution_count": 46,
   "id": "bc9c28ab",
   "metadata": {},
   "outputs": [
    {
     "data": {
      "text/plain": [
       "Text(0, 0.5, 'cost')"
      ]
     },
     "execution_count": 46,
     "metadata": {},
     "output_type": "execute_result"
    },
    {
     "data": {
      "image/png": "[encoded data removed]",
      "text/plain": [
       "<Figure size 576x432 with 1 Axes>"
      ]
     },
     "metadata": {
      "needs_background": "light"
     },
     "output_type": "display_data"
    }
   ],
   "source": [
    "import matplotlib.pyplot as plt\n",
    "from mpl_toolkits.mplot3d import Axes3D\n",
    "fig, ax = plt.subplots(1,1, figsize =(8,6))\n",
    "ax.plot(range(2,kmax),bkmcost[2:kmax])\n",
    "ax.set_xlabel('k')\n",
    "ax.set_ylabel('cost')"
   ]
  },
  {
   "cell_type": "code",
   "execution_count": 47,
   "id": "09d32c87",
   "metadata": {},
   "outputs": [
    {
     "data": {
      "text/plain": [
       "Text(0, 0.5, 'cost')"
      ]
     },
     "execution_count": 47,
     "metadata": {},
     "output_type": "execute_result"
    },
    {
     "data": {
      "image/png": "[encoded data removed]",
      "text/plain": [
       "<Figure size 576x432 with 1 Axes>"
      ]
     },
     "metadata": {
      "needs_background": "light"
     },
     "output_type": "display_data"
    }
   ],
   "source": [
    "#Let's plot both graphs together\n",
    "fig, ax = plt.subplots(1,1, figsize = (8,6))\n",
    "ax.plot(range(2,kmax),bkmcost[2:kmax],color='blue')\n",
    "ax.plot(range(2,kmax),kmcost[2:kmax],color='red')\n",
    "ax.set_xlabel('k')\n",
    "ax.set_ylabel('cost')"
   ]
  },
  {
   "cell_type": "code",
   "execution_count": 48,
   "id": "8cd6f157",
   "metadata": {},
   "outputs": [
    {
     "data": {
      "text/plain": [
       "[(2, 0.05810468814615222),\n",
       " (4, 0.05732417023454717),\n",
       " (6, 0.05378396637656557),\n",
       " (8, 0.04908313276102527),\n",
       " (10, 0.02140584150338931),\n",
       " (12, 0.007451197678912003),\n",
       " (14, 0.038559261505199394),\n",
       " (16, 0.038232627064514135),\n",
       " (18, 0.16190843973843655),\n",
       " (20, 0.11555483056694016),\n",
       " (22, 0.10252718010401579),\n",
       " (24, 0.08148050447816096),\n",
       " (26, 0.1184713771056144),\n",
       " (28, 0.1447619762260911),\n",
       " (30, 0.05930842931938057),\n",
       " (32, 0.17451704375977212),\n",
       " (34, 0.10914847405590833),\n",
       " (36, 0.04103895341052233),\n",
       " (38, 0.10955279961762704),\n",
       " (40, 0.09738892375115044),\n",
       " (42, 0.07320850280325353),\n",
       " (44, 0.06961056706949187),\n",
       " (46, 0.08506163308587078),\n",
       " (48, 0.0618347043541993)]"
      ]
     },
     "execution_count": 48,
     "metadata": {},
     "output_type": "execute_result"
    }
   ],
   "source": [
    "def compare(bkmcost,kmcost):\n",
    "    diff = []\n",
    "    for k in range(2,kmax,2):\n",
    "        temp = k,(kmcost[k]-bkmcost[k])\n",
    "        diff.append(temp)\n",
    "    return(diff)\n",
    "\n",
    "diff_list = compare(bkmcost,kmcost)\n",
    "diff_list"
   ]
  },
  {
   "cell_type": "code",
   "execution_count": 50,
   "id": "25f04e06",
   "metadata": {},
   "outputs": [
    {
     "name": "stdout",
     "output_type": "stream",
     "text": [
      "Silhouette with squared euclidean distance = 0.5936638190321427\n",
      " \n",
      "Cluster Centers: \n",
      "[1.85294118e+00 6.22794118e+01 2.94117647e-02 8.82352941e-02\n",
      " 1.87653176e+01 1.76470588e-01]\n",
      "[ 2.73684211  5.50328947  1.78947368  1.30263158 24.94802632  0.5       ]\n",
      "[ 1.61111111 45.06481481  0.2962963   0.81481481 30.20856296  0.31481481]\n",
      "[1.00000000e+00 3.53333333e+01 0.00000000e+00 3.33333333e-01\n",
      " 5.12329200e+02 3.33333333e-01]\n",
      "[  1.          11.98666667   0.66666667   1.33333333 138.38055\n",
      "   0.5       ]\n",
      "[ 2.75301205 30.29518072  0.1626506   0.05421687  9.76425361  0.25301205]\n",
      "[ 2.85714286 20.41964286  0.17857143  0.07142857  9.02663795  0.29017857]\n",
      "[ 1.         46.61290323  0.77419355  0.32258065 81.2565871   0.64516129]\n",
      "[ 1.19230769 46.92307692  0.65384615  0.53846154 54.59648462  0.38461538]\n",
      "[ 1.83870968 23.93548387  1.25806452  0.61290323 50.99542903  0.38709677]\n",
      "[1.00000000e+00 3.40000000e+01 1.11111111e-01 4.44444444e-01\n",
      " 2.19710189e+02 6.66666667e-01]\n",
      "[ 2.6        43.34666667  0.09333333  0.14666667  9.27205467  0.21333333]\n",
      "[  1.          21.5          2.16666667   1.83333333 260.2118\n",
      "   0.66666667]\n",
      "[  1.          34.           0.64285714   0.71428571 110.5363\n",
      "   0.57142857]\n",
      "[  1.          41.92857143   0.5          0.57142857 145.87707857\n",
      "   0.85714286]\n",
      "[ 2.03614458 29.10843373  0.6626506   0.55421687 25.79256867  0.44578313]\n",
      "[ 1.60606061 21.36363636  2.09090909  0.66666667 75.30277576  0.48484848]\n",
      "[  1.      57.       0.5      2.5    255.2604   0.5   ]\n"
     ]
    }
   ],
   "source": [
    "k = 18\n",
    "kmeans = KMeans().setK(k).setSeed(1).setFeaturesCol(\"features\")\n",
    "model = kmeans.fit(dt_kmeans)\n",
    "predictions = model.transform(dt_kmeans)\n",
    "evaluator = ClusteringEvaluator()\n",
    "\n",
    "silhouette = evaluator.evaluate(predictions)\n",
    "print(\"Silhouette with squared euclidean distance = \" + str(silhouette))\n",
    "print(\" \")\n",
    "centers = model.clusterCenters()\n",
    "print(\"Cluster Centers: \")\n",
    "for center in centers:\n",
    "    print(center)"
   ]
  },
  {
   "cell_type": "code",
   "execution_count": 55,
   "id": "90059ea4",
   "metadata": {},
   "outputs": [
    {
     "name": "stdout",
     "output_type": "stream",
     "text": [
      "+----------+-------+-------+\n",
      "|prediction|Min Age|Max Age|\n",
      "+----------+-------+-------+\n",
      "|        12|   18.0|   24.0|\n",
      "|         1|   0.42|   16.0|\n",
      "|        13|   17.0|   58.0|\n",
      "|         6|   12.0|   25.0|\n",
      "|        16|    4.0|   32.0|\n",
      "|         3|   35.0|   36.0|\n",
      "|         5|   26.0|   37.0|\n",
      "|        15|   18.0|   37.0|\n",
      "|         9|    9.0|   35.0|\n",
      "|        17|   50.0|   64.0|\n",
      "|         4|   0.92|   22.0|\n",
      "|         8|   37.0|   71.0|\n",
      "|         7|   33.0|   70.0|\n",
      "|        10|   15.0|   49.0|\n",
      "|        11|   37.0|   55.5|\n",
      "+----------+-------+-------+\n",
      "only showing top 15 rows\n",
      "\n"
     ]
    }
   ],
   "source": [
    "predictions.groupBy(\"prediction\").agg(min(predictions.Age).alias(\"Min Age\"),max(predictions.Age).alias(\"Max Age\")).show(15)"
   ]
  },
  {
   "cell_type": "code",
   "execution_count": null,
   "id": "8e3a8fcc",
   "metadata": {},
   "outputs": [],
   "source": []
  },
  {
   "cell_type": "code",
   "execution_count": null,
   "id": "b0e5e719",
   "metadata": {},
   "outputs": [],
   "source": []
  },
  {
   "cell_type": "code",
   "execution_count": null,
   "id": "8c9149fd",
   "metadata": {},
   "outputs": [],
   "source": []
  }
 ],
 "metadata": {
  "kernelspec": {
   "display_name": "Python 3 (ipykernel)",
   "language": "python",
   "name": "python3"
  },
  "language_info": {
   "codemirror_mode": {
    "name": "ipython",
    "version": 3
   },
   "file_extension": ".py",
   "mimetype": "text/x-python",
   "name": "python",
   "nbconvert_exporter": "python",
   "pygments_lexer": "ipython3",
   "version": "3.9.7"
  }
 },
 "nbformat": 4,
 "nbformat_minor": 5
}
