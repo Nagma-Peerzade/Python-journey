{
 "cells": [
  {
   "cell_type": "markdown",
   "id": "87760b39",
   "metadata": {},
   "source": [
    "# # Loop assignment-2"
   ]
  },
  {
   "cell_type": "code",
   "execution_count": 1,
   "id": "b002b4e4",
   "metadata": {},
   "outputs": [
    {
     "name": "stdout",
     "output_type": "stream",
     "text": [
      "122 124 126 128 130 132 134 136 138 140 142 144 146 148 150 152 154 156 158 160 162 164 166 168 170 172 174 176 178 180 182 184 186 188 190 192 194 196 198 200 202 204 206 208 210 212 214 216 218 220 222 224 226 228 "
     ]
    }
   ],
   "source": [
    "#write a print even numbers from 121 to 229 using loop\n",
    "for i in range(121,229):\n",
    "    if i%2==0:\n",
    "        print(i,end=' ')"
   ]
  },
  {
   "cell_type": "code",
   "execution_count": 5,
   "id": "5674d872",
   "metadata": {},
   "outputs": [
    {
     "name": "stdout",
     "output_type": "stream",
     "text": [
      "521 519 517 515 513 511 509 507 505 503 501 499 497 495 493 491 489 487 485 483 481 479 477 475 473 471 469 467 465 463 461 459 457 455 453 451 449 447 445 443 441 439 437 435 433 431 429 427 425 423 421 419 417 415 413 411 409 407 405 403 401 399 397 395 393 391 389 387 385 383 381 379 377 375 373 371 369 367 365 363 361 359 357 355 353 351 349 347 345 343 341 339 337 335 333 331 329 327 325 323 321 319 317 315 313 311 309 307 305 303 301 299 297 295 293 291 289 287 285 283 281 279 277 275 273 271 269 267 265 263 261 259 257 255 253 251 249 247 245 243 241 239 237 235 233 231 "
     ]
    }
   ],
   "source": [
    "#write to  program to print odd numbers from 521 to 229\n",
    "for i in range (521,229,-1):\n",
    "    if i%2!=0:\n",
    "        print(i,end=\" \")"
   ]
  },
  {
   "cell_type": "code",
   "execution_count": 6,
   "id": "8ba278a3",
   "metadata": {},
   "outputs": [
    {
     "name": "stdout",
     "output_type": "stream",
     "text": [
      "397 389 383 379 373 367 359 353 349 347 337 331 317 313 311 307 "
     ]
    }
   ],
   "source": [
    "# write a program to show the use of break statement(for loop)\n",
    "for num in range (400,300,-1):\n",
    "    count = 0\n",
    "    for i in range(2,(num//2 + 1)):\n",
    "        if(num % i == 0):\n",
    "            count = count + 1\n",
    "            break\n",
    "    if (count == 0 ):\n",
    "        print(num, end = ' ')"
   ]
  },
  {
   "cell_type": "code",
   "execution_count": 9,
   "id": "a4c7cca0",
   "metadata": {},
   "outputs": [
    {
     "name": "stdout",
     "output_type": "stream",
     "text": [
      "enter a number:20\n",
      "enter a number:30\n",
      "gcd of 20 and 30 is 10\n",
      "lcm is: 60.0\n"
     ]
    }
   ],
   "source": [
    "#write a program to find gcd and lcm of given number:\n",
    "a=int(input('enter a number:'))\n",
    "b=int(input('enter a number:'))\n",
    "for i in range(1,a+1):\n",
    "        if a%i==0 and b%i==0:\n",
    "            gcd = i\n",
    "s1='gcd of {0} and {1} is {2}'\n",
    "print(s1.format(a,b,gcd))\n",
    "lcm=a*b/gcd\n",
    "print('lcm is:',lcm)"
   ]
  },
  {
   "cell_type": "code",
   "execution_count": 12,
   "id": "7cba5af5",
   "metadata": {},
   "outputs": [
    {
     "name": "stdout",
     "output_type": "stream",
     "text": [
      "a b c d e f g h i j k l m n o p q r s t u v w x y z "
     ]
    }
   ],
   "source": [
    "#write a  python program to print all alphabets from a to z using for loop\n",
    "for i in range(97,123):\n",
    "     print(chr(i),end=' ')"
   ]
  },
  {
   "cell_type": "code",
   "execution_count": 1,
   "id": "483bfd82",
   "metadata": {},
   "outputs": [
    {
     "name": "stdout",
     "output_type": "stream",
     "text": [
      "enter the element:10\n",
      "sum of even numbers: 30\n"
     ]
    }
   ],
   "source": [
    "#write a python program to find sum of all even numbers between 1 to n\n",
    "n=int(input('enter the element:'))\n",
    "sum=0\n",
    "for i in range(1,n+1):\n",
    "    if(i%2==0):\n",
    "        sum+=i\n",
    "print('sum of even numbers:',sum)"
   ]
  },
  {
   "cell_type": "code",
   "execution_count": 2,
   "id": "1c98ee11",
   "metadata": {},
   "outputs": [
    {
     "name": "stdout",
     "output_type": "stream",
     "text": [
      "enter the element:10\n",
      "sum of odd numbers: 25\n"
     ]
    }
   ],
   "source": [
    "#write a python program to find sum of all odd numbers between 1 to n\n",
    "n=int(input('enter the element:'))\n",
    "sum=0\n",
    "for i in range(1,n+1):\n",
    "    if(i%2!=0):\n",
    "        sum+=i\n",
    "print('sum of odd numbers:',sum)"
   ]
  },
  {
   "cell_type": "code",
   "execution_count": 3,
   "id": "9dabdd1e",
   "metadata": {},
   "outputs": [
    {
     "name": "stdout",
     "output_type": "stream",
     "text": [
      "enter the number:123456\n",
      "6\n"
     ]
    }
   ],
   "source": [
    "#write a python program to count number of digits in any number\n",
    "num=int(input(\"enter the number:\"))\n",
    "count=0\n",
    "while(num>0):\n",
    "    count=count+1\n",
    "    num=num//10\n",
    "print(count)"
   ]
  },
  {
   "cell_type": "code",
   "execution_count": 4,
   "id": "24196c11",
   "metadata": {},
   "outputs": [
    {
     "name": "stdout",
     "output_type": "stream",
     "text": [
      "enter the element:10\n",
      "product of numbers: 3628800\n"
     ]
    }
   ],
   "source": [
    "n=int(input('enter the element:'))\n",
    "pro=1\n",
    "for i in range(1,n+1):\n",
    "        pro*=i\n",
    "print('product of numbers:',pro)"
   ]
  },
  {
   "cell_type": "code",
   "execution_count": 6,
   "id": "a3e3a96b",
   "metadata": {},
   "outputs": [
    {
     "name": "stdout",
     "output_type": "stream",
     "text": [
      "397 389 383 379 373 367 359 353 349 347 337 331 317 313 311 307 "
     ]
    }
   ],
   "source": [
    "#find all the prime numbers from 400 till 300\n",
    "for num in range (400,300,-1):\n",
    "    count = 0\n",
    "    for i in range(2,(num//2 + 1)):\n",
    "        if(num % i == 0):\n",
    "            count = count + 1\n",
    "            break\n",
    "\n",
    "    if (count == 0 ):\n",
    "        print(num, end = ' ')"
   ]
  },
  {
   "cell_type": "code",
   "execution_count": 8,
   "id": "05808583",
   "metadata": {},
   "outputs": [
    {
     "name": "stdout",
     "output_type": "stream",
     "text": [
      "Enter any Number1232134\n",
      "1  is occured  2  times.\n",
      "2  is occured  2  times.\n",
      "3  is occured  2  times.\n",
      "4  is occured  1  times.\n"
     ]
    }
   ],
   "source": [
    "#write a python program to find frequency of each digit in a given integer\n",
    "n=int(input(\"Enter any Number\"))\n",
    "for i in range(0,10):\n",
    "    count=0;\n",
    "    temp=n;\n",
    "    while temp>0:\n",
    "        digit=temp%10\n",
    "        if digit==i:\n",
    "            count=count+1\n",
    "        temp=temp//10;\n",
    "    if count>0:\n",
    "        print(i,\" is occured \",count,\" times.\")"
   ]
  },
  {
   "cell_type": "code",
   "execution_count": 11,
   "id": "51dfbccc",
   "metadata": {},
   "outputs": [
    {
     "name": "stdout",
     "output_type": "stream",
     "text": [
      "Enter any Number:2\n",
      "2  *  1  =  2\n",
      "2  *  2  =  4\n",
      "2  *  3  =  6\n",
      "2  *  4  =  8\n",
      "2  *  5  =  10\n",
      "2  *  6  =  12\n",
      "2  *  7  =  14\n",
      "2  *  8  =  16\n",
      "2  *  9  =  18\n",
      "2  *  10  =  20\n"
     ]
    }
   ],
   "source": [
    "#write a program to print table of given number\n",
    "n=int(input(\"Enter any Number:\"))\n",
    "for i in range(1,11):\n",
    "    print(n,' * ',i,' = ',i*n)\n",
    "    "
   ]
  },
  {
   "cell_type": "code",
   "execution_count": 12,
   "id": "eb7c38f1",
   "metadata": {},
   "outputs": [
    {
     "name": "stdout",
     "output_type": "stream",
     "text": [
      "enter the base:2\n",
      "enter the index:3\n",
      "power is : 8\n"
     ]
    }
   ],
   "source": [
    "#wap to accept base and index from user and calculate power\n",
    "base=int(input('enter the base:'))\n",
    "index=int(input('enter the index:'))\n",
    "res=base**index\n",
    "print('power is :',res)"
   ]
  },
  {
   "cell_type": "code",
   "execution_count": 14,
   "id": "c597cff8",
   "metadata": {},
   "outputs": [
    {
     "name": "stdout",
     "output_type": "stream",
     "text": [
      "Enter the range of number:9\n",
      "The sum of the series =  409113\n"
     ]
    }
   ],
   "source": [
    "#1!+2!+3!........+n! find s\n",
    "n=int(input(\"Enter the range of number:\"))\n",
    "sum=0\n",
    "fact=1\n",
    "for i in range(1,n+1):\n",
    "    fact*=i\n",
    "    sum+=fact\n",
    "print(\"The sum of the series = \",sum)"
   ]
  },
  {
   "cell_type": "code",
   "execution_count": null,
   "id": "64f9daa2",
   "metadata": {},
   "outputs": [],
   "source": [
    "#Wap to check given no is krishnamurthy or not\n",
    "n=int(input(\"Enter the number:\"))\n",
    "temp=n\n",
    "sum=0\n",
    "while n>0:\n",
    "    r=n%10\n",
    "    fact=1\n",
    "    for i in range(1,r+1):\n",
    "        fact*=i\n",
    "    sum+=fact\n",
    "    n//=10\n",
    "if(temp==sum):\n",
    "    print('Krishnamurthy number')\n",
    "else:\n",
    "    print('not krishnamurthy number')"
   ]
  },
  {
   "cell_type": "code",
   "execution_count": 11,
   "id": "89d2b11f",
   "metadata": {},
   "outputs": [
    {
     "name": "stdout",
     "output_type": "stream",
     "text": [
      "enter any number:14\n",
      "not krishnamurthy number\n"
     ]
    }
   ],
   "source": [
    "num=int(input(\"enter any number:\"))\n",
    "temp=num\n",
    "fact=1\n",
    "sum=0\n",
    "while(num>0):\n",
    "    r=num%10\n",
    "    fact=1\n",
    "    for i in range(1,r+1):\n",
    "        fact=fact*i\n",
    "    sum=sum+fact\n",
    "    num=num//10\n",
    "if(sum==temp):\n",
    "    print(\"krishnamurthy number\")\n",
    "else:\n",
    "    print('not krishnamurthy number')"
   ]
  },
  {
   "cell_type": "code",
   "execution_count": 12,
   "id": "6ff66441",
   "metadata": {},
   "outputs": [
    {
     "name": "stdout",
     "output_type": "stream",
     "text": [
      "Enter number:1221\n",
      "The number is a palindrome!\n"
     ]
    }
   ],
   "source": [
    "#wap to check given number is palindrome or not \n",
    "n=int(input(\"Enter number:\"))\n",
    "temp=n\n",
    "rev=0\n",
    "while(n>0):\n",
    "    dig=n%10\n",
    "    rev=rev*10+dig\n",
    "    n=n//10\n",
    "if(temp==rev):\n",
    "    print(\"The number is a palindrome!\")\n",
    "else:\n",
    "    print(\"The number isn't a palindrome!\")"
   ]
  },
  {
   "cell_type": "code",
   "execution_count": 19,
   "id": "a90f6e7c",
   "metadata": {},
   "outputs": [
    {
     "name": "stdout",
     "output_type": "stream",
     "text": [
      "Enter the number: 5\n",
      "Square of a number is:  25\n",
      "5 is an automorphic\n"
     ]
    }
   ],
   "source": [
    "#wap to check given no is automorphic or not\n",
    "a = int(input(\"Enter the number: \"))\n",
    "b = a*a\n",
    "print(\"Square of a number is: \",b)\n",
    "if(a % 10 != b % 10):\n",
    "    print(a,\" is not an automorphic\")\n",
    "    a=10 \n",
    "    b=10 \n",
    "else:\n",
    "    print(a, \"is an automorphic\")"
   ]
  },
  {
   "cell_type": "code",
   "execution_count": 22,
   "id": "fae08e4f",
   "metadata": {},
   "outputs": [
    {
     "name": "stdout",
     "output_type": "stream",
     "text": [
      "enter the number:125\n",
      "125 is not a harshad number\n"
     ]
    }
   ],
   "source": [
    "#wap to find given number is harshad number\n",
    "num =int(input('enter the number:'))    \n",
    "rem = sum = 0;     \n",
    "n = num;    \n",
    "while(num > 0):    \n",
    "    rem = num%10;    \n",
    "    sum = sum + rem;    \n",
    "    num = num//10;    \n",
    "     \n",
    "if(n%sum == 0):    \n",
    "    print(str(n) + \" is a harshad number\");    \n",
    "else:    \n",
    "    print(str(n) + \" is not a harshad number\");    "
   ]
  },
  {
   "cell_type": "code",
   "execution_count": 25,
   "id": "4c9b313f",
   "metadata": {},
   "outputs": [
    {
     "name": "stdout",
     "output_type": "stream",
     "text": [
      "101 111 121 131 141 151 161 171 181 191 202 212 222 232 242 252 262 272 282 292 303 313 323 333 343 353 363 373 383 393 404 414 424 434 444 454 464 474 484 494 "
     ]
    }
   ],
   "source": [
    "#print all palindrome numbers from 100 to 500\n",
    "for num in range(100, 500 + 1):\n",
    "    temp = num\n",
    "    reverse = 0\n",
    "    \n",
    "    while(temp > 0):\n",
    "        Reminder = temp % 10\n",
    "        reverse = (reverse * 10) + Reminder\n",
    "        temp = temp //10\n",
    "\n",
    "    if(num == reverse):\n",
    "        print(\"%d \" %num, end = '')"
   ]
  }
 ],
 "metadata": {
  "kernelspec": {
   "display_name": "Python 3 (ipykernel)",
   "language": "python",
   "name": "python3"
  },
  "language_info": {
   "codemirror_mode": {
    "name": "ipython",
    "version": 3
   },
   "file_extension": ".py",
   "mimetype": "text/x-python",
   "name": "python",
   "nbconvert_exporter": "python",
   "pygments_lexer": "ipython3",
   "version": "3.9.7"
  }
 },
 "nbformat": 4,
 "nbformat_minor": 5
}
