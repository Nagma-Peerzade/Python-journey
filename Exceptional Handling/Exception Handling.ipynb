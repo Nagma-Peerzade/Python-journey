{
 "cells": [
  {
   "cell_type": "code",
   "execution_count": 2,
   "id": "fb2fe673",
   "metadata": {},
   "outputs": [
    {
     "name": "stdout",
     "output_type": "stream",
     "text": [
      "enter the mobile:09876543\n"
     ]
    }
   ],
   "source": [
    "#exceptional handling-\n",
    "mb=int(input('enter the mobile:'))"
   ]
  },
  {
   "cell_type": "code",
   "execution_count": 1,
   "id": "418c0c11",
   "metadata": {},
   "outputs": [
    {
     "name": "stdout",
     "output_type": "stream",
     "text": [
      "Help on class BaseException in module builtins:\n",
      "\n",
      "class BaseException(object)\n",
      " |  Common base class for all exceptions\n",
      " |  \n",
      " |  Built-in subclasses:\n",
      " |      Exception\n",
      " |      GeneratorExit\n",
      " |      KeyboardInterrupt\n",
      " |      SystemExit\n",
      " |  \n",
      " |  Methods defined here:\n",
      " |  \n",
      " |  __delattr__(self, name, /)\n",
      " |      Implement delattr(self, name).\n",
      " |  \n",
      " |  __getattribute__(self, name, /)\n",
      " |      Return getattr(self, name).\n",
      " |  \n",
      " |  __init__(self, /, *args, **kwargs)\n",
      " |      Initialize self.  See help(type(self)) for accurate signature.\n",
      " |  \n",
      " |  __reduce__(...)\n",
      " |      Helper for pickle.\n",
      " |  \n",
      " |  __repr__(self, /)\n",
      " |      Return repr(self).\n",
      " |  \n",
      " |  __setattr__(self, name, value, /)\n",
      " |      Implement setattr(self, name, value).\n",
      " |  \n",
      " |  __setstate__(...)\n",
      " |  \n",
      " |  __str__(self, /)\n",
      " |      Return str(self).\n",
      " |  \n",
      " |  with_traceback(...)\n",
      " |      Exception.with_traceback(tb) --\n",
      " |      set self.__traceback__ to tb and return self.\n",
      " |  \n",
      " |  ----------------------------------------------------------------------\n",
      " |  Static methods defined here:\n",
      " |  \n",
      " |  __new__(*args, **kwargs) from builtins.type\n",
      " |      Create and return a new object.  See help(type) for accurate signature.\n",
      " |  \n",
      " |  ----------------------------------------------------------------------\n",
      " |  Data descriptors defined here:\n",
      " |  \n",
      " |  __cause__\n",
      " |      exception cause\n",
      " |  \n",
      " |  __context__\n",
      " |      exception context\n",
      " |  \n",
      " |  __dict__\n",
      " |  \n",
      " |  __suppress_context__\n",
      " |  \n",
      " |  __traceback__\n",
      " |  \n",
      " |  args\n",
      "\n"
     ]
    }
   ],
   "source": [
    "help(BaseException)"
   ]
  },
  {
   "cell_type": "code",
   "execution_count": 2,
   "id": "bb68d0d5",
   "metadata": {},
   "outputs": [
    {
     "name": "stdout",
     "output_type": "stream",
     "text": [
      "Help on class ZeroDivisionError in module builtins:\n",
      "\n",
      "class ZeroDivisionError(ArithmeticError)\n",
      " |  Second argument to a division or modulo operation was zero.\n",
      " |  \n",
      " |  Method resolution order:\n",
      " |      ZeroDivisionError\n",
      " |      ArithmeticError\n",
      " |      Exception\n",
      " |      BaseException\n",
      " |      object\n",
      " |  \n",
      " |  Methods defined here:\n",
      " |  \n",
      " |  __init__(self, /, *args, **kwargs)\n",
      " |      Initialize self.  See help(type(self)) for accurate signature.\n",
      " |  \n",
      " |  ----------------------------------------------------------------------\n",
      " |  Static methods defined here:\n",
      " |  \n",
      " |  __new__(*args, **kwargs) from builtins.type\n",
      " |      Create and return a new object.  See help(type) for accurate signature.\n",
      " |  \n",
      " |  ----------------------------------------------------------------------\n",
      " |  Methods inherited from BaseException:\n",
      " |  \n",
      " |  __delattr__(self, name, /)\n",
      " |      Implement delattr(self, name).\n",
      " |  \n",
      " |  __getattribute__(self, name, /)\n",
      " |      Return getattr(self, name).\n",
      " |  \n",
      " |  __reduce__(...)\n",
      " |      Helper for pickle.\n",
      " |  \n",
      " |  __repr__(self, /)\n",
      " |      Return repr(self).\n",
      " |  \n",
      " |  __setattr__(self, name, value, /)\n",
      " |      Implement setattr(self, name, value).\n",
      " |  \n",
      " |  __setstate__(...)\n",
      " |  \n",
      " |  __str__(self, /)\n",
      " |      Return str(self).\n",
      " |  \n",
      " |  with_traceback(...)\n",
      " |      Exception.with_traceback(tb) --\n",
      " |      set self.__traceback__ to tb and return self.\n",
      " |  \n",
      " |  ----------------------------------------------------------------------\n",
      " |  Data descriptors inherited from BaseException:\n",
      " |  \n",
      " |  __cause__\n",
      " |      exception cause\n",
      " |  \n",
      " |  __context__\n",
      " |      exception context\n",
      " |  \n",
      " |  __dict__\n",
      " |  \n",
      " |  __suppress_context__\n",
      " |  \n",
      " |  __traceback__\n",
      " |  \n",
      " |  args\n",
      "\n"
     ]
    }
   ],
   "source": [
    "help(ZeroDivisionError)"
   ]
  },
  {
   "cell_type": "markdown",
   "id": "fc7bb4ed",
   "metadata": {},
   "source": [
    "try:\n",
    "    code which might throw error\n",
    "except:-Generalize  \n",
    "    print(\"wrong input\")\n",
    "except ValueError:\n",
    "    print('wrong input')"
   ]
  },
  {
   "cell_type": "code",
   "execution_count": 4,
   "id": "f65d6afb",
   "metadata": {},
   "outputs": [
    {
     "ename": "TypeError",
     "evalue": "can only concatenate str (not \"int\") to str",
     "output_type": "error",
     "traceback": [
      "\u001b[1;31m---------------------------------------------------------------------------\u001b[0m",
      "\u001b[1;31mTypeError\u001b[0m                                 Traceback (most recent call last)",
      "Input \u001b[1;32mIn [4]\u001b[0m, in \u001b[0;36m<module>\u001b[1;34m\u001b[0m\n\u001b[0;32m      1\u001b[0m \u001b[38;5;66;03m#typeerror\u001b[39;00m\n\u001b[1;32m----> 2\u001b[0m ans\u001b[38;5;241m=\u001b[39m\u001b[38;5;124;43m'\u001b[39;49m\u001b[38;5;124;43msfgh\u001b[39;49m\u001b[38;5;124;43m'\u001b[39;49m\u001b[38;5;241;43m+\u001b[39;49m\u001b[38;5;241;43m12\u001b[39;49m\n",
      "\u001b[1;31mTypeError\u001b[0m: can only concatenate str (not \"int\") to str"
     ]
    }
   ],
   "source": [
    "#typeerror\n",
    "ans='sfgh'+12"
   ]
  },
  {
   "cell_type": "code",
   "execution_count": 3,
   "id": "51fa804c",
   "metadata": {},
   "outputs": [
    {
     "name": "stdout",
     "output_type": "stream",
     "text": [
      "K\n",
      "K\n",
      "K\n"
     ]
    },
    {
     "ename": "IndexError",
     "evalue": "string index out of range",
     "output_type": "error",
     "traceback": [
      "\u001b[1;31m---------------------------------------------------------------------------\u001b[0m",
      "\u001b[1;31mIndexError\u001b[0m                                Traceback (most recent call last)",
      "Input \u001b[1;32mIn [3]\u001b[0m, in \u001b[0;36m<module>\u001b[1;34m\u001b[0m\n\u001b[0;32m      2\u001b[0m st\u001b[38;5;241m=\u001b[39m\u001b[38;5;124m'\u001b[39m\u001b[38;5;124mKKK\u001b[39m\u001b[38;5;124m'\u001b[39m\n\u001b[0;32m      3\u001b[0m \u001b[38;5;28;01mfor\u001b[39;00m ch \u001b[38;5;129;01min\u001b[39;00m \u001b[38;5;28mrange\u001b[39m(\u001b[38;5;241m0\u001b[39m,\u001b[38;5;28mlen\u001b[39m(st)\u001b[38;5;241m+\u001b[39m\u001b[38;5;241m1\u001b[39m):\n\u001b[1;32m----> 4\u001b[0m     \u001b[38;5;28mprint\u001b[39m(\u001b[43mst\u001b[49m\u001b[43m[\u001b[49m\u001b[43mch\u001b[49m\u001b[43m]\u001b[49m)\n",
      "\u001b[1;31mIndexError\u001b[0m: string index out of range"
     ]
    }
   ],
   "source": [
    "#Index Error\n",
    "st='KKK'\n",
    "for ch in range(0,len(st)+1):\n",
    "    print(st[ch])"
   ]
  },
  {
   "cell_type": "code",
   "execution_count": 4,
   "id": "f36bbfbc",
   "metadata": {},
   "outputs": [
    {
     "name": "stdout",
     "output_type": "stream",
     "text": [
      "name not define\n"
     ]
    }
   ],
   "source": [
    "try:\n",
    "    print(a)\n",
    "except ValueError:\n",
    "    print('wrong input')\n",
    "except NameError:\n",
    "    print('name not defined')"
   ]
  },
  {
   "cell_type": "code",
   "execution_count": 12,
   "id": "e5e326d9",
   "metadata": {},
   "outputs": [
    {
     "name": "stdout",
     "output_type": "stream",
     "text": [
      "enter the 1st value:3\n",
      "enter the 2nd value:4\n",
      "0.75\n",
      "no exception occured\n",
      "1\n",
      "2\n",
      "3\n"
     ]
    }
   ],
   "source": [
    "try:\n",
    "    a=int(input('enter the 1st value:'))\n",
    "    b=int(input('enter the 2nd value:'))\n",
    "    res=a/b\n",
    "    print (res)\n",
    "except ValueError:#during scanning\n",
    "    print('wrong input')\n",
    "except:\n",
    "    print('error')\n",
    "else:\n",
    "    print('no exception occured')\n",
    "for i in (1,2,3):\n",
    "    print(i)"
   ]
  },
  {
   "cell_type": "code",
   "execution_count": 22,
   "id": "55a17fad",
   "metadata": {},
   "outputs": [
    {
     "name": "stdout",
     "output_type": "stream",
     "text": [
      "in fianlly\n"
     ]
    }
   ],
   "source": [
    "#finally is a block ..which is executed irrespective of any block\n",
    "#for write and creating file\n",
    "try:\n",
    "    f=open('D:\\\\a.txt','w')\n",
    "    f.write('Hello everyone')\n",
    "    f.write(' welcome')#overrides the previous data so we will append-a\n",
    "except:\n",
    "    print('error')\n",
    "finally:\n",
    "    print('in fianlly')\n",
    "    f.close()"
   ]
  },
  {
   "cell_type": "code",
   "execution_count": 21,
   "id": "b48ef23c",
   "metadata": {},
   "outputs": [
    {
     "name": "stdout",
     "output_type": "stream",
     "text": [
      "error\n",
      "in fianlly\n"
     ]
    }
   ],
   "source": [
    "#for reading\n",
    "try:\n",
    "    f=open('D:\\\\a.txt','r')\n",
    "    f.write('Hello everyone')\n",
    "except:\n",
    "    print('error')\n",
    "finally:\n",
    "    print('in fianlly')\n",
    "    f.close()"
   ]
  },
  {
   "cell_type": "code",
   "execution_count": 18,
   "id": "c16779d4",
   "metadata": {},
   "outputs": [
    {
     "name": "stdout",
     "output_type": "stream",
     "text": [
      "error\n",
      "in fianlly\n"
     ]
    }
   ],
   "source": [
    "try:\n",
    "    f=open('D:\\\\b.txt','r')\n",
    "    f.write('Hello everyone')\n",
    "except:\n",
    "    print('error')\n",
    "finally:\n",
    "    print('in fianlly')\n",
    "    f.close()"
   ]
  },
  {
   "cell_type": "code",
   "execution_count": 6,
   "id": "7753b648",
   "metadata": {},
   "outputs": [
    {
     "name": "stdout",
     "output_type": "stream",
     "text": [
      "Num 1:3456\n",
      "Num 2:fgh\n",
      "Please enter numeric values\n"
     ]
    }
   ],
   "source": [
    "try:\n",
    "    a=int(input('Num 1:'))\n",
    "    b=int(input('Num 2:'))\n",
    "    ans=a/b\n",
    "    print ('div:',ans)\n",
    "except ZeroDivisionError as e:\n",
    "    print('Dont\\'t divide by zero')\n",
    "except ValueError as e:\n",
    "    print('Please enter numeric values')\n",
    "except:\n",
    "    print('Exception occured')\n"
   ]
  },
  {
   "cell_type": "code",
   "execution_count": 24,
   "id": "9cf8d186",
   "metadata": {},
   "outputs": [
    {
     "name": "stdout",
     "output_type": "stream",
     "text": [
      "only use one type of data\n",
      "Operation completed.....\n"
     ]
    }
   ],
   "source": [
    "try:\n",
    "    l1=[1,2,3,4,5,'hi']\n",
    "    sum=0\n",
    "    for i in l1:\n",
    "        sum+=i\n",
    "   # print('sum:',sum)\n",
    "    avg=sum/len(l1)\n",
    "    #print('avg:',avg)\n",
    "except TypeError as e:\n",
    "    print('only use one type of data')\n",
    "except NameError as e:\n",
    "    print('name is not defined...')\n",
    "except:\n",
    "    print('exception Occured....')   \n",
    "else:#if there is no error in then only it will go in else part\n",
    "    print('sum:',sum)\n",
    "    print('avg:',avg)\n",
    "finally:#resource cleanup task is done by finally-free up the space\n",
    "    print('Operation completed.....')"
   ]
  },
  {
   "cell_type": "code",
   "execution_count": 28,
   "id": "cee2db1b",
   "metadata": {},
   "outputs": [
    {
     "name": "stdout",
     "output_type": "stream",
     "text": [
      "Eligible to vote\n",
      "Verification Done....\n"
     ]
    }
   ],
   "source": [
    "#AssertionError-assume\n",
    "try:\n",
    "    age=21\n",
    "    assert age>18,'Age is not above 18.....'\n",
    "    print('Eligible to vote')\n",
    "except AssertionError as e:\n",
    "    print(e)\n",
    "else:\n",
    "    print('Verification Done....')"
   ]
  },
  {
   "cell_type": "code",
   "execution_count": 30,
   "id": "27370f48",
   "metadata": {},
   "outputs": [
    {
     "name": "stdout",
     "output_type": "stream",
     "text": [
      "Age is not above 18.....\n"
     ]
    }
   ],
   "source": [
    "def verify():\n",
    "    age=10\n",
    "    assert age>18,'Age is not above 18.....'\n",
    "    print('Eligible to vote')\n",
    "\n",
    "try:\n",
    "    verify()\n",
    "except AssertionError as e:\n",
    "    print(e)\n",
    "else:\n",
    "    print('Verification Done....')   "
   ]
  },
  {
   "cell_type": "code",
   "execution_count": 12,
   "id": "beecfccc",
   "metadata": {},
   "outputs": [
    {
     "name": "stdout",
     "output_type": "stream",
     "text": [
      "Theme set to BLUE\n",
      "BLUE color theme is supported win32\n"
     ]
    }
   ],
   "source": [
    "import sys\n",
    "def platformBaseTask(color):\n",
    "    assert 'win' in sys.platform,'This is not supported'\n",
    "    print('Theme set to',color)\n",
    "    print(color,'color theme is supported',sys.platform)\n",
    "try:\n",
    "    platformBaseTask('BLUE')\n",
    "except AssertionError as e:\n",
    "    print(e)\n",
    "except:\n",
    "    print('something went wrong')\n"
   ]
  },
  {
   "cell_type": "code",
   "execution_count": null,
   "id": "6171d6e6",
   "metadata": {},
   "outputs": [],
   "source": [
    "#customException\n",
    "class InvalidAgeException(Exception):\n",
    "    def __init__(self,err='Invalid Age..'):\n",
    "        self.err=err\n",
    "        \n",
    "    def showError(self):\n",
    "        print(err)"
   ]
  },
  {
   "cell_type": "code",
   "execution_count": 44,
   "id": "a805eeb3",
   "metadata": {},
   "outputs": [
    {
     "name": "stdout",
     "output_type": "stream",
     "text": [
      "Enter Age:21\n",
      "Account opened succesfully\n"
     ]
    }
   ],
   "source": [
    "try:\n",
    "    age=int(input('Enter Age:'))\n",
    "    if( age<=18):\n",
    "        raise InvalidAgeException('Age is below 18...minor...so invalid')\n",
    "    else:\n",
    "        print('Account opened succesfully')\n",
    "except InvalidAgeException as e:\n",
    "    e.showError()"
   ]
  },
  {
   "cell_type": "code",
   "execution_count": 57,
   "id": "60e7cf45",
   "metadata": {},
   "outputs": [],
   "source": [
    "#login id and password min-8 and max-15 special-._@ \n",
    "class InvalidPasswordException(Exception):\n",
    "    def __init__(self,err='Invalid Password..'):\n",
    "        self.err=err        \n",
    "    def showError(self):\n",
    "        print(err)"
   ]
  },
  {
   "cell_type": "code",
   "execution_count": 64,
   "id": "3354bad8",
   "metadata": {},
   "outputs": [
    {
     "name": "stdout",
     "output_type": "stream",
     "text": [
      "enter the password:124\n",
      "Operation completed\n"
     ]
    },
    {
     "ename": "NameError",
     "evalue": "name 'err' is not defined",
     "output_type": "error",
     "traceback": [
      "\u001b[1;31m---------------------------------------------------------------------------\u001b[0m",
      "\u001b[1;31mInvalidPasswordException\u001b[0m                  Traceback (most recent call last)",
      "Input \u001b[1;32mIn [64]\u001b[0m, in \u001b[0;36m<module>\u001b[1;34m\u001b[0m\n\u001b[0;32m      3\u001b[0m \u001b[38;5;28;01mif\u001b[39;00m(\u001b[38;5;28mlen\u001b[39m(passw)\u001b[38;5;241m<\u001b[39m\u001b[38;5;241m=\u001b[39m\u001b[38;5;241m8\u001b[39m):\n\u001b[1;32m----> 4\u001b[0m     \u001b[38;5;28;01mraise\u001b[39;00m InvalidPasswordException(\u001b[38;5;124m'\u001b[39m\u001b[38;5;124mInvalid Password.......\u001b[39m\u001b[38;5;124m'\u001b[39m) \n\u001b[0;32m      5\u001b[0m \u001b[38;5;28;01melse\u001b[39;00m:\n",
      "\u001b[1;31mInvalidPasswordException\u001b[0m: Invalid Password.......",
      "\nDuring handling of the above exception, another exception occurred:\n",
      "\u001b[1;31mNameError\u001b[0m                                 Traceback (most recent call last)",
      "Input \u001b[1;32mIn [64]\u001b[0m, in \u001b[0;36m<module>\u001b[1;34m\u001b[0m\n\u001b[0;32m      6\u001b[0m         \u001b[38;5;28mprint\u001b[39m(\u001b[38;5;124m'\u001b[39m\u001b[38;5;124mvalid....\u001b[39m\u001b[38;5;124m'\u001b[39m)\n\u001b[0;32m      7\u001b[0m \u001b[38;5;28;01mexcept\u001b[39;00m InvalidPasswordException \u001b[38;5;28;01mas\u001b[39;00m e:\n\u001b[1;32m----> 8\u001b[0m        \u001b[43me\u001b[49m\u001b[38;5;241;43m.\u001b[39;49m\u001b[43mshowError\u001b[49m\u001b[43m(\u001b[49m\u001b[43m)\u001b[49m\n\u001b[0;32m      9\u001b[0m \u001b[38;5;28;01mfinally\u001b[39;00m:\n\u001b[0;32m     10\u001b[0m     \u001b[38;5;28mprint\u001b[39m(\u001b[38;5;124m'\u001b[39m\u001b[38;5;124mOperation completed\u001b[39m\u001b[38;5;124m'\u001b[39m)\n",
      "Input \u001b[1;32mIn [57]\u001b[0m, in \u001b[0;36mInvalidPasswordException.showError\u001b[1;34m(self)\u001b[0m\n\u001b[0;32m      5\u001b[0m \u001b[38;5;28;01mdef\u001b[39;00m \u001b[38;5;21mshowError\u001b[39m(\u001b[38;5;28mself\u001b[39m):\n\u001b[1;32m----> 6\u001b[0m     \u001b[38;5;28mprint\u001b[39m(\u001b[43merr\u001b[49m)\n",
      "\u001b[1;31mNameError\u001b[0m: name 'err' is not defined"
     ]
    }
   ],
   "source": [
    "try:\n",
    "    passw=input('enter the password:')\n",
    "    if(len(passw)<=8):\n",
    "        raise InvalidPasswordException('Invalid Password.......') \n",
    "    else:\n",
    "        print('valid....')\n",
    "except InvalidPasswordException as e:\n",
    "       e.showError()\n",
    "finally:\n",
    "    print('Operation completed')"
   ]
  },
  {
   "cell_type": "markdown",
   "id": "b96d7d9e",
   "metadata": {},
   "source": [
    "File Mode\n",
    "r:reading\n",
    "w:writing\n",
    "a:writing at the end-append\n",
    "r+:"
   ]
  },
  {
   "cell_type": "code",
   "execution_count": 72,
   "id": "2dee6184",
   "metadata": {},
   "outputs": [
    {
     "name": "stdout",
     "output_type": "stream",
     "text": [
      "['pi=3.142\\n', 'def area(n):\\n', \"    print('area of circle:',pi*n*n)\\n\", 'area(2)\\n']\n"
     ]
    }
   ],
   "source": [
    "f=open('C:\\\\Users\\\\NAGMA\\\\aoc.py')\n",
    "#print(f.read())\n",
    "#print(f.read(8))\n",
    "print(f.readlines())\n",
    "f.close()"
   ]
  },
  {
   "cell_type": "code",
   "execution_count": 74,
   "id": "c22b8f05",
   "metadata": {},
   "outputs": [
    {
     "name": "stdout",
     "output_type": "stream",
     "text": [
      "[Errno 2] No such file or directory: 'C:\\\\Users\\\\NAGMA\\\\aoc1.py'\n"
     ]
    }
   ],
   "source": [
    "try:\n",
    "    f=open('C:\\\\Users\\\\NAGMA\\\\aoc1.py')\n",
    "    print(f.readline())\n",
    "except FileNotFoundError as e:\n",
    "    print(e)\n",
    "else:\n",
    "    print('Reading done')\n",
    "finally:\n",
    "    f.close()\n",
    "    "
   ]
  },
  {
   "cell_type": "code",
   "execution_count": 77,
   "id": "31cd5f6b",
   "metadata": {},
   "outputs": [
    {
     "name": "stdout",
     "output_type": "stream",
     "text": [
      "[Errno 2] No such file or directory: 'C:\\\\Users\\\\NAGMA\\\\aoc1.py'\n"
     ]
    }
   ],
   "source": [
    "try:\n",
    "    with open('C:\\\\Users\\\\NAGMA\\\\aoc1.py') as f:\n",
    "        print(f.readline())\n",
    "except FileNotFoundError as e:\n",
    "    print(e)\n",
    "else:\n",
    "    print('Reading done')\n"
   ]
  },
  {
   "cell_type": "code",
   "execution_count": 87,
   "id": "d07528fa",
   "metadata": {},
   "outputs": [
    {
     "name": "stdout",
     "output_type": "stream",
     "text": [
      "Good eneving..Good eneving..\n",
      "writing  and reading done\n"
     ]
    }
   ],
   "source": [
    "try:\n",
    "    with open('D:\\\\aoc1.txt','a') as f:\n",
    "        f.write('Good eneving..')\n",
    "    with open('D:\\\\aoc1.txt','r') as f1:\n",
    "        print( f1.read())   \n",
    "except FileNotFoundError as e:\n",
    "    print(e)\n",
    "else:\n",
    "    print('writing  and reading done' )"
   ]
  },
  {
   "cell_type": "code",
   "execution_count": 110,
   "id": "de874afd",
   "metadata": {},
   "outputs": [
    {
     "name": "stdout",
     "output_type": "stream",
     "text": [
      "<class '_io.TextIOWrapper'>\n",
      "reading  and writing done\n"
     ]
    }
   ],
   "source": [
    "try:\n",
    "    with open('D:\\\\aoc1.txt','r') as f:\n",
    "        with open('D:\\\\d.txt','a') as f1:\n",
    "            for i in f:\n",
    "                f1.write(i)\n",
    "        print(type(f1))\n",
    "except FileNotFoundError as e:\n",
    "    print(e)\n",
    "else:\n",
    "    print('reading  and writing done' )"
   ]
  },
  {
   "cell_type": "code",
   "execution_count": 112,
   "id": "5e49e814",
   "metadata": {
    "scrolled": true
   },
   "outputs": [
    {
     "ename": "FileNotFoundError",
     "evalue": "[WinError 2] The system cannot find the file specified: 'd.txt' -> 's.txt'",
     "output_type": "error",
     "traceback": [
      "\u001b[1;31m---------------------------------------------------------------------------\u001b[0m",
      "\u001b[1;31mFileNotFoundError\u001b[0m                         Traceback (most recent call last)",
      "Input \u001b[1;32mIn [112]\u001b[0m, in \u001b[0;36m<module>\u001b[1;34m\u001b[0m\n\u001b[0;32m      1\u001b[0m \u001b[38;5;28;01mimport\u001b[39;00m \u001b[38;5;21;01mos\u001b[39;00m\n\u001b[0;32m      2\u001b[0m \u001b[38;5;28;01mif\u001b[39;00m os\u001b[38;5;241m.\u001b[39mpath\u001b[38;5;241m.\u001b[39mexists(\u001b[38;5;124m'\u001b[39m\u001b[38;5;124mD:\u001b[39m\u001b[38;5;130;01m\\\\\u001b[39;00m\u001b[38;5;124md.txt\u001b[39m\u001b[38;5;124m'\u001b[39m):\n\u001b[1;32m----> 3\u001b[0m     \u001b[43mos\u001b[49m\u001b[38;5;241;43m.\u001b[39;49m\u001b[43mrename\u001b[49m\u001b[43m(\u001b[49m\u001b[38;5;124;43m'\u001b[39;49m\u001b[38;5;124;43md.txt\u001b[39;49m\u001b[38;5;124;43m'\u001b[39;49m\u001b[43m,\u001b[49m\u001b[38;5;124;43m'\u001b[39;49m\u001b[38;5;124;43ms.txt\u001b[39;49m\u001b[38;5;124;43m'\u001b[39;49m\u001b[43m)\u001b[49m\n\u001b[0;32m      4\u001b[0m     \u001b[38;5;28mprint\u001b[39m(\u001b[38;5;124m'\u001b[39m\u001b[38;5;124mfile removed\u001b[39m\u001b[38;5;124m'\u001b[39m)\n",
      "\u001b[1;31mFileNotFoundError\u001b[0m: [WinError 2] The system cannot find the file specified: 'd.txt' -> 's.txt'"
     ]
    }
   ],
   "source": [
    "import os\n",
    "if os.path.exists('D:\\\\d.txt'):\n",
    "    os.rename('d.txt','s.txt')\n",
    "    print('file removed')"
   ]
  },
  {
   "cell_type": "code",
   "execution_count": 115,
   "id": "7f04a386",
   "metadata": {},
   "outputs": [],
   "source": [
    "#writing data in json object form\n",
    "data={'A':78,'B':90}\n",
    "import json"
   ]
  },
  {
   "cell_type": "code",
   "execution_count": 116,
   "id": "89a4da45",
   "metadata": {},
   "outputs": [
    {
     "name": "stdout",
     "output_type": "stream",
     "text": [
      "Data written to file\n"
     ]
    }
   ],
   "source": [
    "jsonobject=json.dumps(data,indent=3)\n",
    "with open('D:\\\\cv.json','w') as f:\n",
    "    f.write(jsonobject)\n",
    "    print('Data written to file')\n",
    "    "
   ]
  },
  {
   "cell_type": "code",
   "execution_count": 122,
   "id": "2aaf72d5",
   "metadata": {},
   "outputs": [
    {
     "name": "stdout",
     "output_type": "stream",
     "text": [
      "reading json object....\n",
      "{'A': 78, 'B': 90}\n"
     ]
    }
   ],
   "source": [
    "print('reading json object....')\n",
    "with open('D:\\\\cv.json','r') as f1:\n",
    "    jsonobject=json.loads(f1.read())\n",
    "print (jsonobject)#hook object"
   ]
  },
  {
   "cell_type": "code",
   "execution_count": null,
   "id": "f12bc469",
   "metadata": {},
   "outputs": [],
   "source": []
  }
 ],
 "metadata": {
  "kernelspec": {
   "display_name": "Python 3 (ipykernel)",
   "language": "python",
   "name": "python3"
  },
  "language_info": {
   "codemirror_mode": {
    "name": "ipython",
    "version": 3
   },
   "file_extension": ".py",
   "mimetype": "text/x-python",
   "name": "python",
   "nbconvert_exporter": "python",
   "pygments_lexer": "ipython3",
   "version": "3.9.7"
  }
 },
 "nbformat": 4,
 "nbformat_minor": 5
}
