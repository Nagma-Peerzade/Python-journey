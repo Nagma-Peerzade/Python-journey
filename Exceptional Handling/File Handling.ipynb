{
 "cells": [
  {
   "cell_type": "code",
   "execution_count": 10,
   "id": "4b95fb68",
   "metadata": {},
   "outputs": [
    {
     "name": "stdout",
     "output_type": "stream",
     "text": [
      "G o o d   e n e v i n g . . G o o d   e n e v i n g . . reading completed.....\n"
     ]
    }
   ],
   "source": [
    "#1.Read contents of the file character  by character\n",
    "try:\n",
    "    with open('D:\\\\aoc1.txt') as f:\n",
    "        for i in f:\n",
    "            for ch in i:\n",
    "                print(ch,end=' ')\n",
    "except FileNotFoundError as e:\n",
    "    print(e)\n",
    "else:\n",
    "    print('reading completed.....')\n",
    "finally:\n",
    "    f.close()"
   ]
  },
  {
   "cell_type": "code",
   "execution_count": 11,
   "id": "3404c00f",
   "metadata": {},
   "outputs": [
    {
     "name": "stdout",
     "output_type": "stream",
     "text": [
      "['pi=3.142\\n', 'def area(n):\\n', \"    print('area of circle:',pi*n*n)\\n\", 'area(2)\\n']\n",
      "reading completed.....\n"
     ]
    }
   ],
   "source": [
    "#2. Read contents line by line\n",
    "try:\n",
    "    with open('C:\\\\Users\\\\NAGMA\\\\Ait\\\\aoc.py') as f1:  \n",
    "        k=f1.readlines()\n",
    "        print(k)\n",
    "except FileNotFoundError as e:\n",
    "    print(e)\n",
    "else:\n",
    "    print('reading completed.....')\n",
    "finally:\n",
    "    f.close()    "
   ]
  },
  {
   "cell_type": "code",
   "execution_count": 12,
   "id": "e8bbe20e",
   "metadata": {},
   "outputs": [
    {
     "name": "stdout",
     "output_type": "stream",
     "text": [
      "pi=3.142\n",
      "def\n",
      "area(n):\n",
      "print('area\n",
      "of\n",
      "circle:',pi*n*n)\n",
      "area(2)\n",
      "reading completed.....\n"
     ]
    }
   ],
   "source": [
    "#3.Read contents of the file word by word\n",
    "try:\n",
    "    with open('C:\\\\Users\\\\NAGMA\\\\Ait\\\\aoc.py') as f1:  \n",
    "        for i in f1:\n",
    "            for j in i.split():\n",
    "                print(j)\n",
    "except FileNotFoundError as e:\n",
    "    print(e)\n",
    "else:\n",
    "    print('reading completed.....')\n",
    "finally:\n",
    "    f.close()    "
   ]
  },
  {
   "cell_type": "code",
   "execution_count": 1,
   "id": "b7ba2d97",
   "metadata": {},
   "outputs": [
    {
     "name": "stdout",
     "output_type": "stream",
     "text": [
      "not found\n"
     ]
    }
   ],
   "source": [
    "#4.remove file\n",
    "import os\n",
    "if os.path.exists('C://Users//NAGMA//Ait//aoc.txt'):\n",
    "    os.remove('aoc.txt')\n",
    "    print(\"removed\")\n",
    "else:\n",
    "    print(\"not found\")"
   ]
  },
  {
   "cell_type": "code",
   "execution_count": 18,
   "id": "b8325301",
   "metadata": {},
   "outputs": [
    {
     "name": "stdout",
     "output_type": "stream",
     "text": [
      "reading  and writing done\n"
     ]
    }
   ],
   "source": [
    "#5 .copy contents from one file to another\n",
    "try:\n",
    "    with open('D:\\\\aoc1.txt','r') as f:\n",
    "        with open('D:\\\\d.txt','a') as f1:\n",
    "            for i in f:\n",
    "                f1.write(i)\n",
    "except FileNotFoundError as e:\n",
    "    print(e)\n",
    "else:\n",
    "    print('reading  and writing done' )"
   ]
  },
  {
   "cell_type": "code",
   "execution_count": null,
   "id": "62c445a3",
   "metadata": {},
   "outputs": [],
   "source": []
  }
 ],
 "metadata": {
  "kernelspec": {
   "display_name": "Python 3 (ipykernel)",
   "language": "python",
   "name": "python3"
  },
  "language_info": {
   "codemirror_mode": {
    "name": "ipython",
    "version": 3
   },
   "file_extension": ".py",
   "mimetype": "text/x-python",
   "name": "python",
   "nbconvert_exporter": "python",
   "pygments_lexer": "ipython3",
   "version": "3.9.7"
  }
 },
 "nbformat": 4,
 "nbformat_minor": 5
}
