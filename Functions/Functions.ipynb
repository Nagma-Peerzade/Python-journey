{
 "cells": [
  {
   "cell_type": "markdown",
   "id": "84ff15e6",
   "metadata": {},
   "source": [
    "# #Functions"
   ]
  },
  {
   "cell_type": "code",
   "execution_count": 9,
   "id": "530566c3",
   "metadata": {},
   "outputs": [],
   "source": [
    "# custom functions using def \n",
    "def task1():\n",
    "    print('Doing something:')\n",
    "    return 'Bye','for','now'"
   ]
  },
  {
   "cell_type": "code",
   "execution_count": 2,
   "id": "e6906fe8",
   "metadata": {},
   "outputs": [
    {
     "name": "stdout",
     "output_type": "stream",
     "text": [
      "Doing something:\n"
     ]
    }
   ],
   "source": [
    "task1()"
   ]
  },
  {
   "cell_type": "code",
   "execution_count": 10,
   "id": "9779b63a",
   "metadata": {},
   "outputs": [
    {
     "name": "stdout",
     "output_type": "stream",
     "text": [
      "Doing something:\n",
      "('Bye', 'for', 'now')\n"
     ]
    }
   ],
   "source": [
    "print(task1())# it returns values in tuple "
   ]
  },
  {
   "cell_type": "code",
   "execution_count": 11,
   "id": "408657bb",
   "metadata": {},
   "outputs": [],
   "source": [
    "#positional parameter\n",
    "def per(roll,name,m1,m2,m3):\n",
    "    print('roll:',roll)\n",
    "    print('name:',name)\n",
    "    print('percentage:',100*(m1+m2+m3)/300)"
   ]
  },
  {
   "cell_type": "code",
   "execution_count": 13,
   "id": "637385b4",
   "metadata": {},
   "outputs": [
    {
     "name": "stdout",
     "output_type": "stream",
     "text": [
      "roll: 1\n",
      "name: nagma\n",
      "percentage: 85.66666666666667\n"
     ]
    }
   ],
   "source": [
    "per(1,'nagma',90,78,89)"
   ]
  },
  {
   "cell_type": "code",
   "execution_count": 19,
   "id": "490ed720",
   "metadata": {},
   "outputs": [],
   "source": [
    "#default parameters\n",
    "def perc(roll,name,m1=0,m2=0,m3=0):\n",
    "    print('roll:',roll)\n",
    "    print('name:',name)\n",
    "    print('percentage:',100*(m1+m2+m3)/300)"
   ]
  },
  {
   "cell_type": "code",
   "execution_count": 16,
   "id": "ac4f5a8d",
   "metadata": {},
   "outputs": [
    {
     "name": "stdout",
     "output_type": "stream",
     "text": [
      "roll: 2\n",
      "name: vashnavi\n",
      "percentage: 52.0\n"
     ]
    }
   ],
   "source": [
    "perc(2,'vashnavi',67,89)"
   ]
  },
  {
   "cell_type": "code",
   "execution_count": 18,
   "id": "7ca25cdd",
   "metadata": {},
   "outputs": [
    {
     "ename": "SyntaxError",
     "evalue": "non-default argument follows default argument (706764390.py, line 1)",
     "output_type": "error",
     "traceback": [
      "\u001b[1;36m  Input \u001b[1;32mIn [18]\u001b[1;36m\u001b[0m\n\u001b[1;33m    def perc(roll=0,name,m1=0,m2=0,m3=0):\u001b[0m\n\u001b[1;37m                         ^\u001b[0m\n\u001b[1;31mSyntaxError\u001b[0m\u001b[1;31m:\u001b[0m non-default argument follows default argument\n"
     ]
    }
   ],
   "source": [
    "def perc(roll=0,name,m1=0,m2=0,m3=0):\n",
    "    print('roll:',roll)\n",
    "    print('name:',name)\n",
    "    print('percentage:',100*(m1+m2+m3)/300)"
   ]
  },
  {
   "cell_type": "code",
   "execution_count": 24,
   "id": "9d1ccafb",
   "metadata": {},
   "outputs": [],
   "source": [
    "#varargs parameter can be passed as variable no of arguements\n",
    "def keepAdding(a,b,c=0,*ar):\n",
    "    print(a,b,c)\n",
    "    print(ar)\n",
    "    print('no of vararg:',len(ar))"
   ]
  },
  {
   "cell_type": "code",
   "execution_count": 25,
   "id": "ae7df791",
   "metadata": {},
   "outputs": [
    {
     "name": "stdout",
     "output_type": "stream",
     "text": [
      "30 40 0\n",
      "()\n",
      "no of vararg: 0\n"
     ]
    }
   ],
   "source": [
    "keepAdding(30,40)"
   ]
  },
  {
   "cell_type": "code",
   "execution_count": 26,
   "id": "d9b0e646",
   "metadata": {},
   "outputs": [
    {
     "name": "stdout",
     "output_type": "stream",
     "text": [
      "30 40 10\n",
      "(89, 98, 56, 7)\n",
      "no of vararg: 4\n"
     ]
    }
   ],
   "source": [
    "keepAdding(30,40,10,89,98,56,7)"
   ]
  },
  {
   "cell_type": "code",
   "execution_count": 35,
   "id": "e6c1450c",
   "metadata": {},
   "outputs": [],
   "source": [
    "#keyword arguements\n",
    "def acceptRecords(*arg,**a):\n",
    "    print(len(a))\n",
    "    print(type(a))\n",
    "    print(a.keys())\n",
    "    print(a.items())    "
   ]
  },
  {
   "cell_type": "code",
   "execution_count": 29,
   "id": "eb295177",
   "metadata": {},
   "outputs": [
    {
     "name": "stdout",
     "output_type": "stream",
     "text": [
      "0\n",
      "<class 'dict'>\n",
      "dict_keys([])\n",
      "dict_items([])\n"
     ]
    }
   ],
   "source": [
    "acceptRecords()"
   ]
  },
  {
   "cell_type": "code",
   "execution_count": 36,
   "id": "922e8822",
   "metadata": {},
   "outputs": [
    {
     "name": "stdout",
     "output_type": "stream",
     "text": [
      "3\n",
      "<class 'dict'>\n",
      "dict_keys(['a', 'k', 'j'])\n",
      "dict_items([('a', 67), ('k', 90), ('j', 89)])\n"
     ]
    }
   ],
   "source": [
    "acceptRecords(2,3,5,'abc',a=67,k=90,j=89)"
   ]
  },
  {
   "cell_type": "code",
   "execution_count": 31,
   "id": "1f258b74",
   "metadata": {},
   "outputs": [],
   "source": [
    "t1=('val21',23)"
   ]
  },
  {
   "cell_type": "code",
   "execution_count": 32,
   "id": "8ac820b3",
   "metadata": {},
   "outputs": [],
   "source": [
    "dt=dict({t1})"
   ]
  },
  {
   "cell_type": "code",
   "execution_count": 33,
   "id": "ba285eda",
   "metadata": {},
   "outputs": [
    {
     "name": "stdout",
     "output_type": "stream",
     "text": [
      "{'val21': 23}\n"
     ]
    }
   ],
   "source": [
    "print(dt)"
   ]
  },
  {
   "cell_type": "code",
   "execution_count": 55,
   "id": "f565642a",
   "metadata": {},
   "outputs": [
    {
     "name": "stdout",
     "output_type": "stream",
     "text": [
      "1\n",
      "<class 'dict'>\n",
      "dict_keys(['val21'])\n",
      "dict_items([('val21', 23)])\n"
     ]
    }
   ],
   "source": [
    "acceptRecords(**dt)"
   ]
  },
  {
   "cell_type": "code",
   "execution_count": 54,
   "id": "8e7535c3",
   "metadata": {},
   "outputs": [],
   "source": [
    "def details(eid,ename,basic,da=4,hra=2):\n",
    "    print('eid:',eid)\n",
    "    print('ename:',ename)\n",
    "    gs=basic+da+hra\n",
    "    return print('gs:',gs)"
   ]
  },
  {
   "cell_type": "code",
   "execution_count": 53,
   "id": "c401cbc0",
   "metadata": {},
   "outputs": [
    {
     "name": "stdout",
     "output_type": "stream",
     "text": [
      "eid: 1\n",
      "ename: nagma\n",
      "gs 50006\n"
     ]
    }
   ],
   "source": [
    "details(1,'nagma',50000)"
   ]
  },
  {
   "cell_type": "code",
   "execution_count": 54,
   "id": "33916628",
   "metadata": {},
   "outputs": [],
   "source": [
    "def details(eid,ename,sal,*a,**b):\n",
    "    print('eid:',eid)\n",
    "    print('ename:',ename)\n",
    "    print ('salary:',sal)\n",
    "    print('skills:',a)\n",
    "    print('training :',b)\n",
    "   "
   ]
  },
  {
   "cell_type": "code",
   "execution_count": 55,
   "id": "8683f756",
   "metadata": {},
   "outputs": [
    {
     "name": "stdout",
     "output_type": "stream",
     "text": [
      "eid: 1\n",
      "ename: nagma\n",
      "salary: 50000\n",
      "skills: ('python', 'java', 'c++')\n",
      "training : {'python': 30, 'java': 90}\n"
     ]
    }
   ],
   "source": [
    "details(1,'nagma',50000,'python','java','c++',python=30,java=90)"
   ]
  },
  {
   "cell_type": "code",
   "execution_count": 1,
   "id": "85f15743",
   "metadata": {},
   "outputs": [],
   "source": [
    "def fact(n):\n",
    "    fact=1\n",
    "    for i in range(1,n+1):\n",
    "        fact=fact*i\n",
    "    return fact"
   ]
  },
  {
   "cell_type": "code",
   "execution_count": 2,
   "id": "0429c2d8",
   "metadata": {},
   "outputs": [
    {
     "data": {
      "text/plain": [
       "720"
      ]
     },
     "execution_count": 2,
     "metadata": {},
     "output_type": "execute_result"
    }
   ],
   "source": [
    "fact(6)"
   ]
  },
  {
   "cell_type": "code",
   "execution_count": null,
   "id": "fe3b13bc",
   "metadata": {},
   "outputs": [],
   "source": [
    "#positional arguements\n",
    "#default arguements\n",
    "#keyword arguement\n",
    "#varargs-*\n",
    "#keyward variable arguements-**"
   ]
  },
  {
   "cell_type": "code",
   "execution_count": 5,
   "id": "54413c94",
   "metadata": {},
   "outputs": [],
   "source": [
    "#positional arguement-complusory to pass all arguement\n",
    "def emp(eid,ename,age):\n",
    "    print('empid:',eid,' name:',ename,' age:',age)"
   ]
  },
  {
   "cell_type": "code",
   "execution_count": 4,
   "id": "c25733bc",
   "metadata": {},
   "outputs": [
    {
     "name": "stdout",
     "output_type": "stream",
     "text": [
      "empid: 1  name: nagma  age: 22\n"
     ]
    }
   ],
   "source": [
    "emp(1,'nagma',22)"
   ]
  },
  {
   "cell_type": "code",
   "execution_count": 6,
   "id": "abfa864a",
   "metadata": {},
   "outputs": [],
   "source": [
    "#default arguement-\n",
    "def emp(eid,ename,age=23):\n",
    "     print('empid:',eid,' name:',ename,' age:',age)"
   ]
  },
  {
   "cell_type": "code",
   "execution_count": 7,
   "id": "1117aaea",
   "metadata": {},
   "outputs": [
    {
     "name": "stdout",
     "output_type": "stream",
     "text": [
      "empid: 2  name: vaishnavi  age: 23\n"
     ]
    }
   ],
   "source": [
    "emp(2,'vaishnavi')"
   ]
  },
  {
   "cell_type": "code",
   "execution_count": 9,
   "id": "658f061a",
   "metadata": {},
   "outputs": [
    {
     "name": "stdout",
     "output_type": "stream",
     "text": [
      "empid: 3  name: nazar  age: 19\n"
     ]
    }
   ],
   "source": [
    "#keyword arguement\n",
    "emp(age=19,ename='nazar',eid=3)"
   ]
  },
  {
   "cell_type": "code",
   "execution_count": 18,
   "id": "ae6821d1",
   "metadata": {},
   "outputs": [],
   "source": [
    "#vargs\n",
    "def add(a,b,c=0):\n",
    "    return(a+b+c)"
   ]
  },
  {
   "cell_type": "code",
   "execution_count": 19,
   "id": "7fa20f0c",
   "metadata": {},
   "outputs": [
    {
     "data": {
      "text/plain": [
       "36"
      ]
     },
     "execution_count": 19,
     "metadata": {},
     "output_type": "execute_result"
    }
   ],
   "source": [
    "add(10,20,6)"
   ]
  },
  {
   "cell_type": "code",
   "execution_count": 27,
   "id": "3436a521",
   "metadata": {},
   "outputs": [],
   "source": [
    "def add(*a):# *-is variable length of arguements\n",
    "    r=0\n",
    "    for i in a:\n",
    "        r=r+i\n",
    "    return r"
   ]
  },
  {
   "cell_type": "code",
   "execution_count": 28,
   "id": "7e9f5c91",
   "metadata": {},
   "outputs": [
    {
     "data": {
      "text/plain": [
       "6"
      ]
     },
     "execution_count": 28,
     "metadata": {},
     "output_type": "execute_result"
    }
   ],
   "source": [
    "add(1,2,3)"
   ]
  },
  {
   "cell_type": "code",
   "execution_count": 29,
   "id": "ad96587d",
   "metadata": {},
   "outputs": [],
   "source": [
    "def add(*a):\n",
    "    return (sum(a))"
   ]
  },
  {
   "cell_type": "code",
   "execution_count": 30,
   "id": "5b802b4f",
   "metadata": {},
   "outputs": [
    {
     "data": {
      "text/plain": [
       "25"
      ]
     },
     "execution_count": 30,
     "metadata": {},
     "output_type": "execute_result"
    }
   ],
   "source": [
    "add(1,2,4,5,6,7)"
   ]
  },
  {
   "cell_type": "code",
   "execution_count": 31,
   "id": "c9f25e72",
   "metadata": {},
   "outputs": [],
   "source": [
    "#kwargs-**\n",
    "def n1(**a):\n",
    "    print(a)"
   ]
  },
  {
   "cell_type": "code",
   "execution_count": 32,
   "id": "f03d9d21",
   "metadata": {},
   "outputs": [
    {
     "name": "stdout",
     "output_type": "stream",
     "text": [
      "{'name': 'nagma', 'per': 90}\n"
     ]
    }
   ],
   "source": [
    "n1(name='nagma',per=90)"
   ]
  },
  {
   "cell_type": "code",
   "execution_count": 40,
   "id": "572f25e4",
   "metadata": {},
   "outputs": [
    {
     "name": "stdout",
     "output_type": "stream",
     "text": [
      "{'movie': 'shershah', 'actor': 'sidharth', 'rating': 9.1}\n"
     ]
    }
   ],
   "source": [
    "n1(movie='shershah',actor='sidharth',rating=9.1)"
   ]
  },
  {
   "cell_type": "code",
   "execution_count": 65,
   "id": "9630dc57",
   "metadata": {},
   "outputs": [],
   "source": [
    "def m(**d):\n",
    "    for k in d:\n",
    "        print(k,'--->',d[k])"
   ]
  },
  {
   "cell_type": "code",
   "execution_count": 68,
   "id": "c42e4156",
   "metadata": {},
   "outputs": [
    {
     "name": "stdout",
     "output_type": "stream",
     "text": [
      "hobby ---> read\n",
      "favsport ---> football\n",
      "ht ---> 5.8\n"
     ]
    }
   ],
   "source": [
    "m(hobby='read',favsport='football',ht=5.8)"
   ]
  },
  {
   "cell_type": "code",
   "execution_count": 76,
   "id": "41379bba",
   "metadata": {},
   "outputs": [],
   "source": [
    "#lambda arguements expresion-\n",
    "x=lambda a,b,c:a+b+c"
   ]
  },
  {
   "cell_type": "code",
   "execution_count": 73,
   "id": "68aa5cc8",
   "metadata": {
    "scrolled": true
   },
   "outputs": [
    {
     "data": {
      "text/plain": [
       "30"
      ]
     },
     "execution_count": 73,
     "metadata": {},
     "output_type": "execute_result"
    }
   ],
   "source": [
    "x(10,20)"
   ]
  },
  {
   "cell_type": "code",
   "execution_count": 77,
   "id": "3bcbaecb",
   "metadata": {},
   "outputs": [
    {
     "data": {
      "text/plain": [
       "60"
      ]
     },
     "execution_count": 77,
     "metadata": {},
     "output_type": "execute_result"
    }
   ],
   "source": [
    "x(10,20,30)"
   ]
  },
  {
   "cell_type": "code",
   "execution_count": 78,
   "id": "2e73e5ec",
   "metadata": {},
   "outputs": [],
   "source": [
    "#squaring\n",
    "sq=lambda a:a*a"
   ]
  },
  {
   "cell_type": "code",
   "execution_count": 79,
   "id": "f1be7028",
   "metadata": {},
   "outputs": [
    {
     "data": {
      "text/plain": [
       "16"
      ]
     },
     "execution_count": 79,
     "metadata": {},
     "output_type": "execute_result"
    }
   ],
   "source": [
    "sq(4)"
   ]
  },
  {
   "cell_type": "code",
   "execution_count": 80,
   "id": "4dbc3a5a",
   "metadata": {},
   "outputs": [],
   "source": [
    "#map filter,reduce function\n",
    "l1=[1,2,3,4,5,6]"
   ]
  },
  {
   "cell_type": "code",
   "execution_count": 81,
   "id": "fe303f04",
   "metadata": {},
   "outputs": [],
   "source": [
    "#map(function,iterable)\n",
    "sq=lambda a:a*a\n"
   ]
  },
  {
   "cell_type": "code",
   "execution_count": 84,
   "id": "7c9da816",
   "metadata": {},
   "outputs": [
    {
     "data": {
      "text/plain": [
       "[1, 4, 9, 16, 25, 36]"
      ]
     },
     "execution_count": 84,
     "metadata": {},
     "output_type": "execute_result"
    }
   ],
   "source": [
    "list(map(sq,l1))"
   ]
  },
  {
   "cell_type": "code",
   "execution_count": 85,
   "id": "53d3454e",
   "metadata": {},
   "outputs": [
    {
     "data": {
      "text/plain": [
       "[1, 2, 3, 4, 5, 6]"
      ]
     },
     "execution_count": 85,
     "metadata": {},
     "output_type": "execute_result"
    }
   ],
   "source": [
    "l1"
   ]
  },
  {
   "cell_type": "code",
   "execution_count": 86,
   "id": "593966ea",
   "metadata": {},
   "outputs": [],
   "source": [
    "l2=['nagma','priya','adi']"
   ]
  },
  {
   "cell_type": "code",
   "execution_count": 90,
   "id": "e9086d06",
   "metadata": {},
   "outputs": [
    {
     "data": {
      "text/plain": [
       "['NAGMA', 'PRIYA', 'ADI']"
      ]
     },
     "execution_count": 90,
     "metadata": {},
     "output_type": "execute_result"
    }
   ],
   "source": [
    "list(map(str.upper,l2))#built in function "
   ]
  },
  {
   "cell_type": "code",
   "execution_count": 91,
   "id": "8ed2fe2c",
   "metadata": {},
   "outputs": [],
   "source": [
    "#map is applying the given function \n",
    "l2=list(map(lambda x:x*x,l1))"
   ]
  },
  {
   "cell_type": "code",
   "execution_count": 92,
   "id": "cd40943f",
   "metadata": {},
   "outputs": [
    {
     "data": {
      "text/plain": [
       "[1, 4, 9, 16, 25, 36]"
      ]
     },
     "execution_count": 92,
     "metadata": {},
     "output_type": "execute_result"
    }
   ],
   "source": [
    "l2"
   ]
  },
  {
   "cell_type": "code",
   "execution_count": 93,
   "id": "faa62a2d",
   "metadata": {},
   "outputs": [],
   "source": [
    "#filter()\n",
    "l3=[12,38,90,67,45]"
   ]
  },
  {
   "cell_type": "code",
   "execution_count": 95,
   "id": "d017de6a",
   "metadata": {},
   "outputs": [
    {
     "data": {
      "text/plain": [
       "[67, 45]"
      ]
     },
     "execution_count": 95,
     "metadata": {},
     "output_type": "execute_result"
    }
   ],
   "source": [
    "#filter(Function,iterable)\n",
    "list(filter(lambda x:x%2!=0,l3))"
   ]
  },
  {
   "cell_type": "code",
   "execution_count": 96,
   "id": "4f25e9fb",
   "metadata": {},
   "outputs": [],
   "source": [
    "import functools"
   ]
  },
  {
   "cell_type": "code",
   "execution_count": 97,
   "id": "7d661f9c",
   "metadata": {},
   "outputs": [],
   "source": [
    "t=(1,2,3,4,5)"
   ]
  },
  {
   "cell_type": "code",
   "execution_count": 99,
   "id": "0c6cc94b",
   "metadata": {},
   "outputs": [
    {
     "data": {
      "text/plain": [
       "120"
      ]
     },
     "execution_count": 99,
     "metadata": {},
     "output_type": "execute_result"
    }
   ],
   "source": [
    "#functools.reduce(function,t)\n",
    "functools.reduce(lambda a,b:a*b,t)"
   ]
  },
  {
   "cell_type": "code",
   "execution_count": 110,
   "id": "32eede2e",
   "metadata": {},
   "outputs": [],
   "source": [
    "def fact(a,b):\n",
    "    print('a',a,'b',b)\n",
    "    return a*b\n"
   ]
  },
  {
   "cell_type": "code",
   "execution_count": 112,
   "id": "33c69d31",
   "metadata": {},
   "outputs": [
    {
     "name": "stdout",
     "output_type": "stream",
     "text": [
      "a 1 b 2\n",
      "a 2 b 3\n",
      "a 6 b 4\n",
      "a 24 b 5\n"
     ]
    },
    {
     "data": {
      "text/plain": [
       "120"
      ]
     },
     "execution_count": 112,
     "metadata": {},
     "output_type": "execute_result"
    }
   ],
   "source": [
    "functools.reduce(fact,t)"
   ]
  },
  {
   "cell_type": "code",
   "execution_count": null,
   "id": "263178b8",
   "metadata": {},
   "outputs": [],
   "source": [
    "#lambda expression -is method w/o name"
   ]
  },
  {
   "cell_type": "code",
   "execution_count": 12,
   "id": "1e875c0f",
   "metadata": {},
   "outputs": [],
   "source": [
    "z=lambda x:print('hello',s1)"
   ]
  },
  {
   "cell_type": "code",
   "execution_count": 17,
   "id": "6250f035",
   "metadata": {},
   "outputs": [],
   "source": [
    "s1='nagma'"
   ]
  },
  {
   "cell_type": "code",
   "execution_count": 9,
   "id": "2dd7bf77",
   "metadata": {},
   "outputs": [],
   "source": [
    "r=lambda s:s%2==0"
   ]
  },
  {
   "cell_type": "code",
   "execution_count": 11,
   "id": "8706361e",
   "metadata": {},
   "outputs": [
    {
     "data": {
      "text/plain": [
       "True"
      ]
     },
     "execution_count": 11,
     "metadata": {},
     "output_type": "execute_result"
    }
   ],
   "source": [
    "r(4)"
   ]
  },
  {
   "cell_type": "code",
   "execution_count": 31,
   "id": "80771d3f",
   "metadata": {},
   "outputs": [
    {
     "name": "stdout",
     "output_type": "stream",
     "text": [
      "9\n"
     ]
    }
   ],
   "source": [
    "#lambda expression with method\n",
    "def add(num1):\n",
    "    return (lambda num2:num2+num1)\n",
    "r=add(5)\n",
    "print(r(4))"
   ]
  },
  {
   "cell_type": "code",
   "execution_count": 19,
   "id": "c2f24fc2",
   "metadata": {},
   "outputs": [
    {
     "data": {
      "text/plain": [
       "True"
      ]
     },
     "execution_count": 19,
     "metadata": {},
     "output_type": "execute_result"
    }
   ],
   "source": [
    "r(4)"
   ]
  },
  {
   "cell_type": "code",
   "execution_count": 32,
   "id": "63258312",
   "metadata": {},
   "outputs": [
    {
     "name": "stdout",
     "output_type": "stream",
     "text": [
      "36\n"
     ]
    }
   ],
   "source": [
    "exp=lambda x,y:x**y\n",
    "print(exp(6,2))"
   ]
  },
  {
   "cell_type": "code",
   "execution_count": 33,
   "id": "9aff2d8e",
   "metadata": {},
   "outputs": [],
   "source": [
    "def findPow(b):\n",
    "    return lambda p:b**p"
   ]
  },
  {
   "cell_type": "code",
   "execution_count": 36,
   "id": "a5f76413",
   "metadata": {},
   "outputs": [],
   "source": [
    "ans=findPow(3)"
   ]
  },
  {
   "cell_type": "code",
   "execution_count": 37,
   "id": "1fce9752",
   "metadata": {},
   "outputs": [
    {
     "name": "stdout",
     "output_type": "stream",
     "text": [
      "81\n"
     ]
    }
   ],
   "source": [
    "print(ans(4))"
   ]
  },
  {
   "cell_type": "code",
   "execution_count": 42,
   "id": "c1db64c7",
   "metadata": {},
   "outputs": [],
   "source": [
    "l=[12,21,45,67,49,68,90]\n",
    "m=list(filter(lambda x:x%7==0,l))"
   ]
  },
  {
   "cell_type": "code",
   "execution_count": 43,
   "id": "9514872b",
   "metadata": {},
   "outputs": [
    {
     "data": {
      "text/plain": [
       "[21, 49]"
      ]
     },
     "execution_count": 43,
     "metadata": {},
     "output_type": "execute_result"
    }
   ],
   "source": [
    "m"
   ]
  },
  {
   "cell_type": "code",
   "execution_count": 46,
   "id": "8c752ec5",
   "metadata": {},
   "outputs": [],
   "source": [
    "#take a list of string show all strings with minimum length 5\n",
    "l1=['hello','hi','are','is']\n",
    "m=list(filter(lambda x:len(x)<5,l1))"
   ]
  },
  {
   "cell_type": "code",
   "execution_count": 47,
   "id": "7ba45453",
   "metadata": {},
   "outputs": [
    {
     "data": {
      "text/plain": [
       "['hi', 'are', 'is']"
      ]
     },
     "execution_count": 47,
     "metadata": {},
     "output_type": "execute_result"
    }
   ],
   "source": [
    "m"
   ]
  },
  {
   "cell_type": "code",
   "execution_count": 59,
   "id": "e2dbfbf5",
   "metadata": {},
   "outputs": [],
   "source": [
    "t=('Hello','hi','Nagma','is')\n",
    "m=list(filter(lambda x:x[:][0:1].isupper(),t))"
   ]
  },
  {
   "cell_type": "code",
   "execution_count": 60,
   "id": "7088e47d",
   "metadata": {},
   "outputs": [
    {
     "data": {
      "text/plain": [
       "['Hello', 'Nagma']"
      ]
     },
     "execution_count": 60,
     "metadata": {},
     "output_type": "execute_result"
    }
   ],
   "source": [
    "m"
   ]
  },
  {
   "cell_type": "code",
   "execution_count": 61,
   "id": "381a0237",
   "metadata": {},
   "outputs": [
    {
     "name": "stdout",
     "output_type": "stream",
     "text": [
      "[16, 25, 36, 49, 64]\n"
     ]
    }
   ],
   "source": [
    "l2=[4,5,6,7,8]\n",
    "print(list(map(lambda x:x*x,l2)))"
   ]
  },
  {
   "cell_type": "code",
   "execution_count": 62,
   "id": "2464ef6d",
   "metadata": {},
   "outputs": [
    {
     "name": "stdout",
     "output_type": "stream",
     "text": [
      "[3, 4, 5, 6, 7]\n"
     ]
    }
   ],
   "source": [
    "l3=[1,2,3,4,5]\n",
    "print(list(map(lambda x:x+2,l3)))"
   ]
  },
  {
   "cell_type": "code",
   "execution_count": 63,
   "id": "5ebd7fb8",
   "metadata": {},
   "outputs": [
    {
     "name": "stdout",
     "output_type": "stream",
     "text": [
      "[2, 5, 3]\n"
     ]
    }
   ],
   "source": [
    "l4=['hi','hello','how']\n",
    "print(list(map(lambda x:len(x),l4)))"
   ]
  },
  {
   "cell_type": "code",
   "execution_count": 64,
   "id": "b32e6fc9",
   "metadata": {},
   "outputs": [
    {
     "name": "stdout",
     "output_type": "stream",
     "text": [
      "['HI', 'HELLO', 'HOW']\n"
     ]
    }
   ],
   "source": [
    "print(list(map(lambda x:x.upper(),l4)))"
   ]
  },
  {
   "cell_type": "code",
   "execution_count": 81,
   "id": "2c6f4acc",
   "metadata": {},
   "outputs": [
    {
     "name": "stdout",
     "output_type": "stream",
     "text": [
      "[5, 5, 2]\n"
     ]
    }
   ],
   "source": [
    "#show the len of all string starting with capital leter\n",
    "l5=['Hello','Nagma','hi','Hi']\n",
    "m=list(filter(lambda x:x[:][0:1].isupper(),l5))\n",
    "print(list(map(lambda x:len(x),m)))"
   ]
  },
  {
   "cell_type": "code",
   "execution_count": 82,
   "id": "08a14c47",
   "metadata": {},
   "outputs": [],
   "source": [
    "#reduce\n",
    "from functools import reduce"
   ]
  },
  {
   "cell_type": "code",
   "execution_count": 84,
   "id": "fedcb29b",
   "metadata": {},
   "outputs": [],
   "source": [
    "l6=[3,3,8,1]\n",
    "total=reduce(lambda x,y:x+y,l6)"
   ]
  },
  {
   "cell_type": "code",
   "execution_count": 94,
   "id": "241c98d5",
   "metadata": {},
   "outputs": [
    {
     "data": {
      "text/plain": [
       "72"
      ]
     },
     "execution_count": 94,
     "metadata": {},
     "output_type": "execute_result"
    }
   ],
   "source": [
    "total"
   ]
  },
  {
   "cell_type": "code",
   "execution_count": 105,
   "id": "3ae7c58e",
   "metadata": {},
   "outputs": [],
   "source": [
    "#show sum of squares of each num in this\n",
    "total=reduce(lambda x,y:x+y,list(map(lambda x:x**2,l6)))"
   ]
  },
  {
   "cell_type": "code",
   "execution_count": 106,
   "id": "1d24713a",
   "metadata": {},
   "outputs": [
    {
     "data": {
      "text/plain": [
       "83"
      ]
     },
     "execution_count": 106,
     "metadata": {},
     "output_type": "execute_result"
    }
   ],
   "source": [
    "total"
   ]
  },
  {
   "cell_type": "code",
   "execution_count": 111,
   "id": "e255ca12",
   "metadata": {},
   "outputs": [],
   "source": [
    "#practice works\n",
    "#1.Add all evennumbers from given list\n",
    "#2.concat all string from given list which contains letter 'o' \n",
    "s1=[1,2,3,4,5,6,78,89,90]\n",
    "total=reduce(lambda x,y:x+y,list(map(lambda x:x%2==0,s1)))"
   ]
  },
  {
   "cell_type": "code",
   "execution_count": 109,
   "id": "87b92e79",
   "metadata": {},
   "outputs": [
    {
     "data": {
      "text/plain": [
       "5"
      ]
     },
     "execution_count": 109,
     "metadata": {},
     "output_type": "execute_result"
    }
   ],
   "source": [
    "total"
   ]
  },
  {
   "cell_type": "code",
   "execution_count": 110,
   "id": "2d3fa4b9",
   "metadata": {},
   "outputs": [
    {
     "data": {
      "text/plain": [
       "90"
      ]
     },
     "execution_count": 110,
     "metadata": {},
     "output_type": "execute_result"
    }
   ],
   "source": [
    "#find max of l1 using reduce\n",
    "reduce(lambda x,y: x if x>y else y,s1)"
   ]
  },
  {
   "cell_type": "code",
   "execution_count": 118,
   "id": "fdf49554",
   "metadata": {},
   "outputs": [],
   "source": [
    "import operator as o"
   ]
  },
  {
   "cell_type": "code",
   "execution_count": 116,
   "id": "83f21583",
   "metadata": {},
   "outputs": [],
   "source": [
    "l1=[8,1,2,7,8,9]"
   ]
  },
  {
   "cell_type": "code",
   "execution_count": 119,
   "id": "dad2b082",
   "metadata": {},
   "outputs": [],
   "source": [
    "total=reduce(o.add,l1)"
   ]
  },
  {
   "cell_type": "code",
   "execution_count": 120,
   "id": "f6a42295",
   "metadata": {},
   "outputs": [
    {
     "data": {
      "text/plain": [
       "35"
      ]
     },
     "execution_count": 120,
     "metadata": {},
     "output_type": "execute_result"
    }
   ],
   "source": [
    "total"
   ]
  },
  {
   "cell_type": "code",
   "execution_count": 123,
   "id": "ca646006",
   "metadata": {},
   "outputs": [],
   "source": [
    "import itertools as it\n"
   ]
  },
  {
   "cell_type": "code",
   "execution_count": 122,
   "id": "b327eb9c",
   "metadata": {},
   "outputs": [
    {
     "data": {
      "text/plain": [
       "[8, 1, 2, 7, 8, 9]"
      ]
     },
     "execution_count": 122,
     "metadata": {},
     "output_type": "execute_result"
    }
   ],
   "source": [
    "l1"
   ]
  },
  {
   "cell_type": "code",
   "execution_count": 125,
   "id": "3d4671a7",
   "metadata": {},
   "outputs": [
    {
     "data": {
      "text/plain": [
       "[8, 9, 11, 18, 26, 35]"
      ]
     },
     "execution_count": 125,
     "metadata": {},
     "output_type": "execute_result"
    }
   ],
   "source": [
    "list(it.accumulate(l1,lambda x,y:x+y))"
   ]
  },
  {
   "cell_type": "code",
   "execution_count": null,
   "id": "343cac02",
   "metadata": {},
   "outputs": [],
   "source": [
    "#check wheter it is palindrome"
   ]
  },
  {
   "cell_type": "markdown",
   "id": "d36d82c3",
   "metadata": {},
   "source": [
    "list comprehension"
   ]
  },
  {
   "cell_type": "code",
   "execution_count": 126,
   "id": "5612392b",
   "metadata": {},
   "outputs": [],
   "source": [
    "#alternative way to create another list"
   ]
  },
  {
   "cell_type": "code",
   "execution_count": 127,
   "id": "b2e3830c",
   "metadata": {},
   "outputs": [
    {
     "data": {
      "text/plain": [
       "'\\nsyntax\\nnew list=(expression(x) for x in givenlist if condition)'"
      ]
     },
     "execution_count": 127,
     "metadata": {},
     "output_type": "execute_result"
    }
   ],
   "source": [
    "'''\n",
    "syntax\n",
    "new list=(expression(x) for x in givenlist if condition)'''"
   ]
  },
  {
   "cell_type": "code",
   "execution_count": 128,
   "id": "75699455",
   "metadata": {},
   "outputs": [],
   "source": [
    "nl=list(i**2 for i in l1)"
   ]
  },
  {
   "cell_type": "code",
   "execution_count": 130,
   "id": "9c15876b",
   "metadata": {},
   "outputs": [
    {
     "data": {
      "text/plain": [
       "[64, 1, 4, 49, 64, 81]"
      ]
     },
     "execution_count": 130,
     "metadata": {},
     "output_type": "execute_result"
    }
   ],
   "source": [
    "nl"
   ]
  },
  {
   "cell_type": "code",
   "execution_count": 131,
   "id": "9dc93c91",
   "metadata": {},
   "outputs": [],
   "source": [
    "l2=['hello','hi','how']"
   ]
  },
  {
   "cell_type": "code",
   "execution_count": 132,
   "id": "acae9892",
   "metadata": {},
   "outputs": [],
   "source": [
    "nl=list(len(i) for i in l2)"
   ]
  },
  {
   "cell_type": "code",
   "execution_count": 133,
   "id": "eede22c1",
   "metadata": {},
   "outputs": [
    {
     "data": {
      "text/plain": [
       "[5, 2, 3]"
      ]
     },
     "execution_count": 133,
     "metadata": {},
     "output_type": "execute_result"
    }
   ],
   "source": [
    "nl"
   ]
  },
  {
   "cell_type": "code",
   "execution_count": 154,
   "id": "c38b941f",
   "metadata": {},
   "outputs": [],
   "source": [
    "#show all numbers divisble by 5 from range 1,50\n",
    "n1=list(i for i in range(1,50+1) if i%5==0)"
   ]
  },
  {
   "cell_type": "code",
   "execution_count": 155,
   "id": "b95ae86d",
   "metadata": {},
   "outputs": [
    {
     "data": {
      "text/plain": [
       "[5, 10, 15, 20, 25, 30, 35, 40, 45, 50]"
      ]
     },
     "execution_count": 155,
     "metadata": {},
     "output_type": "execute_result"
    }
   ],
   "source": [
    "n1"
   ]
  },
  {
   "cell_type": "code",
   "execution_count": null,
   "id": "c7dfd6ef",
   "metadata": {},
   "outputs": [],
   "source": [
    "#show how many whitespaces are there in given string\n",
    "#show sum of all digit inthe string eg,'24th jan 2022'"
   ]
  },
  {
   "cell_type": "code",
   "execution_count": 177,
   "id": "6cfcda84",
   "metadata": {},
   "outputs": [
    {
     "name": "stdout",
     "output_type": "stream",
     "text": [
      "{'mumbai': 1, 'pune': 2, 'nasik': 1}\n"
     ]
    }
   ],
   "source": [
    "##dic comprehension\n",
    "'''\n",
    "syntax\n",
    "new dict={k:v for (k,v) in iterable}'''\n",
    "\n",
    "citylist=['mumbai','pune','pune','nasik']\n",
    "d={k:citylist.count(k) for k in citylist}\n",
    "c={k:v for (k,v) in zip(citylist,list(citylist.count(i) for i in citylist))}\n",
    "print(c)"
   ]
  },
  {
   "cell_type": "code",
   "execution_count": 175,
   "id": "19c1a329",
   "metadata": {},
   "outputs": [],
   "source": [
    "import math as m"
   ]
  },
  {
   "cell_type": "code",
   "execution_count": 178,
   "id": "3c0cacd3",
   "metadata": {},
   "outputs": [],
   "source": [
    "import datetime as d"
   ]
  },
  {
   "cell_type": "code",
   "execution_count": 183,
   "id": "a4b3a257",
   "metadata": {},
   "outputs": [
    {
     "data": {
      "text/plain": [
       "datetime.datetime(2022, 1, 24, 18, 51, 29, 968792)"
      ]
     },
     "execution_count": 183,
     "metadata": {},
     "output_type": "execute_result"
    }
   ],
   "source": [
    "d.datetime.now()"
   ]
  },
  {
   "cell_type": "code",
   "execution_count": null,
   "id": "997069cb",
   "metadata": {},
   "outputs": [],
   "source": []
  }
 ],
 "metadata": {
  "kernelspec": {
   "display_name": "Python 3 (ipykernel)",
   "language": "python",
   "name": "python3"
  },
  "language_info": {
   "codemirror_mode": {
    "name": "ipython",
    "version": 3
   },
   "file_extension": ".py",
   "mimetype": "text/x-python",
   "name": "python",
   "nbconvert_exporter": "python",
   "pygments_lexer": "ipython3",
   "version": "3.9.7"
  }
 },
 "nbformat": 4,
 "nbformat_minor": 5
}
