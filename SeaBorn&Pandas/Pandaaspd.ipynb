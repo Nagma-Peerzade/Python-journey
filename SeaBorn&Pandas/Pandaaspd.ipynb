{
 "cells": [
  {
   "cell_type": "code",
   "execution_count": 1,
   "id": "5423e2a9",
   "metadata": {},
   "outputs": [],
   "source": [
    "import pandas as pd"
   ]
  },
  {
   "cell_type": "code",
   "execution_count": 5,
   "id": "f27cd904",
   "metadata": {},
   "outputs": [
    {
     "data": {
      "text/plain": [
       "0      pune\n",
       "1    mumbai\n",
       "2    satara\n",
       "3     nasik\n",
       "4      pune\n",
       "dtype: object"
      ]
     },
     "execution_count": 5,
     "metadata": {},
     "output_type": "execute_result"
    }
   ],
   "source": [
    "data=['pune','mumbai','satara','nasik','pune']\n",
    "pd.Series(data)"
   ]
  },
  {
   "cell_type": "code",
   "execution_count": 7,
   "id": "fb2d3458",
   "metadata": {},
   "outputs": [
    {
     "data": {
      "text/plain": [
       "0    1\n",
       "1    2\n",
       "2    3\n",
       "3    4\n",
       "4    5\n",
       "5    6\n",
       "dtype: int64"
      ]
     },
     "execution_count": 7,
     "metadata": {},
     "output_type": "execute_result"
    }
   ],
   "source": [
    "d=[1,2,3,4,5,6]\n",
    "pd.Series(d)"
   ]
  },
  {
   "cell_type": "code",
   "execution_count": 10,
   "id": "f5a791f5",
   "metadata": {},
   "outputs": [
    {
     "data": {
      "text/plain": [
       "2"
      ]
     },
     "execution_count": 10,
     "metadata": {},
     "output_type": "execute_result"
    }
   ],
   "source": [
    "d1=[1,2,'pune',3,'mumbai']\n",
    "p1=pd.Series(d1)\n",
    "p1[1]"
   ]
  },
  {
   "cell_type": "code",
   "execution_count": 11,
   "id": "ddaa4132",
   "metadata": {},
   "outputs": [
    {
     "data": {
      "text/plain": [
       "0         1\n",
       "1         2\n",
       "2      pune\n",
       "3         3\n",
       "4    mumbai\n",
       "dtype: object"
      ]
     },
     "execution_count": 11,
     "metadata": {},
     "output_type": "execute_result"
    }
   ],
   "source": [
    "p1"
   ]
  },
  {
   "cell_type": "code",
   "execution_count": 13,
   "id": "89e1fe0f",
   "metadata": {},
   "outputs": [
    {
     "data": {
      "text/plain": [
       "1       2\n",
       "2    pune\n",
       "3       3\n",
       "dtype: object"
      ]
     },
     "execution_count": 13,
     "metadata": {},
     "output_type": "execute_result"
    }
   ],
   "source": [
    "p1[1:4]"
   ]
  },
  {
   "cell_type": "code",
   "execution_count": 14,
   "id": "f5e14555",
   "metadata": {},
   "outputs": [
    {
     "data": {
      "text/plain": [
       "4    mumbai\n",
       "3         3\n",
       "2      pune\n",
       "1         2\n",
       "0         1\n",
       "dtype: object"
      ]
     },
     "execution_count": 14,
     "metadata": {},
     "output_type": "execute_result"
    }
   ],
   "source": [
    "p1[::-1]"
   ]
  },
  {
   "cell_type": "code",
   "execution_count": 18,
   "id": "0c6cfe33",
   "metadata": {},
   "outputs": [],
   "source": [
    "p1[0]='bgm'"
   ]
  },
  {
   "cell_type": "code",
   "execution_count": 19,
   "id": "2aba3a02",
   "metadata": {},
   "outputs": [
    {
     "data": {
      "text/plain": [
       "0       bgm\n",
       "1         2\n",
       "2      pune\n",
       "3         3\n",
       "4    mumbai\n",
       "dtype: object"
      ]
     },
     "execution_count": 19,
     "metadata": {},
     "output_type": "execute_result"
    }
   ],
   "source": [
    "p1"
   ]
  },
  {
   "cell_type": "code",
   "execution_count": 26,
   "id": "501772f7",
   "metadata": {},
   "outputs": [
    {
     "name": "stdout",
     "output_type": "stream",
     "text": [
      "0       bgm\n",
      "1         2\n",
      "2      pune\n",
      "3         3\n",
      "4    mumbai\n",
      "dtype: object\n",
      "0       bgm\n",
      "1         2\n",
      "2      pune\n",
      "3         3\n",
      "4    mumbai\n",
      "0     vashi\n",
      "dtype: object\n"
     ]
    },
    {
     "name": "stderr",
     "output_type": "stream",
     "text": [
      "C:\\Users\\NAGMA\\AppData\\Local\\Temp\\ipykernel_11536\\2882322174.py:2: FutureWarning: The series.append method is deprecated and will be removed from pandas in a future version. Use pandas.concat instead.\n",
      "  s1=p1.append(new)\n"
     ]
    }
   ],
   "source": [
    "new=pd.Series(['vashi'])\n",
    "s1=p1.append(new)\n",
    "print(p1)\n",
    "print(s1)"
   ]
  },
  {
   "cell_type": "code",
   "execution_count": 27,
   "id": "4fb45451",
   "metadata": {},
   "outputs": [
    {
     "name": "stdout",
     "output_type": "stream",
     "text": [
      "0       bgm\n",
      "1         2\n",
      "2      pune\n",
      "3         3\n",
      "4    mumbai\n",
      "dtype: object\n",
      "0       bgm\n",
      "1         2\n",
      "2      pune\n",
      "3         3\n",
      "4    mumbai\n",
      "5     vashi\n",
      "dtype: object\n"
     ]
    },
    {
     "name": "stderr",
     "output_type": "stream",
     "text": [
      "C:\\Users\\NAGMA\\AppData\\Local\\Temp\\ipykernel_11536\\553320676.py:2: FutureWarning: The series.append method is deprecated and will be removed from pandas in a future version. Use pandas.concat instead.\n",
      "  s1=p1.append(new,ignore_index=True)\n"
     ]
    }
   ],
   "source": [
    "new=pd.Series(['vashi'])\n",
    "s1=p1.append(new,ignore_index=True)\n",
    "print(p1)\n",
    "print(s1)"
   ]
  },
  {
   "cell_type": "code",
   "execution_count": 36,
   "id": "bf0a8a7f",
   "metadata": {},
   "outputs": [
    {
     "name": "stdout",
     "output_type": "stream",
     "text": [
      "s1: 0    67\n",
      "1    89\n",
      "2    90\n",
      "3    56\n",
      "4    78\n",
      "dtype: int64\n",
      "s2: 101    67\n",
      "102    89\n",
      "103    90\n",
      "104    56\n",
      "105    78\n",
      "dtype: int64\n"
     ]
    }
   ],
   "source": [
    "d1=(67,89,90,56,78)\n",
    "idx=(101,102,103,104,105)\n",
    "pd.Series(d1)\n",
    "s1=pd.Series(d1)\n",
    "s2=pd.Series(d1,idx)\n",
    "print('s1:',s1)\n",
    "print('s2:',s2)"
   ]
  },
  {
   "cell_type": "code",
   "execution_count": 37,
   "id": "d40b83bc",
   "metadata": {},
   "outputs": [
    {
     "data": {
      "text/plain": [
       "101    56\n",
       "102    78\n",
       "103    90\n",
       "104    67\n",
       "dtype: int64"
      ]
     },
     "execution_count": 37,
     "metadata": {},
     "output_type": "execute_result"
    }
   ],
   "source": [
    "d1={101:56,102:78,103:90,104:67}\n",
    "pd.Series(d1)\n"
   ]
  },
  {
   "cell_type": "code",
   "execution_count": 68,
   "id": "02483b36",
   "metadata": {},
   "outputs": [
    {
     "name": "stdout",
     "output_type": "stream",
     "text": [
      "Ram has got  112\n",
      "Ravi has got  280\n",
      "Ruchi has got  414\n"
     ]
    }
   ],
   "source": [
    "d1={101:['Ram',45,67],\n",
    "   102:['Ravi',78,90],\n",
    "   103:['Ruchi',45,89]}\n",
    "s1=pd.Series(d1)\n",
    "sum=0\n",
    "for i in s1:\n",
    "    #print(i)\n",
    "    for m in range(1,len(i)):\n",
    "        sum+=i[m]\n",
    "    print(i[0],'has got ',sum)\n",
    "    "
   ]
  },
  {
   "cell_type": "code",
   "execution_count": null,
   "id": "52a80025",
   "metadata": {},
   "outputs": [],
   "source": []
  }
 ],
 "metadata": {
  "kernelspec": {
   "display_name": "Python 3 (ipykernel)",
   "language": "python",
   "name": "python3"
  },
  "language_info": {
   "codemirror_mode": {
    "name": "ipython",
    "version": 3
   },
   "file_extension": ".py",
   "mimetype": "text/x-python",
   "name": "python",
   "nbconvert_exporter": "python",
   "pygments_lexer": "ipython3",
   "version": "3.9.7"
  }
 },
 "nbformat": 4,
 "nbformat_minor": 5
}
