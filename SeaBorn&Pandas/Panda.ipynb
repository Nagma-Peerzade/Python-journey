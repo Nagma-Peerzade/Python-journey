{
 "cells": [
  {
   "cell_type": "code",
   "execution_count": 2,
   "id": "c2e0a152",
   "metadata": {},
   "outputs": [],
   "source": [
    "import pandas as pd\n",
    "import numpy as np"
   ]
  },
  {
   "cell_type": "code",
   "execution_count": 8,
   "id": "60beac4b",
   "metadata": {},
   "outputs": [
    {
     "data": {
      "text/plain": [
       "a    11\n",
       "b    12\n",
       "c    13\n",
       "d    14\n",
       "dtype: int64"
      ]
     },
     "execution_count": 8,
     "metadata": {},
     "output_type": "execute_result"
    }
   ],
   "source": [
    "#create series object-1d array\n",
    "ds1=pd.Series([11,12,13,14],index=list('abcd'))\n",
    "ds1"
   ]
  },
  {
   "cell_type": "code",
   "execution_count": 4,
   "id": "6d9092c6",
   "metadata": {},
   "outputs": [
    {
     "data": {
      "text/plain": [
       "pandas.core.series.Series"
      ]
     },
     "execution_count": 4,
     "metadata": {},
     "output_type": "execute_result"
    }
   ],
   "source": [
    "type(ds1)"
   ]
  },
  {
   "cell_type": "code",
   "execution_count": 9,
   "id": "882226aa",
   "metadata": {},
   "outputs": [
    {
     "data": {
      "text/plain": [
       "11"
      ]
     },
     "execution_count": 9,
     "metadata": {},
     "output_type": "execute_result"
    }
   ],
   "source": [
    "ds1[0]#index value"
   ]
  },
  {
   "cell_type": "code",
   "execution_count": 10,
   "id": "d386a004",
   "metadata": {},
   "outputs": [
    {
     "data": {
      "text/plain": [
       "11"
      ]
     },
     "execution_count": 10,
     "metadata": {},
     "output_type": "execute_result"
    }
   ],
   "source": [
    "ds1['a']#index label"
   ]
  },
  {
   "cell_type": "code",
   "execution_count": 11,
   "id": "8d35d857",
   "metadata": {},
   "outputs": [
    {
     "data": {
      "text/plain": [
       "14"
      ]
     },
     "execution_count": 11,
     "metadata": {},
     "output_type": "execute_result"
    }
   ],
   "source": [
    "ds1[3]"
   ]
  },
  {
   "cell_type": "code",
   "execution_count": 12,
   "id": "94b7dc58",
   "metadata": {},
   "outputs": [],
   "source": [
    "ds1.index=list('pqrs')"
   ]
  },
  {
   "cell_type": "code",
   "execution_count": 13,
   "id": "9c43aa95",
   "metadata": {
    "scrolled": true
   },
   "outputs": [
    {
     "data": {
      "text/plain": [
       "p    11\n",
       "q    12\n",
       "r    13\n",
       "s    14\n",
       "dtype: int64"
      ]
     },
     "execution_count": 13,
     "metadata": {},
     "output_type": "execute_result"
    }
   ],
   "source": [
    "ds1"
   ]
  },
  {
   "cell_type": "code",
   "execution_count": 14,
   "id": "52093c2c",
   "metadata": {},
   "outputs": [],
   "source": [
    "ds2=pd.Series(np.arange(1,12,2),index=list('abcdef'))"
   ]
  },
  {
   "cell_type": "code",
   "execution_count": 15,
   "id": "7e17eec3",
   "metadata": {},
   "outputs": [
    {
     "data": {
      "text/plain": [
       "a     1\n",
       "b     3\n",
       "c     5\n",
       "d     7\n",
       "e     9\n",
       "f    11\n",
       "dtype: int32"
      ]
     },
     "execution_count": 15,
     "metadata": {},
     "output_type": "execute_result"
    }
   ],
   "source": [
    "ds2"
   ]
  },
  {
   "cell_type": "code",
   "execution_count": 16,
   "id": "f5e14c25",
   "metadata": {},
   "outputs": [
    {
     "data": {
      "text/plain": [
       "name    nagma\n",
       "age        22\n",
       "dtype: object"
      ]
     },
     "execution_count": 16,
     "metadata": {},
     "output_type": "execute_result"
    }
   ],
   "source": [
    "ds3=pd.Series({'name':'nagma','age':22})\n",
    "ds3"
   ]
  },
  {
   "cell_type": "code",
   "execution_count": 18,
   "id": "92cccb31",
   "metadata": {},
   "outputs": [
    {
     "data": {
      "text/plain": [
       "p     11\n",
       "q     12\n",
       "r     13\n",
       "s     14\n",
       "a    900\n",
       "dtype: int64"
      ]
     },
     "execution_count": 18,
     "metadata": {},
     "output_type": "execute_result"
    }
   ],
   "source": [
    "#add data\n",
    "ds1['a']=900\n",
    "ds1"
   ]
  },
  {
   "cell_type": "code",
   "execution_count": 20,
   "id": "e4708f98",
   "metadata": {},
   "outputs": [
    {
     "data": {
      "text/plain": [
       "p     11\n",
       "q     12\n",
       "r     13\n",
       "s     14\n",
       "a    900\n",
       "dtype: int64"
      ]
     },
     "execution_count": 20,
     "metadata": {},
     "output_type": "execute_result"
    }
   ],
   "source": [
    "#first 5 data\n",
    "ds1[0:5:]"
   ]
  },
  {
   "cell_type": "code",
   "execution_count": 21,
   "id": "84d9c2d8",
   "metadata": {},
   "outputs": [
    {
     "data": {
      "text/plain": [
       "p     11\n",
       "q     12\n",
       "r     13\n",
       "s     14\n",
       "a    900\n",
       "dtype: int64"
      ]
     },
     "execution_count": 21,
     "metadata": {},
     "output_type": "execute_result"
    }
   ],
   "source": [
    "ds1['p':'a']"
   ]
  },
  {
   "cell_type": "code",
   "execution_count": 22,
   "id": "5c6d4788",
   "metadata": {},
   "outputs": [
    {
     "data": {
      "text/plain": [
       "p    11\n",
       "q    12\n",
       "r    13\n",
       "dtype: int64"
      ]
     },
     "execution_count": 22,
     "metadata": {},
     "output_type": "execute_result"
    }
   ],
   "source": [
    "ds1[0:3]"
   ]
  },
  {
   "cell_type": "code",
   "execution_count": 23,
   "id": "553e3d8c",
   "metadata": {},
   "outputs": [
    {
     "data": {
      "text/plain": [
       "p     11\n",
       "q     12\n",
       "r     13\n",
       "s     14\n",
       "a    900\n",
       "dtype: int64"
      ]
     },
     "execution_count": 23,
     "metadata": {},
     "output_type": "execute_result"
    }
   ],
   "source": [
    "ds1"
   ]
  },
  {
   "cell_type": "code",
   "execution_count": 24,
   "id": "9403d37c",
   "metadata": {},
   "outputs": [],
   "source": [
    "ds1['f']=55"
   ]
  },
  {
   "cell_type": "code",
   "execution_count": 25,
   "id": "55648b6b",
   "metadata": {},
   "outputs": [
    {
     "data": {
      "text/plain": [
       "p     11\n",
       "q     12\n",
       "r     13\n",
       "s     14\n",
       "a    900\n",
       "f     55\n",
       "dtype: int64"
      ]
     },
     "execution_count": 25,
     "metadata": {},
     "output_type": "execute_result"
    }
   ],
   "source": [
    "ds1"
   ]
  },
  {
   "cell_type": "code",
   "execution_count": 27,
   "id": "9d513957",
   "metadata": {},
   "outputs": [],
   "source": [
    "ds1['p']=111#modify"
   ]
  },
  {
   "cell_type": "code",
   "execution_count": 28,
   "id": "1d468ac3",
   "metadata": {},
   "outputs": [
    {
     "data": {
      "text/plain": [
       "p    111\n",
       "q     12\n",
       "r     13\n",
       "s     14\n",
       "a    900\n",
       "f     55\n",
       "dtype: int64"
      ]
     },
     "execution_count": 28,
     "metadata": {},
     "output_type": "execute_result"
    }
   ],
   "source": [
    "ds1"
   ]
  },
  {
   "cell_type": "code",
   "execution_count": 29,
   "id": "e1a139e5",
   "metadata": {},
   "outputs": [
    {
     "data": {
      "text/plain": [
       "p    111\n",
       "q     12\n",
       "r     13\n",
       "s     14\n",
       "a    900\n",
       "dtype: int64"
      ]
     },
     "execution_count": 29,
     "metadata": {},
     "output_type": "execute_result"
    }
   ],
   "source": [
    "#drop -deletes from the copy\n",
    "ds1.drop('f')"
   ]
  },
  {
   "cell_type": "code",
   "execution_count": 30,
   "id": "07ab9403",
   "metadata": {},
   "outputs": [
    {
     "data": {
      "text/plain": [
       "p    111\n",
       "q     12\n",
       "r     13\n",
       "s     14\n",
       "a    900\n",
       "f     55\n",
       "dtype: int64"
      ]
     },
     "execution_count": 30,
     "metadata": {},
     "output_type": "execute_result"
    }
   ],
   "source": [
    "ds1#original series"
   ]
  },
  {
   "cell_type": "code",
   "execution_count": 31,
   "id": "2faaf50e",
   "metadata": {},
   "outputs": [],
   "source": [
    "ds1.drop('f',inplace=True)# to delete from the og"
   ]
  },
  {
   "cell_type": "code",
   "execution_count": 32,
   "id": "839ed23b",
   "metadata": {},
   "outputs": [
    {
     "data": {
      "text/plain": [
       "p    111\n",
       "q     12\n",
       "r     13\n",
       "s     14\n",
       "a    900\n",
       "dtype: int64"
      ]
     },
     "execution_count": 32,
     "metadata": {},
     "output_type": "execute_result"
    }
   ],
   "source": [
    "ds1"
   ]
  },
  {
   "cell_type": "code",
   "execution_count": 33,
   "id": "4f7cc8eb",
   "metadata": {},
   "outputs": [
    {
     "data": {
      "text/plain": [
       "210.0"
      ]
     },
     "execution_count": 33,
     "metadata": {},
     "output_type": "execute_result"
    }
   ],
   "source": [
    "#mean\n",
    "ds1.mean()"
   ]
  },
  {
   "cell_type": "code",
   "execution_count": 34,
   "id": "561b5f9e",
   "metadata": {},
   "outputs": [
    {
     "data": {
      "text/plain": [
       "1050"
      ]
     },
     "execution_count": 34,
     "metadata": {},
     "output_type": "execute_result"
    }
   ],
   "source": [
    "ds1.sum()"
   ]
  },
  {
   "cell_type": "code",
   "execution_count": 35,
   "id": "d96984a1",
   "metadata": {},
   "outputs": [
    {
     "data": {
      "text/plain": [
       "12"
      ]
     },
     "execution_count": 35,
     "metadata": {},
     "output_type": "execute_result"
    }
   ],
   "source": [
    "ds1.min()"
   ]
  },
  {
   "cell_type": "code",
   "execution_count": 36,
   "id": "db2e999a",
   "metadata": {},
   "outputs": [
    {
     "data": {
      "text/plain": [
       "900"
      ]
     },
     "execution_count": 36,
     "metadata": {},
     "output_type": "execute_result"
    }
   ],
   "source": [
    "ds1.max()"
   ]
  },
  {
   "cell_type": "code",
   "execution_count": 37,
   "id": "9a0fc559",
   "metadata": {},
   "outputs": [
    {
     "data": {
      "text/plain": [
       "5"
      ]
     },
     "execution_count": 37,
     "metadata": {},
     "output_type": "execute_result"
    }
   ],
   "source": [
    "ds1.count()"
   ]
  },
  {
   "cell_type": "code",
   "execution_count": 38,
   "id": "5837ff5a",
   "metadata": {},
   "outputs": [
    {
     "data": {
      "text/plain": [
       "210.0"
      ]
     },
     "execution_count": 38,
     "metadata": {},
     "output_type": "execute_result"
    }
   ],
   "source": [
    "ds1.sum()/ds1.count()"
   ]
  },
  {
   "cell_type": "code",
   "execution_count": 39,
   "id": "f657ab73",
   "metadata": {},
   "outputs": [],
   "source": [
    "ds1['g']=np.nan"
   ]
  },
  {
   "cell_type": "code",
   "execution_count": 40,
   "id": "00b07fa3",
   "metadata": {},
   "outputs": [],
   "source": [
    "ds1['h']=np.nan"
   ]
  },
  {
   "cell_type": "code",
   "execution_count": 41,
   "id": "b1884207",
   "metadata": {},
   "outputs": [
    {
     "data": {
      "text/plain": [
       "p    111.0\n",
       "q     12.0\n",
       "r     13.0\n",
       "s     14.0\n",
       "a    900.0\n",
       "g      NaN\n",
       "h      NaN\n",
       "dtype: float64"
      ]
     },
     "execution_count": 41,
     "metadata": {},
     "output_type": "execute_result"
    }
   ],
   "source": [
    "ds1"
   ]
  },
  {
   "cell_type": "code",
   "execution_count": 44,
   "id": "9524cc8c",
   "metadata": {},
   "outputs": [
    {
     "data": {
      "text/plain": [
       "nan"
      ]
     },
     "execution_count": 44,
     "metadata": {},
     "output_type": "execute_result"
    }
   ],
   "source": [
    "ds1.mean(skipna=False)"
   ]
  },
  {
   "cell_type": "code",
   "execution_count": 48,
   "id": "a0706172",
   "metadata": {},
   "outputs": [
    {
     "data": {
      "text/plain": [
       "p    False\n",
       "q    False\n",
       "r    False\n",
       "s    False\n",
       "a    False\n",
       "g     True\n",
       "h     True\n",
       "dtype: bool"
      ]
     },
     "execution_count": 48,
     "metadata": {},
     "output_type": "execute_result"
    }
   ],
   "source": [
    "ds1.isnull()"
   ]
  },
  {
   "cell_type": "code",
   "execution_count": 49,
   "id": "42fef42d",
   "metadata": {},
   "outputs": [
    {
     "data": {
      "text/plain": [
       "2"
      ]
     },
     "execution_count": 49,
     "metadata": {},
     "output_type": "execute_result"
    }
   ],
   "source": [
    "ds1.isnull().sum()"
   ]
  },
  {
   "cell_type": "code",
   "execution_count": 50,
   "id": "b0d82016",
   "metadata": {},
   "outputs": [
    {
     "data": {
      "text/plain": [
       "p     111.0\n",
       "q      12.0\n",
       "r      13.0\n",
       "s      14.0\n",
       "a     900.0\n",
       "g    1000.0\n",
       "h    1000.0\n",
       "dtype: float64"
      ]
     },
     "execution_count": 50,
     "metadata": {},
     "output_type": "execute_result"
    }
   ],
   "source": [
    "ds1.fillna(1000)#return new series"
   ]
  },
  {
   "cell_type": "code",
   "execution_count": 51,
   "id": "dab7d907",
   "metadata": {},
   "outputs": [],
   "source": [
    "ds1.fillna(1000,inplace=True)"
   ]
  },
  {
   "cell_type": "code",
   "execution_count": 52,
   "id": "bde89e71",
   "metadata": {},
   "outputs": [
    {
     "data": {
      "text/plain": [
       "p     111.0\n",
       "q      12.0\n",
       "r      13.0\n",
       "s      14.0\n",
       "a     900.0\n",
       "g    1000.0\n",
       "h    1000.0\n",
       "dtype: float64"
      ]
     },
     "execution_count": 52,
     "metadata": {},
     "output_type": "execute_result"
    }
   ],
   "source": [
    "ds1"
   ]
  },
  {
   "cell_type": "code",
   "execution_count": 53,
   "id": "cda884a0",
   "metadata": {},
   "outputs": [],
   "source": [
    "ds1['q']=np.nan"
   ]
  },
  {
   "cell_type": "code",
   "execution_count": 54,
   "id": "94c3a40e",
   "metadata": {},
   "outputs": [
    {
     "data": {
      "text/plain": [
       "p     111.0\n",
       "q       NaN\n",
       "r      13.0\n",
       "s      14.0\n",
       "a     900.0\n",
       "g    1000.0\n",
       "h    1000.0\n",
       "dtype: float64"
      ]
     },
     "execution_count": 54,
     "metadata": {},
     "output_type": "execute_result"
    }
   ],
   "source": [
    "ds1"
   ]
  },
  {
   "cell_type": "code",
   "execution_count": 57,
   "id": "868a05e0",
   "metadata": {},
   "outputs": [],
   "source": [
    "ds1.dropna(inplace=True)"
   ]
  },
  {
   "cell_type": "code",
   "execution_count": 58,
   "id": "af91845c",
   "metadata": {},
   "outputs": [
    {
     "data": {
      "text/plain": [
       "p    False\n",
       "r    False\n",
       "s    False\n",
       "a    False\n",
       "g    False\n",
       "h    False\n",
       "dtype: bool"
      ]
     },
     "execution_count": 58,
     "metadata": {},
     "output_type": "execute_result"
    }
   ],
   "source": [
    "ds1.isnull()"
   ]
  },
  {
   "cell_type": "code",
   "execution_count": 59,
   "id": "ad087ff2",
   "metadata": {},
   "outputs": [],
   "source": [
    "ds1['u']=np.nan"
   ]
  },
  {
   "cell_type": "code",
   "execution_count": 61,
   "id": "b3879c8c",
   "metadata": {},
   "outputs": [],
   "source": [
    "ds1['p']=np.nan"
   ]
  },
  {
   "cell_type": "code",
   "execution_count": 62,
   "id": "ea686500",
   "metadata": {},
   "outputs": [
    {
     "data": {
      "text/plain": [
       "p       NaN\n",
       "r      13.0\n",
       "s      14.0\n",
       "a     900.0\n",
       "g    1000.0\n",
       "h    1000.0\n",
       "u       NaN\n",
       "dtype: float64"
      ]
     },
     "execution_count": 62,
     "metadata": {},
     "output_type": "execute_result"
    }
   ],
   "source": [
    "ds1"
   ]
  },
  {
   "cell_type": "code",
   "execution_count": 63,
   "id": "b375d076",
   "metadata": {},
   "outputs": [
    {
     "data": {
      "text/plain": [
       "585.4"
      ]
     },
     "execution_count": 63,
     "metadata": {},
     "output_type": "execute_result"
    }
   ],
   "source": [
    "ds1.mean()"
   ]
  },
  {
   "cell_type": "code",
   "execution_count": 64,
   "id": "3db1d9be",
   "metadata": {},
   "outputs": [],
   "source": [
    "ds1.fillna(ds1.mean(),inplace=True)"
   ]
  },
  {
   "cell_type": "code",
   "execution_count": 65,
   "id": "724d72e9",
   "metadata": {},
   "outputs": [
    {
     "data": {
      "text/plain": [
       "p     585.4\n",
       "r      13.0\n",
       "s      14.0\n",
       "a     900.0\n",
       "g    1000.0\n",
       "h    1000.0\n",
       "u     585.4\n",
       "dtype: float64"
      ]
     },
     "execution_count": 65,
     "metadata": {},
     "output_type": "execute_result"
    }
   ],
   "source": [
    "ds1"
   ]
  },
  {
   "cell_type": "code",
   "execution_count": 70,
   "id": "1e801561",
   "metadata": {},
   "outputs": [
    {
     "data": {
      "text/plain": [
       "0     585.4\n",
       "1    1000.0\n",
       "dtype: object"
      ]
     },
     "execution_count": 70,
     "metadata": {},
     "output_type": "execute_result"
    }
   ],
   "source": [
    "ds1.mode()#most frequent value"
   ]
  },
  {
   "cell_type": "code",
   "execution_count": 67,
   "id": "56bd4f03",
   "metadata": {},
   "outputs": [],
   "source": [
    "ds1['d']=np.nan"
   ]
  },
  {
   "cell_type": "code",
   "execution_count": 68,
   "id": "bbfb8830",
   "metadata": {},
   "outputs": [],
   "source": [
    "ds1.fillna('unknown',inplace=True)"
   ]
  },
  {
   "cell_type": "code",
   "execution_count": 69,
   "id": "1acbbb4d",
   "metadata": {},
   "outputs": [
    {
     "data": {
      "text/plain": [
       "p      585.4\n",
       "r       13.0\n",
       "s       14.0\n",
       "a      900.0\n",
       "g     1000.0\n",
       "h     1000.0\n",
       "u      585.4\n",
       "d    unknown\n",
       "dtype: object"
      ]
     },
     "execution_count": 69,
     "metadata": {},
     "output_type": "execute_result"
    }
   ],
   "source": [
    "ds1"
   ]
  },
  {
   "cell_type": "code",
   "execution_count": 71,
   "id": "bbabc755",
   "metadata": {},
   "outputs": [
    {
     "data": {
      "text/plain": [
       "count       8.0\n",
       "unique      6.0\n",
       "top       585.4\n",
       "freq        2.0\n",
       "dtype: float64"
      ]
     },
     "execution_count": 71,
     "metadata": {},
     "output_type": "execute_result"
    }
   ],
   "source": [
    "ds1.describe()"
   ]
  },
  {
   "cell_type": "code",
   "execution_count": 72,
   "id": "d88d368e",
   "metadata": {},
   "outputs": [],
   "source": [
    "ds2=pd.Series([1,2,3,3,4,5,6,6,7,7,8,3,3,1,2])"
   ]
  },
  {
   "cell_type": "code",
   "execution_count": 73,
   "id": "6149eede",
   "metadata": {},
   "outputs": [
    {
     "data": {
      "text/plain": [
       "count    15.000000\n",
       "mean      4.066667\n",
       "std       2.282438\n",
       "min       1.000000\n",
       "25%       2.500000\n",
       "50%       3.000000\n",
       "75%       6.000000\n",
       "max       8.000000\n",
       "dtype: float64"
      ]
     },
     "execution_count": 73,
     "metadata": {},
     "output_type": "execute_result"
    }
   ],
   "source": [
    "ds2.describe()#gives summary"
   ]
  },
  {
   "cell_type": "code",
   "execution_count": 75,
   "id": "12667a99",
   "metadata": {},
   "outputs": [],
   "source": [
    "ds4=pd.Series(['A','B','C','D'])"
   ]
  },
  {
   "cell_type": "code",
   "execution_count": 76,
   "id": "41649dde",
   "metadata": {},
   "outputs": [
    {
     "data": {
      "text/plain": [
       "count     4\n",
       "unique    4\n",
       "top       A\n",
       "freq      1\n",
       "dtype: object"
      ]
     },
     "execution_count": 76,
     "metadata": {},
     "output_type": "execute_result"
    }
   ],
   "source": [
    "ds4.describe()"
   ]
  },
  {
   "cell_type": "code",
   "execution_count": 77,
   "id": "108a4c0f",
   "metadata": {},
   "outputs": [
    {
     "data": {
      "text/plain": [
       "3    4\n",
       "1    2\n",
       "2    2\n",
       "6    2\n",
       "7    2\n",
       "4    1\n",
       "5    1\n",
       "8    1\n",
       "dtype: int64"
      ]
     },
     "execution_count": 77,
     "metadata": {},
     "output_type": "execute_result"
    }
   ],
   "source": [
    "ds2.value_counts()"
   ]
  },
  {
   "cell_type": "code",
   "execution_count": 78,
   "id": "f9abaccc",
   "metadata": {},
   "outputs": [
    {
     "data": {
      "text/plain": [
       "p      585.4\n",
       "r       13.0\n",
       "s       14.0\n",
       "a      900.0\n",
       "g     1000.0\n",
       "h     1000.0\n",
       "u      585.4\n",
       "d    unknown\n",
       "dtype: object"
      ]
     },
     "execution_count": 78,
     "metadata": {},
     "output_type": "execute_result"
    }
   ],
   "source": [
    "ds1"
   ]
  },
  {
   "cell_type": "code",
   "execution_count": 79,
   "id": "2ed93f44",
   "metadata": {},
   "outputs": [
    {
     "data": {
      "text/plain": [
       "a      900.0\n",
       "d    unknown\n",
       "g     1000.0\n",
       "h     1000.0\n",
       "p      585.4\n",
       "r       13.0\n",
       "s       14.0\n",
       "u      585.4\n",
       "dtype: object"
      ]
     },
     "execution_count": 79,
     "metadata": {},
     "output_type": "execute_result"
    }
   ],
   "source": [
    "ds1.sort_index()"
   ]
  },
  {
   "cell_type": "code",
   "execution_count": 82,
   "id": "843622db",
   "metadata": {},
   "outputs": [
    {
     "data": {
      "text/plain": [
       "u      585.4\n",
       "s       14.0\n",
       "r       13.0\n",
       "p      585.4\n",
       "h     1000.0\n",
       "g     1000.0\n",
       "d    unknown\n",
       "a      900.0\n",
       "dtype: object"
      ]
     },
     "execution_count": 82,
     "metadata": {},
     "output_type": "execute_result"
    }
   ],
   "source": [
    "ds1.sort_index(ascending=False,kind='mergesort')"
   ]
  },
  {
   "cell_type": "code",
   "execution_count": 84,
   "id": "e5334c48",
   "metadata": {},
   "outputs": [],
   "source": [
    "ds1['d']=345"
   ]
  },
  {
   "cell_type": "code",
   "execution_count": 85,
   "id": "a8ca39ce",
   "metadata": {},
   "outputs": [
    {
     "data": {
      "text/plain": [
       "p     585.4\n",
       "r      13.0\n",
       "s      14.0\n",
       "a     900.0\n",
       "g    1000.0\n",
       "h    1000.0\n",
       "u     585.4\n",
       "d       345\n",
       "dtype: object"
      ]
     },
     "execution_count": 85,
     "metadata": {},
     "output_type": "execute_result"
    }
   ],
   "source": [
    "ds1"
   ]
  },
  {
   "cell_type": "code",
   "execution_count": 87,
   "id": "32144b57",
   "metadata": {},
   "outputs": [
    {
     "data": {
      "text/plain": [
       "g    1000.0\n",
       "h    1000.0\n",
       "a     900.0\n",
       "p     585.4\n",
       "u     585.4\n",
       "d       345\n",
       "s      14.0\n",
       "r      13.0\n",
       "dtype: object"
      ]
     },
     "execution_count": 87,
     "metadata": {},
     "output_type": "execute_result"
    }
   ],
   "source": [
    "ds1.sort_values(ascending=False)"
   ]
  },
  {
   "cell_type": "code",
   "execution_count": 90,
   "id": "f187a236",
   "metadata": {},
   "outputs": [],
   "source": [
    "#2d array-dataframe\n",
    "df1=pd.DataFrame({'name':['nagma','vaishnavi','ashish','nazar'],'Maths':np.random.randint(70,79,4)})"
   ]
  },
  {
   "cell_type": "code",
   "execution_count": 92,
   "id": "bf1c884c",
   "metadata": {},
   "outputs": [
    {
     "data": {
      "text/html": [
       "<div>\n",
       "<style scoped>\n",
       "    .dataframe tbody tr th:only-of-type {\n",
       "        vertical-align: middle;\n",
       "    }\n",
       "\n",
       "    .dataframe tbody tr th {\n",
       "        vertical-align: top;\n",
       "    }\n",
       "\n",
       "    .dataframe thead th {\n",
       "        text-align: right;\n",
       "    }\n",
       "</style>\n",
       "<table border=\"1\" class=\"dataframe\">\n",
       "  <thead>\n",
       "    <tr style=\"text-align: right;\">\n",
       "      <th></th>\n",
       "      <th>name</th>\n",
       "      <th>Maths</th>\n",
       "    </tr>\n",
       "  </thead>\n",
       "  <tbody>\n",
       "    <tr>\n",
       "      <th>0</th>\n",
       "      <td>nagma</td>\n",
       "      <td>71</td>\n",
       "    </tr>\n",
       "    <tr>\n",
       "      <th>1</th>\n",
       "      <td>vaishnavi</td>\n",
       "      <td>76</td>\n",
       "    </tr>\n",
       "    <tr>\n",
       "      <th>2</th>\n",
       "      <td>ashish</td>\n",
       "      <td>74</td>\n",
       "    </tr>\n",
       "    <tr>\n",
       "      <th>3</th>\n",
       "      <td>nazar</td>\n",
       "      <td>73</td>\n",
       "    </tr>\n",
       "  </tbody>\n",
       "</table>\n",
       "</div>"
      ],
      "text/plain": [
       "        name  Maths\n",
       "0      nagma     71\n",
       "1  vaishnavi     76\n",
       "2     ashish     74\n",
       "3      nazar     73"
      ]
     },
     "execution_count": 92,
     "metadata": {},
     "output_type": "execute_result"
    }
   ],
   "source": [
    "df1"
   ]
  },
  {
   "cell_type": "code",
   "execution_count": 93,
   "id": "4726d573",
   "metadata": {},
   "outputs": [
    {
     "data": {
      "text/plain": [
       "Index(['name', 'Maths'], dtype='object')"
      ]
     },
     "execution_count": 93,
     "metadata": {},
     "output_type": "execute_result"
    }
   ],
   "source": [
    "#column label\n",
    "df1.columns"
   ]
  },
  {
   "cell_type": "code",
   "execution_count": 94,
   "id": "ce07e3d6",
   "metadata": {},
   "outputs": [
    {
     "data": {
      "text/plain": [
       "name     object\n",
       "Maths     int32\n",
       "dtype: object"
      ]
     },
     "execution_count": 94,
     "metadata": {},
     "output_type": "execute_result"
    }
   ],
   "source": [
    "df1.dtypes"
   ]
  },
  {
   "cell_type": "code",
   "execution_count": 95,
   "id": "85327e84",
   "metadata": {},
   "outputs": [
    {
     "data": {
      "text/plain": [
       "(4, 2)"
      ]
     },
     "execution_count": 95,
     "metadata": {},
     "output_type": "execute_result"
    }
   ],
   "source": [
    "df1.shape"
   ]
  },
  {
   "cell_type": "code",
   "execution_count": 96,
   "id": "e6baef92",
   "metadata": {},
   "outputs": [
    {
     "data": {
      "text/plain": [
       "4"
      ]
     },
     "execution_count": 96,
     "metadata": {},
     "output_type": "execute_result"
    }
   ],
   "source": [
    "df1.shape[0]"
   ]
  },
  {
   "cell_type": "code",
   "execution_count": 97,
   "id": "29127bb0",
   "metadata": {},
   "outputs": [
    {
     "name": "stdout",
     "output_type": "stream",
     "text": [
      "<class 'pandas.core.frame.DataFrame'>\n",
      "RangeIndex: 4 entries, 0 to 3\n",
      "Data columns (total 2 columns):\n",
      " #   Column  Non-Null Count  Dtype \n",
      "---  ------  --------------  ----- \n",
      " 0   name    4 non-null      object\n",
      " 1   Maths   4 non-null      int32 \n",
      "dtypes: int32(1), object(1)\n",
      "memory usage: 176.0+ bytes\n"
     ]
    }
   ],
   "source": [
    "df1.info()"
   ]
  },
  {
   "cell_type": "code",
   "execution_count": 98,
   "id": "1830cbda",
   "metadata": {},
   "outputs": [
    {
     "data": {
      "text/html": [
       "<div>\n",
       "<style scoped>\n",
       "    .dataframe tbody tr th:only-of-type {\n",
       "        vertical-align: middle;\n",
       "    }\n",
       "\n",
       "    .dataframe tbody tr th {\n",
       "        vertical-align: top;\n",
       "    }\n",
       "\n",
       "    .dataframe thead th {\n",
       "        text-align: right;\n",
       "    }\n",
       "</style>\n",
       "<table border=\"1\" class=\"dataframe\">\n",
       "  <thead>\n",
       "    <tr style=\"text-align: right;\">\n",
       "      <th></th>\n",
       "      <th>name</th>\n",
       "      <th>Maths</th>\n",
       "    </tr>\n",
       "  </thead>\n",
       "  <tbody>\n",
       "    <tr>\n",
       "      <th>0</th>\n",
       "      <td>nagma</td>\n",
       "      <td>71</td>\n",
       "    </tr>\n",
       "    <tr>\n",
       "      <th>1</th>\n",
       "      <td>vaishnavi</td>\n",
       "      <td>76</td>\n",
       "    </tr>\n",
       "    <tr>\n",
       "      <th>2</th>\n",
       "      <td>ashish</td>\n",
       "      <td>74</td>\n",
       "    </tr>\n",
       "    <tr>\n",
       "      <th>3</th>\n",
       "      <td>nazar</td>\n",
       "      <td>73</td>\n",
       "    </tr>\n",
       "  </tbody>\n",
       "</table>\n",
       "</div>"
      ],
      "text/plain": [
       "        name  Maths\n",
       "0      nagma     71\n",
       "1  vaishnavi     76\n",
       "2     ashish     74\n",
       "3      nazar     73"
      ]
     },
     "execution_count": 98,
     "metadata": {},
     "output_type": "execute_result"
    }
   ],
   "source": [
    "df1.head()#display first 5 record"
   ]
  },
  {
   "cell_type": "code",
   "execution_count": 99,
   "id": "6a7231ab",
   "metadata": {},
   "outputs": [
    {
     "data": {
      "text/html": [
       "<div>\n",
       "<style scoped>\n",
       "    .dataframe tbody tr th:only-of-type {\n",
       "        vertical-align: middle;\n",
       "    }\n",
       "\n",
       "    .dataframe tbody tr th {\n",
       "        vertical-align: top;\n",
       "    }\n",
       "\n",
       "    .dataframe thead th {\n",
       "        text-align: right;\n",
       "    }\n",
       "</style>\n",
       "<table border=\"1\" class=\"dataframe\">\n",
       "  <thead>\n",
       "    <tr style=\"text-align: right;\">\n",
       "      <th></th>\n",
       "      <th>name</th>\n",
       "      <th>Maths</th>\n",
       "    </tr>\n",
       "  </thead>\n",
       "  <tbody>\n",
       "    <tr>\n",
       "      <th>0</th>\n",
       "      <td>nagma</td>\n",
       "      <td>71</td>\n",
       "    </tr>\n",
       "    <tr>\n",
       "      <th>1</th>\n",
       "      <td>vaishnavi</td>\n",
       "      <td>76</td>\n",
       "    </tr>\n",
       "  </tbody>\n",
       "</table>\n",
       "</div>"
      ],
      "text/plain": [
       "        name  Maths\n",
       "0      nagma     71\n",
       "1  vaishnavi     76"
      ]
     },
     "execution_count": 99,
     "metadata": {},
     "output_type": "execute_result"
    }
   ],
   "source": [
    "df1.head(2)"
   ]
  },
  {
   "cell_type": "code",
   "execution_count": 100,
   "id": "eeae528e",
   "metadata": {},
   "outputs": [
    {
     "data": {
      "text/html": [
       "<div>\n",
       "<style scoped>\n",
       "    .dataframe tbody tr th:only-of-type {\n",
       "        vertical-align: middle;\n",
       "    }\n",
       "\n",
       "    .dataframe tbody tr th {\n",
       "        vertical-align: top;\n",
       "    }\n",
       "\n",
       "    .dataframe thead th {\n",
       "        text-align: right;\n",
       "    }\n",
       "</style>\n",
       "<table border=\"1\" class=\"dataframe\">\n",
       "  <thead>\n",
       "    <tr style=\"text-align: right;\">\n",
       "      <th></th>\n",
       "      <th>name</th>\n",
       "      <th>Maths</th>\n",
       "    </tr>\n",
       "  </thead>\n",
       "  <tbody>\n",
       "    <tr>\n",
       "      <th>0</th>\n",
       "      <td>nagma</td>\n",
       "      <td>71</td>\n",
       "    </tr>\n",
       "    <tr>\n",
       "      <th>1</th>\n",
       "      <td>vaishnavi</td>\n",
       "      <td>76</td>\n",
       "    </tr>\n",
       "    <tr>\n",
       "      <th>2</th>\n",
       "      <td>ashish</td>\n",
       "      <td>74</td>\n",
       "    </tr>\n",
       "    <tr>\n",
       "      <th>3</th>\n",
       "      <td>nazar</td>\n",
       "      <td>73</td>\n",
       "    </tr>\n",
       "  </tbody>\n",
       "</table>\n",
       "</div>"
      ],
      "text/plain": [
       "        name  Maths\n",
       "0      nagma     71\n",
       "1  vaishnavi     76\n",
       "2     ashish     74\n",
       "3      nazar     73"
      ]
     },
     "execution_count": 100,
     "metadata": {},
     "output_type": "execute_result"
    }
   ],
   "source": [
    "df1.tail()"
   ]
  },
  {
   "cell_type": "code",
   "execution_count": 102,
   "id": "1916c321",
   "metadata": {},
   "outputs": [
    {
     "data": {
      "text/html": [
       "<div>\n",
       "<style scoped>\n",
       "    .dataframe tbody tr th:only-of-type {\n",
       "        vertical-align: middle;\n",
       "    }\n",
       "\n",
       "    .dataframe tbody tr th {\n",
       "        vertical-align: top;\n",
       "    }\n",
       "\n",
       "    .dataframe thead th {\n",
       "        text-align: right;\n",
       "    }\n",
       "</style>\n",
       "<table border=\"1\" class=\"dataframe\">\n",
       "  <thead>\n",
       "    <tr style=\"text-align: right;\">\n",
       "      <th></th>\n",
       "      <th>name</th>\n",
       "      <th>Maths</th>\n",
       "    </tr>\n",
       "  </thead>\n",
       "  <tbody>\n",
       "    <tr>\n",
       "      <th>2</th>\n",
       "      <td>ashish</td>\n",
       "      <td>74</td>\n",
       "    </tr>\n",
       "    <tr>\n",
       "      <th>3</th>\n",
       "      <td>nazar</td>\n",
       "      <td>73</td>\n",
       "    </tr>\n",
       "  </tbody>\n",
       "</table>\n",
       "</div>"
      ],
      "text/plain": [
       "     name  Maths\n",
       "2  ashish     74\n",
       "3   nazar     73"
      ]
     },
     "execution_count": 102,
     "metadata": {},
     "output_type": "execute_result"
    }
   ],
   "source": [
    "df1.tail(2)"
   ]
  },
  {
   "cell_type": "code",
   "execution_count": 104,
   "id": "4e1bfe1a",
   "metadata": {},
   "outputs": [],
   "source": [
    "x=df1['name']"
   ]
  },
  {
   "cell_type": "code",
   "execution_count": 105,
   "id": "dbd0a53c",
   "metadata": {},
   "outputs": [
    {
     "data": {
      "text/plain": [
       "pandas.core.series.Series"
      ]
     },
     "execution_count": 105,
     "metadata": {},
     "output_type": "execute_result"
    }
   ],
   "source": [
    "type(x)"
   ]
  },
  {
   "cell_type": "code",
   "execution_count": 106,
   "id": "fd026157",
   "metadata": {},
   "outputs": [
    {
     "data": {
      "text/plain": [
       "'ashish'"
      ]
     },
     "execution_count": 106,
     "metadata": {},
     "output_type": "execute_result"
    }
   ],
   "source": [
    "df1['name'][2]#df1[columnname][index value]"
   ]
  },
  {
   "cell_type": "code",
   "execution_count": 108,
   "id": "3dd49a73",
   "metadata": {},
   "outputs": [
    {
     "data": {
      "text/plain": [
       "74"
      ]
     },
     "execution_count": 108,
     "metadata": {},
     "output_type": "execute_result"
    }
   ],
   "source": [
    "df1['Maths'][2]"
   ]
  },
  {
   "cell_type": "code",
   "execution_count": 110,
   "id": "afa09714",
   "metadata": {},
   "outputs": [
    {
     "data": {
      "text/plain": [
       "'vaishnavi'"
      ]
     },
     "execution_count": 110,
     "metadata": {},
     "output_type": "execute_result"
    }
   ],
   "source": [
    "#df1.loc[roundwlabel,columnlabel]\n",
    "df1.loc[1,'name']"
   ]
  },
  {
   "cell_type": "code",
   "execution_count": 112,
   "id": "cbc19f7a",
   "metadata": {},
   "outputs": [
    {
     "data": {
      "text/html": [
       "<div>\n",
       "<style scoped>\n",
       "    .dataframe tbody tr th:only-of-type {\n",
       "        vertical-align: middle;\n",
       "    }\n",
       "\n",
       "    .dataframe tbody tr th {\n",
       "        vertical-align: top;\n",
       "    }\n",
       "\n",
       "    .dataframe thead th {\n",
       "        text-align: right;\n",
       "    }\n",
       "</style>\n",
       "<table border=\"1\" class=\"dataframe\">\n",
       "  <thead>\n",
       "    <tr style=\"text-align: right;\">\n",
       "      <th></th>\n",
       "      <th>name</th>\n",
       "      <th>Maths</th>\n",
       "    </tr>\n",
       "  </thead>\n",
       "  <tbody>\n",
       "    <tr>\n",
       "      <th>2</th>\n",
       "      <td>ashish</td>\n",
       "      <td>74</td>\n",
       "    </tr>\n",
       "    <tr>\n",
       "      <th>0</th>\n",
       "      <td>nagma</td>\n",
       "      <td>71</td>\n",
       "    </tr>\n",
       "  </tbody>\n",
       "</table>\n",
       "</div>"
      ],
      "text/plain": [
       "     name  Maths\n",
       "2  ashish     74\n",
       "0   nagma     71"
      ]
     },
     "execution_count": 112,
     "metadata": {},
     "output_type": "execute_result"
    }
   ],
   "source": [
    "df1.loc[[2,0],['name','Maths']]"
   ]
  },
  {
   "cell_type": "code",
   "execution_count": 115,
   "id": "e8325f81",
   "metadata": {},
   "outputs": [
    {
     "data": {
      "text/html": [
       "<div>\n",
       "<style scoped>\n",
       "    .dataframe tbody tr th:only-of-type {\n",
       "        vertical-align: middle;\n",
       "    }\n",
       "\n",
       "    .dataframe tbody tr th {\n",
       "        vertical-align: top;\n",
       "    }\n",
       "\n",
       "    .dataframe thead th {\n",
       "        text-align: right;\n",
       "    }\n",
       "</style>\n",
       "<table border=\"1\" class=\"dataframe\">\n",
       "  <thead>\n",
       "    <tr style=\"text-align: right;\">\n",
       "      <th></th>\n",
       "      <th>name</th>\n",
       "      <th>Maths</th>\n",
       "    </tr>\n",
       "  </thead>\n",
       "  <tbody>\n",
       "    <tr>\n",
       "      <th>3</th>\n",
       "      <td>nazar</td>\n",
       "      <td>73</td>\n",
       "    </tr>\n",
       "    <tr>\n",
       "      <th>2</th>\n",
       "      <td>ashish</td>\n",
       "      <td>74</td>\n",
       "    </tr>\n",
       "    <tr>\n",
       "      <th>1</th>\n",
       "      <td>vaishnavi</td>\n",
       "      <td>76</td>\n",
       "    </tr>\n",
       "    <tr>\n",
       "      <th>0</th>\n",
       "      <td>nagma</td>\n",
       "      <td>71</td>\n",
       "    </tr>\n",
       "  </tbody>\n",
       "</table>\n",
       "</div>"
      ],
      "text/plain": [
       "        name  Maths\n",
       "3      nazar     73\n",
       "2     ashish     74\n",
       "1  vaishnavi     76\n",
       "0      nagma     71"
      ]
     },
     "execution_count": 115,
     "metadata": {},
     "output_type": "execute_result"
    }
   ],
   "source": [
    "df1.loc[::-1]"
   ]
  },
  {
   "cell_type": "code",
   "execution_count": null,
   "id": "6ad3d1b8",
   "metadata": {},
   "outputs": [],
   "source": [
    "#df1.iloc[rowindex,columnindex]\n",
    "#row index-->scalar or list or slice"
   ]
  },
  {
   "cell_type": "code",
   "execution_count": 116,
   "id": "b6c76639",
   "metadata": {},
   "outputs": [],
   "source": [
    "df1['sci']=[90,78,56,56]"
   ]
  },
  {
   "cell_type": "code",
   "execution_count": 117,
   "id": "4daad3c7",
   "metadata": {},
   "outputs": [
    {
     "data": {
      "text/html": [
       "<div>\n",
       "<style scoped>\n",
       "    .dataframe tbody tr th:only-of-type {\n",
       "        vertical-align: middle;\n",
       "    }\n",
       "\n",
       "    .dataframe tbody tr th {\n",
       "        vertical-align: top;\n",
       "    }\n",
       "\n",
       "    .dataframe thead th {\n",
       "        text-align: right;\n",
       "    }\n",
       "</style>\n",
       "<table border=\"1\" class=\"dataframe\">\n",
       "  <thead>\n",
       "    <tr style=\"text-align: right;\">\n",
       "      <th></th>\n",
       "      <th>name</th>\n",
       "      <th>Maths</th>\n",
       "      <th>sci</th>\n",
       "    </tr>\n",
       "  </thead>\n",
       "  <tbody>\n",
       "    <tr>\n",
       "      <th>0</th>\n",
       "      <td>nagma</td>\n",
       "      <td>71</td>\n",
       "      <td>90</td>\n",
       "    </tr>\n",
       "    <tr>\n",
       "      <th>1</th>\n",
       "      <td>vaishnavi</td>\n",
       "      <td>76</td>\n",
       "      <td>78</td>\n",
       "    </tr>\n",
       "    <tr>\n",
       "      <th>2</th>\n",
       "      <td>ashish</td>\n",
       "      <td>74</td>\n",
       "      <td>56</td>\n",
       "    </tr>\n",
       "    <tr>\n",
       "      <th>3</th>\n",
       "      <td>nazar</td>\n",
       "      <td>73</td>\n",
       "      <td>56</td>\n",
       "    </tr>\n",
       "  </tbody>\n",
       "</table>\n",
       "</div>"
      ],
      "text/plain": [
       "        name  Maths  sci\n",
       "0      nagma     71   90\n",
       "1  vaishnavi     76   78\n",
       "2     ashish     74   56\n",
       "3      nazar     73   56"
      ]
     },
     "execution_count": 117,
     "metadata": {},
     "output_type": "execute_result"
    }
   ],
   "source": [
    "df1"
   ]
  },
  {
   "cell_type": "code",
   "execution_count": 118,
   "id": "4c3fbaf3",
   "metadata": {},
   "outputs": [
    {
     "data": {
      "text/html": [
       "<div>\n",
       "<style scoped>\n",
       "    .dataframe tbody tr th:only-of-type {\n",
       "        vertical-align: middle;\n",
       "    }\n",
       "\n",
       "    .dataframe tbody tr th {\n",
       "        vertical-align: top;\n",
       "    }\n",
       "\n",
       "    .dataframe thead th {\n",
       "        text-align: right;\n",
       "    }\n",
       "</style>\n",
       "<table border=\"1\" class=\"dataframe\">\n",
       "  <thead>\n",
       "    <tr style=\"text-align: right;\">\n",
       "      <th></th>\n",
       "      <th>Maths</th>\n",
       "      <th>sci</th>\n",
       "    </tr>\n",
       "  </thead>\n",
       "  <tbody>\n",
       "    <tr>\n",
       "      <th>count</th>\n",
       "      <td>4.000000</td>\n",
       "      <td>4.000000</td>\n",
       "    </tr>\n",
       "    <tr>\n",
       "      <th>mean</th>\n",
       "      <td>73.500000</td>\n",
       "      <td>70.000000</td>\n",
       "    </tr>\n",
       "    <tr>\n",
       "      <th>std</th>\n",
       "      <td>2.081666</td>\n",
       "      <td>16.891813</td>\n",
       "    </tr>\n",
       "    <tr>\n",
       "      <th>min</th>\n",
       "      <td>71.000000</td>\n",
       "      <td>56.000000</td>\n",
       "    </tr>\n",
       "    <tr>\n",
       "      <th>25%</th>\n",
       "      <td>72.500000</td>\n",
       "      <td>56.000000</td>\n",
       "    </tr>\n",
       "    <tr>\n",
       "      <th>50%</th>\n",
       "      <td>73.500000</td>\n",
       "      <td>67.000000</td>\n",
       "    </tr>\n",
       "    <tr>\n",
       "      <th>75%</th>\n",
       "      <td>74.500000</td>\n",
       "      <td>81.000000</td>\n",
       "    </tr>\n",
       "    <tr>\n",
       "      <th>max</th>\n",
       "      <td>76.000000</td>\n",
       "      <td>90.000000</td>\n",
       "    </tr>\n",
       "  </tbody>\n",
       "</table>\n",
       "</div>"
      ],
      "text/plain": [
       "           Maths        sci\n",
       "count   4.000000   4.000000\n",
       "mean   73.500000  70.000000\n",
       "std     2.081666  16.891813\n",
       "min    71.000000  56.000000\n",
       "25%    72.500000  56.000000\n",
       "50%    73.500000  67.000000\n",
       "75%    74.500000  81.000000\n",
       "max    76.000000  90.000000"
      ]
     },
     "execution_count": 118,
     "metadata": {},
     "output_type": "execute_result"
    }
   ],
   "source": [
    "df1.describe()"
   ]
  },
  {
   "cell_type": "code",
   "execution_count": 119,
   "id": "b803d9fe",
   "metadata": {},
   "outputs": [
    {
     "data": {
      "text/plain": [
       "count         4\n",
       "unique        4\n",
       "top       nagma\n",
       "freq          1\n",
       "Name: name, dtype: object"
      ]
     },
     "execution_count": 119,
     "metadata": {},
     "output_type": "execute_result"
    }
   ],
   "source": [
    "df1.name.describe()"
   ]
  },
  {
   "cell_type": "code",
   "execution_count": 126,
   "id": "a039ef2c",
   "metadata": {},
   "outputs": [],
   "source": [
    "df1.rename(columns={'sci':'Science'},inplace=True)"
   ]
  },
  {
   "cell_type": "code",
   "execution_count": 127,
   "id": "edea9859",
   "metadata": {},
   "outputs": [
    {
     "data": {
      "text/html": [
       "<div>\n",
       "<style scoped>\n",
       "    .dataframe tbody tr th:only-of-type {\n",
       "        vertical-align: middle;\n",
       "    }\n",
       "\n",
       "    .dataframe tbody tr th {\n",
       "        vertical-align: top;\n",
       "    }\n",
       "\n",
       "    .dataframe thead th {\n",
       "        text-align: right;\n",
       "    }\n",
       "</style>\n",
       "<table border=\"1\" class=\"dataframe\">\n",
       "  <thead>\n",
       "    <tr style=\"text-align: right;\">\n",
       "      <th></th>\n",
       "      <th>name</th>\n",
       "      <th>Maths</th>\n",
       "      <th>Science</th>\n",
       "    </tr>\n",
       "  </thead>\n",
       "  <tbody>\n",
       "    <tr>\n",
       "      <th>0</th>\n",
       "      <td>nagma</td>\n",
       "      <td>71</td>\n",
       "      <td>90</td>\n",
       "    </tr>\n",
       "    <tr>\n",
       "      <th>1</th>\n",
       "      <td>vaishnavi</td>\n",
       "      <td>76</td>\n",
       "      <td>78</td>\n",
       "    </tr>\n",
       "    <tr>\n",
       "      <th>5</th>\n",
       "      <td>ashish</td>\n",
       "      <td>74</td>\n",
       "      <td>56</td>\n",
       "    </tr>\n",
       "    <tr>\n",
       "      <th>3</th>\n",
       "      <td>nazar</td>\n",
       "      <td>73</td>\n",
       "      <td>56</td>\n",
       "    </tr>\n",
       "  </tbody>\n",
       "</table>\n",
       "</div>"
      ],
      "text/plain": [
       "        name  Maths  Science\n",
       "0      nagma     71       90\n",
       "1  vaishnavi     76       78\n",
       "5     ashish     74       56\n",
       "3      nazar     73       56"
      ]
     },
     "execution_count": 127,
     "metadata": {},
     "output_type": "execute_result"
    }
   ],
   "source": [
    "df1.rename(index={2:5})"
   ]
  },
  {
   "cell_type": "code",
   "execution_count": 128,
   "id": "37232ade",
   "metadata": {},
   "outputs": [
    {
     "data": {
      "text/html": [
       "<div>\n",
       "<style scoped>\n",
       "    .dataframe tbody tr th:only-of-type {\n",
       "        vertical-align: middle;\n",
       "    }\n",
       "\n",
       "    .dataframe tbody tr th {\n",
       "        vertical-align: top;\n",
       "    }\n",
       "\n",
       "    .dataframe thead th {\n",
       "        text-align: right;\n",
       "    }\n",
       "</style>\n",
       "<table border=\"1\" class=\"dataframe\">\n",
       "  <thead>\n",
       "    <tr style=\"text-align: right;\">\n",
       "      <th></th>\n",
       "      <th>name</th>\n",
       "      <th>Maths</th>\n",
       "      <th>Science</th>\n",
       "    </tr>\n",
       "  </thead>\n",
       "  <tbody>\n",
       "    <tr>\n",
       "      <th>0</th>\n",
       "      <td>nagma</td>\n",
       "      <td>71</td>\n",
       "      <td>90</td>\n",
       "    </tr>\n",
       "    <tr>\n",
       "      <th>1</th>\n",
       "      <td>vaishnavi</td>\n",
       "      <td>76</td>\n",
       "      <td>78</td>\n",
       "    </tr>\n",
       "    <tr>\n",
       "      <th>2</th>\n",
       "      <td>ashish</td>\n",
       "      <td>74</td>\n",
       "      <td>56</td>\n",
       "    </tr>\n",
       "    <tr>\n",
       "      <th>3</th>\n",
       "      <td>nazar</td>\n",
       "      <td>73</td>\n",
       "      <td>56</td>\n",
       "    </tr>\n",
       "  </tbody>\n",
       "</table>\n",
       "</div>"
      ],
      "text/plain": [
       "        name  Maths  Science\n",
       "0      nagma     71       90\n",
       "1  vaishnavi     76       78\n",
       "2     ashish     74       56\n",
       "3      nazar     73       56"
      ]
     },
     "execution_count": 128,
     "metadata": {},
     "output_type": "execute_result"
    }
   ],
   "source": [
    "df1"
   ]
  },
  {
   "cell_type": "code",
   "execution_count": 135,
   "id": "0837331c",
   "metadata": {},
   "outputs": [],
   "source": [
    "df1['Total']=df1['Maths']+df1['Science']"
   ]
  },
  {
   "cell_type": "code",
   "execution_count": 130,
   "id": "f0297f75",
   "metadata": {},
   "outputs": [
    {
     "data": {
      "text/html": [
       "<div>\n",
       "<style scoped>\n",
       "    .dataframe tbody tr th:only-of-type {\n",
       "        vertical-align: middle;\n",
       "    }\n",
       "\n",
       "    .dataframe tbody tr th {\n",
       "        vertical-align: top;\n",
       "    }\n",
       "\n",
       "    .dataframe thead th {\n",
       "        text-align: right;\n",
       "    }\n",
       "</style>\n",
       "<table border=\"1\" class=\"dataframe\">\n",
       "  <thead>\n",
       "    <tr style=\"text-align: right;\">\n",
       "      <th></th>\n",
       "      <th>name</th>\n",
       "      <th>Maths</th>\n",
       "      <th>Science</th>\n",
       "      <th>Total</th>\n",
       "    </tr>\n",
       "  </thead>\n",
       "  <tbody>\n",
       "    <tr>\n",
       "      <th>0</th>\n",
       "      <td>nagma</td>\n",
       "      <td>71</td>\n",
       "      <td>90</td>\n",
       "      <td>161</td>\n",
       "    </tr>\n",
       "    <tr>\n",
       "      <th>1</th>\n",
       "      <td>vaishnavi</td>\n",
       "      <td>76</td>\n",
       "      <td>78</td>\n",
       "      <td>154</td>\n",
       "    </tr>\n",
       "    <tr>\n",
       "      <th>2</th>\n",
       "      <td>ashish</td>\n",
       "      <td>74</td>\n",
       "      <td>56</td>\n",
       "      <td>130</td>\n",
       "    </tr>\n",
       "    <tr>\n",
       "      <th>3</th>\n",
       "      <td>nazar</td>\n",
       "      <td>73</td>\n",
       "      <td>56</td>\n",
       "      <td>129</td>\n",
       "    </tr>\n",
       "  </tbody>\n",
       "</table>\n",
       "</div>"
      ],
      "text/plain": [
       "        name  Maths  Science  Total\n",
       "0      nagma     71       90    161\n",
       "1  vaishnavi     76       78    154\n",
       "2     ashish     74       56    130\n",
       "3      nazar     73       56    129"
      ]
     },
     "execution_count": 130,
     "metadata": {},
     "output_type": "execute_result"
    }
   ],
   "source": [
    "df1"
   ]
  },
  {
   "cell_type": "code",
   "execution_count": 136,
   "id": "ab36fa32",
   "metadata": {},
   "outputs": [],
   "source": [
    "df1.to_csv('Stud.csv')"
   ]
  },
  {
   "cell_type": "code",
   "execution_count": 139,
   "id": "5eba545a",
   "metadata": {},
   "outputs": [],
   "source": [
    "df1['grade']=df1['Total'].apply(lambda x:'A+' if x>150 else 'A')"
   ]
  },
  {
   "cell_type": "code",
   "execution_count": 140,
   "id": "d463de9e",
   "metadata": {},
   "outputs": [
    {
     "data": {
      "text/html": [
       "<div>\n",
       "<style scoped>\n",
       "    .dataframe tbody tr th:only-of-type {\n",
       "        vertical-align: middle;\n",
       "    }\n",
       "\n",
       "    .dataframe tbody tr th {\n",
       "        vertical-align: top;\n",
       "    }\n",
       "\n",
       "    .dataframe thead th {\n",
       "        text-align: right;\n",
       "    }\n",
       "</style>\n",
       "<table border=\"1\" class=\"dataframe\">\n",
       "  <thead>\n",
       "    <tr style=\"text-align: right;\">\n",
       "      <th></th>\n",
       "      <th>name</th>\n",
       "      <th>Maths</th>\n",
       "      <th>Science</th>\n",
       "      <th>Total</th>\n",
       "      <th>grade</th>\n",
       "    </tr>\n",
       "  </thead>\n",
       "  <tbody>\n",
       "    <tr>\n",
       "      <th>0</th>\n",
       "      <td>nagma</td>\n",
       "      <td>71</td>\n",
       "      <td>90</td>\n",
       "      <td>161</td>\n",
       "      <td>A+</td>\n",
       "    </tr>\n",
       "    <tr>\n",
       "      <th>1</th>\n",
       "      <td>vaishnavi</td>\n",
       "      <td>76</td>\n",
       "      <td>78</td>\n",
       "      <td>154</td>\n",
       "      <td>A+</td>\n",
       "    </tr>\n",
       "    <tr>\n",
       "      <th>2</th>\n",
       "      <td>ashish</td>\n",
       "      <td>74</td>\n",
       "      <td>56</td>\n",
       "      <td>130</td>\n",
       "      <td>A</td>\n",
       "    </tr>\n",
       "    <tr>\n",
       "      <th>3</th>\n",
       "      <td>nazar</td>\n",
       "      <td>73</td>\n",
       "      <td>56</td>\n",
       "      <td>129</td>\n",
       "      <td>A</td>\n",
       "    </tr>\n",
       "  </tbody>\n",
       "</table>\n",
       "</div>"
      ],
      "text/plain": [
       "        name  Maths  Science  Total grade\n",
       "0      nagma     71       90    161    A+\n",
       "1  vaishnavi     76       78    154    A+\n",
       "2     ashish     74       56    130     A\n",
       "3      nazar     73       56    129     A"
      ]
     },
     "execution_count": 140,
     "metadata": {},
     "output_type": "execute_result"
    }
   ],
   "source": [
    "df1"
   ]
  },
  {
   "cell_type": "code",
   "execution_count": 141,
   "id": "8075e9f7",
   "metadata": {},
   "outputs": [],
   "source": [
    "s1=pd.Series(np.array(np.arange(10,20,2)),index=list('abcde'))"
   ]
  },
  {
   "cell_type": "code",
   "execution_count": 142,
   "id": "3365ed04",
   "metadata": {},
   "outputs": [
    {
     "data": {
      "text/plain": [
       "a    10\n",
       "b    12\n",
       "c    14\n",
       "d    16\n",
       "e    18\n",
       "dtype: int32"
      ]
     },
     "execution_count": 142,
     "metadata": {},
     "output_type": "execute_result"
    }
   ],
   "source": [
    "s1"
   ]
  },
  {
   "cell_type": "code",
   "execution_count": 143,
   "id": "76a7d94e",
   "metadata": {},
   "outputs": [],
   "source": [
    "dict1={'book':400,'pen':10}\n",
    "s3=pd.Series(dict1)"
   ]
  },
  {
   "cell_type": "code",
   "execution_count": 144,
   "id": "5de225f9",
   "metadata": {},
   "outputs": [
    {
     "data": {
      "text/plain": [
       "book    400\n",
       "pen      10\n",
       "dtype: int64"
      ]
     },
     "execution_count": 144,
     "metadata": {},
     "output_type": "execute_result"
    }
   ],
   "source": [
    "s3"
   ]
  },
  {
   "cell_type": "code",
   "execution_count": 145,
   "id": "dd315c06",
   "metadata": {},
   "outputs": [],
   "source": [
    "s3['pencil']=10"
   ]
  },
  {
   "cell_type": "code",
   "execution_count": 146,
   "id": "19cb93a8",
   "metadata": {},
   "outputs": [
    {
     "data": {
      "text/plain": [
       "book      400\n",
       "pen        10\n",
       "pencil     10\n",
       "dtype: int64"
      ]
     },
     "execution_count": 146,
     "metadata": {},
     "output_type": "execute_result"
    }
   ],
   "source": [
    "s3"
   ]
  },
  {
   "cell_type": "code",
   "execution_count": 147,
   "id": "a0db206d",
   "metadata": {},
   "outputs": [
    {
     "data": {
      "text/plain": [
       "a    10\n",
       "b    12\n",
       "c    14\n",
       "d    16\n",
       "e    18\n",
       "dtype: int32"
      ]
     },
     "execution_count": 147,
     "metadata": {},
     "output_type": "execute_result"
    }
   ],
   "source": [
    "s1"
   ]
  },
  {
   "cell_type": "code",
   "execution_count": 150,
   "id": "b4509da5",
   "metadata": {},
   "outputs": [
    {
     "data": {
      "text/plain": [
       "d    16\n",
       "c    14\n",
       "b    12\n",
       "dtype: int32"
      ]
     },
     "execution_count": 150,
     "metadata": {},
     "output_type": "execute_result"
    }
   ],
   "source": [
    "s1[-2:-5:-1]"
   ]
  },
  {
   "cell_type": "code",
   "execution_count": 151,
   "id": "33530048",
   "metadata": {},
   "outputs": [
    {
     "data": {
      "text/plain": [
       "book      400\n",
       "pen        10\n",
       "pencil     10\n",
       "dtype: int64"
      ]
     },
     "execution_count": 151,
     "metadata": {},
     "output_type": "execute_result"
    }
   ],
   "source": [
    "s3['book':'pencil']"
   ]
  },
  {
   "cell_type": "code",
   "execution_count": 153,
   "id": "3b890b2c",
   "metadata": {},
   "outputs": [
    {
     "data": {
      "text/plain": [
       "'Mr.A'"
      ]
     },
     "execution_count": 153,
     "metadata": {},
     "output_type": "execute_result"
    }
   ],
   "source": [
    "dict2={'Book':'Mr.X','Pen':'Mr.Y','Pencil':'Mr.A'}\n",
    "s6=pd.Series(dict2)\n",
    "s6.min()"
   ]
  },
  {
   "cell_type": "code",
   "execution_count": 155,
   "id": "dcd3e64d",
   "metadata": {},
   "outputs": [
    {
     "data": {
      "text/plain": [
       "'Mr.Y'"
      ]
     },
     "execution_count": 155,
     "metadata": {},
     "output_type": "execute_result"
    }
   ],
   "source": [
    "s6.max()"
   ]
  },
  {
   "cell_type": "code",
   "execution_count": 158,
   "id": "6a365aa1",
   "metadata": {},
   "outputs": [],
   "source": [
    "s6['Scale']=np.nan"
   ]
  },
  {
   "cell_type": "code",
   "execution_count": 159,
   "id": "1731e7f5",
   "metadata": {},
   "outputs": [
    {
     "data": {
      "text/plain": [
       "Book      Mr.X\n",
       "Pen       Mr.Y\n",
       "Pencil    Mr.A\n",
       "Scale      NaN\n",
       "dtype: object"
      ]
     },
     "execution_count": 159,
     "metadata": {},
     "output_type": "execute_result"
    }
   ],
   "source": [
    "s6"
   ]
  },
  {
   "cell_type": "code",
   "execution_count": 160,
   "id": "25bdc551",
   "metadata": {},
   "outputs": [
    {
     "data": {
      "text/plain": [
       "3"
      ]
     },
     "execution_count": 160,
     "metadata": {},
     "output_type": "execute_result"
    }
   ],
   "source": [
    "s6.count()"
   ]
  },
  {
   "cell_type": "code",
   "execution_count": 162,
   "id": "a0e0fb0e",
   "metadata": {},
   "outputs": [
    {
     "data": {
      "text/plain": [
       "Book      Mr.X\n",
       "Pen       Mr.Y\n",
       "Pencil    Mr.A\n",
       "dtype: object"
      ]
     },
     "execution_count": 162,
     "metadata": {},
     "output_type": "execute_result"
    }
   ],
   "source": [
    "s6.drop('Scale')"
   ]
  },
  {
   "cell_type": "code",
   "execution_count": 163,
   "id": "c8742168",
   "metadata": {},
   "outputs": [
    {
     "data": {
      "text/plain": [
       "Book      Mr.X\n",
       "Pen       Mr.Y\n",
       "Pencil    Mr.A\n",
       "Scale      NaN\n",
       "dtype: object"
      ]
     },
     "execution_count": 163,
     "metadata": {},
     "output_type": "execute_result"
    }
   ],
   "source": [
    "s6"
   ]
  },
  {
   "cell_type": "code",
   "execution_count": 166,
   "id": "d79ea33d",
   "metadata": {},
   "outputs": [
    {
     "data": {
      "text/plain": [
       "1"
      ]
     },
     "execution_count": 166,
     "metadata": {},
     "output_type": "execute_result"
    }
   ],
   "source": [
    "s6.isnull().sum()"
   ]
  },
  {
   "cell_type": "code",
   "execution_count": 167,
   "id": "092dd8a8",
   "metadata": {},
   "outputs": [
    {
     "data": {
      "text/plain": [
       "Book      Mr.X\n",
       "Pen       Mr.Y\n",
       "Pencil    Mr.A\n",
       "Scale     Mr.B\n",
       "dtype: object"
      ]
     },
     "execution_count": 167,
     "metadata": {},
     "output_type": "execute_result"
    }
   ],
   "source": [
    "s6.fillna('Mr.B')"
   ]
  },
  {
   "cell_type": "code",
   "execution_count": 168,
   "id": "8de8a033",
   "metadata": {},
   "outputs": [
    {
     "data": {
      "text/plain": [
       "Book      Mr.X\n",
       "Pen       Mr.Y\n",
       "Pencil    Mr.A\n",
       "Scale      NaN\n",
       "dtype: object"
      ]
     },
     "execution_count": 168,
     "metadata": {},
     "output_type": "execute_result"
    }
   ],
   "source": [
    "s6"
   ]
  },
  {
   "cell_type": "code",
   "execution_count": 169,
   "id": "eb3fee39",
   "metadata": {},
   "outputs": [],
   "source": [
    "s6['Pen']=np.nan"
   ]
  },
  {
   "cell_type": "code",
   "execution_count": 170,
   "id": "3866416e",
   "metadata": {},
   "outputs": [
    {
     "data": {
      "text/plain": [
       "Book      Mr.X\n",
       "Pen        NaN\n",
       "Pencil    Mr.A\n",
       "Scale      NaN\n",
       "dtype: object"
      ]
     },
     "execution_count": 170,
     "metadata": {},
     "output_type": "execute_result"
    }
   ],
   "source": [
    "s6"
   ]
  },
  {
   "cell_type": "code",
   "execution_count": 171,
   "id": "f7dd0080",
   "metadata": {},
   "outputs": [
    {
     "data": {
      "text/plain": [
       "Book      Mr.X\n",
       "Pen         40\n",
       "Pencil    Mr.A\n",
       "Scale       40\n",
       "dtype: object"
      ]
     },
     "execution_count": 171,
     "metadata": {},
     "output_type": "execute_result"
    }
   ],
   "source": [
    "s6.fillna(40)"
   ]
  },
  {
   "cell_type": "code",
   "execution_count": 172,
   "id": "f7e1ec37",
   "metadata": {},
   "outputs": [
    {
     "data": {
      "text/plain": [
       "Book      Mr.X\n",
       "Pen        NaN\n",
       "Pencil    Mr.A\n",
       "Scale      NaN\n",
       "dtype: object"
      ]
     },
     "execution_count": 172,
     "metadata": {},
     "output_type": "execute_result"
    }
   ],
   "source": [
    "s6"
   ]
  },
  {
   "cell_type": "code",
   "execution_count": 174,
   "id": "76b5ec14",
   "metadata": {},
   "outputs": [],
   "source": [
    "s6.dropna(inplace=True)"
   ]
  },
  {
   "cell_type": "code",
   "execution_count": 175,
   "id": "de96456f",
   "metadata": {},
   "outputs": [
    {
     "data": {
      "text/plain": [
       "Book      Mr.X\n",
       "Pencil    Mr.A\n",
       "dtype: object"
      ]
     },
     "execution_count": 175,
     "metadata": {},
     "output_type": "execute_result"
    }
   ],
   "source": [
    "s6"
   ]
  },
  {
   "cell_type": "code",
   "execution_count": 176,
   "id": "305a0083",
   "metadata": {},
   "outputs": [
    {
     "data": {
      "text/plain": [
       "book      400.0\n",
       "pen        10.0\n",
       "pencil     10.0\n",
       "Scale       NaN\n",
       "dtype: float64"
      ]
     },
     "execution_count": 176,
     "metadata": {},
     "output_type": "execute_result"
    }
   ],
   "source": [
    "s3"
   ]
  },
  {
   "cell_type": "code",
   "execution_count": 177,
   "id": "50b2107c",
   "metadata": {},
   "outputs": [
    {
     "data": {
      "text/plain": [
       "a    10\n",
       "b    12\n",
       "c    14\n",
       "d    16\n",
       "e    18\n",
       "dtype: int32"
      ]
     },
     "execution_count": 177,
     "metadata": {},
     "output_type": "execute_result"
    }
   ],
   "source": [
    "s1"
   ]
  },
  {
   "cell_type": "code",
   "execution_count": 191,
   "id": "9612d552",
   "metadata": {},
   "outputs": [],
   "source": [
    "s1[1:3]=5"
   ]
  },
  {
   "cell_type": "code",
   "execution_count": 192,
   "id": "2cdef102",
   "metadata": {},
   "outputs": [
    {
     "data": {
      "text/plain": [
       "a    10\n",
       "b     5\n",
       "c     5\n",
       "d    50\n",
       "e    50\n",
       "dtype: int32"
      ]
     },
     "execution_count": 192,
     "metadata": {},
     "output_type": "execute_result"
    }
   ],
   "source": [
    "s1"
   ]
  },
  {
   "cell_type": "code",
   "execution_count": 193,
   "id": "6ae96a8e",
   "metadata": {},
   "outputs": [
    {
     "data": {
      "text/plain": [
       "0     5\n",
       "1    50\n",
       "dtype: int32"
      ]
     },
     "execution_count": 193,
     "metadata": {},
     "output_type": "execute_result"
    }
   ],
   "source": [
    "s1.mode()"
   ]
  },
  {
   "cell_type": "code",
   "execution_count": 194,
   "id": "2b81bc1b",
   "metadata": {},
   "outputs": [
    {
     "data": {
      "text/plain": [
       "array([10,  5, 50])"
      ]
     },
     "execution_count": 194,
     "metadata": {},
     "output_type": "execute_result"
    }
   ],
   "source": [
    "s1.unique()"
   ]
  },
  {
   "cell_type": "code",
   "execution_count": 195,
   "id": "9b3b89ff",
   "metadata": {},
   "outputs": [
    {
     "data": {
      "text/plain": [
       "count     5.000000\n",
       "mean     24.000000\n",
       "std      23.822258\n",
       "min       5.000000\n",
       "25%       5.000000\n",
       "50%      10.000000\n",
       "75%      50.000000\n",
       "max      50.000000\n",
       "dtype: float64"
      ]
     },
     "execution_count": 195,
     "metadata": {},
     "output_type": "execute_result"
    }
   ],
   "source": [
    "s1.describe()"
   ]
  },
  {
   "cell_type": "code",
   "execution_count": 198,
   "id": "eaae50bc",
   "metadata": {},
   "outputs": [
    {
     "data": {
      "text/plain": [
       "count        2\n",
       "unique       2\n",
       "top       Mr.X\n",
       "freq         1\n",
       "dtype: object"
      ]
     },
     "execution_count": 198,
     "metadata": {},
     "output_type": "execute_result"
    }
   ],
   "source": [
    "s6.describe()"
   ]
  },
  {
   "cell_type": "code",
   "execution_count": 199,
   "id": "b7960c84",
   "metadata": {},
   "outputs": [],
   "source": [
    "s6['duster']='Mr.l'\n"
   ]
  },
  {
   "cell_type": "code",
   "execution_count": 200,
   "id": "29691355",
   "metadata": {},
   "outputs": [],
   "source": [
    "s6['Chalk']='Mr.l'\n"
   ]
  },
  {
   "cell_type": "code",
   "execution_count": 202,
   "id": "d90c9c2e",
   "metadata": {},
   "outputs": [
    {
     "data": {
      "text/plain": [
       "count        4\n",
       "unique       3\n",
       "top       Mr.l\n",
       "freq         2\n",
       "dtype: object"
      ]
     },
     "execution_count": 202,
     "metadata": {},
     "output_type": "execute_result"
    }
   ],
   "source": [
    "s6.describe()"
   ]
  },
  {
   "cell_type": "code",
   "execution_count": 203,
   "id": "d76d36cf",
   "metadata": {},
   "outputs": [
    {
     "data": {
      "text/plain": [
       "Mr.l    2\n",
       "Mr.X    1\n",
       "Mr.A    1\n",
       "dtype: int64"
      ]
     },
     "execution_count": 203,
     "metadata": {},
     "output_type": "execute_result"
    }
   ],
   "source": [
    "s6.value_counts()"
   ]
  },
  {
   "cell_type": "code",
   "execution_count": 204,
   "id": "e2b043e0",
   "metadata": {},
   "outputs": [
    {
     "data": {
      "text/plain": [
       "Book      Mr.X\n",
       "Chalk     Mr.l\n",
       "Pencil    Mr.A\n",
       "duster    Mr.l\n",
       "dtype: object"
      ]
     },
     "execution_count": 204,
     "metadata": {},
     "output_type": "execute_result"
    }
   ],
   "source": [
    "s6.sort_index()"
   ]
  },
  {
   "cell_type": "code",
   "execution_count": 205,
   "id": "ba70a5a3",
   "metadata": {},
   "outputs": [
    {
     "data": {
      "text/plain": [
       "Pencil    Mr.A\n",
       "Book      Mr.X\n",
       "duster    Mr.l\n",
       "Chalk     Mr.l\n",
       "dtype: object"
      ]
     },
     "execution_count": 205,
     "metadata": {},
     "output_type": "execute_result"
    }
   ],
   "source": [
    "s6.sort_values()"
   ]
  },
  {
   "cell_type": "code",
   "execution_count": 219,
   "id": "5eee5111",
   "metadata": {},
   "outputs": [
    {
     "data": {
      "text/plain": [
       "0     A\n",
       "1     C\n",
       "2     E\n",
       "3     G\n",
       "4     I\n",
       "5     K\n",
       "6     M\n",
       "7     O\n",
       "8     Q\n",
       "9     S\n",
       "10    U\n",
       "11    W\n",
       "12    Y\n",
       "dtype: object"
      ]
     },
     "execution_count": 219,
     "metadata": {},
     "output_type": "execute_result"
    }
   ],
   "source": [
    "s5=pd.Series(chr(i) for i in range(65,91,2))\n",
    "s5"
   ]
  },
  {
   "cell_type": "code",
   "execution_count": 228,
   "id": "71e2696e",
   "metadata": {},
   "outputs": [],
   "source": [
    "#data frame\n",
    "df=pd.DataFrame(list(np.arange(ord('A'),ord('M'),2)),columns=['Alpha'],index=[101,102,103,104,105,106])"
   ]
  },
  {
   "cell_type": "code",
   "execution_count": 229,
   "id": "4f415b50",
   "metadata": {},
   "outputs": [
    {
     "data": {
      "text/html": [
       "<div>\n",
       "<style scoped>\n",
       "    .dataframe tbody tr th:only-of-type {\n",
       "        vertical-align: middle;\n",
       "    }\n",
       "\n",
       "    .dataframe tbody tr th {\n",
       "        vertical-align: top;\n",
       "    }\n",
       "\n",
       "    .dataframe thead th {\n",
       "        text-align: right;\n",
       "    }\n",
       "</style>\n",
       "<table border=\"1\" class=\"dataframe\">\n",
       "  <thead>\n",
       "    <tr style=\"text-align: right;\">\n",
       "      <th></th>\n",
       "      <th>Alpha</th>\n",
       "    </tr>\n",
       "  </thead>\n",
       "  <tbody>\n",
       "    <tr>\n",
       "      <th>101</th>\n",
       "      <td>65</td>\n",
       "    </tr>\n",
       "    <tr>\n",
       "      <th>102</th>\n",
       "      <td>67</td>\n",
       "    </tr>\n",
       "    <tr>\n",
       "      <th>103</th>\n",
       "      <td>69</td>\n",
       "    </tr>\n",
       "    <tr>\n",
       "      <th>104</th>\n",
       "      <td>71</td>\n",
       "    </tr>\n",
       "    <tr>\n",
       "      <th>105</th>\n",
       "      <td>73</td>\n",
       "    </tr>\n",
       "    <tr>\n",
       "      <th>106</th>\n",
       "      <td>75</td>\n",
       "    </tr>\n",
       "  </tbody>\n",
       "</table>\n",
       "</div>"
      ],
      "text/plain": [
       "     Alpha\n",
       "101     65\n",
       "102     67\n",
       "103     69\n",
       "104     71\n",
       "105     73\n",
       "106     75"
      ]
     },
     "execution_count": 229,
     "metadata": {},
     "output_type": "execute_result"
    }
   ],
   "source": [
    "df"
   ]
  },
  {
   "cell_type": "code",
   "execution_count": 240,
   "id": "4fe20ba9",
   "metadata": {},
   "outputs": [],
   "source": [
    "df=pd.DataFrame({'empid':[101,102,103,104],\n",
    "                 'empname':['nagma','vaishnavi','nazar','sharwari'],\n",
    "                'salary':[50000,45000,34000,30000]},index=list('abcd'))"
   ]
  },
  {
   "cell_type": "code",
   "execution_count": 236,
   "id": "97fa60e4",
   "metadata": {},
   "outputs": [
    {
     "data": {
      "text/html": [
       "<div>\n",
       "<style scoped>\n",
       "    .dataframe tbody tr th:only-of-type {\n",
       "        vertical-align: middle;\n",
       "    }\n",
       "\n",
       "    .dataframe tbody tr th {\n",
       "        vertical-align: top;\n",
       "    }\n",
       "\n",
       "    .dataframe thead th {\n",
       "        text-align: right;\n",
       "    }\n",
       "</style>\n",
       "<table border=\"1\" class=\"dataframe\">\n",
       "  <thead>\n",
       "    <tr style=\"text-align: right;\">\n",
       "      <th></th>\n",
       "      <th>empid</th>\n",
       "      <th>empname</th>\n",
       "      <th>salary</th>\n",
       "    </tr>\n",
       "  </thead>\n",
       "  <tbody>\n",
       "    <tr>\n",
       "      <th>a</th>\n",
       "      <td>101</td>\n",
       "      <td>nagma</td>\n",
       "      <td>50000</td>\n",
       "    </tr>\n",
       "    <tr>\n",
       "      <th>b</th>\n",
       "      <td>102</td>\n",
       "      <td>vaishnavi</td>\n",
       "      <td>45000</td>\n",
       "    </tr>\n",
       "    <tr>\n",
       "      <th>c</th>\n",
       "      <td>103</td>\n",
       "      <td>nazar</td>\n",
       "      <td>340000</td>\n",
       "    </tr>\n",
       "    <tr>\n",
       "      <th>d</th>\n",
       "      <td>104</td>\n",
       "      <td>sharwari</td>\n",
       "      <td>30000</td>\n",
       "    </tr>\n",
       "  </tbody>\n",
       "</table>\n",
       "</div>"
      ],
      "text/plain": [
       "   empid    empname  salary\n",
       "a    101      nagma   50000\n",
       "b    102  vaishnavi   45000\n",
       "c    103      nazar  340000\n",
       "d    104   sharwari   30000"
      ]
     },
     "execution_count": 236,
     "metadata": {},
     "output_type": "execute_result"
    }
   ],
   "source": [
    "df"
   ]
  },
  {
   "cell_type": "code",
   "execution_count": 238,
   "id": "a71f99d2",
   "metadata": {},
   "outputs": [
    {
     "data": {
      "text/plain": [
       "101"
      ]
     },
     "execution_count": 238,
     "metadata": {},
     "output_type": "execute_result"
    }
   ],
   "source": [
    "df['empid']['a']"
   ]
  },
  {
   "cell_type": "code",
   "execution_count": 239,
   "id": "6549b88a",
   "metadata": {},
   "outputs": [
    {
     "data": {
      "text/plain": [
       "'nazar'"
      ]
     },
     "execution_count": 239,
     "metadata": {},
     "output_type": "execute_result"
    }
   ],
   "source": [
    "#loc()\n",
    "#df.loc[indexlabel,columnlabe]\n",
    "df.loc['c','empname']"
   ]
  },
  {
   "cell_type": "code",
   "execution_count": 241,
   "id": "68a92671",
   "metadata": {},
   "outputs": [
    {
     "data": {
      "text/html": [
       "<div>\n",
       "<style scoped>\n",
       "    .dataframe tbody tr th:only-of-type {\n",
       "        vertical-align: middle;\n",
       "    }\n",
       "\n",
       "    .dataframe tbody tr th {\n",
       "        vertical-align: top;\n",
       "    }\n",
       "\n",
       "    .dataframe thead th {\n",
       "        text-align: right;\n",
       "    }\n",
       "</style>\n",
       "<table border=\"1\" class=\"dataframe\">\n",
       "  <thead>\n",
       "    <tr style=\"text-align: right;\">\n",
       "      <th></th>\n",
       "      <th>empname</th>\n",
       "      <th>salary</th>\n",
       "    </tr>\n",
       "  </thead>\n",
       "  <tbody>\n",
       "    <tr>\n",
       "      <th>b</th>\n",
       "      <td>vaishnavi</td>\n",
       "      <td>45000</td>\n",
       "    </tr>\n",
       "    <tr>\n",
       "      <th>c</th>\n",
       "      <td>nazar</td>\n",
       "      <td>34000</td>\n",
       "    </tr>\n",
       "    <tr>\n",
       "      <th>d</th>\n",
       "      <td>sharwari</td>\n",
       "      <td>30000</td>\n",
       "    </tr>\n",
       "  </tbody>\n",
       "</table>\n",
       "</div>"
      ],
      "text/plain": [
       "     empname  salary\n",
       "b  vaishnavi   45000\n",
       "c      nazar   34000\n",
       "d   sharwari   30000"
      ]
     },
     "execution_count": 241,
     "metadata": {},
     "output_type": "execute_result"
    }
   ],
   "source": [
    "df.loc['b':'d','empname':'salary']"
   ]
  },
  {
   "cell_type": "code",
   "execution_count": 246,
   "id": "0d327f2e",
   "metadata": {},
   "outputs": [
    {
     "data": {
      "text/html": [
       "<div>\n",
       "<style scoped>\n",
       "    .dataframe tbody tr th:only-of-type {\n",
       "        vertical-align: middle;\n",
       "    }\n",
       "\n",
       "    .dataframe tbody tr th {\n",
       "        vertical-align: top;\n",
       "    }\n",
       "\n",
       "    .dataframe thead th {\n",
       "        text-align: right;\n",
       "    }\n",
       "</style>\n",
       "<table border=\"1\" class=\"dataframe\">\n",
       "  <thead>\n",
       "    <tr style=\"text-align: right;\">\n",
       "      <th></th>\n",
       "      <th>empname</th>\n",
       "    </tr>\n",
       "  </thead>\n",
       "  <tbody>\n",
       "    <tr>\n",
       "      <th>b</th>\n",
       "      <td>vaishnavi</td>\n",
       "    </tr>\n",
       "    <tr>\n",
       "      <th>c</th>\n",
       "      <td>nazar</td>\n",
       "    </tr>\n",
       "    <tr>\n",
       "      <th>d</th>\n",
       "      <td>sharwari</td>\n",
       "    </tr>\n",
       "  </tbody>\n",
       "</table>\n",
       "</div>"
      ],
      "text/plain": [
       "     empname\n",
       "b  vaishnavi\n",
       "c      nazar\n",
       "d   sharwari"
      ]
     },
     "execution_count": 246,
     "metadata": {},
     "output_type": "execute_result"
    }
   ],
   "source": [
    "#iloc[rowindex,column index]\n",
    "df.iloc[3,2]\n",
    "df.iloc[1:5,1:2]"
   ]
  },
  {
   "cell_type": "code",
   "execution_count": 250,
   "id": "035e1165",
   "metadata": {},
   "outputs": [],
   "source": [
    "#df.loc['b':'d','empid':'empname']\n",
    "df['Bonous']=[1000,1020,1000,1020]"
   ]
  },
  {
   "cell_type": "code",
   "execution_count": 251,
   "id": "97a255dd",
   "metadata": {},
   "outputs": [
    {
     "data": {
      "text/html": [
       "<div>\n",
       "<style scoped>\n",
       "    .dataframe tbody tr th:only-of-type {\n",
       "        vertical-align: middle;\n",
       "    }\n",
       "\n",
       "    .dataframe tbody tr th {\n",
       "        vertical-align: top;\n",
       "    }\n",
       "\n",
       "    .dataframe thead th {\n",
       "        text-align: right;\n",
       "    }\n",
       "</style>\n",
       "<table border=\"1\" class=\"dataframe\">\n",
       "  <thead>\n",
       "    <tr style=\"text-align: right;\">\n",
       "      <th></th>\n",
       "      <th>empid</th>\n",
       "      <th>empname</th>\n",
       "      <th>salary</th>\n",
       "      <th>Bonous</th>\n",
       "    </tr>\n",
       "  </thead>\n",
       "  <tbody>\n",
       "    <tr>\n",
       "      <th>a</th>\n",
       "      <td>101</td>\n",
       "      <td>nagma</td>\n",
       "      <td>50000</td>\n",
       "      <td>1000</td>\n",
       "    </tr>\n",
       "    <tr>\n",
       "      <th>b</th>\n",
       "      <td>102</td>\n",
       "      <td>vaishnavi</td>\n",
       "      <td>45000</td>\n",
       "      <td>1020</td>\n",
       "    </tr>\n",
       "    <tr>\n",
       "      <th>c</th>\n",
       "      <td>103</td>\n",
       "      <td>nazar</td>\n",
       "      <td>34000</td>\n",
       "      <td>1000</td>\n",
       "    </tr>\n",
       "    <tr>\n",
       "      <th>d</th>\n",
       "      <td>104</td>\n",
       "      <td>sharwari</td>\n",
       "      <td>30000</td>\n",
       "      <td>1020</td>\n",
       "    </tr>\n",
       "  </tbody>\n",
       "</table>\n",
       "</div>"
      ],
      "text/plain": [
       "   empid    empname  salary  Bonous\n",
       "a    101      nagma   50000    1000\n",
       "b    102  vaishnavi   45000    1020\n",
       "c    103      nazar   34000    1000\n",
       "d    104   sharwari   30000    1020"
      ]
     },
     "execution_count": 251,
     "metadata": {},
     "output_type": "execute_result"
    }
   ],
   "source": [
    "df"
   ]
  },
  {
   "cell_type": "code",
   "execution_count": 249,
   "id": "7945d218",
   "metadata": {},
   "outputs": [
    {
     "data": {
      "text/html": [
       "<div>\n",
       "<style scoped>\n",
       "    .dataframe tbody tr th:only-of-type {\n",
       "        vertical-align: middle;\n",
       "    }\n",
       "\n",
       "    .dataframe tbody tr th {\n",
       "        vertical-align: top;\n",
       "    }\n",
       "\n",
       "    .dataframe thead th {\n",
       "        text-align: right;\n",
       "    }\n",
       "</style>\n",
       "<table border=\"1\" class=\"dataframe\">\n",
       "  <thead>\n",
       "    <tr style=\"text-align: right;\">\n",
       "      <th></th>\n",
       "      <th>empid</th>\n",
       "      <th>empname</th>\n",
       "      <th>salary</th>\n",
       "    </tr>\n",
       "  </thead>\n",
       "  <tbody>\n",
       "    <tr>\n",
       "      <th>a</th>\n",
       "      <td>101</td>\n",
       "      <td>nagma</td>\n",
       "      <td>50000</td>\n",
       "    </tr>\n",
       "    <tr>\n",
       "      <th>b</th>\n",
       "      <td>102</td>\n",
       "      <td>vaishnavi</td>\n",
       "      <td>45000</td>\n",
       "    </tr>\n",
       "    <tr>\n",
       "      <th>c</th>\n",
       "      <td>103</td>\n",
       "      <td>nazar</td>\n",
       "      <td>34000</td>\n",
       "    </tr>\n",
       "    <tr>\n",
       "      <th>d</th>\n",
       "      <td>104</td>\n",
       "      <td>sharwari</td>\n",
       "      <td>30000</td>\n",
       "    </tr>\n",
       "  </tbody>\n",
       "</table>\n",
       "</div>"
      ],
      "text/plain": [
       "   empid    empname  salary\n",
       "a    101      nagma   50000\n",
       "b    102  vaishnavi   45000\n",
       "c    103      nazar   34000\n",
       "d    104   sharwari   30000"
      ]
     },
     "execution_count": 249,
     "metadata": {},
     "output_type": "execute_result"
    }
   ],
   "source": [
    "df.drop('Bonous',axis=1)"
   ]
  },
  {
   "cell_type": "code",
   "execution_count": 252,
   "id": "6c0b1a21",
   "metadata": {},
   "outputs": [],
   "source": [
    "df['Total']=df['salary']+df['Bonous']"
   ]
  },
  {
   "cell_type": "code",
   "execution_count": 253,
   "id": "b96087c4",
   "metadata": {},
   "outputs": [
    {
     "data": {
      "text/html": [
       "<div>\n",
       "<style scoped>\n",
       "    .dataframe tbody tr th:only-of-type {\n",
       "        vertical-align: middle;\n",
       "    }\n",
       "\n",
       "    .dataframe tbody tr th {\n",
       "        vertical-align: top;\n",
       "    }\n",
       "\n",
       "    .dataframe thead th {\n",
       "        text-align: right;\n",
       "    }\n",
       "</style>\n",
       "<table border=\"1\" class=\"dataframe\">\n",
       "  <thead>\n",
       "    <tr style=\"text-align: right;\">\n",
       "      <th></th>\n",
       "      <th>empid</th>\n",
       "      <th>empname</th>\n",
       "      <th>salary</th>\n",
       "      <th>Bonous</th>\n",
       "      <th>Total</th>\n",
       "    </tr>\n",
       "  </thead>\n",
       "  <tbody>\n",
       "    <tr>\n",
       "      <th>a</th>\n",
       "      <td>101</td>\n",
       "      <td>nagma</td>\n",
       "      <td>50000</td>\n",
       "      <td>1000</td>\n",
       "      <td>51000</td>\n",
       "    </tr>\n",
       "    <tr>\n",
       "      <th>b</th>\n",
       "      <td>102</td>\n",
       "      <td>vaishnavi</td>\n",
       "      <td>45000</td>\n",
       "      <td>1020</td>\n",
       "      <td>46020</td>\n",
       "    </tr>\n",
       "    <tr>\n",
       "      <th>c</th>\n",
       "      <td>103</td>\n",
       "      <td>nazar</td>\n",
       "      <td>34000</td>\n",
       "      <td>1000</td>\n",
       "      <td>35000</td>\n",
       "    </tr>\n",
       "    <tr>\n",
       "      <th>d</th>\n",
       "      <td>104</td>\n",
       "      <td>sharwari</td>\n",
       "      <td>30000</td>\n",
       "      <td>1020</td>\n",
       "      <td>31020</td>\n",
       "    </tr>\n",
       "  </tbody>\n",
       "</table>\n",
       "</div>"
      ],
      "text/plain": [
       "   empid    empname  salary  Bonous  Total\n",
       "a    101      nagma   50000    1000  51000\n",
       "b    102  vaishnavi   45000    1020  46020\n",
       "c    103      nazar   34000    1000  35000\n",
       "d    104   sharwari   30000    1020  31020"
      ]
     },
     "execution_count": 253,
     "metadata": {},
     "output_type": "execute_result"
    }
   ],
   "source": [
    "df"
   ]
  },
  {
   "cell_type": "code",
   "execution_count": 257,
   "id": "2d77d9e4",
   "metadata": {},
   "outputs": [
    {
     "data": {
      "text/plain": [
       "a    51000\n",
       "b    46020\n",
       "c    35000\n",
       "d    31020\n",
       "dtype: int64"
      ]
     },
     "execution_count": 257,
     "metadata": {},
     "output_type": "execute_result"
    }
   ],
   "source": [
    "df.loc['a':'d','salary':'Bonous'].sum(axis=1)"
   ]
  },
  {
   "cell_type": "code",
   "execution_count": 262,
   "id": "bc3c95bb",
   "metadata": {},
   "outputs": [],
   "source": [
    "df.rename(columns={'salary':'Sal'},inplace=True)"
   ]
  },
  {
   "cell_type": "code",
   "execution_count": 263,
   "id": "83de22ef",
   "metadata": {},
   "outputs": [
    {
     "data": {
      "text/html": [
       "<div>\n",
       "<style scoped>\n",
       "    .dataframe tbody tr th:only-of-type {\n",
       "        vertical-align: middle;\n",
       "    }\n",
       "\n",
       "    .dataframe tbody tr th {\n",
       "        vertical-align: top;\n",
       "    }\n",
       "\n",
       "    .dataframe thead th {\n",
       "        text-align: right;\n",
       "    }\n",
       "</style>\n",
       "<table border=\"1\" class=\"dataframe\">\n",
       "  <thead>\n",
       "    <tr style=\"text-align: right;\">\n",
       "      <th></th>\n",
       "      <th>empid</th>\n",
       "      <th>empname</th>\n",
       "      <th>Sal</th>\n",
       "      <th>Bonous</th>\n",
       "      <th>Total</th>\n",
       "    </tr>\n",
       "  </thead>\n",
       "  <tbody>\n",
       "    <tr>\n",
       "      <th>a</th>\n",
       "      <td>101</td>\n",
       "      <td>nagma</td>\n",
       "      <td>50000</td>\n",
       "      <td>1000</td>\n",
       "      <td>51000</td>\n",
       "    </tr>\n",
       "    <tr>\n",
       "      <th>b</th>\n",
       "      <td>102</td>\n",
       "      <td>vaishnavi</td>\n",
       "      <td>45000</td>\n",
       "      <td>1020</td>\n",
       "      <td>46020</td>\n",
       "    </tr>\n",
       "    <tr>\n",
       "      <th>c</th>\n",
       "      <td>103</td>\n",
       "      <td>nazar</td>\n",
       "      <td>34000</td>\n",
       "      <td>1000</td>\n",
       "      <td>35000</td>\n",
       "    </tr>\n",
       "    <tr>\n",
       "      <th>d</th>\n",
       "      <td>104</td>\n",
       "      <td>sharwari</td>\n",
       "      <td>30000</td>\n",
       "      <td>1020</td>\n",
       "      <td>31020</td>\n",
       "    </tr>\n",
       "  </tbody>\n",
       "</table>\n",
       "</div>"
      ],
      "text/plain": [
       "   empid    empname    Sal  Bonous  Total\n",
       "a    101      nagma  50000    1000  51000\n",
       "b    102  vaishnavi  45000    1020  46020\n",
       "c    103      nazar  34000    1000  35000\n",
       "d    104   sharwari  30000    1020  31020"
      ]
     },
     "execution_count": 263,
     "metadata": {},
     "output_type": "execute_result"
    }
   ],
   "source": [
    "df"
   ]
  },
  {
   "cell_type": "code",
   "execution_count": 264,
   "id": "e1cf2b3b",
   "metadata": {},
   "outputs": [
    {
     "data": {
      "text/plain": [
       "Index(['empid', 'empname', 'Sal', 'Bonous', 'Total'], dtype='object')"
      ]
     },
     "execution_count": 264,
     "metadata": {},
     "output_type": "execute_result"
    }
   ],
   "source": [
    "df.columns"
   ]
  },
  {
   "cell_type": "code",
   "execution_count": 265,
   "id": "0fd3dca6",
   "metadata": {},
   "outputs": [
    {
     "data": {
      "text/plain": [
       "empid       int64\n",
       "empname    object\n",
       "Sal         int64\n",
       "Bonous      int64\n",
       "Total       int64\n",
       "dtype: object"
      ]
     },
     "execution_count": 265,
     "metadata": {},
     "output_type": "execute_result"
    }
   ],
   "source": [
    "df.dtypes"
   ]
  },
  {
   "cell_type": "code",
   "execution_count": 266,
   "id": "5d8bb946",
   "metadata": {},
   "outputs": [
    {
     "data": {
      "text/plain": [
       "(4, 5)"
      ]
     },
     "execution_count": 266,
     "metadata": {},
     "output_type": "execute_result"
    }
   ],
   "source": [
    "df.shape"
   ]
  },
  {
   "cell_type": "code",
   "execution_count": 267,
   "id": "ac993745",
   "metadata": {},
   "outputs": [
    {
     "data": {
      "text/html": [
       "<div>\n",
       "<style scoped>\n",
       "    .dataframe tbody tr th:only-of-type {\n",
       "        vertical-align: middle;\n",
       "    }\n",
       "\n",
       "    .dataframe tbody tr th {\n",
       "        vertical-align: top;\n",
       "    }\n",
       "\n",
       "    .dataframe thead th {\n",
       "        text-align: right;\n",
       "    }\n",
       "</style>\n",
       "<table border=\"1\" class=\"dataframe\">\n",
       "  <thead>\n",
       "    <tr style=\"text-align: right;\">\n",
       "      <th></th>\n",
       "      <th>empid</th>\n",
       "      <th>empname</th>\n",
       "      <th>Sal</th>\n",
       "      <th>Bonous</th>\n",
       "      <th>Total</th>\n",
       "    </tr>\n",
       "  </thead>\n",
       "  <tbody>\n",
       "    <tr>\n",
       "      <th>a</th>\n",
       "      <td>101</td>\n",
       "      <td>nagma</td>\n",
       "      <td>50000</td>\n",
       "      <td>1000</td>\n",
       "      <td>51000</td>\n",
       "    </tr>\n",
       "    <tr>\n",
       "      <th>b</th>\n",
       "      <td>102</td>\n",
       "      <td>vaishnavi</td>\n",
       "      <td>45000</td>\n",
       "      <td>1020</td>\n",
       "      <td>46020</td>\n",
       "    </tr>\n",
       "  </tbody>\n",
       "</table>\n",
       "</div>"
      ],
      "text/plain": [
       "   empid    empname    Sal  Bonous  Total\n",
       "a    101      nagma  50000    1000  51000\n",
       "b    102  vaishnavi  45000    1020  46020"
      ]
     },
     "execution_count": 267,
     "metadata": {},
     "output_type": "execute_result"
    }
   ],
   "source": [
    "df.head(2)"
   ]
  },
  {
   "cell_type": "code",
   "execution_count": 268,
   "id": "c4094c4f",
   "metadata": {},
   "outputs": [
    {
     "data": {
      "text/html": [
       "<div>\n",
       "<style scoped>\n",
       "    .dataframe tbody tr th:only-of-type {\n",
       "        vertical-align: middle;\n",
       "    }\n",
       "\n",
       "    .dataframe tbody tr th {\n",
       "        vertical-align: top;\n",
       "    }\n",
       "\n",
       "    .dataframe thead th {\n",
       "        text-align: right;\n",
       "    }\n",
       "</style>\n",
       "<table border=\"1\" class=\"dataframe\">\n",
       "  <thead>\n",
       "    <tr style=\"text-align: right;\">\n",
       "      <th></th>\n",
       "      <th>empid</th>\n",
       "      <th>empname</th>\n",
       "      <th>Sal</th>\n",
       "      <th>Bonous</th>\n",
       "      <th>Total</th>\n",
       "    </tr>\n",
       "  </thead>\n",
       "  <tbody>\n",
       "    <tr>\n",
       "      <th>c</th>\n",
       "      <td>103</td>\n",
       "      <td>nazar</td>\n",
       "      <td>34000</td>\n",
       "      <td>1000</td>\n",
       "      <td>35000</td>\n",
       "    </tr>\n",
       "    <tr>\n",
       "      <th>d</th>\n",
       "      <td>104</td>\n",
       "      <td>sharwari</td>\n",
       "      <td>30000</td>\n",
       "      <td>1020</td>\n",
       "      <td>31020</td>\n",
       "    </tr>\n",
       "  </tbody>\n",
       "</table>\n",
       "</div>"
      ],
      "text/plain": [
       "   empid   empname    Sal  Bonous  Total\n",
       "c    103     nazar  34000    1000  35000\n",
       "d    104  sharwari  30000    1020  31020"
      ]
     },
     "execution_count": 268,
     "metadata": {},
     "output_type": "execute_result"
    }
   ],
   "source": [
    "df.tail(2)"
   ]
  },
  {
   "cell_type": "code",
   "execution_count": 269,
   "id": "c4aef5ea",
   "metadata": {},
   "outputs": [
    {
     "name": "stdout",
     "output_type": "stream",
     "text": [
      "<class 'pandas.core.frame.DataFrame'>\n",
      "Index: 4 entries, a to d\n",
      "Data columns (total 5 columns):\n",
      " #   Column   Non-Null Count  Dtype \n",
      "---  ------   --------------  ----- \n",
      " 0   empid    4 non-null      int64 \n",
      " 1   empname  4 non-null      object\n",
      " 2   Sal      4 non-null      int64 \n",
      " 3   Bonous   4 non-null      int64 \n",
      " 4   Total    4 non-null      int64 \n",
      "dtypes: int64(4), object(1)\n",
      "memory usage: 364.0+ bytes\n"
     ]
    }
   ],
   "source": [
    "df.info()"
   ]
  },
  {
   "cell_type": "code",
   "execution_count": 271,
   "id": "f28a6218",
   "metadata": {},
   "outputs": [
    {
     "data": {
      "text/html": [
       "<div>\n",
       "<style scoped>\n",
       "    .dataframe tbody tr th:only-of-type {\n",
       "        vertical-align: middle;\n",
       "    }\n",
       "\n",
       "    .dataframe tbody tr th {\n",
       "        vertical-align: top;\n",
       "    }\n",
       "\n",
       "    .dataframe thead th {\n",
       "        text-align: right;\n",
       "    }\n",
       "</style>\n",
       "<table border=\"1\" class=\"dataframe\">\n",
       "  <thead>\n",
       "    <tr style=\"text-align: right;\">\n",
       "      <th></th>\n",
       "      <th>empid</th>\n",
       "      <th>Sal</th>\n",
       "      <th>Bonous</th>\n",
       "      <th>Total</th>\n",
       "    </tr>\n",
       "  </thead>\n",
       "  <tbody>\n",
       "    <tr>\n",
       "      <th>count</th>\n",
       "      <td>4.000000</td>\n",
       "      <td>4.000000</td>\n",
       "      <td>4.000000</td>\n",
       "      <td>4.000000</td>\n",
       "    </tr>\n",
       "    <tr>\n",
       "      <th>mean</th>\n",
       "      <td>102.500000</td>\n",
       "      <td>39750.000000</td>\n",
       "      <td>1010.000000</td>\n",
       "      <td>40760.000000</td>\n",
       "    </tr>\n",
       "    <tr>\n",
       "      <th>std</th>\n",
       "      <td>1.290994</td>\n",
       "      <td>9322.910847</td>\n",
       "      <td>11.547005</td>\n",
       "      <td>9319.699566</td>\n",
       "    </tr>\n",
       "    <tr>\n",
       "      <th>min</th>\n",
       "      <td>101.000000</td>\n",
       "      <td>30000.000000</td>\n",
       "      <td>1000.000000</td>\n",
       "      <td>31020.000000</td>\n",
       "    </tr>\n",
       "    <tr>\n",
       "      <th>25%</th>\n",
       "      <td>101.750000</td>\n",
       "      <td>33000.000000</td>\n",
       "      <td>1000.000000</td>\n",
       "      <td>34005.000000</td>\n",
       "    </tr>\n",
       "    <tr>\n",
       "      <th>50%</th>\n",
       "      <td>102.500000</td>\n",
       "      <td>39500.000000</td>\n",
       "      <td>1010.000000</td>\n",
       "      <td>40510.000000</td>\n",
       "    </tr>\n",
       "    <tr>\n",
       "      <th>75%</th>\n",
       "      <td>103.250000</td>\n",
       "      <td>46250.000000</td>\n",
       "      <td>1020.000000</td>\n",
       "      <td>47265.000000</td>\n",
       "    </tr>\n",
       "    <tr>\n",
       "      <th>max</th>\n",
       "      <td>104.000000</td>\n",
       "      <td>50000.000000</td>\n",
       "      <td>1020.000000</td>\n",
       "      <td>51000.000000</td>\n",
       "    </tr>\n",
       "  </tbody>\n",
       "</table>\n",
       "</div>"
      ],
      "text/plain": [
       "            empid           Sal       Bonous         Total\n",
       "count    4.000000      4.000000     4.000000      4.000000\n",
       "mean   102.500000  39750.000000  1010.000000  40760.000000\n",
       "std      1.290994   9322.910847    11.547005   9319.699566\n",
       "min    101.000000  30000.000000  1000.000000  31020.000000\n",
       "25%    101.750000  33000.000000  1000.000000  34005.000000\n",
       "50%    102.500000  39500.000000  1010.000000  40510.000000\n",
       "75%    103.250000  46250.000000  1020.000000  47265.000000\n",
       "max    104.000000  50000.000000  1020.000000  51000.000000"
      ]
     },
     "execution_count": 271,
     "metadata": {},
     "output_type": "execute_result"
    }
   ],
   "source": [
    "df.describe()"
   ]
  },
  {
   "cell_type": "code",
   "execution_count": 273,
   "id": "046d7d85",
   "metadata": {},
   "outputs": [],
   "source": [
    "df.to_csv('emp.csv')"
   ]
  },
  {
   "cell_type": "code",
   "execution_count": 280,
   "id": "9cbaf20a",
   "metadata": {},
   "outputs": [
    {
     "data": {
      "text/html": [
       "<div>\n",
       "<style scoped>\n",
       "    .dataframe tbody tr th:only-of-type {\n",
       "        vertical-align: middle;\n",
       "    }\n",
       "\n",
       "    .dataframe tbody tr th {\n",
       "        vertical-align: top;\n",
       "    }\n",
       "\n",
       "    .dataframe thead th {\n",
       "        text-align: right;\n",
       "    }\n",
       "</style>\n",
       "<table border=\"1\" class=\"dataframe\">\n",
       "  <thead>\n",
       "    <tr style=\"text-align: right;\">\n",
       "      <th></th>\n",
       "      <th>empid</th>\n",
       "      <th>empname</th>\n",
       "      <th>Sal</th>\n",
       "      <th>Bonous</th>\n",
       "      <th>Total</th>\n",
       "    </tr>\n",
       "  </thead>\n",
       "  <tbody>\n",
       "    <tr>\n",
       "      <th>a</th>\n",
       "      <td>101</td>\n",
       "      <td>nagma</td>\n",
       "      <td>50000</td>\n",
       "      <td>1000</td>\n",
       "      <td>51000</td>\n",
       "    </tr>\n",
       "    <tr>\n",
       "      <th>b</th>\n",
       "      <td>102</td>\n",
       "      <td>vaishnavi</td>\n",
       "      <td>45000</td>\n",
       "      <td>1020</td>\n",
       "      <td>46020</td>\n",
       "    </tr>\n",
       "    <tr>\n",
       "      <th>c</th>\n",
       "      <td>103</td>\n",
       "      <td>nazar</td>\n",
       "      <td>34000</td>\n",
       "      <td>1000</td>\n",
       "      <td>35000</td>\n",
       "    </tr>\n",
       "    <tr>\n",
       "      <th>d</th>\n",
       "      <td>104</td>\n",
       "      <td>sharwari</td>\n",
       "      <td>30000</td>\n",
       "      <td>1020</td>\n",
       "      <td>31020</td>\n",
       "    </tr>\n",
       "  </tbody>\n",
       "</table>\n",
       "</div>"
      ],
      "text/plain": [
       "   empid    empname    Sal  Bonous  Total\n",
       "a    101      nagma  50000    1000  51000\n",
       "b    102  vaishnavi  45000    1020  46020\n",
       "c    103      nazar  34000    1000  35000\n",
       "d    104   sharwari  30000    1020  31020"
      ]
     },
     "execution_count": 280,
     "metadata": {},
     "output_type": "execute_result"
    }
   ],
   "source": [
    "df"
   ]
  },
  {
   "cell_type": "code",
   "execution_count": 287,
   "id": "562bc56a",
   "metadata": {},
   "outputs": [],
   "source": [
    "s1=df['Sal'].apply(lambda val : True if val>=35000 else False)"
   ]
  },
  {
   "cell_type": "code",
   "execution_count": 288,
   "id": "afabfe91",
   "metadata": {},
   "outputs": [
    {
     "data": {
      "text/plain": [
       "a     True\n",
       "b     True\n",
       "c    False\n",
       "d    False\n",
       "Name: Sal, dtype: bool"
      ]
     },
     "execution_count": 288,
     "metadata": {},
     "output_type": "execute_result"
    }
   ],
   "source": [
    "s1"
   ]
  },
  {
   "cell_type": "code",
   "execution_count": 295,
   "id": "4d3518a8",
   "metadata": {},
   "outputs": [
    {
     "data": {
      "text/html": [
       "<div>\n",
       "<style scoped>\n",
       "    .dataframe tbody tr th:only-of-type {\n",
       "        vertical-align: middle;\n",
       "    }\n",
       "\n",
       "    .dataframe tbody tr th {\n",
       "        vertical-align: top;\n",
       "    }\n",
       "\n",
       "    .dataframe thead th {\n",
       "        text-align: right;\n",
       "    }\n",
       "</style>\n",
       "<table border=\"1\" class=\"dataframe\">\n",
       "  <thead>\n",
       "    <tr style=\"text-align: right;\">\n",
       "      <th></th>\n",
       "      <th>empid</th>\n",
       "      <th>empname</th>\n",
       "      <th>Sal</th>\n",
       "      <th>Bonous</th>\n",
       "      <th>Total</th>\n",
       "      <th>val</th>\n",
       "    </tr>\n",
       "  </thead>\n",
       "  <tbody>\n",
       "    <tr>\n",
       "      <th>a</th>\n",
       "      <td>101.0</td>\n",
       "      <td>nagma</td>\n",
       "      <td>50000.0</td>\n",
       "      <td>1000.0</td>\n",
       "      <td>51000.0</td>\n",
       "      <td>True</td>\n",
       "    </tr>\n",
       "    <tr>\n",
       "      <th>b</th>\n",
       "      <td>102.0</td>\n",
       "      <td>vaishnavi</td>\n",
       "      <td>45000.0</td>\n",
       "      <td>1020.0</td>\n",
       "      <td>46020.0</td>\n",
       "      <td>True</td>\n",
       "    </tr>\n",
       "  </tbody>\n",
       "</table>\n",
       "</div>"
      ],
      "text/plain": [
       "   empid    empname      Sal  Bonous    Total   val\n",
       "a  101.0      nagma  50000.0  1000.0  51000.0  True\n",
       "b  102.0  vaishnavi  45000.0  1020.0  46020.0  True"
      ]
     },
     "execution_count": 295,
     "metadata": {},
     "output_type": "execute_result"
    }
   ],
   "source": [
    "df.where(s1).dropna()"
   ]
  },
  {
   "cell_type": "code",
   "execution_count": 296,
   "id": "772590ae",
   "metadata": {},
   "outputs": [
    {
     "data": {
      "text/html": [
       "<div>\n",
       "<style scoped>\n",
       "    .dataframe tbody tr th:only-of-type {\n",
       "        vertical-align: middle;\n",
       "    }\n",
       "\n",
       "    .dataframe tbody tr th {\n",
       "        vertical-align: top;\n",
       "    }\n",
       "\n",
       "    .dataframe thead th {\n",
       "        text-align: right;\n",
       "    }\n",
       "</style>\n",
       "<table border=\"1\" class=\"dataframe\">\n",
       "  <thead>\n",
       "    <tr style=\"text-align: right;\">\n",
       "      <th></th>\n",
       "      <th>empid</th>\n",
       "      <th>empname</th>\n",
       "      <th>Sal</th>\n",
       "      <th>Bonous</th>\n",
       "      <th>Total</th>\n",
       "      <th>val</th>\n",
       "    </tr>\n",
       "  </thead>\n",
       "  <tbody>\n",
       "    <tr>\n",
       "      <th>a</th>\n",
       "      <td>101</td>\n",
       "      <td>nagma</td>\n",
       "      <td>50000</td>\n",
       "      <td>1000</td>\n",
       "      <td>51000</td>\n",
       "      <td>True</td>\n",
       "    </tr>\n",
       "    <tr>\n",
       "      <th>b</th>\n",
       "      <td>102</td>\n",
       "      <td>vaishnavi</td>\n",
       "      <td>45000</td>\n",
       "      <td>1020</td>\n",
       "      <td>46020</td>\n",
       "      <td>True</td>\n",
       "    </tr>\n",
       "    <tr>\n",
       "      <th>c</th>\n",
       "      <td>103</td>\n",
       "      <td>nazar</td>\n",
       "      <td>34000</td>\n",
       "      <td>1000</td>\n",
       "      <td>35000</td>\n",
       "      <td>False</td>\n",
       "    </tr>\n",
       "    <tr>\n",
       "      <th>d</th>\n",
       "      <td>104</td>\n",
       "      <td>sharwari</td>\n",
       "      <td>30000</td>\n",
       "      <td>1020</td>\n",
       "      <td>31020</td>\n",
       "      <td>False</td>\n",
       "    </tr>\n",
       "  </tbody>\n",
       "</table>\n",
       "</div>"
      ],
      "text/plain": [
       "   empid    empname    Sal  Bonous  Total    val\n",
       "a    101      nagma  50000    1000  51000   True\n",
       "b    102  vaishnavi  45000    1020  46020   True\n",
       "c    103      nazar  34000    1000  35000  False\n",
       "d    104   sharwari  30000    1020  31020  False"
      ]
     },
     "execution_count": 296,
     "metadata": {},
     "output_type": "execute_result"
    }
   ],
   "source": [
    "df"
   ]
  },
  {
   "cell_type": "code",
   "execution_count": 297,
   "id": "566a5049",
   "metadata": {},
   "outputs": [],
   "source": [
    "df['dept']=['Sales','Accounts','It','It']"
   ]
  },
  {
   "cell_type": "code",
   "execution_count": 298,
   "id": "6127ea6d",
   "metadata": {},
   "outputs": [
    {
     "data": {
      "text/html": [
       "<div>\n",
       "<style scoped>\n",
       "    .dataframe tbody tr th:only-of-type {\n",
       "        vertical-align: middle;\n",
       "    }\n",
       "\n",
       "    .dataframe tbody tr th {\n",
       "        vertical-align: top;\n",
       "    }\n",
       "\n",
       "    .dataframe thead th {\n",
       "        text-align: right;\n",
       "    }\n",
       "</style>\n",
       "<table border=\"1\" class=\"dataframe\">\n",
       "  <thead>\n",
       "    <tr style=\"text-align: right;\">\n",
       "      <th></th>\n",
       "      <th>empid</th>\n",
       "      <th>empname</th>\n",
       "      <th>Sal</th>\n",
       "      <th>Bonous</th>\n",
       "      <th>Total</th>\n",
       "      <th>val</th>\n",
       "      <th>dept</th>\n",
       "    </tr>\n",
       "  </thead>\n",
       "  <tbody>\n",
       "    <tr>\n",
       "      <th>a</th>\n",
       "      <td>101</td>\n",
       "      <td>nagma</td>\n",
       "      <td>50000</td>\n",
       "      <td>1000</td>\n",
       "      <td>51000</td>\n",
       "      <td>True</td>\n",
       "      <td>Sales</td>\n",
       "    </tr>\n",
       "    <tr>\n",
       "      <th>b</th>\n",
       "      <td>102</td>\n",
       "      <td>vaishnavi</td>\n",
       "      <td>45000</td>\n",
       "      <td>1020</td>\n",
       "      <td>46020</td>\n",
       "      <td>True</td>\n",
       "      <td>Accounts</td>\n",
       "    </tr>\n",
       "    <tr>\n",
       "      <th>c</th>\n",
       "      <td>103</td>\n",
       "      <td>nazar</td>\n",
       "      <td>34000</td>\n",
       "      <td>1000</td>\n",
       "      <td>35000</td>\n",
       "      <td>False</td>\n",
       "      <td>It</td>\n",
       "    </tr>\n",
       "    <tr>\n",
       "      <th>d</th>\n",
       "      <td>104</td>\n",
       "      <td>sharwari</td>\n",
       "      <td>30000</td>\n",
       "      <td>1020</td>\n",
       "      <td>31020</td>\n",
       "      <td>False</td>\n",
       "      <td>It</td>\n",
       "    </tr>\n",
       "  </tbody>\n",
       "</table>\n",
       "</div>"
      ],
      "text/plain": [
       "   empid    empname    Sal  Bonous  Total    val      dept\n",
       "a    101      nagma  50000    1000  51000   True     Sales\n",
       "b    102  vaishnavi  45000    1020  46020   True  Accounts\n",
       "c    103      nazar  34000    1000  35000  False        It\n",
       "d    104   sharwari  30000    1020  31020  False        It"
      ]
     },
     "execution_count": 298,
     "metadata": {},
     "output_type": "execute_result"
    }
   ],
   "source": [
    "df"
   ]
  },
  {
   "cell_type": "code",
   "execution_count": 301,
   "id": "d626491e",
   "metadata": {},
   "outputs": [],
   "source": [
    "df['desg']=df['Sal'].apply(lambda x:'Manager' if x>45000\n",
    "                          else 'Ast Manager' if x==45000\n",
    "                           else 'Officer')"
   ]
  },
  {
   "cell_type": "code",
   "execution_count": 302,
   "id": "ef6aea58",
   "metadata": {},
   "outputs": [
    {
     "data": {
      "text/html": [
       "<div>\n",
       "<style scoped>\n",
       "    .dataframe tbody tr th:only-of-type {\n",
       "        vertical-align: middle;\n",
       "    }\n",
       "\n",
       "    .dataframe tbody tr th {\n",
       "        vertical-align: top;\n",
       "    }\n",
       "\n",
       "    .dataframe thead th {\n",
       "        text-align: right;\n",
       "    }\n",
       "</style>\n",
       "<table border=\"1\" class=\"dataframe\">\n",
       "  <thead>\n",
       "    <tr style=\"text-align: right;\">\n",
       "      <th></th>\n",
       "      <th>empid</th>\n",
       "      <th>empname</th>\n",
       "      <th>Sal</th>\n",
       "      <th>Bonous</th>\n",
       "      <th>Total</th>\n",
       "      <th>val</th>\n",
       "      <th>dept</th>\n",
       "      <th>desg</th>\n",
       "    </tr>\n",
       "  </thead>\n",
       "  <tbody>\n",
       "    <tr>\n",
       "      <th>a</th>\n",
       "      <td>101</td>\n",
       "      <td>nagma</td>\n",
       "      <td>50000</td>\n",
       "      <td>1000</td>\n",
       "      <td>51000</td>\n",
       "      <td>True</td>\n",
       "      <td>Sales</td>\n",
       "      <td>Manager</td>\n",
       "    </tr>\n",
       "    <tr>\n",
       "      <th>b</th>\n",
       "      <td>102</td>\n",
       "      <td>vaishnavi</td>\n",
       "      <td>45000</td>\n",
       "      <td>1020</td>\n",
       "      <td>46020</td>\n",
       "      <td>True</td>\n",
       "      <td>Accounts</td>\n",
       "      <td>Ast Manager</td>\n",
       "    </tr>\n",
       "    <tr>\n",
       "      <th>c</th>\n",
       "      <td>103</td>\n",
       "      <td>nazar</td>\n",
       "      <td>34000</td>\n",
       "      <td>1000</td>\n",
       "      <td>35000</td>\n",
       "      <td>False</td>\n",
       "      <td>It</td>\n",
       "      <td>Officer</td>\n",
       "    </tr>\n",
       "    <tr>\n",
       "      <th>d</th>\n",
       "      <td>104</td>\n",
       "      <td>sharwari</td>\n",
       "      <td>30000</td>\n",
       "      <td>1020</td>\n",
       "      <td>31020</td>\n",
       "      <td>False</td>\n",
       "      <td>It</td>\n",
       "      <td>Officer</td>\n",
       "    </tr>\n",
       "  </tbody>\n",
       "</table>\n",
       "</div>"
      ],
      "text/plain": [
       "   empid    empname    Sal  Bonous  Total    val      dept         desg\n",
       "a    101      nagma  50000    1000  51000   True     Sales      Manager\n",
       "b    102  vaishnavi  45000    1020  46020   True  Accounts  Ast Manager\n",
       "c    103      nazar  34000    1000  35000  False        It      Officer\n",
       "d    104   sharwari  30000    1020  31020  False        It      Officer"
      ]
     },
     "execution_count": 302,
     "metadata": {},
     "output_type": "execute_result"
    }
   ],
   "source": [
    "df"
   ]
  },
  {
   "cell_type": "code",
   "execution_count": 304,
   "id": "10065fd6",
   "metadata": {},
   "outputs": [],
   "source": [
    "df.drop('val',axis=1,inplace=True)"
   ]
  },
  {
   "cell_type": "code",
   "execution_count": 305,
   "id": "70c1bb1f",
   "metadata": {},
   "outputs": [
    {
     "data": {
      "text/html": [
       "<div>\n",
       "<style scoped>\n",
       "    .dataframe tbody tr th:only-of-type {\n",
       "        vertical-align: middle;\n",
       "    }\n",
       "\n",
       "    .dataframe tbody tr th {\n",
       "        vertical-align: top;\n",
       "    }\n",
       "\n",
       "    .dataframe thead th {\n",
       "        text-align: right;\n",
       "    }\n",
       "</style>\n",
       "<table border=\"1\" class=\"dataframe\">\n",
       "  <thead>\n",
       "    <tr style=\"text-align: right;\">\n",
       "      <th></th>\n",
       "      <th>empid</th>\n",
       "      <th>empname</th>\n",
       "      <th>Sal</th>\n",
       "      <th>Bonous</th>\n",
       "      <th>Total</th>\n",
       "      <th>dept</th>\n",
       "      <th>desg</th>\n",
       "    </tr>\n",
       "  </thead>\n",
       "  <tbody>\n",
       "    <tr>\n",
       "      <th>a</th>\n",
       "      <td>101</td>\n",
       "      <td>nagma</td>\n",
       "      <td>50000</td>\n",
       "      <td>1000</td>\n",
       "      <td>51000</td>\n",
       "      <td>Sales</td>\n",
       "      <td>Manager</td>\n",
       "    </tr>\n",
       "    <tr>\n",
       "      <th>b</th>\n",
       "      <td>102</td>\n",
       "      <td>vaishnavi</td>\n",
       "      <td>45000</td>\n",
       "      <td>1020</td>\n",
       "      <td>46020</td>\n",
       "      <td>Accounts</td>\n",
       "      <td>Ast Manager</td>\n",
       "    </tr>\n",
       "    <tr>\n",
       "      <th>c</th>\n",
       "      <td>103</td>\n",
       "      <td>nazar</td>\n",
       "      <td>34000</td>\n",
       "      <td>1000</td>\n",
       "      <td>35000</td>\n",
       "      <td>It</td>\n",
       "      <td>Officer</td>\n",
       "    </tr>\n",
       "    <tr>\n",
       "      <th>d</th>\n",
       "      <td>104</td>\n",
       "      <td>sharwari</td>\n",
       "      <td>30000</td>\n",
       "      <td>1020</td>\n",
       "      <td>31020</td>\n",
       "      <td>It</td>\n",
       "      <td>Officer</td>\n",
       "    </tr>\n",
       "  </tbody>\n",
       "</table>\n",
       "</div>"
      ],
      "text/plain": [
       "   empid    empname    Sal  Bonous  Total      dept         desg\n",
       "a    101      nagma  50000    1000  51000     Sales      Manager\n",
       "b    102  vaishnavi  45000    1020  46020  Accounts  Ast Manager\n",
       "c    103      nazar  34000    1000  35000        It      Officer\n",
       "d    104   sharwari  30000    1020  31020        It      Officer"
      ]
     },
     "execution_count": 305,
     "metadata": {},
     "output_type": "execute_result"
    }
   ],
   "source": [
    "df"
   ]
  },
  {
   "cell_type": "code",
   "execution_count": 4,
   "id": "89ef909e",
   "metadata": {},
   "outputs": [],
   "source": [
    "idf=pd.read_csv('d:\\\\item_details.csv')"
   ]
  },
  {
   "cell_type": "code",
   "execution_count": 5,
   "id": "254de797",
   "metadata": {},
   "outputs": [
    {
     "data": {
      "text/html": [
       "<div>\n",
       "<style scoped>\n",
       "    .dataframe tbody tr th:only-of-type {\n",
       "        vertical-align: middle;\n",
       "    }\n",
       "\n",
       "    .dataframe tbody tr th {\n",
       "        vertical-align: top;\n",
       "    }\n",
       "\n",
       "    .dataframe thead th {\n",
       "        text-align: right;\n",
       "    }\n",
       "</style>\n",
       "<table border=\"1\" class=\"dataframe\">\n",
       "  <thead>\n",
       "    <tr style=\"text-align: right;\">\n",
       "      <th></th>\n",
       "      <th>itemid</th>\n",
       "      <th>itemname</th>\n",
       "      <th>itemcost</th>\n",
       "      <th>supplier</th>\n",
       "      <th>grade</th>\n",
       "    </tr>\n",
       "  </thead>\n",
       "  <tbody>\n",
       "    <tr>\n",
       "      <th>0</th>\n",
       "      <td>8</td>\n",
       "      <td>chalk</td>\n",
       "      <td>65.76</td>\n",
       "      <td>X</td>\n",
       "      <td>A</td>\n",
       "    </tr>\n",
       "    <tr>\n",
       "      <th>1</th>\n",
       "      <td>12</td>\n",
       "      <td>Pencil</td>\n",
       "      <td>4.00</td>\n",
       "      <td>Y</td>\n",
       "      <td>B</td>\n",
       "    </tr>\n",
       "    <tr>\n",
       "      <th>2</th>\n",
       "      <td>13</td>\n",
       "      <td>Pen</td>\n",
       "      <td>43.00</td>\n",
       "      <td>X</td>\n",
       "      <td>A</td>\n",
       "    </tr>\n",
       "    <tr>\n",
       "      <th>3</th>\n",
       "      <td>15</td>\n",
       "      <td>Duster</td>\n",
       "      <td>54.00</td>\n",
       "      <td>Y</td>\n",
       "      <td>C</td>\n",
       "    </tr>\n",
       "  </tbody>\n",
       "</table>\n",
       "</div>"
      ],
      "text/plain": [
       "   itemid itemname   itemcost supplier grade\n",
       "0       8     chalk     65.76        X     A\n",
       "1      12    Pencil      4.00        Y     B\n",
       "2      13       Pen     43.00        X     A\n",
       "3      15    Duster     54.00        Y     C"
      ]
     },
     "execution_count": 5,
     "metadata": {},
     "output_type": "execute_result"
    }
   ],
   "source": [
    "idf\n"
   ]
  },
  {
   "cell_type": "code",
   "execution_count": null,
   "id": "b2c346fc",
   "metadata": {},
   "outputs": [],
   "source": [
    "Read the itemDetails from ExcelFie\n",
    "1.Add column quantity with diff values\n",
    "2.Add Col Bill with qty*cost\n",
    "3.Remove obj where ever supplier is nan\n",
    "4.show all itemdetails with grade A\n",
    "5.create eligibility column with values 'can Export' and 'canot export' based on grade and cost\n",
    " if grade is 'A' and cost is above 60 then only item is eligible for exporting\n",
    "6.Show supliers numbers of items availabe\n",
    "7.Sort this data by items cost in descending order, if cost is same then according to item in ascending\n"
   ]
  },
  {
   "cell_type": "code",
   "execution_count": null,
   "id": "504b8e84",
   "metadata": {},
   "outputs": [],
   "source": []
  },
  {
   "cell_type": "code",
   "execution_count": 308,
   "id": "1a8510f9",
   "metadata": {},
   "outputs": [],
   "source": [
    "g=df.groupby(by='dept')"
   ]
  },
  {
   "cell_type": "code",
   "execution_count": 319,
   "id": "8bae7048",
   "metadata": {},
   "outputs": [
    {
     "name": "stdout",
     "output_type": "stream",
     "text": [
      "Accounts ____\n",
      "empid              102\n",
      "empname      vaishnavi\n",
      "Sal              45000\n",
      "Bonous            1020\n",
      "Total            46020\n",
      "dept          Accounts\n",
      "desg       Ast Manager\n",
      "dtype: object\n",
      "It ____\n",
      "empid                 207\n",
      "empname     nazarsharwari\n",
      "Sal                 64000\n",
      "Bonous               2020\n",
      "Total               66020\n",
      "dept                 ItIt\n",
      "desg       OfficerOfficer\n",
      "dtype: object\n",
      "Sales ____\n",
      "empid          101\n",
      "empname      nagma\n",
      "Sal          50000\n",
      "Bonous        1000\n",
      "Total        51000\n",
      "dept         Sales\n",
      "desg       Manager\n",
      "dtype: object\n"
     ]
    }
   ],
   "source": [
    "for iname,records in g:\n",
    "    print(iname,'____')\n",
    "    print(records.sum(axis=0))"
   ]
  },
  {
   "cell_type": "code",
   "execution_count": 321,
   "id": "5f2b108a",
   "metadata": {},
   "outputs": [
    {
     "data": {
      "text/plain": [
       "dept\n",
       "Accounts    45000\n",
       "It          64000\n",
       "Sales       50000\n",
       "Name: Sal, dtype: int64"
      ]
     },
     "execution_count": 321,
     "metadata": {},
     "output_type": "execute_result"
    }
   ],
   "source": [
    "df.groupby(by='dept')['Sal'].sum()"
   ]
  },
  {
   "cell_type": "code",
   "execution_count": null,
   "id": "ad517f18",
   "metadata": {},
   "outputs": [],
   "source": []
  }
 ],
 "metadata": {
  "kernelspec": {
   "display_name": "Python 3 (ipykernel)",
   "language": "python",
   "name": "python3"
  },
  "language_info": {
   "codemirror_mode": {
    "name": "ipython",
    "version": 3
   },
   "file_extension": ".py",
   "mimetype": "text/x-python",
   "name": "python",
   "nbconvert_exporter": "python",
   "pygments_lexer": "ipython3",
   "version": "3.9.7"
  }
 },
 "nbformat": 4,
 "nbformat_minor": 5
}
