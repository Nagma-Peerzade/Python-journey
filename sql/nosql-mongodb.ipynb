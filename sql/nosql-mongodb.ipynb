{
 "cells": [
  {
   "cell_type": "code",
   "execution_count": 1,
   "id": "29c300c1",
   "metadata": {},
   "outputs": [
    {
     "ename": "ModuleNotFoundError",
     "evalue": "No module named 'pymongo'",
     "output_type": "error",
     "traceback": [
      "\u001b[1;31m---------------------------------------------------------------------------\u001b[0m",
      "\u001b[1;31mModuleNotFoundError\u001b[0m                       Traceback (most recent call last)",
      "Input \u001b[1;32mIn [1]\u001b[0m, in \u001b[0;36m<module>\u001b[1;34m\u001b[0m\n\u001b[0;32m      1\u001b[0m \u001b[38;5;66;03m#pymongo\u001b[39;00m\n\u001b[1;32m----> 2\u001b[0m \u001b[38;5;28;01mfrom\u001b[39;00m \u001b[38;5;21;01mpymongo\u001b[39;00m \u001b[38;5;28;01mimport\u001b[39;00m MongoClient\n",
      "\u001b[1;31mModuleNotFoundError\u001b[0m: No module named 'pymongo'"
     ]
    }
   ],
   "source": [
    "#pymongo\n",
    "from pymongo import MongoClient "
   ]
  },
  {
   "cell_type": "code",
   "execution_count": 3,
   "id": "a401fc32",
   "metadata": {},
   "outputs": [
    {
     "name": "stdout",
     "output_type": "stream",
     "text": [
      "Collecting pymongoNote: you may need to restart the kernel to use updated packages.\n",
      "  Downloading pymongo-4.0.1-cp39-cp39-win_amd64.whl (354 kB)\n",
      "Installing collected packages: pymongo\n",
      "Successfully installed pymongo-4.0.1\n",
      "\n"
     ]
    }
   ],
   "source": [
    "pip install pymongo"
   ]
  },
  {
   "cell_type": "code",
   "execution_count": 1,
   "id": "360844f3",
   "metadata": {},
   "outputs": [],
   "source": [
    "from pymongo import MongoClient\n",
    "from  pprint import pprint"
   ]
  },
  {
   "cell_type": "code",
   "execution_count": 3,
   "id": "0c0059a6",
   "metadata": {},
   "outputs": [
    {
     "name": "stdout",
     "output_type": "stream",
     "text": [
      "Client obj is ready\n",
      "connected to Data base\n",
      "Result: <pymongo.results.InsertOneResult object at 0x00000283A10541C0>\n"
     ]
    }
   ],
   "source": [
    "client=MongoClient('mongodb://localhost:27017')\n",
    "print('Client obj is ready')\n",
    "db=client.Library\n",
    "print('connected to Data base')\n",
    "\n",
    "book=db.bookTable\n",
    "#insertion\n",
    "book_details={'bookid':'1234','bookname':'life','price':200}\n",
    "#book_details=[{'bookid':'1234','bookname':'life','price':200}\n",
    "             #,{'bookid':123,'bookname':'junglebook','price':500}]\n",
    "#insert record-in the form of document\n",
    "result=book.insert_one(book_details)\n",
    "#result=book.insert_many(book_details)\n",
    "print('Result:',result)\n",
    "\n",
    "#find method\n",
    "#res=book.find_one({'bookid':123})\n",
    "#pprint(res)\n"
   ]
  },
  {
   "cell_type": "code",
   "execution_count": 17,
   "id": "c40ead2c",
   "metadata": {},
   "outputs": [
    {
     "name": "stdout",
     "output_type": "stream",
     "text": [
      "___________\n",
      "{'_id': ObjectId('61f7c59a8a04db94fc507255'), 'bookid': '1234', 'bookname': 'life', 'price': 200}\n",
      "{'_id': ObjectId('61f7c64d8a04db94fc507258'), 'bookid': '1234', 'bookname': 'life', 'price': 200}\n",
      "{'_id': ObjectId('61f7c64d8a04db94fc507259'), 'bookid': 123, 'bookname': 'junglebook', 'price': 500}\n"
     ]
    }
   ],
   "source": [
    "#only find method\n",
    "print('___________')\n",
    "res1=book.find()\n",
    "for i in res1:\n",
    "    print(i)"
   ]
  },
  {
   "cell_type": "code",
   "execution_count": 19,
   "id": "9aaf3f42",
   "metadata": {
    "scrolled": true
   },
   "outputs": [
    {
     "name": "stdout",
     "output_type": "stream",
     "text": [
      "updation done\n"
     ]
    }
   ],
   "source": [
    "#update\n",
    "book.update_many({'bookid':'1234'},{'$set':{'bookname':'life of pie'}})\n",
    "print('updation done')"
   ]
  },
  {
   "cell_type": "code",
   "execution_count": 20,
   "id": "df38c72c",
   "metadata": {
    "scrolled": true
   },
   "outputs": [
    {
     "name": "stdout",
     "output_type": "stream",
     "text": [
      "<pymongo.results.DeleteResult object at 0x000002117A9E4EC0>\n"
     ]
    }
   ],
   "source": [
    "res=book.delete_one({'bookid':'1234'})\n",
    "print(res)"
   ]
  },
  {
   "cell_type": "code",
   "execution_count": 24,
   "id": "afff75b1",
   "metadata": {},
   "outputs": [
    {
     "name": "stdout",
     "output_type": "stream",
     "text": [
      "<pymongo.results.InsertManyResult object at 0x000002117A624AC0>\n"
     ]
    }
   ],
   "source": [
    "book_details=[{'bookid':2345,'bookname':'harrypotter','price':400},{'bookid':235,'bookname':'harrypotter-2','price':800}]\n",
    "res=book.insert_many(book_details)\n",
    "print(res)"
   ]
  },
  {
   "cell_type": "code",
   "execution_count": 25,
   "id": "66366bb1",
   "metadata": {},
   "outputs": [
    {
     "name": "stdout",
     "output_type": "stream",
     "text": [
      "{'_id': ObjectId('61f7c64d8a04db94fc507258'), 'bookid': '1234', 'bookname': 'life of pie', 'price': 200}\n"
     ]
    }
   ],
   "source": [
    "res=book.find_one_and_delete({'bookid':'1234'})\n",
    "print(res)"
   ]
  },
  {
   "cell_type": "code",
   "execution_count": 4,
   "id": "50fb33b8",
   "metadata": {},
   "outputs": [],
   "source": [
    "res=book.find_one_and_replace({'bookid':'1234'},{'bookid':12345})"
   ]
  },
  {
   "cell_type": "code",
   "execution_count": 5,
   "id": "2ab33722",
   "metadata": {},
   "outputs": [
    {
     "name": "stdout",
     "output_type": "stream",
     "text": [
      "{'_id': ObjectId('61f7cd8c8a04db94fc507261'), 'bookid': '1234', 'bookname': 'life', 'price': 200}\n"
     ]
    }
   ],
   "source": [
    "print(res)"
   ]
  },
  {
   "cell_type": "code",
   "execution_count": 8,
   "id": "e802a662",
   "metadata": {},
   "outputs": [],
   "source": [
    "res=book.find_one_and_update({'bookid':12345},{'$set':{'bookname':'comics','price':200}})"
   ]
  },
  {
   "cell_type": "code",
   "execution_count": 9,
   "id": "2eeae48e",
   "metadata": {},
   "outputs": [
    {
     "name": "stdout",
     "output_type": "stream",
     "text": [
      "{'_id': ObjectId('61f7cd8c8a04db94fc507261'), 'bookid': 12345}\n"
     ]
    }
   ],
   "source": [
    "pprint(res)"
   ]
  },
  {
   "cell_type": "code",
   "execution_count": null,
   "id": "3f8a8b99",
   "metadata": {},
   "outputs": [],
   "source": []
  }
 ],
 "metadata": {
  "kernelspec": {
   "display_name": "Python 3 (ipykernel)",
   "language": "python",
   "name": "python3"
  },
  "language_info": {
   "codemirror_mode": {
    "name": "ipython",
    "version": 3
   },
   "file_extension": ".py",
   "mimetype": "text/x-python",
   "name": "python",
   "nbconvert_exporter": "python",
   "pygments_lexer": "ipython3",
   "version": "3.9.7"
  }
 },
 "nbformat": 4,
 "nbformat_minor": 5
}
