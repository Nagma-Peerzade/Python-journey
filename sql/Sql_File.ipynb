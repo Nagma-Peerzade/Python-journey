{
 "cells": [
  {
   "cell_type": "code",
   "execution_count": 1,
   "id": "365e2370",
   "metadata": {},
   "outputs": [
    {
     "name": "stdout",
     "output_type": "stream",
     "text": [
      "Collecting mysql-connector-python\n",
      "  Downloading mysql_connector_python-8.0.28-cp39-cp39-win_amd64.whl (7.2 MB)\n",
      "Collecting protobuf>=3.0.0\n",
      "  Downloading protobuf-3.19.3-cp39-cp39-win_amd64.whl (895 kB)\n",
      "Installing collected packages: protobuf, mysql-connector-python\n",
      "Successfully installed mysql-connector-python-8.0.28 protobuf-3.19.3\n",
      "Note: you may need to restart the kernel to use updated packages.\n"
     ]
    }
   ],
   "source": [
    "pip install mysql-connector-python"
   ]
  },
  {
   "cell_type": "code",
   "execution_count": 1,
   "id": "3075464b",
   "metadata": {},
   "outputs": [],
   "source": [
    "import mysql.connector as connector\n",
    "from mysql.connector import Error"
   ]
  },
  {
   "cell_type": "code",
   "execution_count": 15,
   "id": "a9f41375",
   "metadata": {
    "scrolled": true
   },
   "outputs": [
    {
     "name": "stdout",
     "output_type": "stream",
     "text": [
      "<class 'mysql.connector.connection_cext.CMySQLConnection'>\n",
      "connection achieved succefully with mysql server  (8, 0, 27)\n",
      "<class 'mysql.connector.cursor_cext.CMySQLCursor'>\n",
      "Cursor created..\n",
      "Busno   |   busname    |   Type    |  noofseats\n",
      "1234     PunaToPanji      Ac        1\n",
      "23456     MumbaiToGoa      NonAc        5\n",
      "34566     PunaToBangalore      NonAc        6\n",
      "56778     PanjiToBelgaum      Ac        3\n",
      "67890     BelgaumToPuna      Ac        2\n",
      "connection establish suceesfully....\n",
      "DB Connection closed!\n"
     ]
    }
   ],
   "source": [
    "#DB server-name/Ip,which DbName,userid pass-DB connection\n",
    "try:\n",
    "    mysqlobj=connector.connect(host='localhost',database='travelling',user='root',password='mypass')\n",
    "    print(type(mysqlobj))\n",
    "    if(mysqlobj.is_connected()):\n",
    "        print('connection achieved succefully with mysql server ',mysqlobj.get_server_version())\n",
    "        crs=mysqlobj.cursor()\n",
    "        print(type(crs))\n",
    "        print('Cursor created..')\n",
    "        crs.execute('select * from bus')\n",
    "        record=crs.fetchall()\n",
    "        print('Busno   |   busname    |   Type    |  noofseats')\n",
    "        for i in record:\n",
    "            print(i[0],'   ',i[1],'    ',i[2],'      ',i[3])\n",
    "        #fetchall(),fetchone(),fetchmany(#records)\n",
    "except Error as e:\n",
    "    print(e)\n",
    "    print('some problem while connecting with Db')\n",
    "else:\n",
    "    print('connection establish suceesfully....')\n",
    "finally:\n",
    "    crs.close()\n",
    "    mysqlobj.close()\n",
    "    print('DB Connection closed!')\n",
    "    "
   ]
  },
  {
   "cell_type": "code",
   "execution_count": 6,
   "id": "debc7feb",
   "metadata": {},
   "outputs": [],
   "source": [
    "import mysql.connector as connector\n",
    "from mysql.connector import Error\n",
    "def getDBConnection():\n",
    "    try:\n",
    "        mysqlobj=connector.connect(host='localhost',database='travelling',user='root',password='mypass')\n",
    "        print(type(mysqlobj))\n",
    "        if(mysqlobj.is_connected()):\n",
    "            print('connection achieved succefully with mysql server ',mysqlobj.get_server_version())\n",
    "            crs=mysqlobj.cursor()\n",
    "            print(type(crs))\n",
    "            print('Cursor created..') \n",
    "    except Error as e:\n",
    "        print(e)\n",
    "        print('some problem while connecting with Db')\n",
    "    else:\n",
    "        print('connection establish suceesfully....')\n",
    "    return mysqlobj,crs\n",
    "\n",
    "def FetAllRecords():\n",
    "    connection=' '\n",
    "    cursor=' '\n",
    "    try:\n",
    "        connection,cursor=getDBConnection()\n",
    "        cursor.execute('select * from bus')\n",
    "        record=cursor.fetchall()\n",
    "        print('Busno   |   busname    |   Type    |  noofseats')\n",
    "        for i in record:\n",
    "            print(i[0],'   ',i[1],'    ',i[2],'      ',i[3])\n",
    "    except Error as e:\n",
    "        print (e)\n",
    "        print('problem in fetching the data....')\n",
    "    finally:\n",
    "        cursor.close()\n",
    "        connection.close()\n",
    "        print('Connection closed successfully....')\n",
    "        \n",
    "        \n",
    "def FetRecordsByBusno(busno):\n",
    "    connection=' '\n",
    "    cursor=' '\n",
    "    try:\n",
    "        connection,cursor=getDBConnection()\n",
    "        t1=(busno,)\n",
    "        cursor.execute('select * from bus where busno=%s',t1)\n",
    "        record=cursor.fetchone()\n",
    "        print('no of records:',cursor.rowcount)\n",
    "        if(cursor.rowcount>0):\n",
    "                print('Busno |   busname    |   Type    |  dlno')\n",
    "                print(record[0],'  ',record[1],'  ',record[2],'  ',record[3])\n",
    "                    \n",
    "        else:\n",
    "            print('no record found')  \n",
    "    except Error as e:\n",
    "        print (e)\n",
    "        print('problem in fetching the data....')\n",
    "    finally:\n",
    "        cursor.close()\n",
    "        connection.close()\n",
    "        print('Connection closed successfully....')\n",
    "\n",
    "        \n",
    "def FetRecordsspecified(number_of_record):\n",
    "    connection=' '\n",
    "    cursor=' '\n",
    "    try:\n",
    "        connection,cursor=getDBConnection()\n",
    "        cursor=connection.cursor(buffered=True)\n",
    "        cursor.execute('select * from bus')\n",
    "        record=cursor.fetchmany(number_of_record)\n",
    "        print('no of records fetched ',cursor.rowcount)\n",
    "        if(cursor.rowcount>0):\n",
    "                print('Busno   |   busname    |   Type    |  noofseats')\n",
    "                print(i[0],'   ',i[1],'    ',i[2],'      ',i[3])\n",
    "        else:\n",
    "            print('no record found')\n",
    "    except Error as e:\n",
    "        print (e)\n",
    "        print('problem in fetching the data....')\n",
    "    finally:\n",
    "        cursor.close()\n",
    "        connection.close()\n",
    "        print('Connection closed successfully....')\n",
    "        \n",
    "\n",
    "def insertRow(busno,busname,bustype,dlno):\n",
    "    connection=' '\n",
    "    cursor=' '\n",
    "    try:\n",
    "        connection,cursor=getDBConnection()\n",
    "        cursor.execute('insert into bus (busno,busname,bustype,dlno) values=[(%s,%s,%s,%s)]',(busno,busname,bustype,dlno)) \n",
    "        connection.commit()\n",
    "    except Error as e:\n",
    "        print (e)\n",
    "        print('problem in fetching the data....')\n",
    "    finally:\n",
    "        cursor.close()\n",
    "        connection.close()\n",
    "        print('Connection closed successfully....')\n",
    "\n",
    "def UpdateRow(busname,busno):\n",
    "    connection=' '\n",
    "    cursor=' '\n",
    "    try:\n",
    "        connection,cursor=getDBConnection()\n",
    "        cursor.execute('update bus set busname=%s where busno=%s',(busname,busno))\n",
    "        connection.commit()\n",
    "    except Error as e:\n",
    "        print (e)\n",
    "        print('problem in fetching the data....')\n",
    "    finally:\n",
    "        cursor.close()\n",
    "        connection.close()\n",
    "        print('Connection closed successfully....')\n",
    "def DeleteRow(dlno):\n",
    "    connection=' '\n",
    "    cursor=' '\n",
    "    try:\n",
    "        connection,cursor=getDBConnection()\n",
    "        t1=(dlno,)\n",
    "        cursor.execute('delete from driver where dlno=%s',t1)\n",
    "        connection.commit()\n",
    "    except Error as e:\n",
    "        print (e)\n",
    "        print('problem in fetching the data....')\n",
    "    finally:\n",
    "        cursor.close()\n",
    "        connection.close()\n",
    "        print('Connection closed successfully....')"
   ]
  },
  {
   "cell_type": "code",
   "execution_count": 88,
   "id": "d178078b",
   "metadata": {
    "scrolled": true
   },
   "outputs": [
    {
     "name": "stdout",
     "output_type": "stream",
     "text": [
      "<class 'mysql.connector.connection_cext.CMySQLConnection'>\n",
      "connection achieved succefully with mysql server  (8, 0, 27)\n",
      "<class 'mysql.connector.cursor_cext.CMySQLCursor'>\n",
      "Cursor created..\n",
      "connection establish suceesfully....\n",
      "Connection closed successfully....\n",
      "<class 'mysql.connector.connection_cext.CMySQLConnection'>\n",
      "connection achieved succefully with mysql server  (8, 0, 27)\n",
      "<class 'mysql.connector.cursor_cext.CMySQLCursor'>\n",
      "Cursor created..\n",
      "connection establish suceesfully....\n",
      "no of records: 1\n",
      "Busno |   busname    |   Type    |  dlno\n",
      "1234    PanjiToMumbai    Ac    1\n",
      "Connection closed successfully....\n"
     ]
    }
   ],
   "source": [
    "#FetAllRecords()\n",
    "\n",
    "#print('_____________________')\n",
    "#insertRow(1000,'bgmtopunjab','Ac',2) \n",
    "#FetRecordsByBusno(1000)\n",
    "UpdateRow('PanjiToMumbai',1234)\n",
    "FetRecordsByBusno(1234)\n"
   ]
  },
  {
   "cell_type": "code",
   "execution_count": 125,
   "id": "314ec6b4",
   "metadata": {},
   "outputs": [
    {
     "name": "stdout",
     "output_type": "stream",
     "text": [
      "<class 'mysql.connector.connection_cext.CMySQLConnection'>\n",
      "connection achieved succefully with mysql server  (8, 0, 27)\n",
      "<class 'mysql.connector.cursor_cext.CMySQLCursor'>\n",
      "Cursor created..\n",
      "connection establish suceesfully....\n",
      "1451 (23000): Cannot delete or update a parent row: a foreign key constraint fails (`travelling`.`bus`, CONSTRAINT `fk1` FOREIGN KEY (`dlno`) REFERENCES `driver` (`dlno`))\n",
      "problem in fetching the data....\n",
      "Connection closed successfully....\n"
     ]
    }
   ],
   "source": [
    "DeleteRow(1)"
   ]
  },
  {
   "cell_type": "code",
   "execution_count": 7,
   "id": "1f33dcbe",
   "metadata": {},
   "outputs": [
    {
     "name": "stdout",
     "output_type": "stream",
     "text": [
      "<class 'mysql.connector.connection_cext.CMySQLConnection'>\n",
      "connection achieved succefully with mysql server  (8, 0, 27)\n",
      "<class 'mysql.connector.cursor_cext.CMySQLCursor'>\n",
      "Cursor created..\n",
      "connection establish suceesfully....\n",
      "1064 (42000): You have an error in your SQL syntax; check the manual that corresponds to your MySQL server version for the right syntax to use near '=[(1247,'PTOM','AC',2)]' at line 1\n",
      "problem in fetching the data....\n",
      "Connection closed successfully....\n"
     ]
    },
    {
     "data": {
      "text/plain": [
       "(None, (12345, 'BgmToBang', 'NonAc', 1))"
      ]
     },
     "execution_count": 7,
     "metadata": {},
     "output_type": "execute_result"
    }
   ],
   "source": [
    "insertRow(1247,'PTOM','AC',2),(12345,'BgmToBang','NonAc',1)"
   ]
  },
  {
   "cell_type": "code",
   "execution_count": 8,
   "id": "eb1ee831",
   "metadata": {},
   "outputs": [
    {
     "name": "stdout",
     "output_type": "stream",
     "text": [
      "<class 'mysql.connector.connection_cext.CMySQLConnection'>\n",
      "connection achieved succefully with mysql server  (8, 0, 27)\n",
      "<class 'mysql.connector.cursor_cext.CMySQLCursor'>\n",
      "Cursor created..\n",
      "connection establish suceesfully....\n",
      "Busno   |   busname    |   Type    |  noofseats\n",
      "1234     PanjiToMumbai      Ac        1\n",
      "12344     PTOM      AC        6\n",
      "12347     PTOM      AC        2\n",
      "14567     bgmtopunjab      Ac        2\n",
      "23456     MumbaiToGoa      NonAc        5\n",
      "34566     PunaToBangalore      NonAc        6\n",
      "56778     PanjiToBelgaum      Ac        3\n",
      "67890     BelgaumToPuna      Ac        2\n",
      "Connection closed successfully....\n"
     ]
    }
   ],
   "source": [
    "FetAllRecords()"
   ]
  }
 ],
 "metadata": {
  "kernelspec": {
   "display_name": "Python 3 (ipykernel)",
   "language": "python",
   "name": "python3"
  },
  "language_info": {
   "codemirror_mode": {
    "name": "ipython",
    "version": 3
   },
   "file_extension": ".py",
   "mimetype": "text/x-python",
   "name": "python",
   "nbconvert_exporter": "python",
   "pygments_lexer": "ipython3",
   "version": "3.9.7"
  }
 },
 "nbformat": 4,
 "nbformat_minor": 5
}
